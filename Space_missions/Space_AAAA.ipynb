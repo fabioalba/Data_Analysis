{
 "cells": [
  {
   "cell_type": "markdown",
   "metadata": {
    "id": "ka_FkvXBiABo"
   },
   "source": [
    "# Introduction"
   ]
  },
  {
   "cell_type": "markdown",
   "metadata": {
    "id": "AWaMmfxXa-p0",
    "papermill": {
     "duration": 0.035434,
     "end_time": "2020-10-20T21:34:01.886225",
     "exception": false,
     "start_time": "2020-10-20T21:34:01.850791",
     "status": "completed"
    },
    "tags": []
   },
   "source": [
    "<center><img src=\"https://i.imgur.com/9hLRsjZ.jpg\" height=400></center>\n",
    "\n",
    "This dataset was scraped from [nextspaceflight.com](https://nextspaceflight.com/launches/past/?page=1) and includes all the space missions since the beginning of Space Race between the USA and the Soviet Union in 1957!"
   ]
  },
  {
   "cell_type": "markdown",
   "metadata": {
    "id": "ufzKRKS3bV0r"
   },
   "source": [
    "### Install Package with Country Codes"
   ]
  },
  {
   "cell_type": "code",
   "execution_count": 55,
   "metadata": {
    "colab": {
     "base_uri": "https://localhost:8080/"
    },
    "executionInfo": {
     "elapsed": 6322,
     "status": "ok",
     "timestamp": 1620632184805,
     "user": {
      "displayName": "fabio alba",
      "photoUrl": "",
      "userId": "06675624622301434407"
     },
     "user_tz": -120
    },
    "id": "0HxV9o6dbRUE",
    "outputId": "d973c77b-3a94-4dc4-d2bf-f6d8f00f91b9"
   },
   "outputs": [
    {
     "name": "stdout",
     "output_type": "stream",
     "text": [
      "Requirement already satisfied: iso3166 in c:\\users\\albaf\\anaconda_python3\\lib\\site-packages (2.0.2)\n",
      "Note: you may need to restart the kernel to use updated packages.\n"
     ]
    }
   ],
   "source": [
    "pip install iso3166"
   ]
  },
  {
   "cell_type": "markdown",
   "metadata": {
    "id": "sghkhFoLbof8"
   },
   "source": [
    "### Upgrade Plotly\n",
    "\n",
    "Run the cell below if you are working with Google Colab."
   ]
  },
  {
   "cell_type": "code",
   "execution_count": 56,
   "metadata": {
    "colab": {
     "base_uri": "https://localhost:8080/"
    },
    "executionInfo": {
     "elapsed": 25278,
     "status": "ok",
     "timestamp": 1620632203775,
     "user": {
      "displayName": "fabio alba",
      "photoUrl": "",
      "userId": "06675624622301434407"
     },
     "user_tz": -120
    },
    "id": "gQ61wy9gbmxd",
    "outputId": "b06fb27f-753b-485e-a6f8-1a88a96a4c60"
   },
   "outputs": [
    {
     "name": "stdout",
     "output_type": "stream",
     "text": [
      "Requirement already satisfied: plotly in c:\\users\\albaf\\anaconda_python3\\lib\\site-packages (5.3.1)\n",
      "Requirement already satisfied: tenacity>=6.2.0 in c:\\users\\albaf\\anaconda_python3\\lib\\site-packages (from plotly) (8.0.1)\n",
      "Note: you may need to restart the kernel to use updated packages.Requirement already satisfied: six in c:\\users\\albaf\\anaconda_python3\\lib\\site-packages (from plotly) (1.15.0)\n",
      "\n"
     ]
    }
   ],
   "source": [
    "pip install --upgrade plotly"
   ]
  },
  {
   "cell_type": "markdown",
   "metadata": {
    "id": "ErFDBihUi1jN"
   },
   "source": [
    "### Import Statements"
   ]
  },
  {
   "cell_type": "code",
   "execution_count": 57,
   "metadata": {
    "_cell_guid": "b1076dfc-b9ad-4769-8c92-a6c4dae69d19",
    "_kg_hide-input": true,
    "_kg_hide-output": true,
    "_uuid": "8f2839f25d086af736a60e9eeb907d3b93b6e0e5",
    "execution": {
     "iopub.execute_input": "2020-10-20T21:34:02.101551Z",
     "iopub.status.busy": "2020-10-20T21:34:02.101085Z",
     "iopub.status.idle": "2020-10-20T21:34:03.726868Z",
     "shell.execute_reply": "2020-10-20T21:34:03.725783Z"
    },
    "id": "xdolY0-Sa-p1",
    "papermill": {
     "duration": 1.665326,
     "end_time": "2020-10-20T21:34:03.726995",
     "exception": false,
     "start_time": "2020-10-20T21:34:02.061669",
     "status": "completed"
    },
    "tags": []
   },
   "outputs": [],
   "source": [
    "import numpy as np\n",
    "import pandas as pd\n",
    "import plotly.express as px\n",
    "import matplotlib.pyplot as plt\n",
    "import seaborn as sns\n",
    "\n",
    "# These might be helpful:\n",
    "from iso3166 import countries\n",
    "from datetime import datetime, timedelta"
   ]
  },
  {
   "cell_type": "markdown",
   "metadata": {
    "id": "lovGPRgKxIgo"
   },
   "source": [
    "### Notebook Presentation"
   ]
  },
  {
   "cell_type": "code",
   "execution_count": 58,
   "metadata": {
    "id": "DHEULCOjxIIm"
   },
   "outputs": [],
   "source": [
    "pd.options.display.float_format = '{:,.2f}'.format"
   ]
  },
  {
   "cell_type": "markdown",
   "metadata": {
    "id": "yaT3QbjEa-p4",
    "papermill": {
     "duration": 0.034606,
     "end_time": "2020-10-20T21:34:03.798396",
     "exception": false,
     "start_time": "2020-10-20T21:34:03.763790",
     "status": "completed"
    },
    "tags": []
   },
   "source": [
    "### Load the Data"
   ]
  },
  {
   "cell_type": "code",
   "execution_count": 59,
   "metadata": {
    "_cell_guid": "79c7e3d0-c299-4dcb-8224-4455121ee9b0",
    "_kg_hide-input": true,
    "_uuid": "d629ff2d2480ee46fbb7e2d37f6b5fab8052498a",
    "execution": {
     "iopub.execute_input": "2020-10-20T21:34:03.874195Z",
     "iopub.status.busy": "2020-10-20T21:34:03.873775Z",
     "iopub.status.idle": "2020-10-20T21:34:03.921919Z",
     "shell.execute_reply": "2020-10-20T21:34:03.921418Z"
    },
    "id": "0lDOu8aka-p4",
    "papermill": {
     "duration": 0.08876,
     "end_time": "2020-10-20T21:34:03.922028",
     "exception": false,
     "start_time": "2020-10-20T21:34:03.833268",
     "status": "completed"
    },
    "tags": []
   },
   "outputs": [],
   "source": [
    "df_data = pd.read_csv('mission_launches.csv')"
   ]
  },
  {
   "cell_type": "markdown",
   "metadata": {
    "id": "jAnMiVcVjuKB"
   },
   "source": [
    "# Preliminary Data Exploration\n",
    "\n",
    "* What is the shape of `df_data`? \n",
    "* How many rows and columns does it have?\n",
    "* What are the column names?\n",
    "* Are there any NaN values or duplicates?"
   ]
  },
  {
   "cell_type": "code",
   "execution_count": 60,
   "metadata": {
    "colab": {
     "base_uri": "https://localhost:8080/"
    },
    "executionInfo": {
     "elapsed": 843,
     "status": "ok",
     "timestamp": 1620632233598,
     "user": {
      "displayName": "fabio alba",
      "photoUrl": "",
      "userId": "06675624622301434407"
     },
     "user_tz": -120
    },
    "id": "0tIuYcYNlPFQ",
    "outputId": "5e660549-1270-4897-c2ba-8dc19462184d"
   },
   "outputs": [
    {
     "name": "stdout",
     "output_type": "stream",
     "text": [
      "<class 'pandas.core.frame.DataFrame'>\n",
      "RangeIndex: 4324 entries, 0 to 4323\n",
      "Data columns (total 9 columns):\n",
      " #   Column          Non-Null Count  Dtype \n",
      "---  ------          --------------  ----- \n",
      " 0   Unnamed: 0      4324 non-null   int64 \n",
      " 1   Unnamed: 0.1    4324 non-null   int64 \n",
      " 2   Organisation    4324 non-null   object\n",
      " 3   Location        4324 non-null   object\n",
      " 4   Date            4324 non-null   object\n",
      " 5   Detail          4324 non-null   object\n",
      " 6   Rocket_Status   4324 non-null   object\n",
      " 7   Price           964 non-null    object\n",
      " 8   Mission_Status  4324 non-null   object\n",
      "dtypes: int64(2), object(7)\n",
      "memory usage: 304.2+ KB\n"
     ]
    }
   ],
   "source": [
    "df_data.info()"
   ]
  },
  {
   "cell_type": "code",
   "execution_count": 61,
   "metadata": {
    "colab": {
     "base_uri": "https://localhost:8080/"
    },
    "executionInfo": {
     "elapsed": 839,
     "status": "ok",
     "timestamp": 1620632233601,
     "user": {
      "displayName": "fabio alba",
      "photoUrl": "",
      "userId": "06675624622301434407"
     },
     "user_tz": -120
    },
    "id": "0dw2hd9UlPmP",
    "outputId": "a423039f-a9db-410d-ebb5-255dc27d6508"
   },
   "outputs": [
    {
     "data": {
      "text/plain": [
       "Index(['Unnamed: 0', 'Unnamed: 0.1', 'Organisation', 'Location', 'Date',\n",
       "       'Detail', 'Rocket_Status', 'Price', 'Mission_Status'],\n",
       "      dtype='object')"
      ]
     },
     "execution_count": 61,
     "metadata": {},
     "output_type": "execute_result"
    }
   ],
   "source": [
    "df_data.columns"
   ]
  },
  {
   "cell_type": "code",
   "execution_count": 62,
   "metadata": {
    "colab": {
     "base_uri": "https://localhost:8080/"
    },
    "executionInfo": {
     "elapsed": 832,
     "status": "ok",
     "timestamp": 1620632233601,
     "user": {
      "displayName": "fabio alba",
      "photoUrl": "",
      "userId": "06675624622301434407"
     },
     "user_tz": -120
    },
    "id": "QlU1YYfhW5vZ",
    "outputId": "9615aa80-2591-4a95-ee75-b96474cc0df8"
   },
   "outputs": [
    {
     "data": {
      "text/plain": [
       "(4324, 9)"
      ]
     },
     "execution_count": 62,
     "metadata": {},
     "output_type": "execute_result"
    }
   ],
   "source": [
    "df_data.shape"
   ]
  },
  {
   "cell_type": "code",
   "execution_count": 63,
   "metadata": {
    "colab": {
     "base_uri": "https://localhost:8080/"
    },
    "executionInfo": {
     "elapsed": 828,
     "status": "ok",
     "timestamp": 1620632233602,
     "user": {
      "displayName": "fabio alba",
      "photoUrl": "",
      "userId": "06675624622301434407"
     },
     "user_tz": -120
    },
    "id": "9jIP61maXM9p",
    "outputId": "4316a6b2-1214-4f36-8d5e-7eaf2104fe6c"
   },
   "outputs": [
    {
     "name": "stdout",
     "output_type": "stream",
     "text": [
      "Missing values? True\n",
      "Duplicated values? False\n"
     ]
    }
   ],
   "source": [
    "print(f\"Missing values? {df_data.isna().values.any()}\")\n",
    "print(f\"Duplicated values? {df_data.duplicated().values.any()}\")"
   ]
  },
  {
   "cell_type": "markdown",
   "metadata": {
    "id": "KUN30y6ja-p9",
    "papermill": {
     "duration": 0.05406,
     "end_time": "2020-10-20T21:34:04.149973",
     "exception": false,
     "start_time": "2020-10-20T21:34:04.095913",
     "status": "completed"
    },
    "tags": []
   },
   "source": [
    "## Data Cleaning - Check for Missing Values and Duplicates\n",
    "\n",
    "Consider removing columns containing junk data. "
   ]
  },
  {
   "cell_type": "code",
   "execution_count": 64,
   "metadata": {
    "colab": {
     "base_uri": "https://localhost:8080/",
     "height": 293
    },
    "executionInfo": {
     "elapsed": 822,
     "status": "ok",
     "timestamp": 1620632233604,
     "user": {
      "displayName": "fabio alba",
      "photoUrl": "",
      "userId": "06675624622301434407"
     },
     "user_tz": -120
    },
    "id": "wWQvnJb0k2Ig",
    "outputId": "ef4d8b1d-8a99-490b-b740-a834015e862a"
   },
   "outputs": [
    {
     "data": {
      "text/html": [
       "<div>\n",
       "<style scoped>\n",
       "    .dataframe tbody tr th:only-of-type {\n",
       "        vertical-align: middle;\n",
       "    }\n",
       "\n",
       "    .dataframe tbody tr th {\n",
       "        vertical-align: top;\n",
       "    }\n",
       "\n",
       "    .dataframe thead th {\n",
       "        text-align: right;\n",
       "    }\n",
       "</style>\n",
       "<table border=\"1\" class=\"dataframe\">\n",
       "  <thead>\n",
       "    <tr style=\"text-align: right;\">\n",
       "      <th></th>\n",
       "      <th>Organisation</th>\n",
       "      <th>Location</th>\n",
       "      <th>Date</th>\n",
       "      <th>Detail</th>\n",
       "      <th>Rocket_Status</th>\n",
       "      <th>Price</th>\n",
       "      <th>Mission_Status</th>\n",
       "    </tr>\n",
       "  </thead>\n",
       "  <tbody>\n",
       "    <tr>\n",
       "      <th>0</th>\n",
       "      <td>SpaceX</td>\n",
       "      <td>LC-39A, Kennedy Space Center, Florida, USA</td>\n",
       "      <td>Fri Aug 07, 2020 05:12 UTC</td>\n",
       "      <td>Falcon 9 Block 5 | Starlink V1 L9 &amp; BlackSky</td>\n",
       "      <td>StatusActive</td>\n",
       "      <td>50.0</td>\n",
       "      <td>Success</td>\n",
       "    </tr>\n",
       "    <tr>\n",
       "      <th>1</th>\n",
       "      <td>CASC</td>\n",
       "      <td>Site 9401 (SLS-2), Jiuquan Satellite Launch Ce...</td>\n",
       "      <td>Thu Aug 06, 2020 04:01 UTC</td>\n",
       "      <td>Long March 2D | Gaofen-9 04 &amp; Q-SAT</td>\n",
       "      <td>StatusActive</td>\n",
       "      <td>29.75</td>\n",
       "      <td>Success</td>\n",
       "    </tr>\n",
       "    <tr>\n",
       "      <th>2</th>\n",
       "      <td>SpaceX</td>\n",
       "      <td>Pad A, Boca Chica, Texas, USA</td>\n",
       "      <td>Tue Aug 04, 2020 23:57 UTC</td>\n",
       "      <td>Starship Prototype | 150 Meter Hop</td>\n",
       "      <td>StatusActive</td>\n",
       "      <td>NaN</td>\n",
       "      <td>Success</td>\n",
       "    </tr>\n",
       "    <tr>\n",
       "      <th>3</th>\n",
       "      <td>Roscosmos</td>\n",
       "      <td>Site 200/39, Baikonur Cosmodrome, Kazakhstan</td>\n",
       "      <td>Thu Jul 30, 2020 21:25 UTC</td>\n",
       "      <td>Proton-M/Briz-M | Ekspress-80 &amp; Ekspress-103</td>\n",
       "      <td>StatusActive</td>\n",
       "      <td>65.0</td>\n",
       "      <td>Success</td>\n",
       "    </tr>\n",
       "    <tr>\n",
       "      <th>4</th>\n",
       "      <td>ULA</td>\n",
       "      <td>SLC-41, Cape Canaveral AFS, Florida, USA</td>\n",
       "      <td>Thu Jul 30, 2020 11:50 UTC</td>\n",
       "      <td>Atlas V 541 | Perseverance</td>\n",
       "      <td>StatusActive</td>\n",
       "      <td>145.0</td>\n",
       "      <td>Success</td>\n",
       "    </tr>\n",
       "  </tbody>\n",
       "</table>\n",
       "</div>"
      ],
      "text/plain": [
       "  Organisation                                           Location  \\\n",
       "0       SpaceX         LC-39A, Kennedy Space Center, Florida, USA   \n",
       "1         CASC  Site 9401 (SLS-2), Jiuquan Satellite Launch Ce...   \n",
       "2       SpaceX                      Pad A, Boca Chica, Texas, USA   \n",
       "3    Roscosmos       Site 200/39, Baikonur Cosmodrome, Kazakhstan   \n",
       "4          ULA           SLC-41, Cape Canaveral AFS, Florida, USA   \n",
       "\n",
       "                         Date                                        Detail  \\\n",
       "0  Fri Aug 07, 2020 05:12 UTC  Falcon 9 Block 5 | Starlink V1 L9 & BlackSky   \n",
       "1  Thu Aug 06, 2020 04:01 UTC           Long March 2D | Gaofen-9 04 & Q-SAT   \n",
       "2  Tue Aug 04, 2020 23:57 UTC            Starship Prototype | 150 Meter Hop   \n",
       "3  Thu Jul 30, 2020 21:25 UTC  Proton-M/Briz-M | Ekspress-80 & Ekspress-103   \n",
       "4  Thu Jul 30, 2020 11:50 UTC                    Atlas V 541 | Perseverance   \n",
       "\n",
       "  Rocket_Status  Price Mission_Status  \n",
       "0  StatusActive   50.0        Success  \n",
       "1  StatusActive  29.75        Success  \n",
       "2  StatusActive    NaN        Success  \n",
       "3  StatusActive   65.0        Success  \n",
       "4  StatusActive  145.0        Success  "
      ]
     },
     "execution_count": 64,
     "metadata": {},
     "output_type": "execute_result"
    }
   ],
   "source": [
    "## Dropping unnecessary columns \n",
    "\n",
    "## method n.1\n",
    "del df_data[\"Unnamed: 0\"]\n",
    "## method n.2\n",
    "df_data.drop(columns=\"Unnamed: 0.1\", inplace=True)\n",
    "df_data.head()"
   ]
  },
  {
   "cell_type": "code",
   "execution_count": 65,
   "metadata": {
    "colab": {
     "base_uri": "https://localhost:8080/"
    },
    "executionInfo": {
     "elapsed": 818,
     "status": "ok",
     "timestamp": 1620632233604,
     "user": {
      "displayName": "fabio alba",
      "photoUrl": "",
      "userId": "06675624622301434407"
     },
     "user_tz": -120
    },
    "id": "SfxVooCYk2As",
    "outputId": "bc888454-6283-4939-9b51-9d206bc34909"
   },
   "outputs": [
    {
     "name": "stdout",
     "output_type": "stream",
     "text": [
      "Original dataframe shape: (4324, 7)\n",
      "Duplicates: 1\n",
      "Missing values: 3360 => they are only prices\n",
      "Dataframe shape excluding duplicates:(4323, 7)\n"
     ]
    }
   ],
   "source": [
    "## Data cleaning\n",
    "\n",
    "print(f\"Original dataframe shape: {df_data.shape}\")\n",
    "\n",
    "#duplicates\n",
    "duplicates = df_data.duplicated().values.sum()\n",
    "\n",
    "# Missing values\n",
    "missing_values = df_data[df_data.isna().values] \n",
    "missing_values.sample(10)\n",
    "print(f\"Duplicates: {duplicates}\")\n",
    "print(f\"Missing values: {missing_values.count()[0]} => they are only prices\")\n",
    "\n",
    "\n",
    "df_clean = df_data.drop_duplicates()\n",
    "print(f\"Dataframe shape excluding duplicates:{df_clean.shape}\")\n",
    "\n",
    "\n",
    "## missing values are only in Price column; won't be excluded from dataset\n",
    "\n"
   ]
  },
  {
   "cell_type": "markdown",
   "metadata": {
    "id": "QHon_T5sa-p_",
    "papermill": {
     "duration": 0.036712,
     "end_time": "2020-10-20T21:34:05.227032",
     "exception": false,
     "start_time": "2020-10-20T21:34:05.190320",
     "status": "completed"
    },
    "tags": []
   },
   "source": [
    "## Descriptive Statistics"
   ]
  },
  {
   "cell_type": "code",
   "execution_count": 66,
   "metadata": {
    "colab": {
     "base_uri": "https://localhost:8080/",
     "height": 192
    },
    "executionInfo": {
     "elapsed": 1258,
     "status": "ok",
     "timestamp": 1620632234051,
     "user": {
      "displayName": "fabio alba",
      "photoUrl": "",
      "userId": "06675624622301434407"
     },
     "user_tz": -120
    },
    "id": "crSMMKHkg6FD",
    "outputId": "05454822-8344-4e78-fec6-d26489e134aa"
   },
   "outputs": [
    {
     "data": {
      "text/html": [
       "<div>\n",
       "<style scoped>\n",
       "    .dataframe tbody tr th:only-of-type {\n",
       "        vertical-align: middle;\n",
       "    }\n",
       "\n",
       "    .dataframe tbody tr th {\n",
       "        vertical-align: top;\n",
       "    }\n",
       "\n",
       "    .dataframe thead th {\n",
       "        text-align: right;\n",
       "    }\n",
       "</style>\n",
       "<table border=\"1\" class=\"dataframe\">\n",
       "  <thead>\n",
       "    <tr style=\"text-align: right;\">\n",
       "      <th></th>\n",
       "      <th>Organisation</th>\n",
       "      <th>Location</th>\n",
       "      <th>Date</th>\n",
       "      <th>Detail</th>\n",
       "      <th>Rocket_Status</th>\n",
       "      <th>Price</th>\n",
       "      <th>Mission_Status</th>\n",
       "    </tr>\n",
       "  </thead>\n",
       "  <tbody>\n",
       "    <tr>\n",
       "      <th>count</th>\n",
       "      <td>4324</td>\n",
       "      <td>4324</td>\n",
       "      <td>4324</td>\n",
       "      <td>4324</td>\n",
       "      <td>4324</td>\n",
       "      <td>964</td>\n",
       "      <td>4324</td>\n",
       "    </tr>\n",
       "    <tr>\n",
       "      <th>unique</th>\n",
       "      <td>56</td>\n",
       "      <td>137</td>\n",
       "      <td>4319</td>\n",
       "      <td>4278</td>\n",
       "      <td>2</td>\n",
       "      <td>56</td>\n",
       "      <td>4</td>\n",
       "    </tr>\n",
       "    <tr>\n",
       "      <th>top</th>\n",
       "      <td>RVSN USSR</td>\n",
       "      <td>Site 31/6, Baikonur Cosmodrome, Kazakhstan</td>\n",
       "      <td>Tue Aug 28, 1990 09:05 UTC</td>\n",
       "      <td>Cosmos-3MRB (65MRB) | BOR-5 Shuttle</td>\n",
       "      <td>StatusRetired</td>\n",
       "      <td>450.0</td>\n",
       "      <td>Success</td>\n",
       "    </tr>\n",
       "    <tr>\n",
       "      <th>freq</th>\n",
       "      <td>1777</td>\n",
       "      <td>235</td>\n",
       "      <td>2</td>\n",
       "      <td>6</td>\n",
       "      <td>3534</td>\n",
       "      <td>136</td>\n",
       "      <td>3879</td>\n",
       "    </tr>\n",
       "  </tbody>\n",
       "</table>\n",
       "</div>"
      ],
      "text/plain": [
       "       Organisation                                    Location  \\\n",
       "count          4324                                        4324   \n",
       "unique           56                                         137   \n",
       "top       RVSN USSR  Site 31/6, Baikonur Cosmodrome, Kazakhstan   \n",
       "freq           1777                                         235   \n",
       "\n",
       "                              Date                               Detail  \\\n",
       "count                         4324                                 4324   \n",
       "unique                        4319                                 4278   \n",
       "top     Tue Aug 28, 1990 09:05 UTC  Cosmos-3MRB (65MRB) | BOR-5 Shuttle   \n",
       "freq                             2                                    6   \n",
       "\n",
       "        Rocket_Status  Price Mission_Status  \n",
       "count            4324    964           4324  \n",
       "unique              2     56              4  \n",
       "top     StatusRetired  450.0        Success  \n",
       "freq             3534    136           3879  "
      ]
     },
     "execution_count": 66,
     "metadata": {},
     "output_type": "execute_result"
    }
   ],
   "source": [
    "df_data.describe()"
   ]
  },
  {
   "cell_type": "code",
   "execution_count": 67,
   "metadata": {
    "colab": {
     "base_uri": "https://localhost:8080/"
    },
    "executionInfo": {
     "elapsed": 1612,
     "status": "ok",
     "timestamp": 1620632234412,
     "user": {
      "displayName": "fabio alba",
      "photoUrl": "",
      "userId": "06675624622301434407"
     },
     "user_tz": -120
    },
    "id": "dGZa5HdbkJBT",
    "outputId": "1c0a4a31-2b35-4747-92a9-365ed0a890b4"
   },
   "outputs": [
    {
     "name": "stderr",
     "output_type": "stream",
     "text": [
      "<ipython-input-67-e03e7051030d>:3: SettingWithCopyWarning:\n",
      "\n",
      "\n",
      "A value is trying to be set on a copy of a slice from a DataFrame.\n",
      "Try using .loc[row_indexer,col_indexer] = value instead\n",
      "\n",
      "See the caveats in the documentation: https://pandas.pydata.org/pandas-docs/stable/user_guide/indexing.html#returning-a-view-versus-a-copy\n",
      "\n"
     ]
    },
    {
     "data": {
      "text/plain": [
       "1399   1997-03-04 02:00:00+00:00\n",
       "Name: Date, dtype: datetime64[ns, UTC]"
      ]
     },
     "execution_count": 67,
     "metadata": {},
     "output_type": "execute_result"
    }
   ],
   "source": [
    "## Transforming date string to datetime\n",
    "\n",
    "df_clean[\"Date\"] = pd.to_datetime(df_clean[\"Date\"], utc=True)\n",
    "df_clean[\"Date\"].sample(1)"
   ]
  },
  {
   "cell_type": "markdown",
   "metadata": {
    "id": "cgCjcpeUkKPW"
   },
   "source": [
    "# Number of Launches per Company\n",
    "\n",
    "Create a chart that shows the number of space mission launches by organisation."
   ]
  },
  {
   "cell_type": "code",
   "execution_count": 68,
   "metadata": {
    "colab": {
     "base_uri": "https://localhost:8080/",
     "height": 206
    },
    "executionInfo": {
     "elapsed": 511,
     "status": "ok",
     "timestamp": 1620632245627,
     "user": {
      "displayName": "fabio alba",
      "photoUrl": "",
      "userId": "06675624622301434407"
     },
     "user_tz": -120
    },
    "id": "ojmLZqtT1yPF",
    "outputId": "d257c3ce-f3b0-4406-e4a4-d3d5cdbe7087"
   },
   "outputs": [
    {
     "data": {
      "text/html": [
       "<div>\n",
       "<style scoped>\n",
       "    .dataframe tbody tr th:only-of-type {\n",
       "        vertical-align: middle;\n",
       "    }\n",
       "\n",
       "    .dataframe tbody tr th {\n",
       "        vertical-align: top;\n",
       "    }\n",
       "\n",
       "    .dataframe thead th {\n",
       "        text-align: right;\n",
       "    }\n",
       "</style>\n",
       "<table border=\"1\" class=\"dataframe\">\n",
       "  <thead>\n",
       "    <tr style=\"text-align: right;\">\n",
       "      <th></th>\n",
       "      <th>Organisation</th>\n",
       "      <th>Date</th>\n",
       "    </tr>\n",
       "  </thead>\n",
       "  <tbody>\n",
       "    <tr>\n",
       "      <th>27</th>\n",
       "      <td>Khrunichev</td>\n",
       "      <td>1</td>\n",
       "    </tr>\n",
       "    <tr>\n",
       "      <th>53</th>\n",
       "      <td>Virgin Orbit</td>\n",
       "      <td>1</td>\n",
       "    </tr>\n",
       "    <tr>\n",
       "      <th>47</th>\n",
       "      <td>Starsem</td>\n",
       "      <td>1</td>\n",
       "    </tr>\n",
       "    <tr>\n",
       "      <th>44</th>\n",
       "      <td>Sandia</td>\n",
       "      <td>1</td>\n",
       "    </tr>\n",
       "    <tr>\n",
       "      <th>38</th>\n",
       "      <td>OneSpace</td>\n",
       "      <td>1</td>\n",
       "    </tr>\n",
       "  </tbody>\n",
       "</table>\n",
       "</div>"
      ],
      "text/plain": [
       "    Organisation  Date\n",
       "27    Khrunichev     1\n",
       "53  Virgin Orbit     1\n",
       "47       Starsem     1\n",
       "44        Sandia     1\n",
       "38      OneSpace     1"
      ]
     },
     "execution_count": 68,
     "metadata": {},
     "output_type": "execute_result"
    }
   ],
   "source": [
    "df_org = df_clean.groupby(\"Organisation\",as_index=False).agg({\"Date\": pd.Series.count})\n",
    "df_org = df_org.sort_values(\"Date\", ascending=True)\n",
    "df_org.head()\n"
   ]
  },
  {
   "cell_type": "code",
   "execution_count": 69,
   "metadata": {
    "colab": {
     "base_uri": "https://localhost:8080/",
     "height": 1000
    },
    "executionInfo": {
     "elapsed": 1613,
     "status": "ok",
     "timestamp": 1620632246739,
     "user": {
      "displayName": "fabio alba",
      "photoUrl": "",
      "userId": "06675624622301434407"
     },
     "user_tz": -120
    },
    "id": "qgneHUbWkw5v",
    "outputId": "729e32f7-c914-4c18-d6da-61cff28cb726"
   },
   "outputs": [
    {
     "data": {
      "application/vnd.plotly.v1+json": {
       "config": {
        "plotlyServerURL": "https://plot.ly"
       },
       "data": [
        {
         "alignmentgroup": "True",
         "hovertemplate": "x=%{x}<br>y=%{y}<extra></extra>",
         "legendgroup": "",
         "marker": {
          "color": "#636efa",
          "pattern": {
           "shape": ""
          }
         },
         "name": "",
         "offsetgroup": "",
         "orientation": "h",
         "showlegend": false,
         "textposition": "auto",
         "type": "bar",
         "x": [
          1,
          1,
          1,
          1,
          1,
          1,
          1,
          1,
          1,
          1,
          2,
          2,
          2,
          3,
          3,
          3,
          4,
          4,
          4,
          5,
          5,
          5,
          7,
          7,
          7,
          8,
          8,
          9,
          10,
          11,
          12,
          13,
          13,
          13,
          13,
          17,
          22,
          30,
          36,
          46,
          55,
          76,
          79,
          83,
          84,
          100,
          114,
          136,
          140,
          161,
          201,
          203,
          250,
          251,
          279,
          1777
         ],
         "xaxis": "x",
         "y": [
          "Khrunichev",
          "Virgin Orbit",
          "Starsem",
          "Sandia",
          "OneSpace",
          "Landspace",
          "IRGC",
          "EER",
          "Douglas",
          "i-Space",
          "RAE",
          "OKB-586",
          "Yuzhmash",
          "AEB",
          "SRC",
          "KARI",
          "Exos",
          "Arm??e de l'Air",
          "CECLES",
          "CASIC",
          "UT",
          "KCST",
          "MITT",
          "Land Launch",
          "JAXA",
          "AMBA",
          "CNES",
          "ASI",
          "ExPace",
          "IAI",
          "Blue Origin",
          "Rocket Lab",
          "ISA",
          "ESA",
          "Eurockot",
          "US Navy",
          "Kosmotras",
          "ISAS",
          "Sea Launch",
          "ILS",
          "Roscosmos",
          "ISRO",
          "Lockheed",
          "Northrop",
          "MHI",
          "SpaceX",
          "Martin Marietta",
          "Boeing",
          "ULA",
          "US Air Force",
          "VKS RF",
          "NASA",
          "CASC",
          "General Dynamics",
          "Arianespace",
          "RVSN USSR"
         ],
         "yaxis": "y"
        }
       ],
       "layout": {
        "barmode": "relative",
        "height": 1500,
        "legend": {
         "tracegroupgap": 0
        },
        "template": {
         "data": {
          "bar": [
           {
            "error_x": {
             "color": "#2a3f5f"
            },
            "error_y": {
             "color": "#2a3f5f"
            },
            "marker": {
             "line": {
              "color": "#E5ECF6",
              "width": 0.5
             },
             "pattern": {
              "fillmode": "overlay",
              "size": 10,
              "solidity": 0.2
             }
            },
            "type": "bar"
           }
          ],
          "barpolar": [
           {
            "marker": {
             "line": {
              "color": "#E5ECF6",
              "width": 0.5
             },
             "pattern": {
              "fillmode": "overlay",
              "size": 10,
              "solidity": 0.2
             }
            },
            "type": "barpolar"
           }
          ],
          "carpet": [
           {
            "aaxis": {
             "endlinecolor": "#2a3f5f",
             "gridcolor": "white",
             "linecolor": "white",
             "minorgridcolor": "white",
             "startlinecolor": "#2a3f5f"
            },
            "baxis": {
             "endlinecolor": "#2a3f5f",
             "gridcolor": "white",
             "linecolor": "white",
             "minorgridcolor": "white",
             "startlinecolor": "#2a3f5f"
            },
            "type": "carpet"
           }
          ],
          "choropleth": [
           {
            "colorbar": {
             "outlinewidth": 0,
             "ticks": ""
            },
            "type": "choropleth"
           }
          ],
          "contour": [
           {
            "colorbar": {
             "outlinewidth": 0,
             "ticks": ""
            },
            "colorscale": [
             [
              0,
              "#0d0887"
             ],
             [
              0.1111111111111111,
              "#46039f"
             ],
             [
              0.2222222222222222,
              "#7201a8"
             ],
             [
              0.3333333333333333,
              "#9c179e"
             ],
             [
              0.4444444444444444,
              "#bd3786"
             ],
             [
              0.5555555555555556,
              "#d8576b"
             ],
             [
              0.6666666666666666,
              "#ed7953"
             ],
             [
              0.7777777777777778,
              "#fb9f3a"
             ],
             [
              0.8888888888888888,
              "#fdca26"
             ],
             [
              1,
              "#f0f921"
             ]
            ],
            "type": "contour"
           }
          ],
          "contourcarpet": [
           {
            "colorbar": {
             "outlinewidth": 0,
             "ticks": ""
            },
            "type": "contourcarpet"
           }
          ],
          "heatmap": [
           {
            "colorbar": {
             "outlinewidth": 0,
             "ticks": ""
            },
            "colorscale": [
             [
              0,
              "#0d0887"
             ],
             [
              0.1111111111111111,
              "#46039f"
             ],
             [
              0.2222222222222222,
              "#7201a8"
             ],
             [
              0.3333333333333333,
              "#9c179e"
             ],
             [
              0.4444444444444444,
              "#bd3786"
             ],
             [
              0.5555555555555556,
              "#d8576b"
             ],
             [
              0.6666666666666666,
              "#ed7953"
             ],
             [
              0.7777777777777778,
              "#fb9f3a"
             ],
             [
              0.8888888888888888,
              "#fdca26"
             ],
             [
              1,
              "#f0f921"
             ]
            ],
            "type": "heatmap"
           }
          ],
          "heatmapgl": [
           {
            "colorbar": {
             "outlinewidth": 0,
             "ticks": ""
            },
            "colorscale": [
             [
              0,
              "#0d0887"
             ],
             [
              0.1111111111111111,
              "#46039f"
             ],
             [
              0.2222222222222222,
              "#7201a8"
             ],
             [
              0.3333333333333333,
              "#9c179e"
             ],
             [
              0.4444444444444444,
              "#bd3786"
             ],
             [
              0.5555555555555556,
              "#d8576b"
             ],
             [
              0.6666666666666666,
              "#ed7953"
             ],
             [
              0.7777777777777778,
              "#fb9f3a"
             ],
             [
              0.8888888888888888,
              "#fdca26"
             ],
             [
              1,
              "#f0f921"
             ]
            ],
            "type": "heatmapgl"
           }
          ],
          "histogram": [
           {
            "marker": {
             "pattern": {
              "fillmode": "overlay",
              "size": 10,
              "solidity": 0.2
             }
            },
            "type": "histogram"
           }
          ],
          "histogram2d": [
           {
            "colorbar": {
             "outlinewidth": 0,
             "ticks": ""
            },
            "colorscale": [
             [
              0,
              "#0d0887"
             ],
             [
              0.1111111111111111,
              "#46039f"
             ],
             [
              0.2222222222222222,
              "#7201a8"
             ],
             [
              0.3333333333333333,
              "#9c179e"
             ],
             [
              0.4444444444444444,
              "#bd3786"
             ],
             [
              0.5555555555555556,
              "#d8576b"
             ],
             [
              0.6666666666666666,
              "#ed7953"
             ],
             [
              0.7777777777777778,
              "#fb9f3a"
             ],
             [
              0.8888888888888888,
              "#fdca26"
             ],
             [
              1,
              "#f0f921"
             ]
            ],
            "type": "histogram2d"
           }
          ],
          "histogram2dcontour": [
           {
            "colorbar": {
             "outlinewidth": 0,
             "ticks": ""
            },
            "colorscale": [
             [
              0,
              "#0d0887"
             ],
             [
              0.1111111111111111,
              "#46039f"
             ],
             [
              0.2222222222222222,
              "#7201a8"
             ],
             [
              0.3333333333333333,
              "#9c179e"
             ],
             [
              0.4444444444444444,
              "#bd3786"
             ],
             [
              0.5555555555555556,
              "#d8576b"
             ],
             [
              0.6666666666666666,
              "#ed7953"
             ],
             [
              0.7777777777777778,
              "#fb9f3a"
             ],
             [
              0.8888888888888888,
              "#fdca26"
             ],
             [
              1,
              "#f0f921"
             ]
            ],
            "type": "histogram2dcontour"
           }
          ],
          "mesh3d": [
           {
            "colorbar": {
             "outlinewidth": 0,
             "ticks": ""
            },
            "type": "mesh3d"
           }
          ],
          "parcoords": [
           {
            "line": {
             "colorbar": {
              "outlinewidth": 0,
              "ticks": ""
             }
            },
            "type": "parcoords"
           }
          ],
          "pie": [
           {
            "automargin": true,
            "type": "pie"
           }
          ],
          "scatter": [
           {
            "marker": {
             "colorbar": {
              "outlinewidth": 0,
              "ticks": ""
             }
            },
            "type": "scatter"
           }
          ],
          "scatter3d": [
           {
            "line": {
             "colorbar": {
              "outlinewidth": 0,
              "ticks": ""
             }
            },
            "marker": {
             "colorbar": {
              "outlinewidth": 0,
              "ticks": ""
             }
            },
            "type": "scatter3d"
           }
          ],
          "scattercarpet": [
           {
            "marker": {
             "colorbar": {
              "outlinewidth": 0,
              "ticks": ""
             }
            },
            "type": "scattercarpet"
           }
          ],
          "scattergeo": [
           {
            "marker": {
             "colorbar": {
              "outlinewidth": 0,
              "ticks": ""
             }
            },
            "type": "scattergeo"
           }
          ],
          "scattergl": [
           {
            "marker": {
             "colorbar": {
              "outlinewidth": 0,
              "ticks": ""
             }
            },
            "type": "scattergl"
           }
          ],
          "scattermapbox": [
           {
            "marker": {
             "colorbar": {
              "outlinewidth": 0,
              "ticks": ""
             }
            },
            "type": "scattermapbox"
           }
          ],
          "scatterpolar": [
           {
            "marker": {
             "colorbar": {
              "outlinewidth": 0,
              "ticks": ""
             }
            },
            "type": "scatterpolar"
           }
          ],
          "scatterpolargl": [
           {
            "marker": {
             "colorbar": {
              "outlinewidth": 0,
              "ticks": ""
             }
            },
            "type": "scatterpolargl"
           }
          ],
          "scatterternary": [
           {
            "marker": {
             "colorbar": {
              "outlinewidth": 0,
              "ticks": ""
             }
            },
            "type": "scatterternary"
           }
          ],
          "surface": [
           {
            "colorbar": {
             "outlinewidth": 0,
             "ticks": ""
            },
            "colorscale": [
             [
              0,
              "#0d0887"
             ],
             [
              0.1111111111111111,
              "#46039f"
             ],
             [
              0.2222222222222222,
              "#7201a8"
             ],
             [
              0.3333333333333333,
              "#9c179e"
             ],
             [
              0.4444444444444444,
              "#bd3786"
             ],
             [
              0.5555555555555556,
              "#d8576b"
             ],
             [
              0.6666666666666666,
              "#ed7953"
             ],
             [
              0.7777777777777778,
              "#fb9f3a"
             ],
             [
              0.8888888888888888,
              "#fdca26"
             ],
             [
              1,
              "#f0f921"
             ]
            ],
            "type": "surface"
           }
          ],
          "table": [
           {
            "cells": {
             "fill": {
              "color": "#EBF0F8"
             },
             "line": {
              "color": "white"
             }
            },
            "header": {
             "fill": {
              "color": "#C8D4E3"
             },
             "line": {
              "color": "white"
             }
            },
            "type": "table"
           }
          ]
         },
         "layout": {
          "annotationdefaults": {
           "arrowcolor": "#2a3f5f",
           "arrowhead": 0,
           "arrowwidth": 1
          },
          "autotypenumbers": "strict",
          "coloraxis": {
           "colorbar": {
            "outlinewidth": 0,
            "ticks": ""
           }
          },
          "colorscale": {
           "diverging": [
            [
             0,
             "#8e0152"
            ],
            [
             0.1,
             "#c51b7d"
            ],
            [
             0.2,
             "#de77ae"
            ],
            [
             0.3,
             "#f1b6da"
            ],
            [
             0.4,
             "#fde0ef"
            ],
            [
             0.5,
             "#f7f7f7"
            ],
            [
             0.6,
             "#e6f5d0"
            ],
            [
             0.7,
             "#b8e186"
            ],
            [
             0.8,
             "#7fbc41"
            ],
            [
             0.9,
             "#4d9221"
            ],
            [
             1,
             "#276419"
            ]
           ],
           "sequential": [
            [
             0,
             "#0d0887"
            ],
            [
             0.1111111111111111,
             "#46039f"
            ],
            [
             0.2222222222222222,
             "#7201a8"
            ],
            [
             0.3333333333333333,
             "#9c179e"
            ],
            [
             0.4444444444444444,
             "#bd3786"
            ],
            [
             0.5555555555555556,
             "#d8576b"
            ],
            [
             0.6666666666666666,
             "#ed7953"
            ],
            [
             0.7777777777777778,
             "#fb9f3a"
            ],
            [
             0.8888888888888888,
             "#fdca26"
            ],
            [
             1,
             "#f0f921"
            ]
           ],
           "sequentialminus": [
            [
             0,
             "#0d0887"
            ],
            [
             0.1111111111111111,
             "#46039f"
            ],
            [
             0.2222222222222222,
             "#7201a8"
            ],
            [
             0.3333333333333333,
             "#9c179e"
            ],
            [
             0.4444444444444444,
             "#bd3786"
            ],
            [
             0.5555555555555556,
             "#d8576b"
            ],
            [
             0.6666666666666666,
             "#ed7953"
            ],
            [
             0.7777777777777778,
             "#fb9f3a"
            ],
            [
             0.8888888888888888,
             "#fdca26"
            ],
            [
             1,
             "#f0f921"
            ]
           ]
          },
          "colorway": [
           "#636efa",
           "#EF553B",
           "#00cc96",
           "#ab63fa",
           "#FFA15A",
           "#19d3f3",
           "#FF6692",
           "#B6E880",
           "#FF97FF",
           "#FECB52"
          ],
          "font": {
           "color": "#2a3f5f"
          },
          "geo": {
           "bgcolor": "white",
           "lakecolor": "white",
           "landcolor": "#E5ECF6",
           "showlakes": true,
           "showland": true,
           "subunitcolor": "white"
          },
          "hoverlabel": {
           "align": "left"
          },
          "hovermode": "closest",
          "mapbox": {
           "style": "light"
          },
          "paper_bgcolor": "white",
          "plot_bgcolor": "#E5ECF6",
          "polar": {
           "angularaxis": {
            "gridcolor": "white",
            "linecolor": "white",
            "ticks": ""
           },
           "bgcolor": "#E5ECF6",
           "radialaxis": {
            "gridcolor": "white",
            "linecolor": "white",
            "ticks": ""
           }
          },
          "scene": {
           "xaxis": {
            "backgroundcolor": "#E5ECF6",
            "gridcolor": "white",
            "gridwidth": 2,
            "linecolor": "white",
            "showbackground": true,
            "ticks": "",
            "zerolinecolor": "white"
           },
           "yaxis": {
            "backgroundcolor": "#E5ECF6",
            "gridcolor": "white",
            "gridwidth": 2,
            "linecolor": "white",
            "showbackground": true,
            "ticks": "",
            "zerolinecolor": "white"
           },
           "zaxis": {
            "backgroundcolor": "#E5ECF6",
            "gridcolor": "white",
            "gridwidth": 2,
            "linecolor": "white",
            "showbackground": true,
            "ticks": "",
            "zerolinecolor": "white"
           }
          },
          "shapedefaults": {
           "line": {
            "color": "#2a3f5f"
           }
          },
          "ternary": {
           "aaxis": {
            "gridcolor": "white",
            "linecolor": "white",
            "ticks": ""
           },
           "baxis": {
            "gridcolor": "white",
            "linecolor": "white",
            "ticks": ""
           },
           "bgcolor": "#E5ECF6",
           "caxis": {
            "gridcolor": "white",
            "linecolor": "white",
            "ticks": ""
           }
          },
          "title": {
           "x": 0.05
          },
          "xaxis": {
           "automargin": true,
           "gridcolor": "white",
           "linecolor": "white",
           "ticks": "",
           "title": {
            "standoff": 15
           },
           "zerolinecolor": "white",
           "zerolinewidth": 2
          },
          "yaxis": {
           "automargin": true,
           "gridcolor": "white",
           "linecolor": "white",
           "ticks": "",
           "title": {
            "standoff": 15
           },
           "zerolinecolor": "white",
           "zerolinewidth": 2
          }
         }
        },
        "title": {
         "text": "Launches by organisation"
        },
        "width": 2000,
        "xaxis": {
         "anchor": "y",
         "domain": [
          0,
          1
         ],
         "title": {
          "text": "x"
         }
        },
        "yaxis": {
         "anchor": "x",
         "domain": [
          0,
          1
         ],
         "title": {
          "text": "y"
         }
        }
       }
      },
      "text/html": [
       "<div>                            <div id=\"50a8d718-c97d-4ee5-8106-a3c539bb6b2b\" class=\"plotly-graph-div\" style=\"height:1500px; width:2000px;\"></div>            <script type=\"text/javascript\">                require([\"plotly\"], function(Plotly) {                    window.PLOTLYENV=window.PLOTLYENV || {};                                    if (document.getElementById(\"50a8d718-c97d-4ee5-8106-a3c539bb6b2b\")) {                    Plotly.newPlot(                        \"50a8d718-c97d-4ee5-8106-a3c539bb6b2b\",                        [{\"alignmentgroup\":\"True\",\"hovertemplate\":\"x=%{x}<br>y=%{y}<extra></extra>\",\"legendgroup\":\"\",\"marker\":{\"color\":\"#636efa\",\"pattern\":{\"shape\":\"\"}},\"name\":\"\",\"offsetgroup\":\"\",\"orientation\":\"h\",\"showlegend\":false,\"textposition\":\"auto\",\"type\":\"bar\",\"x\":[1,1,1,1,1,1,1,1,1,1,2,2,2,3,3,3,4,4,4,5,5,5,7,7,7,8,8,9,10,11,12,13,13,13,13,17,22,30,36,46,55,76,79,83,84,100,114,136,140,161,201,203,250,251,279,1777],\"xaxis\":\"x\",\"y\":[\"Khrunichev\",\"Virgin Orbit\",\"Starsem\",\"Sandia\",\"OneSpace\",\"Landspace\",\"IRGC\",\"EER\",\"Douglas\",\"i-Space\",\"RAE\",\"OKB-586\",\"Yuzhmash\",\"AEB\",\"SRC\",\"KARI\",\"Exos\",\"Arm??e de l'Air\",\"CECLES\",\"CASIC\",\"UT\",\"KCST\",\"MITT\",\"Land Launch\",\"JAXA\",\"AMBA\",\"CNES\",\"ASI\",\"ExPace\",\"IAI\",\"Blue Origin\",\"Rocket Lab\",\"ISA\",\"ESA\",\"Eurockot\",\"US Navy\",\"Kosmotras\",\"ISAS\",\"Sea Launch\",\"ILS\",\"Roscosmos\",\"ISRO\",\"Lockheed\",\"Northrop\",\"MHI\",\"SpaceX\",\"Martin Marietta\",\"Boeing\",\"ULA\",\"US Air Force\",\"VKS RF\",\"NASA\",\"CASC\",\"General Dynamics\",\"Arianespace\",\"RVSN USSR\"],\"yaxis\":\"y\"}],                        {\"barmode\":\"relative\",\"height\":1500,\"legend\":{\"tracegroupgap\":0},\"template\":{\"data\":{\"bar\":[{\"error_x\":{\"color\":\"#2a3f5f\"},\"error_y\":{\"color\":\"#2a3f5f\"},\"marker\":{\"line\":{\"color\":\"#E5ECF6\",\"width\":0.5},\"pattern\":{\"fillmode\":\"overlay\",\"size\":10,\"solidity\":0.2}},\"type\":\"bar\"}],\"barpolar\":[{\"marker\":{\"line\":{\"color\":\"#E5ECF6\",\"width\":0.5},\"pattern\":{\"fillmode\":\"overlay\",\"size\":10,\"solidity\":0.2}},\"type\":\"barpolar\"}],\"carpet\":[{\"aaxis\":{\"endlinecolor\":\"#2a3f5f\",\"gridcolor\":\"white\",\"linecolor\":\"white\",\"minorgridcolor\":\"white\",\"startlinecolor\":\"#2a3f5f\"},\"baxis\":{\"endlinecolor\":\"#2a3f5f\",\"gridcolor\":\"white\",\"linecolor\":\"white\",\"minorgridcolor\":\"white\",\"startlinecolor\":\"#2a3f5f\"},\"type\":\"carpet\"}],\"choropleth\":[{\"colorbar\":{\"outlinewidth\":0,\"ticks\":\"\"},\"type\":\"choropleth\"}],\"contour\":[{\"colorbar\":{\"outlinewidth\":0,\"ticks\":\"\"},\"colorscale\":[[0.0,\"#0d0887\"],[0.1111111111111111,\"#46039f\"],[0.2222222222222222,\"#7201a8\"],[0.3333333333333333,\"#9c179e\"],[0.4444444444444444,\"#bd3786\"],[0.5555555555555556,\"#d8576b\"],[0.6666666666666666,\"#ed7953\"],[0.7777777777777778,\"#fb9f3a\"],[0.8888888888888888,\"#fdca26\"],[1.0,\"#f0f921\"]],\"type\":\"contour\"}],\"contourcarpet\":[{\"colorbar\":{\"outlinewidth\":0,\"ticks\":\"\"},\"type\":\"contourcarpet\"}],\"heatmap\":[{\"colorbar\":{\"outlinewidth\":0,\"ticks\":\"\"},\"colorscale\":[[0.0,\"#0d0887\"],[0.1111111111111111,\"#46039f\"],[0.2222222222222222,\"#7201a8\"],[0.3333333333333333,\"#9c179e\"],[0.4444444444444444,\"#bd3786\"],[0.5555555555555556,\"#d8576b\"],[0.6666666666666666,\"#ed7953\"],[0.7777777777777778,\"#fb9f3a\"],[0.8888888888888888,\"#fdca26\"],[1.0,\"#f0f921\"]],\"type\":\"heatmap\"}],\"heatmapgl\":[{\"colorbar\":{\"outlinewidth\":0,\"ticks\":\"\"},\"colorscale\":[[0.0,\"#0d0887\"],[0.1111111111111111,\"#46039f\"],[0.2222222222222222,\"#7201a8\"],[0.3333333333333333,\"#9c179e\"],[0.4444444444444444,\"#bd3786\"],[0.5555555555555556,\"#d8576b\"],[0.6666666666666666,\"#ed7953\"],[0.7777777777777778,\"#fb9f3a\"],[0.8888888888888888,\"#fdca26\"],[1.0,\"#f0f921\"]],\"type\":\"heatmapgl\"}],\"histogram\":[{\"marker\":{\"pattern\":{\"fillmode\":\"overlay\",\"size\":10,\"solidity\":0.2}},\"type\":\"histogram\"}],\"histogram2d\":[{\"colorbar\":{\"outlinewidth\":0,\"ticks\":\"\"},\"colorscale\":[[0.0,\"#0d0887\"],[0.1111111111111111,\"#46039f\"],[0.2222222222222222,\"#7201a8\"],[0.3333333333333333,\"#9c179e\"],[0.4444444444444444,\"#bd3786\"],[0.5555555555555556,\"#d8576b\"],[0.6666666666666666,\"#ed7953\"],[0.7777777777777778,\"#fb9f3a\"],[0.8888888888888888,\"#fdca26\"],[1.0,\"#f0f921\"]],\"type\":\"histogram2d\"}],\"histogram2dcontour\":[{\"colorbar\":{\"outlinewidth\":0,\"ticks\":\"\"},\"colorscale\":[[0.0,\"#0d0887\"],[0.1111111111111111,\"#46039f\"],[0.2222222222222222,\"#7201a8\"],[0.3333333333333333,\"#9c179e\"],[0.4444444444444444,\"#bd3786\"],[0.5555555555555556,\"#d8576b\"],[0.6666666666666666,\"#ed7953\"],[0.7777777777777778,\"#fb9f3a\"],[0.8888888888888888,\"#fdca26\"],[1.0,\"#f0f921\"]],\"type\":\"histogram2dcontour\"}],\"mesh3d\":[{\"colorbar\":{\"outlinewidth\":0,\"ticks\":\"\"},\"type\":\"mesh3d\"}],\"parcoords\":[{\"line\":{\"colorbar\":{\"outlinewidth\":0,\"ticks\":\"\"}},\"type\":\"parcoords\"}],\"pie\":[{\"automargin\":true,\"type\":\"pie\"}],\"scatter\":[{\"marker\":{\"colorbar\":{\"outlinewidth\":0,\"ticks\":\"\"}},\"type\":\"scatter\"}],\"scatter3d\":[{\"line\":{\"colorbar\":{\"outlinewidth\":0,\"ticks\":\"\"}},\"marker\":{\"colorbar\":{\"outlinewidth\":0,\"ticks\":\"\"}},\"type\":\"scatter3d\"}],\"scattercarpet\":[{\"marker\":{\"colorbar\":{\"outlinewidth\":0,\"ticks\":\"\"}},\"type\":\"scattercarpet\"}],\"scattergeo\":[{\"marker\":{\"colorbar\":{\"outlinewidth\":0,\"ticks\":\"\"}},\"type\":\"scattergeo\"}],\"scattergl\":[{\"marker\":{\"colorbar\":{\"outlinewidth\":0,\"ticks\":\"\"}},\"type\":\"scattergl\"}],\"scattermapbox\":[{\"marker\":{\"colorbar\":{\"outlinewidth\":0,\"ticks\":\"\"}},\"type\":\"scattermapbox\"}],\"scatterpolar\":[{\"marker\":{\"colorbar\":{\"outlinewidth\":0,\"ticks\":\"\"}},\"type\":\"scatterpolar\"}],\"scatterpolargl\":[{\"marker\":{\"colorbar\":{\"outlinewidth\":0,\"ticks\":\"\"}},\"type\":\"scatterpolargl\"}],\"scatterternary\":[{\"marker\":{\"colorbar\":{\"outlinewidth\":0,\"ticks\":\"\"}},\"type\":\"scatterternary\"}],\"surface\":[{\"colorbar\":{\"outlinewidth\":0,\"ticks\":\"\"},\"colorscale\":[[0.0,\"#0d0887\"],[0.1111111111111111,\"#46039f\"],[0.2222222222222222,\"#7201a8\"],[0.3333333333333333,\"#9c179e\"],[0.4444444444444444,\"#bd3786\"],[0.5555555555555556,\"#d8576b\"],[0.6666666666666666,\"#ed7953\"],[0.7777777777777778,\"#fb9f3a\"],[0.8888888888888888,\"#fdca26\"],[1.0,\"#f0f921\"]],\"type\":\"surface\"}],\"table\":[{\"cells\":{\"fill\":{\"color\":\"#EBF0F8\"},\"line\":{\"color\":\"white\"}},\"header\":{\"fill\":{\"color\":\"#C8D4E3\"},\"line\":{\"color\":\"white\"}},\"type\":\"table\"}]},\"layout\":{\"annotationdefaults\":{\"arrowcolor\":\"#2a3f5f\",\"arrowhead\":0,\"arrowwidth\":1},\"autotypenumbers\":\"strict\",\"coloraxis\":{\"colorbar\":{\"outlinewidth\":0,\"ticks\":\"\"}},\"colorscale\":{\"diverging\":[[0,\"#8e0152\"],[0.1,\"#c51b7d\"],[0.2,\"#de77ae\"],[0.3,\"#f1b6da\"],[0.4,\"#fde0ef\"],[0.5,\"#f7f7f7\"],[0.6,\"#e6f5d0\"],[0.7,\"#b8e186\"],[0.8,\"#7fbc41\"],[0.9,\"#4d9221\"],[1,\"#276419\"]],\"sequential\":[[0.0,\"#0d0887\"],[0.1111111111111111,\"#46039f\"],[0.2222222222222222,\"#7201a8\"],[0.3333333333333333,\"#9c179e\"],[0.4444444444444444,\"#bd3786\"],[0.5555555555555556,\"#d8576b\"],[0.6666666666666666,\"#ed7953\"],[0.7777777777777778,\"#fb9f3a\"],[0.8888888888888888,\"#fdca26\"],[1.0,\"#f0f921\"]],\"sequentialminus\":[[0.0,\"#0d0887\"],[0.1111111111111111,\"#46039f\"],[0.2222222222222222,\"#7201a8\"],[0.3333333333333333,\"#9c179e\"],[0.4444444444444444,\"#bd3786\"],[0.5555555555555556,\"#d8576b\"],[0.6666666666666666,\"#ed7953\"],[0.7777777777777778,\"#fb9f3a\"],[0.8888888888888888,\"#fdca26\"],[1.0,\"#f0f921\"]]},\"colorway\":[\"#636efa\",\"#EF553B\",\"#00cc96\",\"#ab63fa\",\"#FFA15A\",\"#19d3f3\",\"#FF6692\",\"#B6E880\",\"#FF97FF\",\"#FECB52\"],\"font\":{\"color\":\"#2a3f5f\"},\"geo\":{\"bgcolor\":\"white\",\"lakecolor\":\"white\",\"landcolor\":\"#E5ECF6\",\"showlakes\":true,\"showland\":true,\"subunitcolor\":\"white\"},\"hoverlabel\":{\"align\":\"left\"},\"hovermode\":\"closest\",\"mapbox\":{\"style\":\"light\"},\"paper_bgcolor\":\"white\",\"plot_bgcolor\":\"#E5ECF6\",\"polar\":{\"angularaxis\":{\"gridcolor\":\"white\",\"linecolor\":\"white\",\"ticks\":\"\"},\"bgcolor\":\"#E5ECF6\",\"radialaxis\":{\"gridcolor\":\"white\",\"linecolor\":\"white\",\"ticks\":\"\"}},\"scene\":{\"xaxis\":{\"backgroundcolor\":\"#E5ECF6\",\"gridcolor\":\"white\",\"gridwidth\":2,\"linecolor\":\"white\",\"showbackground\":true,\"ticks\":\"\",\"zerolinecolor\":\"white\"},\"yaxis\":{\"backgroundcolor\":\"#E5ECF6\",\"gridcolor\":\"white\",\"gridwidth\":2,\"linecolor\":\"white\",\"showbackground\":true,\"ticks\":\"\",\"zerolinecolor\":\"white\"},\"zaxis\":{\"backgroundcolor\":\"#E5ECF6\",\"gridcolor\":\"white\",\"gridwidth\":2,\"linecolor\":\"white\",\"showbackground\":true,\"ticks\":\"\",\"zerolinecolor\":\"white\"}},\"shapedefaults\":{\"line\":{\"color\":\"#2a3f5f\"}},\"ternary\":{\"aaxis\":{\"gridcolor\":\"white\",\"linecolor\":\"white\",\"ticks\":\"\"},\"baxis\":{\"gridcolor\":\"white\",\"linecolor\":\"white\",\"ticks\":\"\"},\"bgcolor\":\"#E5ECF6\",\"caxis\":{\"gridcolor\":\"white\",\"linecolor\":\"white\",\"ticks\":\"\"}},\"title\":{\"x\":0.05},\"xaxis\":{\"automargin\":true,\"gridcolor\":\"white\",\"linecolor\":\"white\",\"ticks\":\"\",\"title\":{\"standoff\":15},\"zerolinecolor\":\"white\",\"zerolinewidth\":2},\"yaxis\":{\"automargin\":true,\"gridcolor\":\"white\",\"linecolor\":\"white\",\"ticks\":\"\",\"title\":{\"standoff\":15},\"zerolinecolor\":\"white\",\"zerolinewidth\":2}}},\"title\":{\"text\":\"Launches by organisation\"},\"width\":2000,\"xaxis\":{\"anchor\":\"y\",\"domain\":[0.0,1.0],\"title\":{\"text\":\"x\"}},\"yaxis\":{\"anchor\":\"x\",\"domain\":[0.0,1.0],\"title\":{\"text\":\"y\"}}},                        {\"responsive\": true}                    ).then(function(){\n",
       "                            \n",
       "var gd = document.getElementById('50a8d718-c97d-4ee5-8106-a3c539bb6b2b');\n",
       "var x = new MutationObserver(function (mutations, observer) {{\n",
       "        var display = window.getComputedStyle(gd).display;\n",
       "        if (!display || display === 'none') {{\n",
       "            console.log([gd, 'removed!']);\n",
       "            Plotly.purge(gd);\n",
       "            observer.disconnect();\n",
       "        }}\n",
       "}});\n",
       "\n",
       "// Listen for the removal of the full notebook cells\n",
       "var notebookContainer = gd.closest('#notebook-container');\n",
       "if (notebookContainer) {{\n",
       "    x.observe(notebookContainer, {childList: true});\n",
       "}}\n",
       "\n",
       "// Listen for the clearing of the current output cell\n",
       "var outputEl = gd.closest('.output');\n",
       "if (outputEl) {{\n",
       "    x.observe(outputEl, {childList: true});\n",
       "}}\n",
       "\n",
       "                        })                };                });            </script>        </div>"
      ]
     },
     "metadata": {},
     "output_type": "display_data"
    }
   ],
   "source": [
    "%matplotlib inline\n",
    "\n",
    "h_bar = px.bar(y=df_org[\"Organisation\"], x=df_org[\"Date\"], orientation=\"h\", width=2000, height=1500, title=\"Launches by organisation\")\n",
    "h_bar.show()"
   ]
  },
  {
   "cell_type": "markdown",
   "metadata": {
    "id": "7Gwteht2kR_h"
   },
   "source": [
    "# Number of Active versus Retired Rockets\n",
    "\n",
    "How many rockets are active compared to those that are decomissioned? "
   ]
  },
  {
   "cell_type": "code",
   "execution_count": 70,
   "metadata": {
    "colab": {
     "base_uri": "https://localhost:8080/"
    },
    "executionInfo": {
     "elapsed": 519,
     "status": "ok",
     "timestamp": 1620632254208,
     "user": {
      "displayName": "fabio alba",
      "photoUrl": "",
      "userId": "06675624622301434407"
     },
     "user_tz": -120
    },
    "id": "SxmOWS9cmTq6",
    "outputId": "fefeca2c-8717-4694-a0db-836e317e08cf"
   },
   "outputs": [
    {
     "name": "stdout",
     "output_type": "stream",
     "text": [
      "Number of active rockets: 98\n",
      "Number of retired rockets: 254\n",
      "Share of active rockets over total: 27.84%\n"
     ]
    }
   ],
   "source": [
    "## Creating rocket column\n",
    "\n",
    "\n",
    "rockets = df_clean[\"Detail\"].str.split(\"|\", expand=True)[0]\n",
    "df_clean.insert(4, \"Rocket\", rockets)  \n",
    "df_clean.head()\n",
    "\n",
    "\n",
    "active_rockets_df = df_clean[df_clean['Rocket_Status'] == \"StatusActive\"].groupby(\"Rocket\", as_index=False).agg({\"Date\": pd.Series.count})\n",
    "list_active_rockets = active_rockets_df[\"Rocket\"]\n",
    "n_active_rockets = active_rockets_df.shape[0]\n",
    "print(f\"Number of active rockets: {n_active_rockets}\")\n",
    "\n",
    "\n",
    "retired_rockets_df = df_clean[df_clean['Rocket_Status'] == \"StatusRetired\"].groupby(\"Rocket\", as_index=False).agg({\"Date\": pd.Series.count})\n",
    "list_retired_rockets = retired_rockets_df[\"Rocket\"] \n",
    "n_retired_rockets = retired_rockets_df.shape[0]\n",
    "print(f\"Number of retired rockets: {n_retired_rockets}\")\n",
    "\n",
    "\n",
    "tot_rocket_models = n_active_rockets + n_retired_rockets\n",
    "print(f\"Share of active rockets over total: {(n_active_rockets / tot_rocket_models)*100 :.2f}%\")\n"
   ]
  },
  {
   "cell_type": "markdown",
   "metadata": {
    "id": "y9WtP5xWkYkp"
   },
   "source": [
    "# Distribution of Mission Status\n",
    "\n",
    "How many missions were successful?\n",
    "How many missions failed?"
   ]
  },
  {
   "cell_type": "code",
   "execution_count": 71,
   "metadata": {
    "colab": {
     "base_uri": "https://localhost:8080/"
    },
    "executionInfo": {
     "elapsed": 762,
     "status": "ok",
     "timestamp": 1620632257909,
     "user": {
      "displayName": "fabio alba",
      "photoUrl": "",
      "userId": "06675624622301434407"
     },
     "user_tz": -120
    },
    "id": "83kY1alqmUhb",
    "outputId": "230d8071-7b1a-4b4f-bde2-492384ae74e0"
   },
   "outputs": [
    {
     "name": "stdout",
     "output_type": "stream",
     "text": [
      "Mission status: \n",
      "Success              3878\n",
      "Failure               339\n",
      "Partial Failure       102\n",
      "Prelaunch Failure       4\n",
      "Name: Mission_Status, dtype: int64\n"
     ]
    }
   ],
   "source": [
    "## Launch success and failure statistics\n",
    "\n",
    "print(f\"Mission status: \\n{df_clean['Mission_Status'].value_counts()}\")"
   ]
  },
  {
   "cell_type": "code",
   "execution_count": 72,
   "metadata": {
    "colab": {
     "base_uri": "https://localhost:8080/"
    },
    "executionInfo": {
     "elapsed": 969,
     "status": "ok",
     "timestamp": 1620632258127,
     "user": {
      "displayName": "fabio alba",
      "photoUrl": "",
      "userId": "06675624622301434407"
     },
     "user_tz": -120
    },
    "id": "bdmXcaopmUeZ",
    "outputId": "31a50aad-08ce-49d4-bc77-5117e6717e3a"
   },
   "outputs": [
    {
     "name": "stdout",
     "output_type": "stream",
     "text": [
      "Total number of mission failure: 445\n"
     ]
    }
   ],
   "source": [
    "# Total number of failures\n",
    "\n",
    "failure_df = df_clean[df_clean['Mission_Status'] != \"Success\"]\n",
    "n_failures = failure_df.shape[0] \n",
    "print(f\"Total number of mission failure: {n_failures}\")"
   ]
  },
  {
   "cell_type": "markdown",
   "metadata": {
    "id": "jgTCihuoa-qH",
    "papermill": {
     "duration": 0.03854,
     "end_time": "2020-10-20T21:34:05.968626",
     "exception": false,
     "start_time": "2020-10-20T21:34:05.930086",
     "status": "completed"
    },
    "tags": []
   },
   "source": [
    "# How Expensive are the Launches? \n",
    "\n",
    "Create a histogram and visualise the distribution. The price column is given in USD millions (careful of missing values). "
   ]
  },
  {
   "cell_type": "code",
   "execution_count": 73,
   "metadata": {
    "colab": {
     "base_uri": "https://localhost:8080/",
     "height": 649
    },
    "executionInfo": {
     "elapsed": 352,
     "status": "ok",
     "timestamp": 1620632260662,
     "user": {
      "displayName": "fabio alba",
      "photoUrl": "",
      "userId": "06675624622301434407"
     },
     "user_tz": -120
    },
    "id": "PLOMhzZFnSCO",
    "outputId": "4b89f601-e353-451c-8ff9-ce0419507898"
   },
   "outputs": [
    {
     "name": "stdout",
     "output_type": "stream",
     "text": [
      "Launches with unavailale price data: 3360\n",
      "Dataframe dimensions with available prices: (963, 8)\n"
     ]
    },
    {
     "name": "stderr",
     "output_type": "stream",
     "text": [
      "<ipython-input-73-4610fff63596>:11: SettingWithCopyWarning:\n",
      "\n",
      "\n",
      "A value is trying to be set on a copy of a slice from a DataFrame.\n",
      "Try using .loc[row_indexer,col_indexer] = value instead\n",
      "\n",
      "See the caveats in the documentation: https://pandas.pydata.org/pandas-docs/stable/user_guide/indexing.html#returning-a-view-versus-a-copy\n",
      "\n",
      "<ipython-input-73-4610fff63596>:12: SettingWithCopyWarning:\n",
      "\n",
      "\n",
      "A value is trying to be set on a copy of a slice from a DataFrame.\n",
      "Try using .loc[row_indexer,col_indexer] = value instead\n",
      "\n",
      "See the caveats in the documentation: https://pandas.pydata.org/pandas-docs/stable/user_guide/indexing.html#returning-a-view-versus-a-copy\n",
      "\n"
     ]
    },
    {
     "data": {
      "text/html": [
       "<div>\n",
       "<style scoped>\n",
       "    .dataframe tbody tr th:only-of-type {\n",
       "        vertical-align: middle;\n",
       "    }\n",
       "\n",
       "    .dataframe tbody tr th {\n",
       "        vertical-align: top;\n",
       "    }\n",
       "\n",
       "    .dataframe thead th {\n",
       "        text-align: right;\n",
       "    }\n",
       "</style>\n",
       "<table border=\"1\" class=\"dataframe\">\n",
       "  <thead>\n",
       "    <tr style=\"text-align: right;\">\n",
       "      <th></th>\n",
       "      <th>Organisation</th>\n",
       "      <th>Location</th>\n",
       "      <th>Date</th>\n",
       "      <th>Detail</th>\n",
       "      <th>Rocket</th>\n",
       "      <th>Rocket_Status</th>\n",
       "      <th>Price</th>\n",
       "      <th>Mission_Status</th>\n",
       "    </tr>\n",
       "  </thead>\n",
       "  <tbody>\n",
       "    <tr>\n",
       "      <th>0</th>\n",
       "      <td>SpaceX</td>\n",
       "      <td>LC-39A, Kennedy Space Center, Florida, USA</td>\n",
       "      <td>2020-08-07 05:12:00+00:00</td>\n",
       "      <td>Falcon 9 Block 5 | Starlink V1 L9 &amp; BlackSky</td>\n",
       "      <td>Falcon 9 Block 5</td>\n",
       "      <td>StatusActive</td>\n",
       "      <td>50.00</td>\n",
       "      <td>Success</td>\n",
       "    </tr>\n",
       "    <tr>\n",
       "      <th>1</th>\n",
       "      <td>CASC</td>\n",
       "      <td>Site 9401 (SLS-2), Jiuquan Satellite Launch Ce...</td>\n",
       "      <td>2020-08-06 04:01:00+00:00</td>\n",
       "      <td>Long March 2D | Gaofen-9 04 &amp; Q-SAT</td>\n",
       "      <td>Long March 2D</td>\n",
       "      <td>StatusActive</td>\n",
       "      <td>29.75</td>\n",
       "      <td>Success</td>\n",
       "    </tr>\n",
       "    <tr>\n",
       "      <th>3</th>\n",
       "      <td>Roscosmos</td>\n",
       "      <td>Site 200/39, Baikonur Cosmodrome, Kazakhstan</td>\n",
       "      <td>2020-07-30 21:25:00+00:00</td>\n",
       "      <td>Proton-M/Briz-M | Ekspress-80 &amp; Ekspress-103</td>\n",
       "      <td>Proton-M/Briz-M</td>\n",
       "      <td>StatusActive</td>\n",
       "      <td>65.00</td>\n",
       "      <td>Success</td>\n",
       "    </tr>\n",
       "    <tr>\n",
       "      <th>4</th>\n",
       "      <td>ULA</td>\n",
       "      <td>SLC-41, Cape Canaveral AFS, Florida, USA</td>\n",
       "      <td>2020-07-30 11:50:00+00:00</td>\n",
       "      <td>Atlas V 541 | Perseverance</td>\n",
       "      <td>Atlas V 541</td>\n",
       "      <td>StatusActive</td>\n",
       "      <td>145.00</td>\n",
       "      <td>Success</td>\n",
       "    </tr>\n",
       "    <tr>\n",
       "      <th>5</th>\n",
       "      <td>CASC</td>\n",
       "      <td>LC-9, Taiyuan Satellite Launch Center, China</td>\n",
       "      <td>2020-07-25 03:13:00+00:00</td>\n",
       "      <td>Long March 4B | Ziyuan-3 03, Apocalypse-10 &amp; N...</td>\n",
       "      <td>Long March 4B</td>\n",
       "      <td>StatusActive</td>\n",
       "      <td>64.68</td>\n",
       "      <td>Success</td>\n",
       "    </tr>\n",
       "  </tbody>\n",
       "</table>\n",
       "</div>"
      ],
      "text/plain": [
       "  Organisation                                           Location  \\\n",
       "0       SpaceX         LC-39A, Kennedy Space Center, Florida, USA   \n",
       "1         CASC  Site 9401 (SLS-2), Jiuquan Satellite Launch Ce...   \n",
       "3    Roscosmos       Site 200/39, Baikonur Cosmodrome, Kazakhstan   \n",
       "4          ULA           SLC-41, Cape Canaveral AFS, Florida, USA   \n",
       "5         CASC       LC-9, Taiyuan Satellite Launch Center, China   \n",
       "\n",
       "                       Date  \\\n",
       "0 2020-08-07 05:12:00+00:00   \n",
       "1 2020-08-06 04:01:00+00:00   \n",
       "3 2020-07-30 21:25:00+00:00   \n",
       "4 2020-07-30 11:50:00+00:00   \n",
       "5 2020-07-25 03:13:00+00:00   \n",
       "\n",
       "                                              Detail             Rocket  \\\n",
       "0       Falcon 9 Block 5 | Starlink V1 L9 & BlackSky  Falcon 9 Block 5    \n",
       "1                Long March 2D | Gaofen-9 04 & Q-SAT     Long March 2D    \n",
       "3       Proton-M/Briz-M | Ekspress-80 & Ekspress-103   Proton-M/Briz-M    \n",
       "4                         Atlas V 541 | Perseverance       Atlas V 541    \n",
       "5  Long March 4B | Ziyuan-3 03, Apocalypse-10 & N...     Long March 4B    \n",
       "\n",
       "  Rocket_Status  Price Mission_Status  \n",
       "0  StatusActive  50.00        Success  \n",
       "1  StatusActive  29.75        Success  \n",
       "3  StatusActive  65.00        Success  \n",
       "4  StatusActive 145.00        Success  \n",
       "5  StatusActive  64.68        Success  "
      ]
     },
     "execution_count": 73,
     "metadata": {},
     "output_type": "execute_result"
    }
   ],
   "source": [
    "## Missing prices\n",
    "\n",
    "price_nan = df_clean[\"Price\"].isna().value_counts()[1]\n",
    "print(f\"Launches with unavailale price data: {price_nan}\")\n",
    "\n",
    "\n",
    "df_price = df_clean.dropna()\n",
    "df_price.sample(10)\n",
    "\n",
    "# convert prices stings to integers \n",
    "df_price[\"Price\"] = df_price[\"Price\"].astype(str).str.replace(\",\", \"\") \n",
    "df_price[\"Price\"] = pd.to_numeric(df_price[\"Price\"])\n",
    "\n",
    "\n",
    "print(f\"Dataframe dimensions with available prices: {df_price.shape}\")\n",
    "\n",
    "df_price.head()"
   ]
  },
  {
   "cell_type": "code",
   "execution_count": 74,
   "metadata": {
    "colab": {
     "base_uri": "https://localhost:8080/",
     "height": 542
    },
    "executionInfo": {
     "elapsed": 602,
     "status": "ok",
     "timestamp": 1620632260922,
     "user": {
      "displayName": "fabio alba",
      "photoUrl": "",
      "userId": "06675624622301434407"
     },
     "user_tz": -120
    },
    "id": "ru0IcY4nnSFU",
    "outputId": "3d83991f-3312-4ccf-f8b7-f94f9c4434e0"
   },
   "outputs": [
    {
     "data": {
      "application/vnd.plotly.v1+json": {
       "config": {
        "plotlyServerURL": "https://plot.ly"
       },
       "data": [
        {
         "alignmentgroup": "True",
         "bingroup": "x",
         "histfunc": "sum",
         "hovertemplate": "Date=%{x}<br>sum of Price=%{y}<extra></extra>",
         "legendgroup": "",
         "marker": {
          "color": "#636efa",
          "pattern": {
           "shape": ""
          }
         },
         "name": "",
         "nbinsx": 100,
         "offsetgroup": "",
         "orientation": "v",
         "showlegend": false,
         "type": "histogram",
         "x": [
          "2020-08-07T05:12:00+00:00",
          "2020-08-06T04:01:00+00:00",
          "2020-07-30T21:25:00+00:00",
          "2020-07-30T11:50:00+00:00",
          "2020-07-25T03:13:00+00:00",
          "2020-07-23T14:26:00+00:00",
          "2020-07-20T21:30:00+00:00",
          "2020-07-19T21:58:00+00:00",
          "2020-07-15T13:46:00+00:00",
          "2020-07-10T04:17:00+00:00",
          "2020-07-09T12:11:00+00:00",
          "2020-07-04T23:44:00+00:00",
          "2020-07-04T21:19:00+00:00",
          "2020-07-03T03:10:00+00:00",
          "2020-06-30T20:10:00+00:00",
          "2020-06-23T01:43:00+00:00",
          "2020-06-17T07:19:00+00:00",
          "2020-06-13T09:21:00+00:00",
          "2020-06-13T05:12:00+00:00",
          "2020-06-10T18:31:00+00:00",
          "2020-06-04T01:25:00+00:00",
          "2020-05-31T08:53:00+00:00",
          "2020-05-30T19:22:00+00:00",
          "2020-05-29T20:13:00+00:00",
          "2020-05-25T19:50:00+00:00",
          "2020-05-20T17:31:00+00:00",
          "2020-05-17T13:14:00+00:00",
          "2020-04-25T01:51:00+00:00",
          "2020-04-22T19:30:00+00:00",
          "2020-04-09T11:46:00+00:00",
          "2020-04-09T08:05:00+00:00",
          "2020-03-26T20:18:00+00:00",
          "2020-03-24T03:43:00+00:00",
          "2020-03-21T17:06:00+00:00",
          "2020-03-18T12:16:00+00:00",
          "2020-03-09T11:55:00+00:00",
          "2020-03-07T04:50:00+00:00",
          "2020-02-20T08:24:00+00:00",
          "2020-02-19T21:07:00+00:00",
          "2020-02-18T22:18:00+00:00",
          "2020-02-17T15:05:00+00:00",
          "2020-02-15T20:21:00+00:00",
          "2020-02-10T04:03:00+00:00",
          "2020-02-09T01:34:00+00:00",
          "2020-02-06T21:42:00+00:00",
          "2020-01-31T02:56:00+00:00",
          "2020-01-29T14:06:00+00:00",
          "2020-01-19T15:30:00+00:00",
          "2020-01-16T21:05:00+00:00",
          "2020-01-15T02:53:00+00:00",
          "2020-01-07T15:20:00+00:00",
          "2020-01-07T02:19:00+00:00",
          "2019-12-26T23:11:00+00:00",
          "2019-12-24T12:03:00+00:00",
          "2019-12-20T03:22:00+00:00",
          "2019-12-17T00:10:00+00:00",
          "2019-12-11T09:55:00+00:00",
          "2019-12-11T08:54:00+00:00",
          "2019-12-06T09:34:00+00:00",
          "2019-12-06T08:18:00+00:00",
          "2019-12-05T17:29:00+00:00",
          "2019-11-27T23:52:00+00:00",
          "2019-11-27T03:58:00+00:00",
          "2019-11-26T21:23:00+00:00",
          "2019-11-11T14:56:00+00:00",
          "2019-11-04T17:43:00+00:00",
          "2019-11-03T03:22:00+00:00",
          "2019-11-02T13:59:00+00:00",
          "2019-10-17T15:21:00+00:00",
          "2019-10-17T01:22:00+00:00",
          "2019-10-11T01:59:00+00:00",
          "2019-10-09T10:17:00+00:00",
          "2019-10-04T18:51:00+00:00",
          "2019-09-26T07:46:00+00:00",
          "2019-09-25T00:54:00+00:00",
          "2019-09-24T16:05:00+00:00",
          "2019-09-19T06:42:00+00:00",
          "2019-09-12T03:26:00+00:00",
          "2019-08-30T14:00:00+00:00",
          "2019-08-22T13:06:00+00:00",
          "2019-08-22T03:38:00+00:00",
          "2019-08-19T12:12:00+00:00",
          "2019-08-19T12:03:00+00:00",
          "2019-08-17T04:11:00+00:00",
          "2019-08-08T10:13:00+00:00",
          "2019-08-06T23:23:00+00:00",
          "2019-08-06T19:30:00+00:00",
          "2019-08-05T21:56:00+00:00",
          "2019-07-31T12:10:00+00:00",
          "2019-07-30T05:56:00+00:00",
          "2019-07-26T03:57:00+00:00",
          "2019-07-25T22:01:00+00:00",
          "2019-07-22T09:13:00+00:00",
          "2019-07-13T12:31:00+00:00",
          "2019-07-11T01:53:00+00:00",
          "2019-06-29T04:30:00+00:00",
          "2019-06-25T06:30:00+00:00",
          "2019-06-24T18:09:00+00:00",
          "2019-06-20T21:43:00+00:00",
          "2019-06-12T14:17:00+00:00",
          "2019-06-05T04:06:00+00:00",
          "2019-05-30T17:42:00+00:00",
          "2019-05-24T02:30:00+00:00",
          "2019-05-22T22:55:00+00:00",
          "2019-05-22T00:00:00+00:00",
          "2019-05-05T06:00:00+00:00",
          "2019-05-04T06:48:00+00:00",
          "2019-04-29T22:52:00+00:00",
          "2019-04-20T14:30:00+00:00",
          "2019-04-17T20:46:00+00:00",
          "2019-04-11T22:35:00+00:00",
          "2019-04-04T11:01:00+00:00",
          "2019-04-01T03:57:00+00:00",
          "2019-03-31T15:51:00+00:00",
          "2019-03-28T23:27:00+00:00",
          "2019-03-22T01:50:00+00:00",
          "2019-03-09T16:28:00+00:00",
          "2019-03-02T07:49:00+00:00",
          "2019-02-22T01:45:00+00:00",
          "2019-02-05T21:01:00+00:00",
          "2019-01-21T05:42:00+00:00",
          "2019-01-19T19:10:00+00:00",
          "2019-01-18T00:50:00+00:00",
          "2019-01-11T15:31:00+00:00",
          "2019-01-10T17:11:00+00:00",
          "2018-12-27T02:07:00+00:00",
          "2018-12-23T13:51:00+00:00",
          "2018-12-21T23:51:00+00:00",
          "2018-12-21T00:20:00+00:00",
          "2018-12-19T10:40:00+00:00",
          "2018-12-16T06:33:00+00:00",
          "2018-12-07T18:23:00+00:00",
          "2018-12-07T04:12:00+00:00",
          "2018-12-05T18:16:00+00:00",
          "2018-12-04T20:37:00+00:00",
          "2018-12-03T18:34:00+00:00",
          "2018-11-30T02:27:00+00:00",
          "2018-11-29T04:27:00+00:00",
          "2018-11-21T01:42:00+00:00",
          "2018-11-19T23:40:00+00:00",
          "2018-11-17T09:01:00+00:00",
          "2018-11-15T20:46:00+00:00",
          "2018-11-14T11:38:00+00:00",
          "2018-11-11T03:50:00+00:00",
          "2018-11-03T20:17:00+00:00",
          "2018-11-01T15:57:00+00:00",
          "2018-10-29T04:08:00+00:00",
          "2018-10-29T00:47:00+00:00",
          "2018-10-25T00:15:00+00:00",
          "2018-10-24T22:57:00+00:00",
          "2018-10-20T01:45:00+00:00",
          "2018-10-17T04:15:00+00:00",
          "2018-10-09T02:43:00+00:00",
          "2018-10-08T02:21:00+00:00",
          "2018-09-25T22:38:00+00:00",
          "2018-09-22T17:52:00+00:00",
          "2018-09-16T16:38:00+00:00",
          "2018-09-10T04:45:00+00:00",
          "2018-09-07T03:15:00+00:00",
          "2018-08-22T21:20:00+00:00",
          "2018-08-12T07:31:00+00:00",
          "2018-08-07T05:18:00+00:00",
          "2018-07-31T03:00:00+00:00",
          "2018-07-25T11:39:00+00:00",
          "2018-07-22T05:50:00+00:00",
          "2018-07-09T21:51:00+00:00",
          "2018-07-09T20:50:00+00:00",
          "2018-07-09T03:56:00+00:00",
          "2018-06-29T09:42:00+00:00",
          "2018-06-27T03:30:00+00:00",
          "2018-06-12T04:20:00+00:00",
          "2018-06-05T13:07:00+00:00",
          "2018-06-04T04:29:00+00:00",
          "2018-06-02T04:13:00+00:00",
          "2018-05-22T19:47:00+00:00",
          "2018-05-21T04:44:00+00:00",
          "2018-05-20T21:28:00+00:00",
          "2018-05-11T20:14:00+00:00",
          "2018-05-08T18:28:00+00:00",
          "2018-05-05T11:05:00+00:00",
          "2018-05-03T16:05:00+00:00",
          "2018-04-26T04:42:00+00:00",
          "2018-04-25T17:57:00+00:00",
          "2018-04-18T22:51:00+00:00",
          "2018-04-18T22:12:00+00:00",
          "2018-04-14T23:13:00+00:00",
          "2018-04-11T22:34:00+00:00",
          "2018-04-10T04:25:00+00:00",
          "2018-04-05T21:34:00+00:00",
          "2018-04-02T20:30:00+00:00",
          "2018-03-31T03:22:00+00:00",
          "2018-03-30T14:14:00+00:00",
          "2018-03-29T11:26:00+00:00",
          "2018-03-17T07:10:00+00:00",
          "2018-03-06T05:33:00+00:00",
          "2018-03-01T22:02:00+00:00",
          "2018-02-27T04:34:00+00:00",
          "2018-02-22T14:17:00+00:00",
          "2018-02-13T08:13:00+00:00",
          "2018-02-06T20:45:00+00:00",
          "2018-02-02T07:50:00+00:00",
          "2018-02-01T02:07:00+00:00",
          "2018-01-31T21:25:00+00:00",
          "2018-01-25T22:20:00+00:00",
          "2018-01-25T05:39:00+00:00",
          "2018-01-21T01:43:00+00:00",
          "2018-01-20T00:48:00+00:00",
          "2018-01-19T04:12:00+00:00",
          "2018-01-17T21:06:00+00:00",
          "2018-01-13T07:20:00+00:00",
          "2018-01-12T03:58:00+00:00",
          "2018-01-09T03:24:00+00:00",
          "2018-01-08T01:00:00+00:00",
          "2017-12-25T19:44:00+00:00",
          "2017-12-23T04:14:00+00:00",
          "2017-12-23T01:27:00+00:00",
          "2017-12-23T01:26:00+00:00",
          "2017-12-15T15:36:00+00:00",
          "2017-12-10T16:41:00+00:00",
          "2017-12-03T04:11:00+00:00",
          "2017-12-02T10:43:00+00:00",
          "2017-11-24T18:10:00+00:00",
          "2017-11-14T18:35:00+00:00",
          "2017-11-12T12:19:00+00:00",
          "2017-11-08T01:42:00+00:00",
          "2017-10-31T21:37:00+00:00",
          "2017-10-30T19:34:00+00:00",
          "2017-10-15T07:28:00+00:00",
          "2017-10-14T08:46:00+00:00",
          "2017-10-13T09:27:00+00:00",
          "2017-10-11T22:53:00+00:00",
          "2017-10-09T22:01:00+00:00",
          "2017-10-09T12:37:00+00:00",
          "2017-10-09T04:13:00+00:00",
          "2017-09-29T21:56:00+00:00",
          "2017-09-29T04:21:00+00:00",
          "2017-09-28T18:52:00+00:00",
          "2017-09-24T05:49:00+00:00",
          "2017-09-11T19:23:00+00:00",
          "2017-09-07T14:00:00+00:00",
          "2017-08-31T13:30:00+00:00",
          "2017-08-25T06:04:00+00:00",
          "2017-08-24T18:51:00+00:00",
          "2017-08-18T12:29:00+00:00",
          "2017-08-16T22:07:00+00:00",
          "2017-08-14T16:31:00+00:00",
          "2017-08-02T01:58:00+00:00",
          "2017-07-14T06:36:00+00:00",
          "2017-07-05T20:25:00+00:00",
          "2017-06-28T21:15:00+00:00",
          "2017-06-25T20:25:00+00:00",
          "2017-06-23T19:10:00+00:00",
          "2017-06-23T03:59:00+00:00",
          "2017-06-18T16:12:00+00:00",
          "2017-06-15T03:15:00+00:00",
          "2017-06-14T09:20:00+00:00",
          "2017-06-08T03:45:00+00:00",
          "2017-06-05T11:58:00+00:00",
          "2017-06-03T21:07:00+00:00",
          "2017-06-01T23:45:00+00:00",
          "2017-06-01T00:17:00+00:00",
          "2017-05-25T04:20:00+00:00",
          "2017-05-15T23:21:00+00:00",
          "2017-05-05T11:27:00+00:00",
          "2017-05-04T21:50:00+00:00",
          "2017-05-01T11:15:00+00:00",
          "2017-04-18T15:11:00+00:00",
          "2017-04-12T11:04:00+00:00",
          "2017-03-30T22:27:00+00:00",
          "2017-03-17T01:20:00+00:00",
          "2017-03-16T06:00:00+00:00",
          "2017-03-07T01:49:00+00:00",
          "2017-03-01T17:49:00+00:00",
          "2017-02-19T14:39:00+00:00",
          "2017-02-15T03:58:00+00:00",
          "2017-02-14T21:39:00+00:00",
          "2017-01-21T00:42:00+00:00",
          "2017-01-14T17:54:00+00:00",
          "2017-01-05T15:18:00+00:00",
          "2016-12-28T03:23:00+00:00",
          "2016-12-21T20:30:00+00:00",
          "2016-12-21T19:22:00+00:00",
          "2016-12-18T19:13:00+00:00",
          "2016-12-15T13:37:00+00:00",
          "2016-12-10T16:11:00+00:00",
          "2016-12-09T13:26:00+00:00",
          "2016-12-07T04:54:00+00:00",
          "2016-12-05T13:51:00+00:00",
          "2016-11-19T23:42:00+00:00",
          "2016-11-11T23:14:00+00:00",
          "2016-11-11T18:30:00+00:00",
          "2016-11-09T23:42:00+00:00",
          "2016-11-02T06:20:00+00:00",
          "2016-10-17T23:45:00+00:00",
          "2016-10-05T20:30:00+00:00",
          "2016-09-26T03:42:00+00:00",
          "2016-09-16T01:43:00+00:00",
          "2016-09-08T23:05:00+00:00",
          "2016-09-08T11:20:00+00:00",
          "2016-09-01T13:07:00+00:00",
          "2016-08-31T18:50:00+00:00",
          "2016-08-24T22:16:00+00:00",
          "2016-08-19T04:52:00+00:00",
          "2016-08-15T17:40:00+00:00",
          "2016-08-14T05:26:00+00:00",
          "2016-08-09T22:55:00+00:00",
          "2016-08-05T16:22:00+00:00",
          "2016-07-28T12:37:00+00:00",
          "2016-07-18T04:45:00+00:00",
          "2016-06-29T03:21:00+00:00",
          "2016-06-24T14:30:00+00:00",
          "2016-06-22T03:56:00+00:00",
          "2016-06-18T05:20:00+00:00",
          "2016-06-15T14:29:00+00:00",
          "2016-06-11T17:51:00+00:00",
          "2016-06-09T07:10:00+00:00",
          "2016-06-04T14:00:00+00:00",
          "2016-05-30T03:17:00+00:00",
          "2016-05-29T08:44:00+00:00",
          "2016-05-27T21:39:00+00:00",
          "2016-05-15T02:43:00+00:00",
          "2016-05-06T05:21:00+00:00",
          "2016-04-28T07:20:00+00:00",
          "2016-04-08T20:43:00+00:00",
          "2016-04-05T17:38:00+00:00",
          "2016-03-31T16:23:00+00:00",
          "2016-03-29T20:11:00+00:00",
          "2016-03-24T09:42:00+00:00",
          "2016-03-23T03:05:00+00:00",
          "2016-03-14T09:31:00+00:00",
          "2016-03-13T18:56:00+00:00",
          "2016-03-10T10:31:00+00:00",
          "2016-03-09T05:20:00+00:00",
          "2016-03-04T23:35:00+00:00",
          "2016-02-17T08:45:00+00:00",
          "2016-02-16T17:57:00+00:00",
          "2016-02-07T00:21:00+00:00",
          "2016-02-05T13:38:00+00:00",
          "2016-01-29T22:20:00+00:00",
          "2016-01-27T23:20:00+00:00",
          "2016-01-20T04:01:00+00:00",
          "2016-01-17T18:42:00+00:00",
          "2016-01-15T16:57:00+00:00",
          "2015-12-22T01:29:00+00:00",
          "2015-12-16T12:30:00+00:00",
          "2015-12-06T21:44:00+00:00",
          "2015-12-03T04:04:00+00:00",
          "2015-11-10T21:34:00+00:00",
          "2015-11-04T00:00:00+00:00",
          "2015-10-31T16:13:00+00:00",
          "2015-10-08T12:49:00+00:00",
          "2015-10-02T10:28:00+00:00",
          "2015-09-30T20:30:00+00:00",
          "2015-09-28T04:30:00+00:00",
          "2015-09-25T00:00:00+00:00",
          "2015-09-23T21:59:00+00:00",
          "2015-09-02T10:18:00+00:00",
          "2015-08-27T11:22:00+00:00",
          "2015-08-20T20:34:00+00:00",
          "2015-08-19T11:50:00+00:00",
          "2015-07-15T21:42:00+00:00",
          "2015-07-15T15:36:00+00:00",
          "2015-07-10T16:28:00+00:00",
          "2015-06-28T14:21:00+00:00",
          "2015-06-23T01:51:00+00:00",
          "2015-05-27T21:16:00+00:00",
          "2015-05-20T15:05:00+00:00",
          "2015-04-27T23:03:00+00:00",
          "2015-04-26T20:00:00+00:00",
          "2015-04-15T20:10:00+00:00",
          "2015-03-31T13:47:00+00:00",
          "2015-03-28T11:49:00+00:00",
          "2015-03-26T01:21:00+00:00",
          "2015-03-25T22:08:00+00:00",
          "2015-03-25T18:36:00+00:00",
          "2015-03-13T02:44:00+00:00",
          "2015-03-02T03:50:00+00:00",
          "2015-02-11T23:03:00+00:00",
          "2015-02-11T13:40:00+00:00",
          "2015-02-01T01:21:00+00:00",
          "2015-01-21T01:04:00+00:00",
          "2015-01-10T09:47:00+00:00",
          "2014-12-18T04:00:00+00:00",
          "2014-12-13T03:19:00+00:00",
          "2014-12-06T20:40:00+00:00",
          "2014-12-05T12:05:00+00:00",
          "2014-12-03T04:22:00+00:00",
          "2014-11-06T07:35:00+00:00",
          "2014-10-29T17:21:00+00:00",
          "2014-10-28T22:22:00+00:00",
          "2014-10-16T21:43:00+00:00",
          "2014-10-16T20:02:00+00:00",
          "2014-10-07T05:16:00+00:00",
          "2014-09-21T05:52:00+00:00",
          "2014-09-17T00:10:00+00:00",
          "2014-09-11T22:05:00+00:00",
          "2014-09-07T05:00:00+00:00",
          "2014-08-13T18:30:00+00:00",
          "2014-08-05T08:00:00+00:00",
          "2014-08-02T03:23:00+00:00",
          "2014-07-28T23:28:00+00:00",
          "2014-07-14T15:15:00+00:00",
          "2014-07-13T16:52:00+00:00",
          "2014-07-03T12:43:00+00:00",
          "2014-06-30T04:22:00+00:00",
          "2014-06-19T19:11:00+00:00",
          "2014-05-24T03:05:00+00:00",
          "2014-05-23T05:27:00+00:00",
          "2014-05-22T13:09:00+00:00",
          "2014-05-17T00:03:00+00:00",
          "2014-04-30T01:35:00+00:00",
          "2014-04-18T19:25:00+00:00",
          "2014-04-10T17:45:00+00:00",
          "2014-04-04T11:44:00+00:00",
          "2014-04-03T14:46:00+00:00",
          "2014-03-22T22:04:00+00:00",
          "2014-02-27T18:37:00+00:00",
          "2014-02-21T01:59:00+00:00",
          "2014-02-06T21:30:00+00:00",
          "2014-01-24T02:33:00+00:00",
          "2014-01-09T18:07:00+00:00",
          "2014-01-06T22:06:00+00:00",
          "2014-01-05T10:48:00+00:00",
          "2013-12-25T00:31:00+00:00",
          "2013-12-06T07:14:00+00:00",
          "2013-12-03T22:41:00+00:00",
          "2013-11-22T12:02:00+00:00",
          "2013-11-21T07:10:00+00:00",
          "2013-11-20T01:15:00+00:00",
          "2013-11-18T18:28:00+00:00",
          "2013-11-05T09:08:00+00:00",
          "2013-09-29T16:00:00+00:00",
          "2013-09-18T08:10:00+00:00",
          "2013-09-13T14:58:00+00:00",
          "2013-09-11T23:23:00+00:00",
          "2013-09-07T03:27:00+00:00",
          "2013-08-29T20:30:00+00:00",
          "2013-08-28T18:03:00+00:00",
          "2013-08-22T14:39:00+00:00",
          "2013-08-03T19:48:00+00:00",
          "2013-07-25T19:54:00+00:00",
          "2013-07-19T13:00:00+00:00",
          "2013-07-02T02:38:00+00:00",
          "2013-07-01T18:11:00+00:00",
          "2013-06-28T02:27:00+00:00",
          "2013-05-15T21:38:00+00:00",
          "2013-05-07T02:06:00+00:00",
          "2013-04-21T21:00:00+00:00",
          "2013-03-19T21:21:00+00:00",
          "2013-03-01T15:10:00+00:00",
          "2013-02-25T12:31:00+00:00",
          "2013-02-11T18:02:00+00:00",
          "2013-02-07T21:36:00+00:00",
          "2013-01-31T01:48:00+00:00",
          "2013-01-27T04:40:00+00:00",
          "2013-01-15T16:24:00+00:00",
          "2012-12-19T21:49:00+00:00",
          "2012-12-11T18:03:00+00:00",
          "2012-12-02T02:02:00+00:00",
          "2012-11-10T21:05:00+00:00",
          "2012-10-08T00:35:00+00:00",
          "2012-10-04T12:10:00+00:00",
          "2012-09-28T21:18:00+00:00",
          "2012-09-13T21:39:00+00:00",
          "2012-09-09T04:23:00+00:00",
          "2012-08-30T08:05:00+00:00",
          "2012-08-02T20:54:00+00:00",
          "2012-07-28T01:35:00+00:00",
          "2012-07-21T02:06:00+00:00",
          "2012-07-05T21:36:00+00:00",
          "2012-06-29T13:15:00+00:00",
          "2012-06-20T12:28:00+00:00",
          "2012-06-13T16:00:00+00:00",
          "2012-05-22T07:44:00+00:00",
          "2012-05-17T16:39:00+00:00",
          "2012-05-15T22:13:00+00:00",
          "2012-05-04T18:42:00+00:00",
          "2012-04-26T00:17:00+00:00",
          "2012-04-26T00:00:00+00:00",
          "2012-02-24T22:15:00+00:00",
          "2012-02-13T10:00:00+00:00",
          "2011-12-17T02:03:00+00:00",
          "2011-12-12T01:21:00+00:00",
          "2011-11-26T15:02:00+00:00",
          "2011-10-12T05:31:00+00:00",
          "2011-09-27T15:49:00+00:00",
          "2011-09-23T04:36:00+00:00",
          "2011-09-21T21:38:00+00:00",
          "2011-09-11T11:17:00+00:00",
          "2011-08-17T07:12:00+00:00",
          "2011-08-06T22:52:00+00:00",
          "2011-08-05T16:25:00+00:00",
          "2011-07-16T06:41:00+00:00",
          "2011-07-15T11:18:00+00:00",
          "2011-07-08T15:29:00+00:00",
          "2011-06-30T03:09:00+00:00",
          "2011-05-20T20:38:00+00:00",
          "2011-05-16T12:56:00+00:00",
          "2011-05-07T18:10:00+00:00",
          "2011-04-22T21:37:00+00:00",
          "2011-04-20T04:42:00+00:00",
          "2011-04-15T04:24:00+00:00",
          "2011-03-11T22:38:00+00:00",
          "2011-03-05T22:46:00+00:00",
          "2011-03-04T10:09:00+00:00",
          "2011-02-24T21:53:00+00:00",
          "2011-02-06T12:26:00+00:00",
          "2011-02-01T14:00:00+00:00",
          "2011-01-22T05:37:00+00:00",
          "2011-01-20T21:10:00+00:00",
          "2010-12-29T21:27:00+00:00",
          "2010-12-25T10:34:00+00:00",
          "2010-12-08T15:43:00+00:00",
          "2010-11-26T18:39:00+00:00",
          "2010-11-21T22:58:00+00:00",
          "2010-11-20T01:25:00+00:00",
          "2010-10-28T23:51:00+00:00",
          "2010-09-26T04:41:00+00:00",
          "2010-09-21T04:03:00+00:00",
          "2010-09-08T03:30:00+00:00",
          "2010-08-14T11:07:00+00:00",
          "2010-08-04T20:45:00+00:00",
          "2010-07-12T03:52:00+00:00",
          "2010-06-26T21:41:00+00:00",
          "2010-06-21T02:14:00+00:00",
          "2010-06-15T14:42:00+00:00",
          "2010-06-04T18:45:00+00:00",
          "2010-06-02T01:59:00+00:00",
          "2010-05-28T03:00:00+00:00",
          "2010-05-21T22:01:00+00:00",
          "2010-05-14T18:20:00+00:00",
          "2010-05-10T21:58:00+00:00",
          "2010-04-22T23:52:00+00:00",
          "2010-04-15T10:57:00+00:00",
          "2010-04-08T13:57:00+00:00",
          "2010-04-05T10:21:00+00:00",
          "2010-03-04T23:57:00+00:00",
          "2010-02-11T15:23:00+00:00",
          "2010-02-08T09:14:00+00:00",
          "2009-11-28T01:21:00+00:00",
          "2009-11-23T06:55:00+00:00",
          "2009-11-16T19:28:00+00:00",
          "2009-11-02T01:50:00+00:00",
          "2009-10-29T20:00:00+00:00",
          "2009-10-28T15:30:00+00:00",
          "2009-10-18T16:12:00+00:00",
          "2009-10-01T21:59:00+00:00",
          "2009-09-23T06:21:00+00:00",
          "2009-09-10T17:01:00+00:00",
          "2009-09-08T21:35:00+00:00",
          "2009-08-28T03:59:00+00:00",
          "2009-08-21T22:09:00+00:00",
          "2009-07-29T18:46:00+00:00",
          "2009-07-15T22:03:00+00:00",
          "2009-07-14T03:35:00+00:00",
          "2009-07-06T01:26:00+00:00",
          "2009-07-01T19:52:00+00:00",
          "2009-06-27T22:51:00+00:00",
          "2009-06-18T17:32:00+00:00",
          "2009-05-19T23:55:00+00:00",
          "2009-05-14T13:12:00+00:00",
          "2009-05-11T18:01:00+00:00",
          "2009-04-20T01:15:00+00:00",
          "2009-04-04T00:31:00+00:00",
          "2009-03-17T14:21:00+00:00",
          "2009-03-15T23:43:00+00:00",
          "2009-02-24T09:55:00+00:00",
          "2009-02-12T22:09:00+00:00",
          "2009-01-23T03:54:00+00:00",
          "2009-01-18T02:47:00+00:00",
          "2008-12-20T22:35:00+00:00",
          "2008-11-15T00:55:00+00:00",
          "2008-11-05T00:15:00+00:00",
          "2008-10-29T16:53:00+00:00",
          "2008-10-25T01:15:00+00:00",
          "2008-10-22T00:52:00+00:00",
          "2008-10-19T17:47:00+00:00",
          "2008-10-01T06:37:00+00:00",
          "2008-09-28T23:15:00+00:00",
          "2008-08-29T07:15:00+00:00",
          "2008-08-14T20:44:00+00:00",
          "2008-08-03T03:34:00+00:00",
          "2008-07-07T21:47:00+00:00",
          "2008-06-12T22:05:00+00:00",
          "2008-05-31T21:02:00+00:00",
          "2008-05-27T03:02:00+00:00",
          "2008-05-23T15:20:00+00:00",
          "2008-04-28T03:53:00+00:00",
          "2008-04-25T15:35:00+00:00",
          "2008-04-18T22:17:00+00:00",
          "2008-04-15T17:01:00+00:00",
          "2008-04-14T20:12:00+00:00",
          "2008-03-13T10:02:00+00:00",
          "2008-03-11T06:28:00+00:00",
          "2008-02-23T08:55:00+00:00",
          "2008-02-07T19:45:00+00:00",
          "2008-01-21T03:45:00+00:00",
          "2007-12-10T22:05:00+00:00",
          "2007-11-14T22:03:00+00:00",
          "2007-11-11T22:48:00+00:00",
          "2007-11-11T01:50:00+00:00",
          "2007-10-23T03:38:00+00:00",
          "2007-10-11T00:22:00+00:00",
          "2007-09-19T03:26:00+00:00",
          "2007-09-02T12:51:00+00:00",
          "2007-08-14T23:44:00+00:00",
          "2007-08-08T22:36:00+00:00",
          "2007-06-28T15:02:00+00:00",
          "2007-06-15T15:11:00+00:00",
          "2007-06-15T02:14:00+00:00",
          "2007-06-08T23:38:00+00:00",
          "2007-05-31T16:08:00+00:00",
          "2007-05-25T07:12:00+00:00",
          "2007-05-13T16:01:00+00:00",
          "2007-05-04T22:29:00+00:00",
          "2007-04-25T20:26:00+00:00",
          "2007-04-24T06:48:00+00:00",
          "2007-04-23T10:00:00+00:00",
          "2007-04-17T06:46:00+00:00",
          "2007-04-13T20:11:00+00:00",
          "2007-04-11T03:27:00+00:00",
          "2007-03-21T01:10:00+00:00",
          "2007-03-11T22:03:00+00:00",
          "2007-03-09T03:10:00+00:00",
          "2007-02-02T16:28:00+00:00",
          "2007-01-10T03:54:00+00:00",
          "2006-12-16T12:00:00+00:00",
          "2006-12-10T00:47:00+00:00",
          "2006-12-08T22:08:00+00:00",
          "2006-12-08T00:53:00+00:00",
          "2006-11-04T13:53:00+00:00",
          "2006-10-23T23:34:00+00:00",
          "2006-10-13T20:56:00+00:00",
          "2006-09-12T16:02:00+00:00",
          "2006-09-11T04:35:00+00:00",
          "2006-09-09T15:14:00+00:00",
          "2006-09-09T07:00:00+00:00",
          "2006-08-11T22:15:00+00:00",
          "2006-07-28T07:05:00+00:00",
          "2006-07-26T19:43:00+00:00",
          "2006-07-12T14:53:00+00:00",
          "2006-07-10T12:08:00+00:00",
          "2006-07-04T18:37:00+00:00",
          "2006-06-28T03:33:00+00:00",
          "2006-05-27T21:09:00+00:00",
          "2006-05-24T22:11:00+00:00",
          "2006-04-26T22:48:00+00:00",
          "2006-04-20T20:27:00+00:00",
          "2006-04-15T01:40:00+00:00",
          "2006-03-28T20:10:00+00:00",
          "2006-03-24T21:30:00+00:00",
          "2006-03-11T22:33:00+00:00",
          "2006-01-19T19:00:00+00:00",
          "2005-11-16T23:46:00+00:00",
          "2005-10-08T15:02:00+00:00",
          "2005-09-22T19:24:00+00:00",
          "2005-08-29T08:45:00+00:00",
          "2005-08-26T18:34:00+00:00",
          "2005-08-23T21:09:00+00:00",
          "2005-08-12T11:43:00+00:00",
          "2005-08-02T07:30:00+00:00",
          "2005-07-26T14:39:00+00:00",
          "2005-07-05T22:40:00+00:00",
          "2005-05-05T04:45:00+00:00",
          "2005-04-15T17:27:00+00:00",
          "2005-04-11T13:35:00+00:00",
          "2005-03-11T21:42:00+00:00",
          "2005-02-12T21:03:00+00:00",
          "2004-12-21T21:50:00+00:00",
          "2004-12-18T16:26:00+00:00",
          "2004-12-17T12:07:00+00:00",
          "2004-11-18T10:45:00+00:00",
          "2004-11-08T18:29:00+00:00",
          "2004-11-06T03:10:00+00:00",
          "2004-10-19T01:20:00+00:00",
          "2004-09-27T08:00:00+00:00",
          "2004-09-20T10:31:00+00:00",
          "2004-09-08T23:14:00+00:00",
          "2004-08-29T07:50:00+00:00",
          "2004-07-25T07:05:00+00:00",
          "2004-07-18T00:44:00+00:00",
          "2004-06-29T06:30:00+00:00",
          "2004-05-20T17:47:00+00:00",
          "2004-04-18T15:59:00+00:00",
          "2004-03-02T07:17:00+00:00",
          "2003-12-29T19:06:00+00:00",
          "2003-11-14T16:01:00+00:00",
          "2003-11-03T07:20:00+00:00",
          "2003-10-30T13:43:00+00:00",
          "2003-10-21T03:16:00+00:00",
          "2003-10-18T16:17:00+00:00",
          "2003-10-17T04:52:00+00:00",
          "2003-08-29T23:13:00+00:00",
          "2003-08-13T02:09:00+00:00",
          "2003-07-17T23:45:00+00:00",
          "2003-06-30T14:15:00+00:00",
          "2003-06-26T18:55:00+00:00",
          "2003-05-24T16:34:00+00:00",
          "2003-05-13T22:10:00+00:00",
          "2003-05-08T11:28:00+00:00",
          "2003-04-28T12:00:00+00:00",
          "2003-03-11T00:59:00+00:00",
          "2003-01-25T20:13:00+00:00",
          "2003-01-16T15:39:00+00:00",
          "2003-01-06T14:19:00+00:00",
          "2002-12-20T00:00:00+00:00",
          "2002-12-14T01:31:00+00:00",
          "2002-12-11T22:22:00+00:00",
          "2002-11-24T00:49:00+00:00",
          "2002-11-20T22:39:00+00:00",
          "2002-10-27T03:17:00+00:00",
          "2002-10-07T19:45:00+00:00",
          "2002-09-12T10:23:00+00:00",
          "2002-08-21T22:05:00+00:00",
          "2002-06-24T18:23:00+00:00",
          "2002-06-20T09:33:00+00:00",
          "2002-06-05T21:22:00+00:00",
          "2002-05-15T01:50:00+00:00",
          "2002-04-08T20:44:00+00:00",
          "2002-03-17T09:21:00+00:00",
          "2002-03-01T11:22:00+00:00",
          "2002-02-05T20:58:00+00:00",
          "2001-12-05T22:19:00+00:00",
          "2001-10-22T10:23:00+00:00",
          "2001-09-21T18:49:00+00:00",
          "2001-08-29T07:00:00+00:00",
          "2001-08-10T21:10:00+00:00",
          "2001-07-12T09:03:00+00:00",
          "2001-04-19T18:40:00+00:00",
          "2001-04-18T10:13:00+00:00",
          "2001-03-08T11:42:00+00:00",
          "2001-02-07T23:13:00+00:00",
          "2000-12-20T16:20:00+00:00",
          "2000-11-30T03:06:00+00:00",
          "2000-10-30T16:02:00+00:00",
          "2000-10-11T23:17:00+00:00",
          "2000-10-09T05:38:00+00:00",
          "2000-09-26T10:05:00+00:00",
          "2000-09-21T10:22:00+00:00",
          "2000-09-08T12:45:00+00:00",
          "2000-07-19T20:09:00+00:00",
          "2000-06-07T13:19:00+00:00",
          "2000-05-19T10:11:00+00:00",
          "2000-05-16T08:27:00+00:00",
          "2000-03-12T09:29:00+00:00",
          "2000-02-11T16:43:00+00:00",
          "2000-01-27T03:03:00+00:00",
          "2000-01-25T16:45:00+00:00",
          "1999-12-31T07:13:00+00:00",
          "1999-12-20T00:50:00+00:00",
          "1999-12-12T17:36:00+00:00",
          "1999-12-04T18:53:00+00:00",
          "1999-10-14T03:15:00+00:00",
          "1999-07-23T04:31:00+00:00",
          "1999-06-20T02:15:00+00:00",
          "1999-06-11T17:15:00+00:00",
          "1999-05-29T11:52:00+00:00",
          "1999-05-27T10:49:00+00:00",
          "1999-05-18T05:09:00+00:00",
          "1999-05-10T01:33:00+00:00",
          "1999-04-21T00:00:00+00:00",
          "1999-03-05T02:56:00+00:00",
          "1998-12-19T11:39:00+00:00",
          "1998-12-06T00:57:00+00:00",
          "1998-12-04T08:35:00+00:00",
          "1998-10-29T19:19:00+00:00",
          "1998-10-22T00:02:00+00:00",
          "1998-10-03T10:04:00+00:00",
          "1998-09-23T05:06:00+00:00",
          "1998-08-19T23:01:00+00:00",
          "1998-08-02T16:24:00+00:00",
          "1998-06-02T22:06:00+00:00",
          "1998-05-13T15:52:00+00:00",
          "1998-05-02T09:16:00+00:00",
          "1998-04-17T18:19:00+00:00",
          "1998-04-02T16:24:00+00:00",
          "1998-03-25T17:01:00+00:00",
          "1998-02-26T07:07:00+00:00",
          "1998-02-10T13:20:00+00:00",
          "1998-01-22T02:48:00+00:00",
          "1997-12-23T19:11:00+00:00",
          "1997-12-08T07:16:00+00:00",
          "1997-11-19T19:46:00+00:00",
          "1997-10-22T13:13:00+00:00",
          "1997-09-29T10:20:00+00:00",
          "1997-09-25T14:34:00+00:00",
          "1997-09-01T14:00:00+00:00",
          "1997-08-29T15:02:00+00:00",
          "1997-08-07T14:41:00+00:00",
          "1997-08-01T20:20:00+00:00",
          "1997-07-01T18:02:00+00:00",
          "1997-05-15T08:07:00+00:00",
          "1997-05-11T16:17:00+00:00",
          "1997-04-21T11:59:00+00:00",
          "1997-04-04T19:20:00+00:00",
          "1997-04-04T16:47:00+00:00",
          "1997-02-11T08:55:00+00:00",
          "1997-01-12T09:27:00+00:00",
          "1996-12-07T11:49:00+00:00",
          "1996-11-04T17:08:00+00:00",
          "1996-10-20T07:20:00+00:00",
          "1996-09-16T08:54:00+00:00",
          "1996-08-21T09:47:00+00:00",
          "1996-07-02T07:48:00+00:00",
          "1996-06-20T14:49:00+00:00",
          "1996-05-19T10:30:00+00:00",
          "1996-05-17T02:44:00+00:00",
          "1996-03-22T08:13:00+00:00",
          "1996-03-21T04:53:00+00:00",
          "1996-03-09T01:53:00+00:00",
          "1996-02-22T20:18:00+00:00",
          "1996-01-11T09:41:00+00:00",
          "1995-11-12T12:30:00+00:00",
          "1995-10-23T22:03:00+00:00",
          "1995-10-20T13:53:00+00:00",
          "1995-09-07T15:09:00+00:00",
          "1995-07-13T13:41:00+00:00",
          "1995-06-27T19:32:00+00:00",
          "1995-06-22T19:58:00+00:00",
          "1995-04-03T13:48:00+00:00",
          "1995-03-02T06:38:00+00:00",
          "1995-02-03T05:22:00+00:00",
          "1994-11-29T17:02:00+00:00",
          "1994-11-03T16:59:00+00:00",
          "1994-10-15T05:05:00+00:00",
          "1994-09-30T11:16:00+00:00",
          "1994-09-09T22:22:00+00:00",
          "1994-09-03T14:38:00+00:00",
          "1994-07-08T04:43:00+00:00",
          "1994-07-03T08:00:00+00:00",
          "1994-06-27T21:15:00+00:00",
          "1994-05-19T17:03:00+00:00",
          "1994-04-09T11:05:00+00:00",
          "1994-03-13T22:32:00+00:00",
          "1994-03-04T13:53:00+00:00",
          "1994-02-08T08:34:00+00:00",
          "1994-02-03T12:10:00+00:00",
          "1994-01-25T16:34:00+00:00",
          "1993-12-02T09:27:00+00:00",
          "1993-10-18T14:53:00+00:00",
          "1993-10-08T08:00:00+00:00",
          "1993-10-05T17:56:00+00:00",
          "1993-09-20T05:12:00+00:00",
          "1993-09-12T11:45:00+00:00",
          "1993-06-21T13:07:00+00:00",
          "1993-04-26T14:50:00+00:00",
          "1993-04-25T13:56:00+00:00",
          "1993-04-08T05:29:00+00:00",
          "1993-02-09T14:30:00+00:00",
          "1993-01-13T13:59:00+00:00",
          "1992-12-02T13:24:00+00:00",
          "1992-10-22T17:09:00+00:00",
          "1992-10-06T06:20:00+00:00",
          "1992-09-25T17:05:00+00:00",
          "1992-09-12T14:23:00+00:00",
          "1992-08-09T08:00:00+00:00",
          "1992-07-31T13:56:00+00:00",
          "1992-06-25T16:12:00+00:00",
          "1992-05-07T23:40:00+00:00",
          "1992-04-25T08:53:00+00:00",
          "1992-03-24T13:13:00+00:00",
          "1992-01-22T14:52:00+00:00",
          "1991-11-24T23:44:00+00:00",
          "1991-09-12T23:11:00+00:00",
          "1991-08-02T15:02:00+00:00",
          "1991-07-21T17:33:00+00:00",
          "1991-06-05T13:24:00+00:00",
          "1991-04-28T11:33:00+00:00",
          "1991-04-05T14:22:00+00:00",
          "1990-12-02T06:49:00+00:00",
          "1990-11-15T23:48:00+00:00",
          "1990-10-06T11:47:00+00:00",
          "1990-10-05T06:14:00+00:00",
          "1990-06-23T11:19:00+00:00",
          "1990-04-24T12:33:00+00:00",
          "1990-04-05T19:10:00+00:00",
          "1990-03-14T11:52:00+00:00",
          "1990-02-28T07:50:00+00:00",
          "1990-01-09T12:35:00+00:00",
          "1990-01-01T00:07:00+00:00",
          "1989-11-23T00:23:00+00:00",
          "1989-10-18T16:53:00+00:00",
          "1989-09-06T01:48:00+00:00",
          "1989-08-08T12:37:00+00:00",
          "1989-05-04T18:46:00+00:00",
          "1989-03-13T14:57:00+00:00",
          "1988-12-02T14:30:00+00:00",
          "1988-11-15T03:00:00+00:00",
          "1988-09-29T15:37:00+00:00",
          "1988-09-05T09:25:00+00:00",
          "1988-08-05T07:29:00+00:00",
          "1987-09-09T07:15:00+00:00",
          "1987-08-05T06:39:00+00:00",
          "1987-05-15T17:30:00+00:00",
          "1986-10-06T05:40:00+00:00",
          "1986-01-28T16:38:00+00:00",
          "1986-01-12T11:55:00+00:00",
          "1985-11-27T00:29:00+00:00",
          "1985-11-06T17:00:00+00:00",
          "1985-10-21T05:04:00+00:00",
          "1985-10-03T15:15:00+00:00",
          "1985-08-27T10:58:00+00:00",
          "1985-07-25T21:00:00+00:00",
          "1985-06-17T11:33:00+00:00",
          "1985-05-06T16:02:00+00:00",
          "1985-04-12T13:59:00+00:00",
          "1985-01-24T19:50:00+00:00",
          "1984-11-08T12:15:00+00:00",
          "1984-10-05T11:03:00+00:00",
          "1984-09-12T05:44:00+00:00",
          "1984-08-30T12:41:00+00:00",
          "1984-04-06T13:58:00+00:00",
          "1984-02-03T13:00:00+00:00",
          "1983-11-28T16:00:00+00:00",
          "1983-09-05T07:40:00+00:00",
          "1983-08-19T06:00:00+00:00",
          "1983-06-18T11:33:00+00:00",
          "1983-04-04T18:30:00+00:00",
          "1982-11-11T12:19:00+00:00",
          "1982-09-09T07:19:00+00:00",
          "1982-06-27T16:09:00+00:00",
          "1982-03-22T16:00:00+00:00",
          "1981-11-12T15:09:00+00:00",
          "1981-04-12T12:00:00+00:00",
          "1973-05-14T17:30:00+00:00",
          "1972-12-19T19:24:00+00:00",
          "1972-04-16T17:54:00+00:00",
          "1971-07-26T13:34:00+00:00",
          "1971-01-31T21:03:00+00:00",
          "1970-04-11T19:13:00+00:00",
          "1969-11-14T16:22:00+00:00",
          "1969-07-16T13:32:00+00:00",
          "1969-06-03T16:49:00+00:00",
          "1969-05-18T16:49:00+00:00",
          "1969-04-15T17:30:00+00:00",
          "1969-03-04T19:30:00+00:00",
          "1969-03-03T16:00:00+00:00",
          "1969-01-22T19:10:00+00:00",
          "1968-12-21T12:51:00+00:00",
          "1968-12-04T19:23:00+00:00",
          "1968-11-06T19:10:00+00:00",
          "1968-08-06T18:30:00+00:00",
          "1968-08-06T16:33:00+00:00",
          "1968-06-05T17:31:00+00:00",
          "1968-04-17T17:00:00+00:00",
          "1968-04-04T12:00:00+00:00",
          "1968-03-13T19:55:00+00:00",
          "1968-01-18T19:04:00+00:00",
          "1967-12-05T18:45:00+00:00",
          "1967-11-09T12:00:00+00:00",
          "1967-10-25T19:15:00+00:00",
          "1967-09-19T18:28:00+00:00",
          "1967-08-16T17:02:00+00:00",
          "1967-06-20T16:19:00+00:00",
          "1967-04-26T00:00:00+00:00",
          "1967-02-24T19:55:00+00:00",
          "1966-12-14T18:14:00+00:00",
          "1966-09-28T19:12:00+00:00",
          "1966-07-29T18:43:00+00:00",
          "1965-05-06T15:00:00+00:00",
          "1965-02-11T15:19:00+00:00",
          "1964-12-10T16:52:00+00:00",
          "1964-09-01T15:00:00+00:00"
         ],
         "xaxis": "x",
         "y": [
          50,
          29.75,
          65,
          145,
          64.68,
          48.5,
          50,
          90,
          46,
          28.3,
          29.15,
          29.75,
          7.5,
          64.68,
          50,
          29.15,
          29.75,
          50,
          7.5,
          30.8,
          50,
          29.75,
          50,
          5.3,
          12,
          112.5,
          120,
          48.5,
          50,
          29.15,
          48.5,
          153,
          30.8,
          48.5,
          50,
          29.15,
          50,
          48.5,
          29.75,
          200,
          50,
          85,
          115,
          90,
          48.5,
          7.5,
          50,
          50,
          200,
          29.75,
          29.15,
          50,
          41.8,
          65,
          64.68,
          50,
          21,
          48.5,
          48.5,
          7.5,
          50,
          64.68,
          31,
          200,
          50,
          29.15,
          64.68,
          85,
          29.15,
          7.5,
          40,
          65,
          64.68,
          48.5,
          29.75,
          112.5,
          5.3,
          64.68,
          41.8,
          164,
          48.5,
          7.5,
          29.15,
          7.5,
          153,
          50,
          200,
          65,
          48.5,
          48.5,
          30.8,
          50,
          62,
          65,
          37,
          7.5,
          90,
          29.15,
          200,
          50,
          5.3,
          65,
          50,
          64.68,
          21,
          7.5,
          50,
          64.68,
          29.15,
          85,
          90,
          48.5,
          21,
          29.15,
          7.5,
          37,
          29.15,
          50,
          50,
          200,
          5.3,
          350,
          39,
          50,
          29.15,
          48.5,
          50,
          5.3,
          65,
          47,
          7.5,
          29.15,
          29.75,
          50,
          200,
          50,
          41.8,
          21,
          37,
          29.75,
          85,
          50,
          62,
          7.5,
          48.5,
          29.15,
          90,
          30.8,
          35,
          64.68,
          200,
          153,
          30.8,
          50,
          200,
          112.5,
          21,
          50,
          30.8,
          37,
          350,
          50,
          64.68,
          50,
          50,
          48.5,
          69.7,
          30.8,
          62,
          30.8,
          90,
          69.7,
          62,
          29.75,
          62,
          85,
          64.68,
          50,
          64.68,
          109,
          29.15,
          5.3,
          41.8,
          62,
          65,
          153,
          31,
          64.68,
          200,
          62,
          64.68,
          62,
          47,
          29.75,
          62,
          145,
          90,
          62,
          48.5,
          90,
          29.75,
          48.5,
          62,
          200,
          30.8,
          7.5,
          115,
          5.3,
          39,
          29.75,
          31,
          29.75,
          62,
          30.8,
          29.75,
          62,
          90,
          62,
          29.15,
          29.75,
          35,
          30.8,
          64.68,
          85,
          37,
          45,
          62,
          123,
          48.5,
          41.8,
          62,
          90,
          62,
          29.75,
          200,
          30.8,
          65,
          145,
          65,
          62,
          31,
          46,
          62,
          109,
          65,
          62,
          37,
          48.5,
          62,
          200,
          62,
          62,
          31,
          29.15,
          64.68,
          48.5,
          65,
          62,
          62,
          200,
          90,
          7.5,
          62,
          47,
          200,
          62,
          109,
          29.15,
          62,
          90,
          62,
          37,
          109,
          62,
          31,
          200,
          109,
          62,
          29.15,
          29.75,
          200,
          29.75,
          130,
          40,
          29.15,
          112.5,
          31,
          37,
          145,
          29.75,
          109,
          5.3,
          90,
          85,
          200,
          25,
          37,
          115,
          47,
          62,
          64.68,
          200,
          164,
          29.75,
          62,
          64.68,
          29.15,
          123,
          62,
          64.68,
          153,
          31,
          200,
          62,
          350,
          65,
          41.8,
          64.68,
          48.5,
          62,
          29.75,
          62,
          31,
          62,
          29.75,
          48.5,
          69.7,
          48.5,
          109,
          65,
          35,
          31,
          200,
          62,
          90,
          41.8,
          48.5,
          109,
          65,
          200,
          31,
          56.5,
          29.15,
          62,
          21,
          109,
          37,
          200,
          15,
          109,
          109,
          123,
          200,
          31,
          5.3,
          41.8,
          153,
          47,
          200,
          112.5,
          200,
          109,
          31,
          56.5,
          37,
          200,
          120,
          56.5,
          200,
          56.5,
          41.8,
          31,
          90,
          29,
          164,
          123,
          56.5,
          56.5,
          37,
          90,
          153,
          56.5,
          62,
          145,
          200,
          350,
          90,
          29,
          109,
          80,
          200,
          31,
          90,
          56.5,
          109,
          200,
          56.5,
          109,
          56.5,
          109,
          164,
          56.5,
          80,
          41.8,
          21,
          29,
          90,
          41.8,
          109,
          164,
          37,
          56.5,
          145,
          31,
          109,
          200,
          90,
          164,
          200,
          109,
          80,
          56.5,
          47,
          41.8,
          120,
          56.5,
          41.8,
          29,
          40,
          109,
          31,
          56.5,
          140,
          80,
          41.8,
          55,
          200,
          350,
          29,
          112.5,
          200,
          153,
          65,
          31,
          40,
          109,
          37,
          80,
          109,
          59.5,
          21,
          109,
          200,
          109,
          90,
          41.8,
          200,
          120,
          80,
          200,
          59.5,
          164,
          200,
          109,
          21,
          109,
          200,
          41.8,
          112.5,
          200,
          350,
          109,
          40,
          59.5,
          90,
          200,
          140,
          31,
          31,
          153,
          37,
          80,
          90,
          145,
          21,
          46,
          90,
          200,
          90,
          29,
          200,
          153,
          164,
          31,
          450,
          40,
          200,
          450,
          109,
          200,
          25,
          115,
          164,
          120,
          45,
          450,
          40,
          41.8,
          112.5,
          350,
          200,
          47,
          59.5,
          200,
          350,
          46,
          200,
          46,
          120,
          41.8,
          140,
          200,
          21,
          200,
          29,
          29,
          59.5,
          41.8,
          164,
          200,
          450,
          90,
          120,
          47,
          29,
          450,
          164,
          109,
          450,
          90,
          130,
          450,
          41.8,
          200,
          450,
          109,
          200,
          21,
          112.5,
          109,
          450,
          200,
          29,
          450,
          7,
          41.8,
          200,
          164,
          123,
          40,
          200,
          450,
          21,
          123,
          41.8,
          450,
          45,
          200,
          90,
          350,
          200,
          450,
          29.75,
          29.15,
          64.68,
          31,
          40,
          29,
          7,
          29,
          200,
          7,
          200,
          200,
          450,
          64.68,
          41.8,
          21,
          20.14,
          200,
          40,
          123,
          115,
          450,
          90,
          450,
          21,
          109,
          200,
          64.68,
          350,
          450,
          123,
          64.68,
          47,
          200,
          450,
          29,
          109,
          29,
          450,
          69.7,
          29.75,
          29.15,
          200,
          40,
          40,
          21,
          29,
          69.7,
          30.8,
          7,
          200,
          109,
          69.7,
          25,
          40,
          450,
          200,
          69.7,
          133,
          64.68,
          200,
          69.7,
          90,
          450,
          30.8,
          200,
          41.8,
          29,
          29,
          47,
          450,
          164,
          200,
          164,
          64.68,
          115,
          40,
          40,
          7,
          200,
          153,
          200,
          41.8,
          40,
          29.75,
          41.8,
          29,
          109,
          30.8,
          450,
          29.75,
          25,
          40,
          40,
          130,
          200,
          350,
          190,
          135,
          30.8,
          48.5,
          64.68,
          69.7,
          29.75,
          47,
          64.68,
          30.8,
          30.8,
          190,
          29,
          45,
          30.8,
          190,
          30.8,
          69.7,
          29.75,
          41.8,
          64.68,
          35,
          25,
          133,
          40,
          135,
          41.8,
          40,
          69.7,
          109,
          47,
          40,
          133,
          40,
          450,
          35,
          29,
          90,
          200,
          450,
          164,
          64.68,
          450,
          25,
          109,
          35,
          41.8,
          450,
          64.68,
          450,
          41.8,
          450,
          40,
          450,
          25,
          45,
          90,
          450,
          450,
          450,
          47,
          450,
          450,
          69.7,
          450,
          69.7,
          450,
          40,
          29,
          35,
          450,
          40,
          40,
          450,
          41.8,
          45,
          450,
          40,
          69.7,
          45,
          450,
          35,
          40,
          64.68,
          450,
          35,
          30.8,
          25,
          450,
          40,
          64.68,
          29,
          40,
          30.8,
          40,
          450,
          450,
          40,
          45,
          40,
          30.8,
          40,
          450,
          35,
          30.8,
          450,
          40,
          30.8,
          40,
          45,
          450,
          40,
          30.8,
          450,
          40,
          25,
          450,
          30.8,
          40,
          450,
          40,
          450,
          450,
          69.7,
          40,
          450,
          35,
          450,
          450,
          450,
          40,
          29.75,
          450,
          40,
          40,
          450,
          450,
          40,
          450,
          25,
          40,
          450,
          450,
          450,
          20,
          450,
          450,
          450,
          450,
          40,
          40,
          450,
          450,
          69.7,
          450,
          25,
          450,
          450,
          40,
          450,
          29.75,
          40,
          40,
          450,
          45,
          450,
          69.7,
          450,
          35,
          450,
          450,
          30.8,
          35,
          25,
          450,
          450,
          450,
          40,
          450,
          40,
          450,
          450,
          450,
          30.8,
          136.6,
          450,
          29.75,
          450,
          450,
          450,
          35,
          450,
          450,
          450,
          450,
          450,
          40,
          450,
          450,
          450,
          450,
          450,
          450,
          30.8,
          136.6,
          450,
          40,
          136.6,
          450,
          450,
          136.6,
          450,
          450,
          35,
          450,
          450,
          450,
          450,
          5000,
          450,
          35,
          30.8,
          30.8,
          30.8,
          5000,
          30.8,
          450,
          450,
          450,
          450,
          30.8,
          450,
          450,
          450,
          450,
          450,
          450,
          450,
          450,
          450,
          30.8,
          450,
          450,
          450,
          450,
          450,
          30.8,
          450,
          450,
          450,
          30.8,
          450,
          450,
          450,
          450,
          1160,
          1160,
          1160,
          1160,
          1160,
          1160,
          1160,
          1160,
          59,
          1160,
          59,
          59,
          1160,
          59,
          1160,
          59,
          59,
          59,
          59,
          59,
          59,
          1160,
          59,
          59,
          59,
          1160,
          59,
          59,
          59,
          59,
          59,
          59,
          59,
          59,
          59,
          63.23,
          63.23,
          63.23,
          63.23
         ],
         "yaxis": "y"
        }
       ],
       "layout": {
        "barmode": "relative",
        "legend": {
         "tracegroupgap": 0
        },
        "template": {
         "data": {
          "bar": [
           {
            "error_x": {
             "color": "#2a3f5f"
            },
            "error_y": {
             "color": "#2a3f5f"
            },
            "marker": {
             "line": {
              "color": "#E5ECF6",
              "width": 0.5
             },
             "pattern": {
              "fillmode": "overlay",
              "size": 10,
              "solidity": 0.2
             }
            },
            "type": "bar"
           }
          ],
          "barpolar": [
           {
            "marker": {
             "line": {
              "color": "#E5ECF6",
              "width": 0.5
             },
             "pattern": {
              "fillmode": "overlay",
              "size": 10,
              "solidity": 0.2
             }
            },
            "type": "barpolar"
           }
          ],
          "carpet": [
           {
            "aaxis": {
             "endlinecolor": "#2a3f5f",
             "gridcolor": "white",
             "linecolor": "white",
             "minorgridcolor": "white",
             "startlinecolor": "#2a3f5f"
            },
            "baxis": {
             "endlinecolor": "#2a3f5f",
             "gridcolor": "white",
             "linecolor": "white",
             "minorgridcolor": "white",
             "startlinecolor": "#2a3f5f"
            },
            "type": "carpet"
           }
          ],
          "choropleth": [
           {
            "colorbar": {
             "outlinewidth": 0,
             "ticks": ""
            },
            "type": "choropleth"
           }
          ],
          "contour": [
           {
            "colorbar": {
             "outlinewidth": 0,
             "ticks": ""
            },
            "colorscale": [
             [
              0,
              "#0d0887"
             ],
             [
              0.1111111111111111,
              "#46039f"
             ],
             [
              0.2222222222222222,
              "#7201a8"
             ],
             [
              0.3333333333333333,
              "#9c179e"
             ],
             [
              0.4444444444444444,
              "#bd3786"
             ],
             [
              0.5555555555555556,
              "#d8576b"
             ],
             [
              0.6666666666666666,
              "#ed7953"
             ],
             [
              0.7777777777777778,
              "#fb9f3a"
             ],
             [
              0.8888888888888888,
              "#fdca26"
             ],
             [
              1,
              "#f0f921"
             ]
            ],
            "type": "contour"
           }
          ],
          "contourcarpet": [
           {
            "colorbar": {
             "outlinewidth": 0,
             "ticks": ""
            },
            "type": "contourcarpet"
           }
          ],
          "heatmap": [
           {
            "colorbar": {
             "outlinewidth": 0,
             "ticks": ""
            },
            "colorscale": [
             [
              0,
              "#0d0887"
             ],
             [
              0.1111111111111111,
              "#46039f"
             ],
             [
              0.2222222222222222,
              "#7201a8"
             ],
             [
              0.3333333333333333,
              "#9c179e"
             ],
             [
              0.4444444444444444,
              "#bd3786"
             ],
             [
              0.5555555555555556,
              "#d8576b"
             ],
             [
              0.6666666666666666,
              "#ed7953"
             ],
             [
              0.7777777777777778,
              "#fb9f3a"
             ],
             [
              0.8888888888888888,
              "#fdca26"
             ],
             [
              1,
              "#f0f921"
             ]
            ],
            "type": "heatmap"
           }
          ],
          "heatmapgl": [
           {
            "colorbar": {
             "outlinewidth": 0,
             "ticks": ""
            },
            "colorscale": [
             [
              0,
              "#0d0887"
             ],
             [
              0.1111111111111111,
              "#46039f"
             ],
             [
              0.2222222222222222,
              "#7201a8"
             ],
             [
              0.3333333333333333,
              "#9c179e"
             ],
             [
              0.4444444444444444,
              "#bd3786"
             ],
             [
              0.5555555555555556,
              "#d8576b"
             ],
             [
              0.6666666666666666,
              "#ed7953"
             ],
             [
              0.7777777777777778,
              "#fb9f3a"
             ],
             [
              0.8888888888888888,
              "#fdca26"
             ],
             [
              1,
              "#f0f921"
             ]
            ],
            "type": "heatmapgl"
           }
          ],
          "histogram": [
           {
            "marker": {
             "pattern": {
              "fillmode": "overlay",
              "size": 10,
              "solidity": 0.2
             }
            },
            "type": "histogram"
           }
          ],
          "histogram2d": [
           {
            "colorbar": {
             "outlinewidth": 0,
             "ticks": ""
            },
            "colorscale": [
             [
              0,
              "#0d0887"
             ],
             [
              0.1111111111111111,
              "#46039f"
             ],
             [
              0.2222222222222222,
              "#7201a8"
             ],
             [
              0.3333333333333333,
              "#9c179e"
             ],
             [
              0.4444444444444444,
              "#bd3786"
             ],
             [
              0.5555555555555556,
              "#d8576b"
             ],
             [
              0.6666666666666666,
              "#ed7953"
             ],
             [
              0.7777777777777778,
              "#fb9f3a"
             ],
             [
              0.8888888888888888,
              "#fdca26"
             ],
             [
              1,
              "#f0f921"
             ]
            ],
            "type": "histogram2d"
           }
          ],
          "histogram2dcontour": [
           {
            "colorbar": {
             "outlinewidth": 0,
             "ticks": ""
            },
            "colorscale": [
             [
              0,
              "#0d0887"
             ],
             [
              0.1111111111111111,
              "#46039f"
             ],
             [
              0.2222222222222222,
              "#7201a8"
             ],
             [
              0.3333333333333333,
              "#9c179e"
             ],
             [
              0.4444444444444444,
              "#bd3786"
             ],
             [
              0.5555555555555556,
              "#d8576b"
             ],
             [
              0.6666666666666666,
              "#ed7953"
             ],
             [
              0.7777777777777778,
              "#fb9f3a"
             ],
             [
              0.8888888888888888,
              "#fdca26"
             ],
             [
              1,
              "#f0f921"
             ]
            ],
            "type": "histogram2dcontour"
           }
          ],
          "mesh3d": [
           {
            "colorbar": {
             "outlinewidth": 0,
             "ticks": ""
            },
            "type": "mesh3d"
           }
          ],
          "parcoords": [
           {
            "line": {
             "colorbar": {
              "outlinewidth": 0,
              "ticks": ""
             }
            },
            "type": "parcoords"
           }
          ],
          "pie": [
           {
            "automargin": true,
            "type": "pie"
           }
          ],
          "scatter": [
           {
            "marker": {
             "colorbar": {
              "outlinewidth": 0,
              "ticks": ""
             }
            },
            "type": "scatter"
           }
          ],
          "scatter3d": [
           {
            "line": {
             "colorbar": {
              "outlinewidth": 0,
              "ticks": ""
             }
            },
            "marker": {
             "colorbar": {
              "outlinewidth": 0,
              "ticks": ""
             }
            },
            "type": "scatter3d"
           }
          ],
          "scattercarpet": [
           {
            "marker": {
             "colorbar": {
              "outlinewidth": 0,
              "ticks": ""
             }
            },
            "type": "scattercarpet"
           }
          ],
          "scattergeo": [
           {
            "marker": {
             "colorbar": {
              "outlinewidth": 0,
              "ticks": ""
             }
            },
            "type": "scattergeo"
           }
          ],
          "scattergl": [
           {
            "marker": {
             "colorbar": {
              "outlinewidth": 0,
              "ticks": ""
             }
            },
            "type": "scattergl"
           }
          ],
          "scattermapbox": [
           {
            "marker": {
             "colorbar": {
              "outlinewidth": 0,
              "ticks": ""
             }
            },
            "type": "scattermapbox"
           }
          ],
          "scatterpolar": [
           {
            "marker": {
             "colorbar": {
              "outlinewidth": 0,
              "ticks": ""
             }
            },
            "type": "scatterpolar"
           }
          ],
          "scatterpolargl": [
           {
            "marker": {
             "colorbar": {
              "outlinewidth": 0,
              "ticks": ""
             }
            },
            "type": "scatterpolargl"
           }
          ],
          "scatterternary": [
           {
            "marker": {
             "colorbar": {
              "outlinewidth": 0,
              "ticks": ""
             }
            },
            "type": "scatterternary"
           }
          ],
          "surface": [
           {
            "colorbar": {
             "outlinewidth": 0,
             "ticks": ""
            },
            "colorscale": [
             [
              0,
              "#0d0887"
             ],
             [
              0.1111111111111111,
              "#46039f"
             ],
             [
              0.2222222222222222,
              "#7201a8"
             ],
             [
              0.3333333333333333,
              "#9c179e"
             ],
             [
              0.4444444444444444,
              "#bd3786"
             ],
             [
              0.5555555555555556,
              "#d8576b"
             ],
             [
              0.6666666666666666,
              "#ed7953"
             ],
             [
              0.7777777777777778,
              "#fb9f3a"
             ],
             [
              0.8888888888888888,
              "#fdca26"
             ],
             [
              1,
              "#f0f921"
             ]
            ],
            "type": "surface"
           }
          ],
          "table": [
           {
            "cells": {
             "fill": {
              "color": "#EBF0F8"
             },
             "line": {
              "color": "white"
             }
            },
            "header": {
             "fill": {
              "color": "#C8D4E3"
             },
             "line": {
              "color": "white"
             }
            },
            "type": "table"
           }
          ]
         },
         "layout": {
          "annotationdefaults": {
           "arrowcolor": "#2a3f5f",
           "arrowhead": 0,
           "arrowwidth": 1
          },
          "autotypenumbers": "strict",
          "coloraxis": {
           "colorbar": {
            "outlinewidth": 0,
            "ticks": ""
           }
          },
          "colorscale": {
           "diverging": [
            [
             0,
             "#8e0152"
            ],
            [
             0.1,
             "#c51b7d"
            ],
            [
             0.2,
             "#de77ae"
            ],
            [
             0.3,
             "#f1b6da"
            ],
            [
             0.4,
             "#fde0ef"
            ],
            [
             0.5,
             "#f7f7f7"
            ],
            [
             0.6,
             "#e6f5d0"
            ],
            [
             0.7,
             "#b8e186"
            ],
            [
             0.8,
             "#7fbc41"
            ],
            [
             0.9,
             "#4d9221"
            ],
            [
             1,
             "#276419"
            ]
           ],
           "sequential": [
            [
             0,
             "#0d0887"
            ],
            [
             0.1111111111111111,
             "#46039f"
            ],
            [
             0.2222222222222222,
             "#7201a8"
            ],
            [
             0.3333333333333333,
             "#9c179e"
            ],
            [
             0.4444444444444444,
             "#bd3786"
            ],
            [
             0.5555555555555556,
             "#d8576b"
            ],
            [
             0.6666666666666666,
             "#ed7953"
            ],
            [
             0.7777777777777778,
             "#fb9f3a"
            ],
            [
             0.8888888888888888,
             "#fdca26"
            ],
            [
             1,
             "#f0f921"
            ]
           ],
           "sequentialminus": [
            [
             0,
             "#0d0887"
            ],
            [
             0.1111111111111111,
             "#46039f"
            ],
            [
             0.2222222222222222,
             "#7201a8"
            ],
            [
             0.3333333333333333,
             "#9c179e"
            ],
            [
             0.4444444444444444,
             "#bd3786"
            ],
            [
             0.5555555555555556,
             "#d8576b"
            ],
            [
             0.6666666666666666,
             "#ed7953"
            ],
            [
             0.7777777777777778,
             "#fb9f3a"
            ],
            [
             0.8888888888888888,
             "#fdca26"
            ],
            [
             1,
             "#f0f921"
            ]
           ]
          },
          "colorway": [
           "#636efa",
           "#EF553B",
           "#00cc96",
           "#ab63fa",
           "#FFA15A",
           "#19d3f3",
           "#FF6692",
           "#B6E880",
           "#FF97FF",
           "#FECB52"
          ],
          "font": {
           "color": "#2a3f5f"
          },
          "geo": {
           "bgcolor": "white",
           "lakecolor": "white",
           "landcolor": "#E5ECF6",
           "showlakes": true,
           "showland": true,
           "subunitcolor": "white"
          },
          "hoverlabel": {
           "align": "left"
          },
          "hovermode": "closest",
          "mapbox": {
           "style": "light"
          },
          "paper_bgcolor": "white",
          "plot_bgcolor": "#E5ECF6",
          "polar": {
           "angularaxis": {
            "gridcolor": "white",
            "linecolor": "white",
            "ticks": ""
           },
           "bgcolor": "#E5ECF6",
           "radialaxis": {
            "gridcolor": "white",
            "linecolor": "white",
            "ticks": ""
           }
          },
          "scene": {
           "xaxis": {
            "backgroundcolor": "#E5ECF6",
            "gridcolor": "white",
            "gridwidth": 2,
            "linecolor": "white",
            "showbackground": true,
            "ticks": "",
            "zerolinecolor": "white"
           },
           "yaxis": {
            "backgroundcolor": "#E5ECF6",
            "gridcolor": "white",
            "gridwidth": 2,
            "linecolor": "white",
            "showbackground": true,
            "ticks": "",
            "zerolinecolor": "white"
           },
           "zaxis": {
            "backgroundcolor": "#E5ECF6",
            "gridcolor": "white",
            "gridwidth": 2,
            "linecolor": "white",
            "showbackground": true,
            "ticks": "",
            "zerolinecolor": "white"
           }
          },
          "shapedefaults": {
           "line": {
            "color": "#2a3f5f"
           }
          },
          "ternary": {
           "aaxis": {
            "gridcolor": "white",
            "linecolor": "white",
            "ticks": ""
           },
           "baxis": {
            "gridcolor": "white",
            "linecolor": "white",
            "ticks": ""
           },
           "bgcolor": "#E5ECF6",
           "caxis": {
            "gridcolor": "white",
            "linecolor": "white",
            "ticks": ""
           }
          },
          "title": {
           "x": 0.05
          },
          "xaxis": {
           "automargin": true,
           "gridcolor": "white",
           "linecolor": "white",
           "ticks": "",
           "title": {
            "standoff": 15
           },
           "zerolinecolor": "white",
           "zerolinewidth": 2
          },
          "yaxis": {
           "automargin": true,
           "gridcolor": "white",
           "linecolor": "white",
           "ticks": "",
           "title": {
            "standoff": 15
           },
           "zerolinecolor": "white",
           "zerolinewidth": 2
          }
         }
        },
        "title": {
         "text": "Launches' costs"
        },
        "xaxis": {
         "anchor": "y",
         "domain": [
          0,
          1
         ],
         "title": {
          "text": "Date"
         }
        },
        "yaxis": {
         "anchor": "x",
         "domain": [
          0,
          1
         ],
         "title": {
          "text": "sum of Price"
         }
        }
       }
      },
      "text/html": [
       "<div>                            <div id=\"bf9f4144-83f8-4dac-8faa-f1f562ff816f\" class=\"plotly-graph-div\" style=\"height:525px; width:100%;\"></div>            <script type=\"text/javascript\">                require([\"plotly\"], function(Plotly) {                    window.PLOTLYENV=window.PLOTLYENV || {};                                    if (document.getElementById(\"bf9f4144-83f8-4dac-8faa-f1f562ff816f\")) {                    Plotly.newPlot(                        \"bf9f4144-83f8-4dac-8faa-f1f562ff816f\",                        [{\"alignmentgroup\":\"True\",\"bingroup\":\"x\",\"histfunc\":\"sum\",\"hovertemplate\":\"Date=%{x}<br>sum of Price=%{y}<extra></extra>\",\"legendgroup\":\"\",\"marker\":{\"color\":\"#636efa\",\"pattern\":{\"shape\":\"\"}},\"name\":\"\",\"nbinsx\":100,\"offsetgroup\":\"\",\"orientation\":\"v\",\"showlegend\":false,\"type\":\"histogram\",\"x\":[\"2020-08-07T05:12:00+00:00\",\"2020-08-06T04:01:00+00:00\",\"2020-07-30T21:25:00+00:00\",\"2020-07-30T11:50:00+00:00\",\"2020-07-25T03:13:00+00:00\",\"2020-07-23T14:26:00+00:00\",\"2020-07-20T21:30:00+00:00\",\"2020-07-19T21:58:00+00:00\",\"2020-07-15T13:46:00+00:00\",\"2020-07-10T04:17:00+00:00\",\"2020-07-09T12:11:00+00:00\",\"2020-07-04T23:44:00+00:00\",\"2020-07-04T21:19:00+00:00\",\"2020-07-03T03:10:00+00:00\",\"2020-06-30T20:10:00+00:00\",\"2020-06-23T01:43:00+00:00\",\"2020-06-17T07:19:00+00:00\",\"2020-06-13T09:21:00+00:00\",\"2020-06-13T05:12:00+00:00\",\"2020-06-10T18:31:00+00:00\",\"2020-06-04T01:25:00+00:00\",\"2020-05-31T08:53:00+00:00\",\"2020-05-30T19:22:00+00:00\",\"2020-05-29T20:13:00+00:00\",\"2020-05-25T19:50:00+00:00\",\"2020-05-20T17:31:00+00:00\",\"2020-05-17T13:14:00+00:00\",\"2020-04-25T01:51:00+00:00\",\"2020-04-22T19:30:00+00:00\",\"2020-04-09T11:46:00+00:00\",\"2020-04-09T08:05:00+00:00\",\"2020-03-26T20:18:00+00:00\",\"2020-03-24T03:43:00+00:00\",\"2020-03-21T17:06:00+00:00\",\"2020-03-18T12:16:00+00:00\",\"2020-03-09T11:55:00+00:00\",\"2020-03-07T04:50:00+00:00\",\"2020-02-20T08:24:00+00:00\",\"2020-02-19T21:07:00+00:00\",\"2020-02-18T22:18:00+00:00\",\"2020-02-17T15:05:00+00:00\",\"2020-02-15T20:21:00+00:00\",\"2020-02-10T04:03:00+00:00\",\"2020-02-09T01:34:00+00:00\",\"2020-02-06T21:42:00+00:00\",\"2020-01-31T02:56:00+00:00\",\"2020-01-29T14:06:00+00:00\",\"2020-01-19T15:30:00+00:00\",\"2020-01-16T21:05:00+00:00\",\"2020-01-15T02:53:00+00:00\",\"2020-01-07T15:20:00+00:00\",\"2020-01-07T02:19:00+00:00\",\"2019-12-26T23:11:00+00:00\",\"2019-12-24T12:03:00+00:00\",\"2019-12-20T03:22:00+00:00\",\"2019-12-17T00:10:00+00:00\",\"2019-12-11T09:55:00+00:00\",\"2019-12-11T08:54:00+00:00\",\"2019-12-06T09:34:00+00:00\",\"2019-12-06T08:18:00+00:00\",\"2019-12-05T17:29:00+00:00\",\"2019-11-27T23:52:00+00:00\",\"2019-11-27T03:58:00+00:00\",\"2019-11-26T21:23:00+00:00\",\"2019-11-11T14:56:00+00:00\",\"2019-11-04T17:43:00+00:00\",\"2019-11-03T03:22:00+00:00\",\"2019-11-02T13:59:00+00:00\",\"2019-10-17T15:21:00+00:00\",\"2019-10-17T01:22:00+00:00\",\"2019-10-11T01:59:00+00:00\",\"2019-10-09T10:17:00+00:00\",\"2019-10-04T18:51:00+00:00\",\"2019-09-26T07:46:00+00:00\",\"2019-09-25T00:54:00+00:00\",\"2019-09-24T16:05:00+00:00\",\"2019-09-19T06:42:00+00:00\",\"2019-09-12T03:26:00+00:00\",\"2019-08-30T14:00:00+00:00\",\"2019-08-22T13:06:00+00:00\",\"2019-08-22T03:38:00+00:00\",\"2019-08-19T12:12:00+00:00\",\"2019-08-19T12:03:00+00:00\",\"2019-08-17T04:11:00+00:00\",\"2019-08-08T10:13:00+00:00\",\"2019-08-06T23:23:00+00:00\",\"2019-08-06T19:30:00+00:00\",\"2019-08-05T21:56:00+00:00\",\"2019-07-31T12:10:00+00:00\",\"2019-07-30T05:56:00+00:00\",\"2019-07-26T03:57:00+00:00\",\"2019-07-25T22:01:00+00:00\",\"2019-07-22T09:13:00+00:00\",\"2019-07-13T12:31:00+00:00\",\"2019-07-11T01:53:00+00:00\",\"2019-06-29T04:30:00+00:00\",\"2019-06-25T06:30:00+00:00\",\"2019-06-24T18:09:00+00:00\",\"2019-06-20T21:43:00+00:00\",\"2019-06-12T14:17:00+00:00\",\"2019-06-05T04:06:00+00:00\",\"2019-05-30T17:42:00+00:00\",\"2019-05-24T02:30:00+00:00\",\"2019-05-22T22:55:00+00:00\",\"2019-05-22T00:00:00+00:00\",\"2019-05-05T06:00:00+00:00\",\"2019-05-04T06:48:00+00:00\",\"2019-04-29T22:52:00+00:00\",\"2019-04-20T14:30:00+00:00\",\"2019-04-17T20:46:00+00:00\",\"2019-04-11T22:35:00+00:00\",\"2019-04-04T11:01:00+00:00\",\"2019-04-01T03:57:00+00:00\",\"2019-03-31T15:51:00+00:00\",\"2019-03-28T23:27:00+00:00\",\"2019-03-22T01:50:00+00:00\",\"2019-03-09T16:28:00+00:00\",\"2019-03-02T07:49:00+00:00\",\"2019-02-22T01:45:00+00:00\",\"2019-02-05T21:01:00+00:00\",\"2019-01-21T05:42:00+00:00\",\"2019-01-19T19:10:00+00:00\",\"2019-01-18T00:50:00+00:00\",\"2019-01-11T15:31:00+00:00\",\"2019-01-10T17:11:00+00:00\",\"2018-12-27T02:07:00+00:00\",\"2018-12-23T13:51:00+00:00\",\"2018-12-21T23:51:00+00:00\",\"2018-12-21T00:20:00+00:00\",\"2018-12-19T10:40:00+00:00\",\"2018-12-16T06:33:00+00:00\",\"2018-12-07T18:23:00+00:00\",\"2018-12-07T04:12:00+00:00\",\"2018-12-05T18:16:00+00:00\",\"2018-12-04T20:37:00+00:00\",\"2018-12-03T18:34:00+00:00\",\"2018-11-30T02:27:00+00:00\",\"2018-11-29T04:27:00+00:00\",\"2018-11-21T01:42:00+00:00\",\"2018-11-19T23:40:00+00:00\",\"2018-11-17T09:01:00+00:00\",\"2018-11-15T20:46:00+00:00\",\"2018-11-14T11:38:00+00:00\",\"2018-11-11T03:50:00+00:00\",\"2018-11-03T20:17:00+00:00\",\"2018-11-01T15:57:00+00:00\",\"2018-10-29T04:08:00+00:00\",\"2018-10-29T00:47:00+00:00\",\"2018-10-25T00:15:00+00:00\",\"2018-10-24T22:57:00+00:00\",\"2018-10-20T01:45:00+00:00\",\"2018-10-17T04:15:00+00:00\",\"2018-10-09T02:43:00+00:00\",\"2018-10-08T02:21:00+00:00\",\"2018-09-25T22:38:00+00:00\",\"2018-09-22T17:52:00+00:00\",\"2018-09-16T16:38:00+00:00\",\"2018-09-10T04:45:00+00:00\",\"2018-09-07T03:15:00+00:00\",\"2018-08-22T21:20:00+00:00\",\"2018-08-12T07:31:00+00:00\",\"2018-08-07T05:18:00+00:00\",\"2018-07-31T03:00:00+00:00\",\"2018-07-25T11:39:00+00:00\",\"2018-07-22T05:50:00+00:00\",\"2018-07-09T21:51:00+00:00\",\"2018-07-09T20:50:00+00:00\",\"2018-07-09T03:56:00+00:00\",\"2018-06-29T09:42:00+00:00\",\"2018-06-27T03:30:00+00:00\",\"2018-06-12T04:20:00+00:00\",\"2018-06-05T13:07:00+00:00\",\"2018-06-04T04:29:00+00:00\",\"2018-06-02T04:13:00+00:00\",\"2018-05-22T19:47:00+00:00\",\"2018-05-21T04:44:00+00:00\",\"2018-05-20T21:28:00+00:00\",\"2018-05-11T20:14:00+00:00\",\"2018-05-08T18:28:00+00:00\",\"2018-05-05T11:05:00+00:00\",\"2018-05-03T16:05:00+00:00\",\"2018-04-26T04:42:00+00:00\",\"2018-04-25T17:57:00+00:00\",\"2018-04-18T22:51:00+00:00\",\"2018-04-18T22:12:00+00:00\",\"2018-04-14T23:13:00+00:00\",\"2018-04-11T22:34:00+00:00\",\"2018-04-10T04:25:00+00:00\",\"2018-04-05T21:34:00+00:00\",\"2018-04-02T20:30:00+00:00\",\"2018-03-31T03:22:00+00:00\",\"2018-03-30T14:14:00+00:00\",\"2018-03-29T11:26:00+00:00\",\"2018-03-17T07:10:00+00:00\",\"2018-03-06T05:33:00+00:00\",\"2018-03-01T22:02:00+00:00\",\"2018-02-27T04:34:00+00:00\",\"2018-02-22T14:17:00+00:00\",\"2018-02-13T08:13:00+00:00\",\"2018-02-06T20:45:00+00:00\",\"2018-02-02T07:50:00+00:00\",\"2018-02-01T02:07:00+00:00\",\"2018-01-31T21:25:00+00:00\",\"2018-01-25T22:20:00+00:00\",\"2018-01-25T05:39:00+00:00\",\"2018-01-21T01:43:00+00:00\",\"2018-01-20T00:48:00+00:00\",\"2018-01-19T04:12:00+00:00\",\"2018-01-17T21:06:00+00:00\",\"2018-01-13T07:20:00+00:00\",\"2018-01-12T03:58:00+00:00\",\"2018-01-09T03:24:00+00:00\",\"2018-01-08T01:00:00+00:00\",\"2017-12-25T19:44:00+00:00\",\"2017-12-23T04:14:00+00:00\",\"2017-12-23T01:27:00+00:00\",\"2017-12-23T01:26:00+00:00\",\"2017-12-15T15:36:00+00:00\",\"2017-12-10T16:41:00+00:00\",\"2017-12-03T04:11:00+00:00\",\"2017-12-02T10:43:00+00:00\",\"2017-11-24T18:10:00+00:00\",\"2017-11-14T18:35:00+00:00\",\"2017-11-12T12:19:00+00:00\",\"2017-11-08T01:42:00+00:00\",\"2017-10-31T21:37:00+00:00\",\"2017-10-30T19:34:00+00:00\",\"2017-10-15T07:28:00+00:00\",\"2017-10-14T08:46:00+00:00\",\"2017-10-13T09:27:00+00:00\",\"2017-10-11T22:53:00+00:00\",\"2017-10-09T22:01:00+00:00\",\"2017-10-09T12:37:00+00:00\",\"2017-10-09T04:13:00+00:00\",\"2017-09-29T21:56:00+00:00\",\"2017-09-29T04:21:00+00:00\",\"2017-09-28T18:52:00+00:00\",\"2017-09-24T05:49:00+00:00\",\"2017-09-11T19:23:00+00:00\",\"2017-09-07T14:00:00+00:00\",\"2017-08-31T13:30:00+00:00\",\"2017-08-25T06:04:00+00:00\",\"2017-08-24T18:51:00+00:00\",\"2017-08-18T12:29:00+00:00\",\"2017-08-16T22:07:00+00:00\",\"2017-08-14T16:31:00+00:00\",\"2017-08-02T01:58:00+00:00\",\"2017-07-14T06:36:00+00:00\",\"2017-07-05T20:25:00+00:00\",\"2017-06-28T21:15:00+00:00\",\"2017-06-25T20:25:00+00:00\",\"2017-06-23T19:10:00+00:00\",\"2017-06-23T03:59:00+00:00\",\"2017-06-18T16:12:00+00:00\",\"2017-06-15T03:15:00+00:00\",\"2017-06-14T09:20:00+00:00\",\"2017-06-08T03:45:00+00:00\",\"2017-06-05T11:58:00+00:00\",\"2017-06-03T21:07:00+00:00\",\"2017-06-01T23:45:00+00:00\",\"2017-06-01T00:17:00+00:00\",\"2017-05-25T04:20:00+00:00\",\"2017-05-15T23:21:00+00:00\",\"2017-05-05T11:27:00+00:00\",\"2017-05-04T21:50:00+00:00\",\"2017-05-01T11:15:00+00:00\",\"2017-04-18T15:11:00+00:00\",\"2017-04-12T11:04:00+00:00\",\"2017-03-30T22:27:00+00:00\",\"2017-03-17T01:20:00+00:00\",\"2017-03-16T06:00:00+00:00\",\"2017-03-07T01:49:00+00:00\",\"2017-03-01T17:49:00+00:00\",\"2017-02-19T14:39:00+00:00\",\"2017-02-15T03:58:00+00:00\",\"2017-02-14T21:39:00+00:00\",\"2017-01-21T00:42:00+00:00\",\"2017-01-14T17:54:00+00:00\",\"2017-01-05T15:18:00+00:00\",\"2016-12-28T03:23:00+00:00\",\"2016-12-21T20:30:00+00:00\",\"2016-12-21T19:22:00+00:00\",\"2016-12-18T19:13:00+00:00\",\"2016-12-15T13:37:00+00:00\",\"2016-12-10T16:11:00+00:00\",\"2016-12-09T13:26:00+00:00\",\"2016-12-07T04:54:00+00:00\",\"2016-12-05T13:51:00+00:00\",\"2016-11-19T23:42:00+00:00\",\"2016-11-11T23:14:00+00:00\",\"2016-11-11T18:30:00+00:00\",\"2016-11-09T23:42:00+00:00\",\"2016-11-02T06:20:00+00:00\",\"2016-10-17T23:45:00+00:00\",\"2016-10-05T20:30:00+00:00\",\"2016-09-26T03:42:00+00:00\",\"2016-09-16T01:43:00+00:00\",\"2016-09-08T23:05:00+00:00\",\"2016-09-08T11:20:00+00:00\",\"2016-09-01T13:07:00+00:00\",\"2016-08-31T18:50:00+00:00\",\"2016-08-24T22:16:00+00:00\",\"2016-08-19T04:52:00+00:00\",\"2016-08-15T17:40:00+00:00\",\"2016-08-14T05:26:00+00:00\",\"2016-08-09T22:55:00+00:00\",\"2016-08-05T16:22:00+00:00\",\"2016-07-28T12:37:00+00:00\",\"2016-07-18T04:45:00+00:00\",\"2016-06-29T03:21:00+00:00\",\"2016-06-24T14:30:00+00:00\",\"2016-06-22T03:56:00+00:00\",\"2016-06-18T05:20:00+00:00\",\"2016-06-15T14:29:00+00:00\",\"2016-06-11T17:51:00+00:00\",\"2016-06-09T07:10:00+00:00\",\"2016-06-04T14:00:00+00:00\",\"2016-05-30T03:17:00+00:00\",\"2016-05-29T08:44:00+00:00\",\"2016-05-27T21:39:00+00:00\",\"2016-05-15T02:43:00+00:00\",\"2016-05-06T05:21:00+00:00\",\"2016-04-28T07:20:00+00:00\",\"2016-04-08T20:43:00+00:00\",\"2016-04-05T17:38:00+00:00\",\"2016-03-31T16:23:00+00:00\",\"2016-03-29T20:11:00+00:00\",\"2016-03-24T09:42:00+00:00\",\"2016-03-23T03:05:00+00:00\",\"2016-03-14T09:31:00+00:00\",\"2016-03-13T18:56:00+00:00\",\"2016-03-10T10:31:00+00:00\",\"2016-03-09T05:20:00+00:00\",\"2016-03-04T23:35:00+00:00\",\"2016-02-17T08:45:00+00:00\",\"2016-02-16T17:57:00+00:00\",\"2016-02-07T00:21:00+00:00\",\"2016-02-05T13:38:00+00:00\",\"2016-01-29T22:20:00+00:00\",\"2016-01-27T23:20:00+00:00\",\"2016-01-20T04:01:00+00:00\",\"2016-01-17T18:42:00+00:00\",\"2016-01-15T16:57:00+00:00\",\"2015-12-22T01:29:00+00:00\",\"2015-12-16T12:30:00+00:00\",\"2015-12-06T21:44:00+00:00\",\"2015-12-03T04:04:00+00:00\",\"2015-11-10T21:34:00+00:00\",\"2015-11-04T00:00:00+00:00\",\"2015-10-31T16:13:00+00:00\",\"2015-10-08T12:49:00+00:00\",\"2015-10-02T10:28:00+00:00\",\"2015-09-30T20:30:00+00:00\",\"2015-09-28T04:30:00+00:00\",\"2015-09-25T00:00:00+00:00\",\"2015-09-23T21:59:00+00:00\",\"2015-09-02T10:18:00+00:00\",\"2015-08-27T11:22:00+00:00\",\"2015-08-20T20:34:00+00:00\",\"2015-08-19T11:50:00+00:00\",\"2015-07-15T21:42:00+00:00\",\"2015-07-15T15:36:00+00:00\",\"2015-07-10T16:28:00+00:00\",\"2015-06-28T14:21:00+00:00\",\"2015-06-23T01:51:00+00:00\",\"2015-05-27T21:16:00+00:00\",\"2015-05-20T15:05:00+00:00\",\"2015-04-27T23:03:00+00:00\",\"2015-04-26T20:00:00+00:00\",\"2015-04-15T20:10:00+00:00\",\"2015-03-31T13:47:00+00:00\",\"2015-03-28T11:49:00+00:00\",\"2015-03-26T01:21:00+00:00\",\"2015-03-25T22:08:00+00:00\",\"2015-03-25T18:36:00+00:00\",\"2015-03-13T02:44:00+00:00\",\"2015-03-02T03:50:00+00:00\",\"2015-02-11T23:03:00+00:00\",\"2015-02-11T13:40:00+00:00\",\"2015-02-01T01:21:00+00:00\",\"2015-01-21T01:04:00+00:00\",\"2015-01-10T09:47:00+00:00\",\"2014-12-18T04:00:00+00:00\",\"2014-12-13T03:19:00+00:00\",\"2014-12-06T20:40:00+00:00\",\"2014-12-05T12:05:00+00:00\",\"2014-12-03T04:22:00+00:00\",\"2014-11-06T07:35:00+00:00\",\"2014-10-29T17:21:00+00:00\",\"2014-10-28T22:22:00+00:00\",\"2014-10-16T21:43:00+00:00\",\"2014-10-16T20:02:00+00:00\",\"2014-10-07T05:16:00+00:00\",\"2014-09-21T05:52:00+00:00\",\"2014-09-17T00:10:00+00:00\",\"2014-09-11T22:05:00+00:00\",\"2014-09-07T05:00:00+00:00\",\"2014-08-13T18:30:00+00:00\",\"2014-08-05T08:00:00+00:00\",\"2014-08-02T03:23:00+00:00\",\"2014-07-28T23:28:00+00:00\",\"2014-07-14T15:15:00+00:00\",\"2014-07-13T16:52:00+00:00\",\"2014-07-03T12:43:00+00:00\",\"2014-06-30T04:22:00+00:00\",\"2014-06-19T19:11:00+00:00\",\"2014-05-24T03:05:00+00:00\",\"2014-05-23T05:27:00+00:00\",\"2014-05-22T13:09:00+00:00\",\"2014-05-17T00:03:00+00:00\",\"2014-04-30T01:35:00+00:00\",\"2014-04-18T19:25:00+00:00\",\"2014-04-10T17:45:00+00:00\",\"2014-04-04T11:44:00+00:00\",\"2014-04-03T14:46:00+00:00\",\"2014-03-22T22:04:00+00:00\",\"2014-02-27T18:37:00+00:00\",\"2014-02-21T01:59:00+00:00\",\"2014-02-06T21:30:00+00:00\",\"2014-01-24T02:33:00+00:00\",\"2014-01-09T18:07:00+00:00\",\"2014-01-06T22:06:00+00:00\",\"2014-01-05T10:48:00+00:00\",\"2013-12-25T00:31:00+00:00\",\"2013-12-06T07:14:00+00:00\",\"2013-12-03T22:41:00+00:00\",\"2013-11-22T12:02:00+00:00\",\"2013-11-21T07:10:00+00:00\",\"2013-11-20T01:15:00+00:00\",\"2013-11-18T18:28:00+00:00\",\"2013-11-05T09:08:00+00:00\",\"2013-09-29T16:00:00+00:00\",\"2013-09-18T08:10:00+00:00\",\"2013-09-13T14:58:00+00:00\",\"2013-09-11T23:23:00+00:00\",\"2013-09-07T03:27:00+00:00\",\"2013-08-29T20:30:00+00:00\",\"2013-08-28T18:03:00+00:00\",\"2013-08-22T14:39:00+00:00\",\"2013-08-03T19:48:00+00:00\",\"2013-07-25T19:54:00+00:00\",\"2013-07-19T13:00:00+00:00\",\"2013-07-02T02:38:00+00:00\",\"2013-07-01T18:11:00+00:00\",\"2013-06-28T02:27:00+00:00\",\"2013-05-15T21:38:00+00:00\",\"2013-05-07T02:06:00+00:00\",\"2013-04-21T21:00:00+00:00\",\"2013-03-19T21:21:00+00:00\",\"2013-03-01T15:10:00+00:00\",\"2013-02-25T12:31:00+00:00\",\"2013-02-11T18:02:00+00:00\",\"2013-02-07T21:36:00+00:00\",\"2013-01-31T01:48:00+00:00\",\"2013-01-27T04:40:00+00:00\",\"2013-01-15T16:24:00+00:00\",\"2012-12-19T21:49:00+00:00\",\"2012-12-11T18:03:00+00:00\",\"2012-12-02T02:02:00+00:00\",\"2012-11-10T21:05:00+00:00\",\"2012-10-08T00:35:00+00:00\",\"2012-10-04T12:10:00+00:00\",\"2012-09-28T21:18:00+00:00\",\"2012-09-13T21:39:00+00:00\",\"2012-09-09T04:23:00+00:00\",\"2012-08-30T08:05:00+00:00\",\"2012-08-02T20:54:00+00:00\",\"2012-07-28T01:35:00+00:00\",\"2012-07-21T02:06:00+00:00\",\"2012-07-05T21:36:00+00:00\",\"2012-06-29T13:15:00+00:00\",\"2012-06-20T12:28:00+00:00\",\"2012-06-13T16:00:00+00:00\",\"2012-05-22T07:44:00+00:00\",\"2012-05-17T16:39:00+00:00\",\"2012-05-15T22:13:00+00:00\",\"2012-05-04T18:42:00+00:00\",\"2012-04-26T00:17:00+00:00\",\"2012-04-26T00:00:00+00:00\",\"2012-02-24T22:15:00+00:00\",\"2012-02-13T10:00:00+00:00\",\"2011-12-17T02:03:00+00:00\",\"2011-12-12T01:21:00+00:00\",\"2011-11-26T15:02:00+00:00\",\"2011-10-12T05:31:00+00:00\",\"2011-09-27T15:49:00+00:00\",\"2011-09-23T04:36:00+00:00\",\"2011-09-21T21:38:00+00:00\",\"2011-09-11T11:17:00+00:00\",\"2011-08-17T07:12:00+00:00\",\"2011-08-06T22:52:00+00:00\",\"2011-08-05T16:25:00+00:00\",\"2011-07-16T06:41:00+00:00\",\"2011-07-15T11:18:00+00:00\",\"2011-07-08T15:29:00+00:00\",\"2011-06-30T03:09:00+00:00\",\"2011-05-20T20:38:00+00:00\",\"2011-05-16T12:56:00+00:00\",\"2011-05-07T18:10:00+00:00\",\"2011-04-22T21:37:00+00:00\",\"2011-04-20T04:42:00+00:00\",\"2011-04-15T04:24:00+00:00\",\"2011-03-11T22:38:00+00:00\",\"2011-03-05T22:46:00+00:00\",\"2011-03-04T10:09:00+00:00\",\"2011-02-24T21:53:00+00:00\",\"2011-02-06T12:26:00+00:00\",\"2011-02-01T14:00:00+00:00\",\"2011-01-22T05:37:00+00:00\",\"2011-01-20T21:10:00+00:00\",\"2010-12-29T21:27:00+00:00\",\"2010-12-25T10:34:00+00:00\",\"2010-12-08T15:43:00+00:00\",\"2010-11-26T18:39:00+00:00\",\"2010-11-21T22:58:00+00:00\",\"2010-11-20T01:25:00+00:00\",\"2010-10-28T23:51:00+00:00\",\"2010-09-26T04:41:00+00:00\",\"2010-09-21T04:03:00+00:00\",\"2010-09-08T03:30:00+00:00\",\"2010-08-14T11:07:00+00:00\",\"2010-08-04T20:45:00+00:00\",\"2010-07-12T03:52:00+00:00\",\"2010-06-26T21:41:00+00:00\",\"2010-06-21T02:14:00+00:00\",\"2010-06-15T14:42:00+00:00\",\"2010-06-04T18:45:00+00:00\",\"2010-06-02T01:59:00+00:00\",\"2010-05-28T03:00:00+00:00\",\"2010-05-21T22:01:00+00:00\",\"2010-05-14T18:20:00+00:00\",\"2010-05-10T21:58:00+00:00\",\"2010-04-22T23:52:00+00:00\",\"2010-04-15T10:57:00+00:00\",\"2010-04-08T13:57:00+00:00\",\"2010-04-05T10:21:00+00:00\",\"2010-03-04T23:57:00+00:00\",\"2010-02-11T15:23:00+00:00\",\"2010-02-08T09:14:00+00:00\",\"2009-11-28T01:21:00+00:00\",\"2009-11-23T06:55:00+00:00\",\"2009-11-16T19:28:00+00:00\",\"2009-11-02T01:50:00+00:00\",\"2009-10-29T20:00:00+00:00\",\"2009-10-28T15:30:00+00:00\",\"2009-10-18T16:12:00+00:00\",\"2009-10-01T21:59:00+00:00\",\"2009-09-23T06:21:00+00:00\",\"2009-09-10T17:01:00+00:00\",\"2009-09-08T21:35:00+00:00\",\"2009-08-28T03:59:00+00:00\",\"2009-08-21T22:09:00+00:00\",\"2009-07-29T18:46:00+00:00\",\"2009-07-15T22:03:00+00:00\",\"2009-07-14T03:35:00+00:00\",\"2009-07-06T01:26:00+00:00\",\"2009-07-01T19:52:00+00:00\",\"2009-06-27T22:51:00+00:00\",\"2009-06-18T17:32:00+00:00\",\"2009-05-19T23:55:00+00:00\",\"2009-05-14T13:12:00+00:00\",\"2009-05-11T18:01:00+00:00\",\"2009-04-20T01:15:00+00:00\",\"2009-04-04T00:31:00+00:00\",\"2009-03-17T14:21:00+00:00\",\"2009-03-15T23:43:00+00:00\",\"2009-02-24T09:55:00+00:00\",\"2009-02-12T22:09:00+00:00\",\"2009-01-23T03:54:00+00:00\",\"2009-01-18T02:47:00+00:00\",\"2008-12-20T22:35:00+00:00\",\"2008-11-15T00:55:00+00:00\",\"2008-11-05T00:15:00+00:00\",\"2008-10-29T16:53:00+00:00\",\"2008-10-25T01:15:00+00:00\",\"2008-10-22T00:52:00+00:00\",\"2008-10-19T17:47:00+00:00\",\"2008-10-01T06:37:00+00:00\",\"2008-09-28T23:15:00+00:00\",\"2008-08-29T07:15:00+00:00\",\"2008-08-14T20:44:00+00:00\",\"2008-08-03T03:34:00+00:00\",\"2008-07-07T21:47:00+00:00\",\"2008-06-12T22:05:00+00:00\",\"2008-05-31T21:02:00+00:00\",\"2008-05-27T03:02:00+00:00\",\"2008-05-23T15:20:00+00:00\",\"2008-04-28T03:53:00+00:00\",\"2008-04-25T15:35:00+00:00\",\"2008-04-18T22:17:00+00:00\",\"2008-04-15T17:01:00+00:00\",\"2008-04-14T20:12:00+00:00\",\"2008-03-13T10:02:00+00:00\",\"2008-03-11T06:28:00+00:00\",\"2008-02-23T08:55:00+00:00\",\"2008-02-07T19:45:00+00:00\",\"2008-01-21T03:45:00+00:00\",\"2007-12-10T22:05:00+00:00\",\"2007-11-14T22:03:00+00:00\",\"2007-11-11T22:48:00+00:00\",\"2007-11-11T01:50:00+00:00\",\"2007-10-23T03:38:00+00:00\",\"2007-10-11T00:22:00+00:00\",\"2007-09-19T03:26:00+00:00\",\"2007-09-02T12:51:00+00:00\",\"2007-08-14T23:44:00+00:00\",\"2007-08-08T22:36:00+00:00\",\"2007-06-28T15:02:00+00:00\",\"2007-06-15T15:11:00+00:00\",\"2007-06-15T02:14:00+00:00\",\"2007-06-08T23:38:00+00:00\",\"2007-05-31T16:08:00+00:00\",\"2007-05-25T07:12:00+00:00\",\"2007-05-13T16:01:00+00:00\",\"2007-05-04T22:29:00+00:00\",\"2007-04-25T20:26:00+00:00\",\"2007-04-24T06:48:00+00:00\",\"2007-04-23T10:00:00+00:00\",\"2007-04-17T06:46:00+00:00\",\"2007-04-13T20:11:00+00:00\",\"2007-04-11T03:27:00+00:00\",\"2007-03-21T01:10:00+00:00\",\"2007-03-11T22:03:00+00:00\",\"2007-03-09T03:10:00+00:00\",\"2007-02-02T16:28:00+00:00\",\"2007-01-10T03:54:00+00:00\",\"2006-12-16T12:00:00+00:00\",\"2006-12-10T00:47:00+00:00\",\"2006-12-08T22:08:00+00:00\",\"2006-12-08T00:53:00+00:00\",\"2006-11-04T13:53:00+00:00\",\"2006-10-23T23:34:00+00:00\",\"2006-10-13T20:56:00+00:00\",\"2006-09-12T16:02:00+00:00\",\"2006-09-11T04:35:00+00:00\",\"2006-09-09T15:14:00+00:00\",\"2006-09-09T07:00:00+00:00\",\"2006-08-11T22:15:00+00:00\",\"2006-07-28T07:05:00+00:00\",\"2006-07-26T19:43:00+00:00\",\"2006-07-12T14:53:00+00:00\",\"2006-07-10T12:08:00+00:00\",\"2006-07-04T18:37:00+00:00\",\"2006-06-28T03:33:00+00:00\",\"2006-05-27T21:09:00+00:00\",\"2006-05-24T22:11:00+00:00\",\"2006-04-26T22:48:00+00:00\",\"2006-04-20T20:27:00+00:00\",\"2006-04-15T01:40:00+00:00\",\"2006-03-28T20:10:00+00:00\",\"2006-03-24T21:30:00+00:00\",\"2006-03-11T22:33:00+00:00\",\"2006-01-19T19:00:00+00:00\",\"2005-11-16T23:46:00+00:00\",\"2005-10-08T15:02:00+00:00\",\"2005-09-22T19:24:00+00:00\",\"2005-08-29T08:45:00+00:00\",\"2005-08-26T18:34:00+00:00\",\"2005-08-23T21:09:00+00:00\",\"2005-08-12T11:43:00+00:00\",\"2005-08-02T07:30:00+00:00\",\"2005-07-26T14:39:00+00:00\",\"2005-07-05T22:40:00+00:00\",\"2005-05-05T04:45:00+00:00\",\"2005-04-15T17:27:00+00:00\",\"2005-04-11T13:35:00+00:00\",\"2005-03-11T21:42:00+00:00\",\"2005-02-12T21:03:00+00:00\",\"2004-12-21T21:50:00+00:00\",\"2004-12-18T16:26:00+00:00\",\"2004-12-17T12:07:00+00:00\",\"2004-11-18T10:45:00+00:00\",\"2004-11-08T18:29:00+00:00\",\"2004-11-06T03:10:00+00:00\",\"2004-10-19T01:20:00+00:00\",\"2004-09-27T08:00:00+00:00\",\"2004-09-20T10:31:00+00:00\",\"2004-09-08T23:14:00+00:00\",\"2004-08-29T07:50:00+00:00\",\"2004-07-25T07:05:00+00:00\",\"2004-07-18T00:44:00+00:00\",\"2004-06-29T06:30:00+00:00\",\"2004-05-20T17:47:00+00:00\",\"2004-04-18T15:59:00+00:00\",\"2004-03-02T07:17:00+00:00\",\"2003-12-29T19:06:00+00:00\",\"2003-11-14T16:01:00+00:00\",\"2003-11-03T07:20:00+00:00\",\"2003-10-30T13:43:00+00:00\",\"2003-10-21T03:16:00+00:00\",\"2003-10-18T16:17:00+00:00\",\"2003-10-17T04:52:00+00:00\",\"2003-08-29T23:13:00+00:00\",\"2003-08-13T02:09:00+00:00\",\"2003-07-17T23:45:00+00:00\",\"2003-06-30T14:15:00+00:00\",\"2003-06-26T18:55:00+00:00\",\"2003-05-24T16:34:00+00:00\",\"2003-05-13T22:10:00+00:00\",\"2003-05-08T11:28:00+00:00\",\"2003-04-28T12:00:00+00:00\",\"2003-03-11T00:59:00+00:00\",\"2003-01-25T20:13:00+00:00\",\"2003-01-16T15:39:00+00:00\",\"2003-01-06T14:19:00+00:00\",\"2002-12-20T00:00:00+00:00\",\"2002-12-14T01:31:00+00:00\",\"2002-12-11T22:22:00+00:00\",\"2002-11-24T00:49:00+00:00\",\"2002-11-20T22:39:00+00:00\",\"2002-10-27T03:17:00+00:00\",\"2002-10-07T19:45:00+00:00\",\"2002-09-12T10:23:00+00:00\",\"2002-08-21T22:05:00+00:00\",\"2002-06-24T18:23:00+00:00\",\"2002-06-20T09:33:00+00:00\",\"2002-06-05T21:22:00+00:00\",\"2002-05-15T01:50:00+00:00\",\"2002-04-08T20:44:00+00:00\",\"2002-03-17T09:21:00+00:00\",\"2002-03-01T11:22:00+00:00\",\"2002-02-05T20:58:00+00:00\",\"2001-12-05T22:19:00+00:00\",\"2001-10-22T10:23:00+00:00\",\"2001-09-21T18:49:00+00:00\",\"2001-08-29T07:00:00+00:00\",\"2001-08-10T21:10:00+00:00\",\"2001-07-12T09:03:00+00:00\",\"2001-04-19T18:40:00+00:00\",\"2001-04-18T10:13:00+00:00\",\"2001-03-08T11:42:00+00:00\",\"2001-02-07T23:13:00+00:00\",\"2000-12-20T16:20:00+00:00\",\"2000-11-30T03:06:00+00:00\",\"2000-10-30T16:02:00+00:00\",\"2000-10-11T23:17:00+00:00\",\"2000-10-09T05:38:00+00:00\",\"2000-09-26T10:05:00+00:00\",\"2000-09-21T10:22:00+00:00\",\"2000-09-08T12:45:00+00:00\",\"2000-07-19T20:09:00+00:00\",\"2000-06-07T13:19:00+00:00\",\"2000-05-19T10:11:00+00:00\",\"2000-05-16T08:27:00+00:00\",\"2000-03-12T09:29:00+00:00\",\"2000-02-11T16:43:00+00:00\",\"2000-01-27T03:03:00+00:00\",\"2000-01-25T16:45:00+00:00\",\"1999-12-31T07:13:00+00:00\",\"1999-12-20T00:50:00+00:00\",\"1999-12-12T17:36:00+00:00\",\"1999-12-04T18:53:00+00:00\",\"1999-10-14T03:15:00+00:00\",\"1999-07-23T04:31:00+00:00\",\"1999-06-20T02:15:00+00:00\",\"1999-06-11T17:15:00+00:00\",\"1999-05-29T11:52:00+00:00\",\"1999-05-27T10:49:00+00:00\",\"1999-05-18T05:09:00+00:00\",\"1999-05-10T01:33:00+00:00\",\"1999-04-21T00:00:00+00:00\",\"1999-03-05T02:56:00+00:00\",\"1998-12-19T11:39:00+00:00\",\"1998-12-06T00:57:00+00:00\",\"1998-12-04T08:35:00+00:00\",\"1998-10-29T19:19:00+00:00\",\"1998-10-22T00:02:00+00:00\",\"1998-10-03T10:04:00+00:00\",\"1998-09-23T05:06:00+00:00\",\"1998-08-19T23:01:00+00:00\",\"1998-08-02T16:24:00+00:00\",\"1998-06-02T22:06:00+00:00\",\"1998-05-13T15:52:00+00:00\",\"1998-05-02T09:16:00+00:00\",\"1998-04-17T18:19:00+00:00\",\"1998-04-02T16:24:00+00:00\",\"1998-03-25T17:01:00+00:00\",\"1998-02-26T07:07:00+00:00\",\"1998-02-10T13:20:00+00:00\",\"1998-01-22T02:48:00+00:00\",\"1997-12-23T19:11:00+00:00\",\"1997-12-08T07:16:00+00:00\",\"1997-11-19T19:46:00+00:00\",\"1997-10-22T13:13:00+00:00\",\"1997-09-29T10:20:00+00:00\",\"1997-09-25T14:34:00+00:00\",\"1997-09-01T14:00:00+00:00\",\"1997-08-29T15:02:00+00:00\",\"1997-08-07T14:41:00+00:00\",\"1997-08-01T20:20:00+00:00\",\"1997-07-01T18:02:00+00:00\",\"1997-05-15T08:07:00+00:00\",\"1997-05-11T16:17:00+00:00\",\"1997-04-21T11:59:00+00:00\",\"1997-04-04T19:20:00+00:00\",\"1997-04-04T16:47:00+00:00\",\"1997-02-11T08:55:00+00:00\",\"1997-01-12T09:27:00+00:00\",\"1996-12-07T11:49:00+00:00\",\"1996-11-04T17:08:00+00:00\",\"1996-10-20T07:20:00+00:00\",\"1996-09-16T08:54:00+00:00\",\"1996-08-21T09:47:00+00:00\",\"1996-07-02T07:48:00+00:00\",\"1996-06-20T14:49:00+00:00\",\"1996-05-19T10:30:00+00:00\",\"1996-05-17T02:44:00+00:00\",\"1996-03-22T08:13:00+00:00\",\"1996-03-21T04:53:00+00:00\",\"1996-03-09T01:53:00+00:00\",\"1996-02-22T20:18:00+00:00\",\"1996-01-11T09:41:00+00:00\",\"1995-11-12T12:30:00+00:00\",\"1995-10-23T22:03:00+00:00\",\"1995-10-20T13:53:00+00:00\",\"1995-09-07T15:09:00+00:00\",\"1995-07-13T13:41:00+00:00\",\"1995-06-27T19:32:00+00:00\",\"1995-06-22T19:58:00+00:00\",\"1995-04-03T13:48:00+00:00\",\"1995-03-02T06:38:00+00:00\",\"1995-02-03T05:22:00+00:00\",\"1994-11-29T17:02:00+00:00\",\"1994-11-03T16:59:00+00:00\",\"1994-10-15T05:05:00+00:00\",\"1994-09-30T11:16:00+00:00\",\"1994-09-09T22:22:00+00:00\",\"1994-09-03T14:38:00+00:00\",\"1994-07-08T04:43:00+00:00\",\"1994-07-03T08:00:00+00:00\",\"1994-06-27T21:15:00+00:00\",\"1994-05-19T17:03:00+00:00\",\"1994-04-09T11:05:00+00:00\",\"1994-03-13T22:32:00+00:00\",\"1994-03-04T13:53:00+00:00\",\"1994-02-08T08:34:00+00:00\",\"1994-02-03T12:10:00+00:00\",\"1994-01-25T16:34:00+00:00\",\"1993-12-02T09:27:00+00:00\",\"1993-10-18T14:53:00+00:00\",\"1993-10-08T08:00:00+00:00\",\"1993-10-05T17:56:00+00:00\",\"1993-09-20T05:12:00+00:00\",\"1993-09-12T11:45:00+00:00\",\"1993-06-21T13:07:00+00:00\",\"1993-04-26T14:50:00+00:00\",\"1993-04-25T13:56:00+00:00\",\"1993-04-08T05:29:00+00:00\",\"1993-02-09T14:30:00+00:00\",\"1993-01-13T13:59:00+00:00\",\"1992-12-02T13:24:00+00:00\",\"1992-10-22T17:09:00+00:00\",\"1992-10-06T06:20:00+00:00\",\"1992-09-25T17:05:00+00:00\",\"1992-09-12T14:23:00+00:00\",\"1992-08-09T08:00:00+00:00\",\"1992-07-31T13:56:00+00:00\",\"1992-06-25T16:12:00+00:00\",\"1992-05-07T23:40:00+00:00\",\"1992-04-25T08:53:00+00:00\",\"1992-03-24T13:13:00+00:00\",\"1992-01-22T14:52:00+00:00\",\"1991-11-24T23:44:00+00:00\",\"1991-09-12T23:11:00+00:00\",\"1991-08-02T15:02:00+00:00\",\"1991-07-21T17:33:00+00:00\",\"1991-06-05T13:24:00+00:00\",\"1991-04-28T11:33:00+00:00\",\"1991-04-05T14:22:00+00:00\",\"1990-12-02T06:49:00+00:00\",\"1990-11-15T23:48:00+00:00\",\"1990-10-06T11:47:00+00:00\",\"1990-10-05T06:14:00+00:00\",\"1990-06-23T11:19:00+00:00\",\"1990-04-24T12:33:00+00:00\",\"1990-04-05T19:10:00+00:00\",\"1990-03-14T11:52:00+00:00\",\"1990-02-28T07:50:00+00:00\",\"1990-01-09T12:35:00+00:00\",\"1990-01-01T00:07:00+00:00\",\"1989-11-23T00:23:00+00:00\",\"1989-10-18T16:53:00+00:00\",\"1989-09-06T01:48:00+00:00\",\"1989-08-08T12:37:00+00:00\",\"1989-05-04T18:46:00+00:00\",\"1989-03-13T14:57:00+00:00\",\"1988-12-02T14:30:00+00:00\",\"1988-11-15T03:00:00+00:00\",\"1988-09-29T15:37:00+00:00\",\"1988-09-05T09:25:00+00:00\",\"1988-08-05T07:29:00+00:00\",\"1987-09-09T07:15:00+00:00\",\"1987-08-05T06:39:00+00:00\",\"1987-05-15T17:30:00+00:00\",\"1986-10-06T05:40:00+00:00\",\"1986-01-28T16:38:00+00:00\",\"1986-01-12T11:55:00+00:00\",\"1985-11-27T00:29:00+00:00\",\"1985-11-06T17:00:00+00:00\",\"1985-10-21T05:04:00+00:00\",\"1985-10-03T15:15:00+00:00\",\"1985-08-27T10:58:00+00:00\",\"1985-07-25T21:00:00+00:00\",\"1985-06-17T11:33:00+00:00\",\"1985-05-06T16:02:00+00:00\",\"1985-04-12T13:59:00+00:00\",\"1985-01-24T19:50:00+00:00\",\"1984-11-08T12:15:00+00:00\",\"1984-10-05T11:03:00+00:00\",\"1984-09-12T05:44:00+00:00\",\"1984-08-30T12:41:00+00:00\",\"1984-04-06T13:58:00+00:00\",\"1984-02-03T13:00:00+00:00\",\"1983-11-28T16:00:00+00:00\",\"1983-09-05T07:40:00+00:00\",\"1983-08-19T06:00:00+00:00\",\"1983-06-18T11:33:00+00:00\",\"1983-04-04T18:30:00+00:00\",\"1982-11-11T12:19:00+00:00\",\"1982-09-09T07:19:00+00:00\",\"1982-06-27T16:09:00+00:00\",\"1982-03-22T16:00:00+00:00\",\"1981-11-12T15:09:00+00:00\",\"1981-04-12T12:00:00+00:00\",\"1973-05-14T17:30:00+00:00\",\"1972-12-19T19:24:00+00:00\",\"1972-04-16T17:54:00+00:00\",\"1971-07-26T13:34:00+00:00\",\"1971-01-31T21:03:00+00:00\",\"1970-04-11T19:13:00+00:00\",\"1969-11-14T16:22:00+00:00\",\"1969-07-16T13:32:00+00:00\",\"1969-06-03T16:49:00+00:00\",\"1969-05-18T16:49:00+00:00\",\"1969-04-15T17:30:00+00:00\",\"1969-03-04T19:30:00+00:00\",\"1969-03-03T16:00:00+00:00\",\"1969-01-22T19:10:00+00:00\",\"1968-12-21T12:51:00+00:00\",\"1968-12-04T19:23:00+00:00\",\"1968-11-06T19:10:00+00:00\",\"1968-08-06T18:30:00+00:00\",\"1968-08-06T16:33:00+00:00\",\"1968-06-05T17:31:00+00:00\",\"1968-04-17T17:00:00+00:00\",\"1968-04-04T12:00:00+00:00\",\"1968-03-13T19:55:00+00:00\",\"1968-01-18T19:04:00+00:00\",\"1967-12-05T18:45:00+00:00\",\"1967-11-09T12:00:00+00:00\",\"1967-10-25T19:15:00+00:00\",\"1967-09-19T18:28:00+00:00\",\"1967-08-16T17:02:00+00:00\",\"1967-06-20T16:19:00+00:00\",\"1967-04-26T00:00:00+00:00\",\"1967-02-24T19:55:00+00:00\",\"1966-12-14T18:14:00+00:00\",\"1966-09-28T19:12:00+00:00\",\"1966-07-29T18:43:00+00:00\",\"1965-05-06T15:00:00+00:00\",\"1965-02-11T15:19:00+00:00\",\"1964-12-10T16:52:00+00:00\",\"1964-09-01T15:00:00+00:00\"],\"xaxis\":\"x\",\"y\":[50.0,29.75,65.0,145.0,64.68,48.5,50.0,90.0,46.0,28.3,29.15,29.75,7.5,64.68,50.0,29.15,29.75,50.0,7.5,30.8,50.0,29.75,50.0,5.3,12.0,112.5,120.0,48.5,50.0,29.15,48.5,153.0,30.8,48.5,50.0,29.15,50.0,48.5,29.75,200.0,50.0,85.0,115.0,90.0,48.5,7.5,50.0,50.0,200.0,29.75,29.15,50.0,41.8,65.0,64.68,50.0,21.0,48.5,48.5,7.5,50.0,64.68,31.0,200.0,50.0,29.15,64.68,85.0,29.15,7.5,40.0,65.0,64.68,48.5,29.75,112.5,5.3,64.68,41.8,164.0,48.5,7.5,29.15,7.5,153.0,50.0,200.0,65.0,48.5,48.5,30.8,50.0,62.0,65.0,37.0,7.5,90.0,29.15,200.0,50.0,5.3,65.0,50.0,64.68,21.0,7.5,50.0,64.68,29.15,85.0,90.0,48.5,21.0,29.15,7.5,37.0,29.15,50.0,50.0,200.0,5.3,350.0,39.0,50.0,29.15,48.5,50.0,5.3,65.0,47.0,7.5,29.15,29.75,50.0,200.0,50.0,41.8,21.0,37.0,29.75,85.0,50.0,62.0,7.5,48.5,29.15,90.0,30.8,35.0,64.68,200.0,153.0,30.8,50.0,200.0,112.5,21.0,50.0,30.8,37.0,350.0,50.0,64.68,50.0,50.0,48.5,69.7,30.8,62.0,30.8,90.0,69.7,62.0,29.75,62.0,85.0,64.68,50.0,64.68,109.0,29.15,5.3,41.8,62.0,65.0,153.0,31.0,64.68,200.0,62.0,64.68,62.0,47.0,29.75,62.0,145.0,90.0,62.0,48.5,90.0,29.75,48.5,62.0,200.0,30.8,7.5,115.0,5.3,39.0,29.75,31.0,29.75,62.0,30.8,29.75,62.0,90.0,62.0,29.15,29.75,35.0,30.8,64.68,85.0,37.0,45.0,62.0,123.0,48.5,41.8,62.0,90.0,62.0,29.75,200.0,30.8,65.0,145.0,65.0,62.0,31.0,46.0,62.0,109.0,65.0,62.0,37.0,48.5,62.0,200.0,62.0,62.0,31.0,29.15,64.68,48.5,65.0,62.0,62.0,200.0,90.0,7.5,62.0,47.0,200.0,62.0,109.0,29.15,62.0,90.0,62.0,37.0,109.0,62.0,31.0,200.0,109.0,62.0,29.15,29.75,200.0,29.75,130.0,40.0,29.15,112.5,31.0,37.0,145.0,29.75,109.0,5.3,90.0,85.0,200.0,25.0,37.0,115.0,47.0,62.0,64.68,200.0,164.0,29.75,62.0,64.68,29.15,123.0,62.0,64.68,153.0,31.0,200.0,62.0,350.0,65.0,41.8,64.68,48.5,62.0,29.75,62.0,31.0,62.0,29.75,48.5,69.7,48.5,109.0,65.0,35.0,31.0,200.0,62.0,90.0,41.8,48.5,109.0,65.0,200.0,31.0,56.5,29.15,62.0,21.0,109.0,37.0,200.0,15.0,109.0,109.0,123.0,200.0,31.0,5.3,41.8,153.0,47.0,200.0,112.5,200.0,109.0,31.0,56.5,37.0,200.0,120.0,56.5,200.0,56.5,41.8,31.0,90.0,29.0,164.0,123.0,56.5,56.5,37.0,90.0,153.0,56.5,62.0,145.0,200.0,350.0,90.0,29.0,109.0,80.0,200.0,31.0,90.0,56.5,109.0,200.0,56.5,109.0,56.5,109.0,164.0,56.5,80.0,41.8,21.0,29.0,90.0,41.8,109.0,164.0,37.0,56.5,145.0,31.0,109.0,200.0,90.0,164.0,200.0,109.0,80.0,56.5,47.0,41.8,120.0,56.5,41.8,29.0,40.0,109.0,31.0,56.5,140.0,80.0,41.8,55.0,200.0,350.0,29.0,112.5,200.0,153.0,65.0,31.0,40.0,109.0,37.0,80.0,109.0,59.5,21.0,109.0,200.0,109.0,90.0,41.8,200.0,120.0,80.0,200.0,59.5,164.0,200.0,109.0,21.0,109.0,200.0,41.8,112.5,200.0,350.0,109.0,40.0,59.5,90.0,200.0,140.0,31.0,31.0,153.0,37.0,80.0,90.0,145.0,21.0,46.0,90.0,200.0,90.0,29.0,200.0,153.0,164.0,31.0,450.0,40.0,200.0,450.0,109.0,200.0,25.0,115.0,164.0,120.0,45.0,450.0,40.0,41.8,112.5,350.0,200.0,47.0,59.5,200.0,350.0,46.0,200.0,46.0,120.0,41.8,140.0,200.0,21.0,200.0,29.0,29.0,59.5,41.8,164.0,200.0,450.0,90.0,120.0,47.0,29.0,450.0,164.0,109.0,450.0,90.0,130.0,450.0,41.8,200.0,450.0,109.0,200.0,21.0,112.5,109.0,450.0,200.0,29.0,450.0,7.0,41.8,200.0,164.0,123.0,40.0,200.0,450.0,21.0,123.0,41.8,450.0,45.0,200.0,90.0,350.0,200.0,450.0,29.75,29.15,64.68,31.0,40.0,29.0,7.0,29.0,200.0,7.0,200.0,200.0,450.0,64.68,41.8,21.0,20.14,200.0,40.0,123.0,115.0,450.0,90.0,450.0,21.0,109.0,200.0,64.68,350.0,450.0,123.0,64.68,47.0,200.0,450.0,29.0,109.0,29.0,450.0,69.7,29.75,29.15,200.0,40.0,40.0,21.0,29.0,69.7,30.8,7.0,200.0,109.0,69.7,25.0,40.0,450.0,200.0,69.7,133.0,64.68,200.0,69.7,90.0,450.0,30.8,200.0,41.8,29.0,29.0,47.0,450.0,164.0,200.0,164.0,64.68,115.0,40.0,40.0,7.0,200.0,153.0,200.0,41.8,40.0,29.75,41.8,29.0,109.0,30.8,450.0,29.75,25.0,40.0,40.0,130.0,200.0,350.0,190.0,135.0,30.8,48.5,64.68,69.7,29.75,47.0,64.68,30.8,30.8,190.0,29.0,45.0,30.8,190.0,30.8,69.7,29.75,41.8,64.68,35.0,25.0,133.0,40.0,135.0,41.8,40.0,69.7,109.0,47.0,40.0,133.0,40.0,450.0,35.0,29.0,90.0,200.0,450.0,164.0,64.68,450.0,25.0,109.0,35.0,41.8,450.0,64.68,450.0,41.8,450.0,40.0,450.0,25.0,45.0,90.0,450.0,450.0,450.0,47.0,450.0,450.0,69.7,450.0,69.7,450.0,40.0,29.0,35.0,450.0,40.0,40.0,450.0,41.8,45.0,450.0,40.0,69.7,45.0,450.0,35.0,40.0,64.68,450.0,35.0,30.8,25.0,450.0,40.0,64.68,29.0,40.0,30.8,40.0,450.0,450.0,40.0,45.0,40.0,30.8,40.0,450.0,35.0,30.8,450.0,40.0,30.8,40.0,45.0,450.0,40.0,30.8,450.0,40.0,25.0,450.0,30.8,40.0,450.0,40.0,450.0,450.0,69.7,40.0,450.0,35.0,450.0,450.0,450.0,40.0,29.75,450.0,40.0,40.0,450.0,450.0,40.0,450.0,25.0,40.0,450.0,450.0,450.0,20.0,450.0,450.0,450.0,450.0,40.0,40.0,450.0,450.0,69.7,450.0,25.0,450.0,450.0,40.0,450.0,29.75,40.0,40.0,450.0,45.0,450.0,69.7,450.0,35.0,450.0,450.0,30.8,35.0,25.0,450.0,450.0,450.0,40.0,450.0,40.0,450.0,450.0,450.0,30.8,136.6,450.0,29.75,450.0,450.0,450.0,35.0,450.0,450.0,450.0,450.0,450.0,40.0,450.0,450.0,450.0,450.0,450.0,450.0,30.8,136.6,450.0,40.0,136.6,450.0,450.0,136.6,450.0,450.0,35.0,450.0,450.0,450.0,450.0,5000.0,450.0,35.0,30.8,30.8,30.8,5000.0,30.8,450.0,450.0,450.0,450.0,30.8,450.0,450.0,450.0,450.0,450.0,450.0,450.0,450.0,450.0,30.8,450.0,450.0,450.0,450.0,450.0,30.8,450.0,450.0,450.0,30.8,450.0,450.0,450.0,450.0,1160.0,1160.0,1160.0,1160.0,1160.0,1160.0,1160.0,1160.0,59.0,1160.0,59.0,59.0,1160.0,59.0,1160.0,59.0,59.0,59.0,59.0,59.0,59.0,1160.0,59.0,59.0,59.0,1160.0,59.0,59.0,59.0,59.0,59.0,59.0,59.0,59.0,59.0,63.23,63.23,63.23,63.23],\"yaxis\":\"y\"}],                        {\"barmode\":\"relative\",\"legend\":{\"tracegroupgap\":0},\"template\":{\"data\":{\"bar\":[{\"error_x\":{\"color\":\"#2a3f5f\"},\"error_y\":{\"color\":\"#2a3f5f\"},\"marker\":{\"line\":{\"color\":\"#E5ECF6\",\"width\":0.5},\"pattern\":{\"fillmode\":\"overlay\",\"size\":10,\"solidity\":0.2}},\"type\":\"bar\"}],\"barpolar\":[{\"marker\":{\"line\":{\"color\":\"#E5ECF6\",\"width\":0.5},\"pattern\":{\"fillmode\":\"overlay\",\"size\":10,\"solidity\":0.2}},\"type\":\"barpolar\"}],\"carpet\":[{\"aaxis\":{\"endlinecolor\":\"#2a3f5f\",\"gridcolor\":\"white\",\"linecolor\":\"white\",\"minorgridcolor\":\"white\",\"startlinecolor\":\"#2a3f5f\"},\"baxis\":{\"endlinecolor\":\"#2a3f5f\",\"gridcolor\":\"white\",\"linecolor\":\"white\",\"minorgridcolor\":\"white\",\"startlinecolor\":\"#2a3f5f\"},\"type\":\"carpet\"}],\"choropleth\":[{\"colorbar\":{\"outlinewidth\":0,\"ticks\":\"\"},\"type\":\"choropleth\"}],\"contour\":[{\"colorbar\":{\"outlinewidth\":0,\"ticks\":\"\"},\"colorscale\":[[0.0,\"#0d0887\"],[0.1111111111111111,\"#46039f\"],[0.2222222222222222,\"#7201a8\"],[0.3333333333333333,\"#9c179e\"],[0.4444444444444444,\"#bd3786\"],[0.5555555555555556,\"#d8576b\"],[0.6666666666666666,\"#ed7953\"],[0.7777777777777778,\"#fb9f3a\"],[0.8888888888888888,\"#fdca26\"],[1.0,\"#f0f921\"]],\"type\":\"contour\"}],\"contourcarpet\":[{\"colorbar\":{\"outlinewidth\":0,\"ticks\":\"\"},\"type\":\"contourcarpet\"}],\"heatmap\":[{\"colorbar\":{\"outlinewidth\":0,\"ticks\":\"\"},\"colorscale\":[[0.0,\"#0d0887\"],[0.1111111111111111,\"#46039f\"],[0.2222222222222222,\"#7201a8\"],[0.3333333333333333,\"#9c179e\"],[0.4444444444444444,\"#bd3786\"],[0.5555555555555556,\"#d8576b\"],[0.6666666666666666,\"#ed7953\"],[0.7777777777777778,\"#fb9f3a\"],[0.8888888888888888,\"#fdca26\"],[1.0,\"#f0f921\"]],\"type\":\"heatmap\"}],\"heatmapgl\":[{\"colorbar\":{\"outlinewidth\":0,\"ticks\":\"\"},\"colorscale\":[[0.0,\"#0d0887\"],[0.1111111111111111,\"#46039f\"],[0.2222222222222222,\"#7201a8\"],[0.3333333333333333,\"#9c179e\"],[0.4444444444444444,\"#bd3786\"],[0.5555555555555556,\"#d8576b\"],[0.6666666666666666,\"#ed7953\"],[0.7777777777777778,\"#fb9f3a\"],[0.8888888888888888,\"#fdca26\"],[1.0,\"#f0f921\"]],\"type\":\"heatmapgl\"}],\"histogram\":[{\"marker\":{\"pattern\":{\"fillmode\":\"overlay\",\"size\":10,\"solidity\":0.2}},\"type\":\"histogram\"}],\"histogram2d\":[{\"colorbar\":{\"outlinewidth\":0,\"ticks\":\"\"},\"colorscale\":[[0.0,\"#0d0887\"],[0.1111111111111111,\"#46039f\"],[0.2222222222222222,\"#7201a8\"],[0.3333333333333333,\"#9c179e\"],[0.4444444444444444,\"#bd3786\"],[0.5555555555555556,\"#d8576b\"],[0.6666666666666666,\"#ed7953\"],[0.7777777777777778,\"#fb9f3a\"],[0.8888888888888888,\"#fdca26\"],[1.0,\"#f0f921\"]],\"type\":\"histogram2d\"}],\"histogram2dcontour\":[{\"colorbar\":{\"outlinewidth\":0,\"ticks\":\"\"},\"colorscale\":[[0.0,\"#0d0887\"],[0.1111111111111111,\"#46039f\"],[0.2222222222222222,\"#7201a8\"],[0.3333333333333333,\"#9c179e\"],[0.4444444444444444,\"#bd3786\"],[0.5555555555555556,\"#d8576b\"],[0.6666666666666666,\"#ed7953\"],[0.7777777777777778,\"#fb9f3a\"],[0.8888888888888888,\"#fdca26\"],[1.0,\"#f0f921\"]],\"type\":\"histogram2dcontour\"}],\"mesh3d\":[{\"colorbar\":{\"outlinewidth\":0,\"ticks\":\"\"},\"type\":\"mesh3d\"}],\"parcoords\":[{\"line\":{\"colorbar\":{\"outlinewidth\":0,\"ticks\":\"\"}},\"type\":\"parcoords\"}],\"pie\":[{\"automargin\":true,\"type\":\"pie\"}],\"scatter\":[{\"marker\":{\"colorbar\":{\"outlinewidth\":0,\"ticks\":\"\"}},\"type\":\"scatter\"}],\"scatter3d\":[{\"line\":{\"colorbar\":{\"outlinewidth\":0,\"ticks\":\"\"}},\"marker\":{\"colorbar\":{\"outlinewidth\":0,\"ticks\":\"\"}},\"type\":\"scatter3d\"}],\"scattercarpet\":[{\"marker\":{\"colorbar\":{\"outlinewidth\":0,\"ticks\":\"\"}},\"type\":\"scattercarpet\"}],\"scattergeo\":[{\"marker\":{\"colorbar\":{\"outlinewidth\":0,\"ticks\":\"\"}},\"type\":\"scattergeo\"}],\"scattergl\":[{\"marker\":{\"colorbar\":{\"outlinewidth\":0,\"ticks\":\"\"}},\"type\":\"scattergl\"}],\"scattermapbox\":[{\"marker\":{\"colorbar\":{\"outlinewidth\":0,\"ticks\":\"\"}},\"type\":\"scattermapbox\"}],\"scatterpolar\":[{\"marker\":{\"colorbar\":{\"outlinewidth\":0,\"ticks\":\"\"}},\"type\":\"scatterpolar\"}],\"scatterpolargl\":[{\"marker\":{\"colorbar\":{\"outlinewidth\":0,\"ticks\":\"\"}},\"type\":\"scatterpolargl\"}],\"scatterternary\":[{\"marker\":{\"colorbar\":{\"outlinewidth\":0,\"ticks\":\"\"}},\"type\":\"scatterternary\"}],\"surface\":[{\"colorbar\":{\"outlinewidth\":0,\"ticks\":\"\"},\"colorscale\":[[0.0,\"#0d0887\"],[0.1111111111111111,\"#46039f\"],[0.2222222222222222,\"#7201a8\"],[0.3333333333333333,\"#9c179e\"],[0.4444444444444444,\"#bd3786\"],[0.5555555555555556,\"#d8576b\"],[0.6666666666666666,\"#ed7953\"],[0.7777777777777778,\"#fb9f3a\"],[0.8888888888888888,\"#fdca26\"],[1.0,\"#f0f921\"]],\"type\":\"surface\"}],\"table\":[{\"cells\":{\"fill\":{\"color\":\"#EBF0F8\"},\"line\":{\"color\":\"white\"}},\"header\":{\"fill\":{\"color\":\"#C8D4E3\"},\"line\":{\"color\":\"white\"}},\"type\":\"table\"}]},\"layout\":{\"annotationdefaults\":{\"arrowcolor\":\"#2a3f5f\",\"arrowhead\":0,\"arrowwidth\":1},\"autotypenumbers\":\"strict\",\"coloraxis\":{\"colorbar\":{\"outlinewidth\":0,\"ticks\":\"\"}},\"colorscale\":{\"diverging\":[[0,\"#8e0152\"],[0.1,\"#c51b7d\"],[0.2,\"#de77ae\"],[0.3,\"#f1b6da\"],[0.4,\"#fde0ef\"],[0.5,\"#f7f7f7\"],[0.6,\"#e6f5d0\"],[0.7,\"#b8e186\"],[0.8,\"#7fbc41\"],[0.9,\"#4d9221\"],[1,\"#276419\"]],\"sequential\":[[0.0,\"#0d0887\"],[0.1111111111111111,\"#46039f\"],[0.2222222222222222,\"#7201a8\"],[0.3333333333333333,\"#9c179e\"],[0.4444444444444444,\"#bd3786\"],[0.5555555555555556,\"#d8576b\"],[0.6666666666666666,\"#ed7953\"],[0.7777777777777778,\"#fb9f3a\"],[0.8888888888888888,\"#fdca26\"],[1.0,\"#f0f921\"]],\"sequentialminus\":[[0.0,\"#0d0887\"],[0.1111111111111111,\"#46039f\"],[0.2222222222222222,\"#7201a8\"],[0.3333333333333333,\"#9c179e\"],[0.4444444444444444,\"#bd3786\"],[0.5555555555555556,\"#d8576b\"],[0.6666666666666666,\"#ed7953\"],[0.7777777777777778,\"#fb9f3a\"],[0.8888888888888888,\"#fdca26\"],[1.0,\"#f0f921\"]]},\"colorway\":[\"#636efa\",\"#EF553B\",\"#00cc96\",\"#ab63fa\",\"#FFA15A\",\"#19d3f3\",\"#FF6692\",\"#B6E880\",\"#FF97FF\",\"#FECB52\"],\"font\":{\"color\":\"#2a3f5f\"},\"geo\":{\"bgcolor\":\"white\",\"lakecolor\":\"white\",\"landcolor\":\"#E5ECF6\",\"showlakes\":true,\"showland\":true,\"subunitcolor\":\"white\"},\"hoverlabel\":{\"align\":\"left\"},\"hovermode\":\"closest\",\"mapbox\":{\"style\":\"light\"},\"paper_bgcolor\":\"white\",\"plot_bgcolor\":\"#E5ECF6\",\"polar\":{\"angularaxis\":{\"gridcolor\":\"white\",\"linecolor\":\"white\",\"ticks\":\"\"},\"bgcolor\":\"#E5ECF6\",\"radialaxis\":{\"gridcolor\":\"white\",\"linecolor\":\"white\",\"ticks\":\"\"}},\"scene\":{\"xaxis\":{\"backgroundcolor\":\"#E5ECF6\",\"gridcolor\":\"white\",\"gridwidth\":2,\"linecolor\":\"white\",\"showbackground\":true,\"ticks\":\"\",\"zerolinecolor\":\"white\"},\"yaxis\":{\"backgroundcolor\":\"#E5ECF6\",\"gridcolor\":\"white\",\"gridwidth\":2,\"linecolor\":\"white\",\"showbackground\":true,\"ticks\":\"\",\"zerolinecolor\":\"white\"},\"zaxis\":{\"backgroundcolor\":\"#E5ECF6\",\"gridcolor\":\"white\",\"gridwidth\":2,\"linecolor\":\"white\",\"showbackground\":true,\"ticks\":\"\",\"zerolinecolor\":\"white\"}},\"shapedefaults\":{\"line\":{\"color\":\"#2a3f5f\"}},\"ternary\":{\"aaxis\":{\"gridcolor\":\"white\",\"linecolor\":\"white\",\"ticks\":\"\"},\"baxis\":{\"gridcolor\":\"white\",\"linecolor\":\"white\",\"ticks\":\"\"},\"bgcolor\":\"#E5ECF6\",\"caxis\":{\"gridcolor\":\"white\",\"linecolor\":\"white\",\"ticks\":\"\"}},\"title\":{\"x\":0.05},\"xaxis\":{\"automargin\":true,\"gridcolor\":\"white\",\"linecolor\":\"white\",\"ticks\":\"\",\"title\":{\"standoff\":15},\"zerolinecolor\":\"white\",\"zerolinewidth\":2},\"yaxis\":{\"automargin\":true,\"gridcolor\":\"white\",\"linecolor\":\"white\",\"ticks\":\"\",\"title\":{\"standoff\":15},\"zerolinecolor\":\"white\",\"zerolinewidth\":2}}},\"title\":{\"text\":\"Launches' costs\"},\"xaxis\":{\"anchor\":\"y\",\"domain\":[0.0,1.0],\"title\":{\"text\":\"Date\"}},\"yaxis\":{\"anchor\":\"x\",\"domain\":[0.0,1.0],\"title\":{\"text\":\"sum of Price\"}}},                        {\"responsive\": true}                    ).then(function(){\n",
       "                            \n",
       "var gd = document.getElementById('bf9f4144-83f8-4dac-8faa-f1f562ff816f');\n",
       "var x = new MutationObserver(function (mutations, observer) {{\n",
       "        var display = window.getComputedStyle(gd).display;\n",
       "        if (!display || display === 'none') {{\n",
       "            console.log([gd, 'removed!']);\n",
       "            Plotly.purge(gd);\n",
       "            observer.disconnect();\n",
       "        }}\n",
       "}});\n",
       "\n",
       "// Listen for the removal of the full notebook cells\n",
       "var notebookContainer = gd.closest('#notebook-container');\n",
       "if (notebookContainer) {{\n",
       "    x.observe(notebookContainer, {childList: true});\n",
       "}}\n",
       "\n",
       "// Listen for the clearing of the current output cell\n",
       "var outputEl = gd.closest('.output');\n",
       "if (outputEl) {{\n",
       "    x.observe(outputEl, {childList: true});\n",
       "}}\n",
       "\n",
       "                        })                };                });            </script>        </div>"
      ]
     },
     "metadata": {},
     "output_type": "display_data"
    }
   ],
   "source": [
    "%matplotlib inline\n",
    "\n",
    "px.histogram(df_price, x=\"Date\", y=\"Price\", nbins=100, title=\"Launches' costs\")\n",
    "             "
   ]
  },
  {
   "cell_type": "markdown",
   "metadata": {
    "id": "QiNtigQDne3E"
   },
   "source": [
    "# Use a Choropleth Map to Show the Number of Launches by Country\n",
    "\n",
    "* Create a choropleth map using [the plotly documentation](https://plotly.com/python/choropleth-maps/)\n",
    "* Experiment with [plotly's available colours](https://plotly.com/python/builtin-colorscales/). I quite like the sequential colour `matter` on this map. \n",
    "* You'll need to extract a `country` feature as well as change the country names that no longer exist.\n",
    "\n",
    "Wrangle the Country Names\n",
    "\n",
    "You'll need to use a 3 letter country code for each country. You might have to change some country names.\n",
    "\n",
    "* Russia is the Russian Federation\n",
    "* New Mexico should be USA\n",
    "* Yellow Sea refers to China\n",
    "* Shahrud Missile Test Site should be Iran\n",
    "* Pacific Missile Range Facility should be USA\n",
    "* Barents Sea should be Russian Federation\n",
    "* Gran Canaria should be USA\n",
    "\n",
    "\n",
    "You can use the iso3166 package to convert the country names to Alpha3 format."
   ]
  },
  {
   "cell_type": "code",
   "execution_count": 75,
   "metadata": {
    "colab": {
     "base_uri": "https://localhost:8080/",
     "height": 293
    },
    "executionInfo": {
     "elapsed": 746,
     "status": "ok",
     "timestamp": 1620632267394,
     "user": {
      "displayName": "fabio alba",
      "photoUrl": "",
      "userId": "06675624622301434407"
     },
     "user_tz": -120
    },
    "id": "Y46-4GHrozhF",
    "outputId": "de706c68-b7cd-4f05-e35c-525a295f6b2c"
   },
   "outputs": [
    {
     "data": {
      "text/html": [
       "<div>\n",
       "<style scoped>\n",
       "    .dataframe tbody tr th:only-of-type {\n",
       "        vertical-align: middle;\n",
       "    }\n",
       "\n",
       "    .dataframe tbody tr th {\n",
       "        vertical-align: top;\n",
       "    }\n",
       "\n",
       "    .dataframe thead th {\n",
       "        text-align: right;\n",
       "    }\n",
       "</style>\n",
       "<table border=\"1\" class=\"dataframe\">\n",
       "  <thead>\n",
       "    <tr style=\"text-align: right;\">\n",
       "      <th></th>\n",
       "      <th>Organisation</th>\n",
       "      <th>Location</th>\n",
       "      <th>Date</th>\n",
       "      <th>Detail</th>\n",
       "      <th>Rocket</th>\n",
       "      <th>Rocket_Status</th>\n",
       "      <th>Price</th>\n",
       "      <th>Mission_Status</th>\n",
       "    </tr>\n",
       "  </thead>\n",
       "  <tbody>\n",
       "    <tr>\n",
       "      <th>0</th>\n",
       "      <td>SpaceX</td>\n",
       "      <td>LC-39A, Kennedy Space Center, Florida, USA</td>\n",
       "      <td>2020-08-07 05:12:00+00:00</td>\n",
       "      <td>Falcon 9 Block 5 | Starlink V1 L9 &amp; BlackSky</td>\n",
       "      <td>Falcon 9 Block 5</td>\n",
       "      <td>StatusActive</td>\n",
       "      <td>50.0</td>\n",
       "      <td>Success</td>\n",
       "    </tr>\n",
       "    <tr>\n",
       "      <th>1</th>\n",
       "      <td>CASC</td>\n",
       "      <td>Site 9401 (SLS-2), Jiuquan Satellite Launch Ce...</td>\n",
       "      <td>2020-08-06 04:01:00+00:00</td>\n",
       "      <td>Long March 2D | Gaofen-9 04 &amp; Q-SAT</td>\n",
       "      <td>Long March 2D</td>\n",
       "      <td>StatusActive</td>\n",
       "      <td>29.75</td>\n",
       "      <td>Success</td>\n",
       "    </tr>\n",
       "    <tr>\n",
       "      <th>2</th>\n",
       "      <td>SpaceX</td>\n",
       "      <td>Pad A, Boca Chica, Texas, USA</td>\n",
       "      <td>2020-08-04 23:57:00+00:00</td>\n",
       "      <td>Starship Prototype | 150 Meter Hop</td>\n",
       "      <td>Starship Prototype</td>\n",
       "      <td>StatusActive</td>\n",
       "      <td>NaN</td>\n",
       "      <td>Success</td>\n",
       "    </tr>\n",
       "    <tr>\n",
       "      <th>3</th>\n",
       "      <td>Roscosmos</td>\n",
       "      <td>Site 200/39, Baikonur Cosmodrome, Kazakhstan</td>\n",
       "      <td>2020-07-30 21:25:00+00:00</td>\n",
       "      <td>Proton-M/Briz-M | Ekspress-80 &amp; Ekspress-103</td>\n",
       "      <td>Proton-M/Briz-M</td>\n",
       "      <td>StatusActive</td>\n",
       "      <td>65.0</td>\n",
       "      <td>Success</td>\n",
       "    </tr>\n",
       "    <tr>\n",
       "      <th>4</th>\n",
       "      <td>ULA</td>\n",
       "      <td>SLC-41, Cape Canaveral AFS, Florida, USA</td>\n",
       "      <td>2020-07-30 11:50:00+00:00</td>\n",
       "      <td>Atlas V 541 | Perseverance</td>\n",
       "      <td>Atlas V 541</td>\n",
       "      <td>StatusActive</td>\n",
       "      <td>145.0</td>\n",
       "      <td>Success</td>\n",
       "    </tr>\n",
       "  </tbody>\n",
       "</table>\n",
       "</div>"
      ],
      "text/plain": [
       "  Organisation                                           Location  \\\n",
       "0       SpaceX         LC-39A, Kennedy Space Center, Florida, USA   \n",
       "1         CASC  Site 9401 (SLS-2), Jiuquan Satellite Launch Ce...   \n",
       "2       SpaceX                      Pad A, Boca Chica, Texas, USA   \n",
       "3    Roscosmos       Site 200/39, Baikonur Cosmodrome, Kazakhstan   \n",
       "4          ULA           SLC-41, Cape Canaveral AFS, Florida, USA   \n",
       "\n",
       "                       Date                                        Detail  \\\n",
       "0 2020-08-07 05:12:00+00:00  Falcon 9 Block 5 | Starlink V1 L9 & BlackSky   \n",
       "1 2020-08-06 04:01:00+00:00           Long March 2D | Gaofen-9 04 & Q-SAT   \n",
       "2 2020-08-04 23:57:00+00:00            Starship Prototype | 150 Meter Hop   \n",
       "3 2020-07-30 21:25:00+00:00  Proton-M/Briz-M | Ekspress-80 & Ekspress-103   \n",
       "4 2020-07-30 11:50:00+00:00                    Atlas V 541 | Perseverance   \n",
       "\n",
       "                Rocket Rocket_Status  Price Mission_Status  \n",
       "0    Falcon 9 Block 5   StatusActive   50.0        Success  \n",
       "1       Long March 2D   StatusActive  29.75        Success  \n",
       "2  Starship Prototype   StatusActive    NaN        Success  \n",
       "3     Proton-M/Briz-M   StatusActive   65.0        Success  \n",
       "4         Atlas V 541   StatusActive  145.0        Success  "
      ]
     },
     "execution_count": 75,
     "metadata": {},
     "output_type": "execute_result"
    }
   ],
   "source": [
    "## Update dataset with nations\n",
    "\n",
    "import iso3166\n",
    "from iso3166 import countries\n",
    "\n",
    "location_country = df_clean[\"Location\"].str.split(\", \")\n",
    "new_usa = [\"Gran Canaria\", \"Pacific Missile Range Facility\", \"New Mexico\", \"Pacific Ocean\"]\n",
    "new_russian_fed = [\"Barents Sea\", \"Russia\", \"Kazakhstan\"]\n",
    "\n",
    "country_list = []\n",
    "for i in location_country:\n",
    "  if i[-1] in new_usa:\n",
    "    i[-1] = \"USA\"\n",
    "  elif i[-1] == \"Shahrud Missile Test Site\":\n",
    "    i[-1] = \"Iran\"\n",
    "  elif i[-1] in new_russian_fed:\n",
    "    i[-1] = \"Russian Federation\"\n",
    "  elif i[-1] == \"Yellow Sea\":\n",
    "    i[-1] = \"China\"\n",
    "  elif i[-1] == \"Kenya\":\n",
    "    i[-1] = \"Italy\"  #Malindi (Kenya) was Italy's spaceport\n",
    "  country_list.append(i[-1])\n",
    "country_list\n",
    "\n",
    "df_clean.head()"
   ]
  },
  {
   "cell_type": "code",
   "execution_count": 76,
   "metadata": {
    "colab": {
     "base_uri": "https://localhost:8080/",
     "height": 310
    },
    "executionInfo": {
     "elapsed": 744,
     "status": "ok",
     "timestamp": 1620632267396,
     "user": {
      "displayName": "fabio alba",
      "photoUrl": "",
      "userId": "06675624622301434407"
     },
     "user_tz": -120
    },
    "id": "ESGRWiX6ozZG",
    "outputId": "b5e92890-cf46-4618-9451-d5e45032e84c"
   },
   "outputs": [
    {
     "data": {
      "text/html": [
       "<div>\n",
       "<style scoped>\n",
       "    .dataframe tbody tr th:only-of-type {\n",
       "        vertical-align: middle;\n",
       "    }\n",
       "\n",
       "    .dataframe tbody tr th {\n",
       "        vertical-align: top;\n",
       "    }\n",
       "\n",
       "    .dataframe thead th {\n",
       "        text-align: right;\n",
       "    }\n",
       "</style>\n",
       "<table border=\"1\" class=\"dataframe\">\n",
       "  <thead>\n",
       "    <tr style=\"text-align: right;\">\n",
       "      <th></th>\n",
       "      <th>Organisation</th>\n",
       "      <th>Location</th>\n",
       "      <th>Nation</th>\n",
       "      <th>Date</th>\n",
       "      <th>Detail</th>\n",
       "      <th>Rocket</th>\n",
       "      <th>Rocket_Status</th>\n",
       "      <th>Price</th>\n",
       "      <th>Mission_Status</th>\n",
       "    </tr>\n",
       "  </thead>\n",
       "  <tbody>\n",
       "    <tr>\n",
       "      <th>0</th>\n",
       "      <td>SpaceX</td>\n",
       "      <td>LC-39A, Kennedy Space Center, Florida, USA</td>\n",
       "      <td>USA</td>\n",
       "      <td>2020-08-07 05:12:00+00:00</td>\n",
       "      <td>Falcon 9 Block 5 | Starlink V1 L9 &amp; BlackSky</td>\n",
       "      <td>Falcon 9 Block 5</td>\n",
       "      <td>StatusActive</td>\n",
       "      <td>50.0</td>\n",
       "      <td>Success</td>\n",
       "    </tr>\n",
       "    <tr>\n",
       "      <th>1</th>\n",
       "      <td>CASC</td>\n",
       "      <td>Site 9401 (SLS-2), Jiuquan Satellite Launch Ce...</td>\n",
       "      <td>China</td>\n",
       "      <td>2020-08-06 04:01:00+00:00</td>\n",
       "      <td>Long March 2D | Gaofen-9 04 &amp; Q-SAT</td>\n",
       "      <td>Long March 2D</td>\n",
       "      <td>StatusActive</td>\n",
       "      <td>29.75</td>\n",
       "      <td>Success</td>\n",
       "    </tr>\n",
       "    <tr>\n",
       "      <th>2</th>\n",
       "      <td>SpaceX</td>\n",
       "      <td>Pad A, Boca Chica, Texas, USA</td>\n",
       "      <td>USA</td>\n",
       "      <td>2020-08-04 23:57:00+00:00</td>\n",
       "      <td>Starship Prototype | 150 Meter Hop</td>\n",
       "      <td>Starship Prototype</td>\n",
       "      <td>StatusActive</td>\n",
       "      <td>NaN</td>\n",
       "      <td>Success</td>\n",
       "    </tr>\n",
       "    <tr>\n",
       "      <th>3</th>\n",
       "      <td>Roscosmos</td>\n",
       "      <td>Site 200/39, Baikonur Cosmodrome, Kazakhstan</td>\n",
       "      <td>Russian Federation</td>\n",
       "      <td>2020-07-30 21:25:00+00:00</td>\n",
       "      <td>Proton-M/Briz-M | Ekspress-80 &amp; Ekspress-103</td>\n",
       "      <td>Proton-M/Briz-M</td>\n",
       "      <td>StatusActive</td>\n",
       "      <td>65.0</td>\n",
       "      <td>Success</td>\n",
       "    </tr>\n",
       "    <tr>\n",
       "      <th>4</th>\n",
       "      <td>ULA</td>\n",
       "      <td>SLC-41, Cape Canaveral AFS, Florida, USA</td>\n",
       "      <td>USA</td>\n",
       "      <td>2020-07-30 11:50:00+00:00</td>\n",
       "      <td>Atlas V 541 | Perseverance</td>\n",
       "      <td>Atlas V 541</td>\n",
       "      <td>StatusActive</td>\n",
       "      <td>145.0</td>\n",
       "      <td>Success</td>\n",
       "    </tr>\n",
       "  </tbody>\n",
       "</table>\n",
       "</div>"
      ],
      "text/plain": [
       "  Organisation                                           Location  \\\n",
       "0       SpaceX         LC-39A, Kennedy Space Center, Florida, USA   \n",
       "1         CASC  Site 9401 (SLS-2), Jiuquan Satellite Launch Ce...   \n",
       "2       SpaceX                      Pad A, Boca Chica, Texas, USA   \n",
       "3    Roscosmos       Site 200/39, Baikonur Cosmodrome, Kazakhstan   \n",
       "4          ULA           SLC-41, Cape Canaveral AFS, Florida, USA   \n",
       "\n",
       "               Nation                      Date  \\\n",
       "0                 USA 2020-08-07 05:12:00+00:00   \n",
       "1               China 2020-08-06 04:01:00+00:00   \n",
       "2                 USA 2020-08-04 23:57:00+00:00   \n",
       "3  Russian Federation 2020-07-30 21:25:00+00:00   \n",
       "4                 USA 2020-07-30 11:50:00+00:00   \n",
       "\n",
       "                                         Detail               Rocket  \\\n",
       "0  Falcon 9 Block 5 | Starlink V1 L9 & BlackSky    Falcon 9 Block 5    \n",
       "1           Long March 2D | Gaofen-9 04 & Q-SAT       Long March 2D    \n",
       "2            Starship Prototype | 150 Meter Hop  Starship Prototype    \n",
       "3  Proton-M/Briz-M | Ekspress-80 & Ekspress-103     Proton-M/Briz-M    \n",
       "4                    Atlas V 541 | Perseverance         Atlas V 541    \n",
       "\n",
       "  Rocket_Status  Price Mission_Status  \n",
       "0  StatusActive   50.0        Success  \n",
       "1  StatusActive  29.75        Success  \n",
       "2  StatusActive    NaN        Success  \n",
       "3  StatusActive   65.0        Success  \n",
       "4  StatusActive  145.0        Success  "
      ]
     },
     "execution_count": 76,
     "metadata": {},
     "output_type": "execute_result"
    }
   ],
   "source": [
    "# df_clean.drop(\"Nation\", axis=1, inplace=True)\n",
    "df_clean.insert(2, \"Nation\", country_list)\n",
    "all_countries = df_clean[\"Nation\"].unique()\n",
    "# print(all_countries)\n",
    "\n",
    "df_clean.head()"
   ]
  },
  {
   "cell_type": "code",
   "execution_count": 77,
   "metadata": {
    "colab": {
     "base_uri": "https://localhost:8080/",
     "height": 654
    },
    "executionInfo": {
     "elapsed": 1256,
     "status": "ok",
     "timestamp": 1620632267918,
     "user": {
      "displayName": "fabio alba",
      "photoUrl": "",
      "userId": "06675624622301434407"
     },
     "user_tz": -120
    },
    "id": "ugQY4dBqUBq5",
    "outputId": "7e401144-cbf9-4489-907b-086269981eee"
   },
   "outputs": [
    {
     "name": "stdout",
     "output_type": "stream",
     "text": [
      "      Nation  Launches\n",
      "0  Australia         6\n",
      "1     Brazil         3\n",
      "2      China       268\n",
      "3     France       303\n",
      "4      India        76\n"
     ]
    },
    {
     "data": {
      "application/vnd.plotly.v1+json": {
       "config": {
        "plotlyServerURL": "https://plot.ly"
       },
       "data": [
        {
         "coloraxis": "coloraxis",
         "geo": "geo",
         "hovertemplate": "<b>%{hovertext}</b><br><br>Nation=%{location}<br>Launches=%{z}<extra></extra>",
         "hovertext": [
          "Australia",
          "Brazil",
          "China",
          "France",
          "India",
          "Iran",
          "Israel",
          "Italy",
          "Japan",
          "New Zealand",
          "North Korea",
          "Russian Federation",
          "South Korea",
          "USA"
         ],
         "locationmode": "country names",
         "locations": [
          "Australia",
          "Brazil",
          "China",
          "France",
          "India",
          "Iran",
          "Israel",
          "Italy",
          "Japan",
          "New Zealand",
          "North Korea",
          "Russian Federation",
          "South Korea",
          "USA"
         ],
         "name": "",
         "type": "choropleth",
         "z": [
          6,
          3,
          268,
          303,
          76,
          14,
          11,
          9,
          126,
          13,
          5,
          2099,
          3,
          1387
         ]
        }
       ],
       "layout": {
        "coloraxis": {
         "colorbar": {
          "title": {
           "text": "Launches"
          }
         },
         "colorscale": [
          [
           0,
           "rgb(253, 237, 176)"
          ],
          [
           0.09090909090909091,
           "rgb(250, 205, 145)"
          ],
          [
           0.18181818181818182,
           "rgb(246, 173, 119)"
          ],
          [
           0.2727272727272727,
           "rgb(240, 142, 98)"
          ],
          [
           0.36363636363636365,
           "rgb(231, 109, 84)"
          ],
          [
           0.45454545454545453,
           "rgb(216, 80, 83)"
          ],
          [
           0.5454545454545454,
           "rgb(195, 56, 90)"
          ],
          [
           0.6363636363636364,
           "rgb(168, 40, 96)"
          ],
          [
           0.7272727272727273,
           "rgb(138, 29, 99)"
          ],
          [
           0.8181818181818182,
           "rgb(107, 24, 93)"
          ],
          [
           0.9090909090909091,
           "rgb(76, 21, 80)"
          ],
          [
           1,
           "rgb(47, 15, 61)"
          ]
         ],
         "showscale": true
        },
        "geo": {
         "center": {},
         "domain": {
          "x": [
           0,
           1
          ],
          "y": [
           0,
           1
          ]
         }
        },
        "legend": {
         "tracegroupgap": 0
        },
        "template": {
         "data": {
          "bar": [
           {
            "error_x": {
             "color": "#2a3f5f"
            },
            "error_y": {
             "color": "#2a3f5f"
            },
            "marker": {
             "line": {
              "color": "#E5ECF6",
              "width": 0.5
             },
             "pattern": {
              "fillmode": "overlay",
              "size": 10,
              "solidity": 0.2
             }
            },
            "type": "bar"
           }
          ],
          "barpolar": [
           {
            "marker": {
             "line": {
              "color": "#E5ECF6",
              "width": 0.5
             },
             "pattern": {
              "fillmode": "overlay",
              "size": 10,
              "solidity": 0.2
             }
            },
            "type": "barpolar"
           }
          ],
          "carpet": [
           {
            "aaxis": {
             "endlinecolor": "#2a3f5f",
             "gridcolor": "white",
             "linecolor": "white",
             "minorgridcolor": "white",
             "startlinecolor": "#2a3f5f"
            },
            "baxis": {
             "endlinecolor": "#2a3f5f",
             "gridcolor": "white",
             "linecolor": "white",
             "minorgridcolor": "white",
             "startlinecolor": "#2a3f5f"
            },
            "type": "carpet"
           }
          ],
          "choropleth": [
           {
            "colorbar": {
             "outlinewidth": 0,
             "ticks": ""
            },
            "type": "choropleth"
           }
          ],
          "contour": [
           {
            "colorbar": {
             "outlinewidth": 0,
             "ticks": ""
            },
            "colorscale": [
             [
              0,
              "#0d0887"
             ],
             [
              0.1111111111111111,
              "#46039f"
             ],
             [
              0.2222222222222222,
              "#7201a8"
             ],
             [
              0.3333333333333333,
              "#9c179e"
             ],
             [
              0.4444444444444444,
              "#bd3786"
             ],
             [
              0.5555555555555556,
              "#d8576b"
             ],
             [
              0.6666666666666666,
              "#ed7953"
             ],
             [
              0.7777777777777778,
              "#fb9f3a"
             ],
             [
              0.8888888888888888,
              "#fdca26"
             ],
             [
              1,
              "#f0f921"
             ]
            ],
            "type": "contour"
           }
          ],
          "contourcarpet": [
           {
            "colorbar": {
             "outlinewidth": 0,
             "ticks": ""
            },
            "type": "contourcarpet"
           }
          ],
          "heatmap": [
           {
            "colorbar": {
             "outlinewidth": 0,
             "ticks": ""
            },
            "colorscale": [
             [
              0,
              "#0d0887"
             ],
             [
              0.1111111111111111,
              "#46039f"
             ],
             [
              0.2222222222222222,
              "#7201a8"
             ],
             [
              0.3333333333333333,
              "#9c179e"
             ],
             [
              0.4444444444444444,
              "#bd3786"
             ],
             [
              0.5555555555555556,
              "#d8576b"
             ],
             [
              0.6666666666666666,
              "#ed7953"
             ],
             [
              0.7777777777777778,
              "#fb9f3a"
             ],
             [
              0.8888888888888888,
              "#fdca26"
             ],
             [
              1,
              "#f0f921"
             ]
            ],
            "type": "heatmap"
           }
          ],
          "heatmapgl": [
           {
            "colorbar": {
             "outlinewidth": 0,
             "ticks": ""
            },
            "colorscale": [
             [
              0,
              "#0d0887"
             ],
             [
              0.1111111111111111,
              "#46039f"
             ],
             [
              0.2222222222222222,
              "#7201a8"
             ],
             [
              0.3333333333333333,
              "#9c179e"
             ],
             [
              0.4444444444444444,
              "#bd3786"
             ],
             [
              0.5555555555555556,
              "#d8576b"
             ],
             [
              0.6666666666666666,
              "#ed7953"
             ],
             [
              0.7777777777777778,
              "#fb9f3a"
             ],
             [
              0.8888888888888888,
              "#fdca26"
             ],
             [
              1,
              "#f0f921"
             ]
            ],
            "type": "heatmapgl"
           }
          ],
          "histogram": [
           {
            "marker": {
             "pattern": {
              "fillmode": "overlay",
              "size": 10,
              "solidity": 0.2
             }
            },
            "type": "histogram"
           }
          ],
          "histogram2d": [
           {
            "colorbar": {
             "outlinewidth": 0,
             "ticks": ""
            },
            "colorscale": [
             [
              0,
              "#0d0887"
             ],
             [
              0.1111111111111111,
              "#46039f"
             ],
             [
              0.2222222222222222,
              "#7201a8"
             ],
             [
              0.3333333333333333,
              "#9c179e"
             ],
             [
              0.4444444444444444,
              "#bd3786"
             ],
             [
              0.5555555555555556,
              "#d8576b"
             ],
             [
              0.6666666666666666,
              "#ed7953"
             ],
             [
              0.7777777777777778,
              "#fb9f3a"
             ],
             [
              0.8888888888888888,
              "#fdca26"
             ],
             [
              1,
              "#f0f921"
             ]
            ],
            "type": "histogram2d"
           }
          ],
          "histogram2dcontour": [
           {
            "colorbar": {
             "outlinewidth": 0,
             "ticks": ""
            },
            "colorscale": [
             [
              0,
              "#0d0887"
             ],
             [
              0.1111111111111111,
              "#46039f"
             ],
             [
              0.2222222222222222,
              "#7201a8"
             ],
             [
              0.3333333333333333,
              "#9c179e"
             ],
             [
              0.4444444444444444,
              "#bd3786"
             ],
             [
              0.5555555555555556,
              "#d8576b"
             ],
             [
              0.6666666666666666,
              "#ed7953"
             ],
             [
              0.7777777777777778,
              "#fb9f3a"
             ],
             [
              0.8888888888888888,
              "#fdca26"
             ],
             [
              1,
              "#f0f921"
             ]
            ],
            "type": "histogram2dcontour"
           }
          ],
          "mesh3d": [
           {
            "colorbar": {
             "outlinewidth": 0,
             "ticks": ""
            },
            "type": "mesh3d"
           }
          ],
          "parcoords": [
           {
            "line": {
             "colorbar": {
              "outlinewidth": 0,
              "ticks": ""
             }
            },
            "type": "parcoords"
           }
          ],
          "pie": [
           {
            "automargin": true,
            "type": "pie"
           }
          ],
          "scatter": [
           {
            "marker": {
             "colorbar": {
              "outlinewidth": 0,
              "ticks": ""
             }
            },
            "type": "scatter"
           }
          ],
          "scatter3d": [
           {
            "line": {
             "colorbar": {
              "outlinewidth": 0,
              "ticks": ""
             }
            },
            "marker": {
             "colorbar": {
              "outlinewidth": 0,
              "ticks": ""
             }
            },
            "type": "scatter3d"
           }
          ],
          "scattercarpet": [
           {
            "marker": {
             "colorbar": {
              "outlinewidth": 0,
              "ticks": ""
             }
            },
            "type": "scattercarpet"
           }
          ],
          "scattergeo": [
           {
            "marker": {
             "colorbar": {
              "outlinewidth": 0,
              "ticks": ""
             }
            },
            "type": "scattergeo"
           }
          ],
          "scattergl": [
           {
            "marker": {
             "colorbar": {
              "outlinewidth": 0,
              "ticks": ""
             }
            },
            "type": "scattergl"
           }
          ],
          "scattermapbox": [
           {
            "marker": {
             "colorbar": {
              "outlinewidth": 0,
              "ticks": ""
             }
            },
            "type": "scattermapbox"
           }
          ],
          "scatterpolar": [
           {
            "marker": {
             "colorbar": {
              "outlinewidth": 0,
              "ticks": ""
             }
            },
            "type": "scatterpolar"
           }
          ],
          "scatterpolargl": [
           {
            "marker": {
             "colorbar": {
              "outlinewidth": 0,
              "ticks": ""
             }
            },
            "type": "scatterpolargl"
           }
          ],
          "scatterternary": [
           {
            "marker": {
             "colorbar": {
              "outlinewidth": 0,
              "ticks": ""
             }
            },
            "type": "scatterternary"
           }
          ],
          "surface": [
           {
            "colorbar": {
             "outlinewidth": 0,
             "ticks": ""
            },
            "colorscale": [
             [
              0,
              "#0d0887"
             ],
             [
              0.1111111111111111,
              "#46039f"
             ],
             [
              0.2222222222222222,
              "#7201a8"
             ],
             [
              0.3333333333333333,
              "#9c179e"
             ],
             [
              0.4444444444444444,
              "#bd3786"
             ],
             [
              0.5555555555555556,
              "#d8576b"
             ],
             [
              0.6666666666666666,
              "#ed7953"
             ],
             [
              0.7777777777777778,
              "#fb9f3a"
             ],
             [
              0.8888888888888888,
              "#fdca26"
             ],
             [
              1,
              "#f0f921"
             ]
            ],
            "type": "surface"
           }
          ],
          "table": [
           {
            "cells": {
             "fill": {
              "color": "#EBF0F8"
             },
             "line": {
              "color": "white"
             }
            },
            "header": {
             "fill": {
              "color": "#C8D4E3"
             },
             "line": {
              "color": "white"
             }
            },
            "type": "table"
           }
          ]
         },
         "layout": {
          "annotationdefaults": {
           "arrowcolor": "#2a3f5f",
           "arrowhead": 0,
           "arrowwidth": 1
          },
          "autotypenumbers": "strict",
          "coloraxis": {
           "colorbar": {
            "outlinewidth": 0,
            "ticks": ""
           }
          },
          "colorscale": {
           "diverging": [
            [
             0,
             "#8e0152"
            ],
            [
             0.1,
             "#c51b7d"
            ],
            [
             0.2,
             "#de77ae"
            ],
            [
             0.3,
             "#f1b6da"
            ],
            [
             0.4,
             "#fde0ef"
            ],
            [
             0.5,
             "#f7f7f7"
            ],
            [
             0.6,
             "#e6f5d0"
            ],
            [
             0.7,
             "#b8e186"
            ],
            [
             0.8,
             "#7fbc41"
            ],
            [
             0.9,
             "#4d9221"
            ],
            [
             1,
             "#276419"
            ]
           ],
           "sequential": [
            [
             0,
             "#0d0887"
            ],
            [
             0.1111111111111111,
             "#46039f"
            ],
            [
             0.2222222222222222,
             "#7201a8"
            ],
            [
             0.3333333333333333,
             "#9c179e"
            ],
            [
             0.4444444444444444,
             "#bd3786"
            ],
            [
             0.5555555555555556,
             "#d8576b"
            ],
            [
             0.6666666666666666,
             "#ed7953"
            ],
            [
             0.7777777777777778,
             "#fb9f3a"
            ],
            [
             0.8888888888888888,
             "#fdca26"
            ],
            [
             1,
             "#f0f921"
            ]
           ],
           "sequentialminus": [
            [
             0,
             "#0d0887"
            ],
            [
             0.1111111111111111,
             "#46039f"
            ],
            [
             0.2222222222222222,
             "#7201a8"
            ],
            [
             0.3333333333333333,
             "#9c179e"
            ],
            [
             0.4444444444444444,
             "#bd3786"
            ],
            [
             0.5555555555555556,
             "#d8576b"
            ],
            [
             0.6666666666666666,
             "#ed7953"
            ],
            [
             0.7777777777777778,
             "#fb9f3a"
            ],
            [
             0.8888888888888888,
             "#fdca26"
            ],
            [
             1,
             "#f0f921"
            ]
           ]
          },
          "colorway": [
           "#636efa",
           "#EF553B",
           "#00cc96",
           "#ab63fa",
           "#FFA15A",
           "#19d3f3",
           "#FF6692",
           "#B6E880",
           "#FF97FF",
           "#FECB52"
          ],
          "font": {
           "color": "#2a3f5f"
          },
          "geo": {
           "bgcolor": "white",
           "lakecolor": "white",
           "landcolor": "#E5ECF6",
           "showlakes": true,
           "showland": true,
           "subunitcolor": "white"
          },
          "hoverlabel": {
           "align": "left"
          },
          "hovermode": "closest",
          "mapbox": {
           "style": "light"
          },
          "paper_bgcolor": "white",
          "plot_bgcolor": "#E5ECF6",
          "polar": {
           "angularaxis": {
            "gridcolor": "white",
            "linecolor": "white",
            "ticks": ""
           },
           "bgcolor": "#E5ECF6",
           "radialaxis": {
            "gridcolor": "white",
            "linecolor": "white",
            "ticks": ""
           }
          },
          "scene": {
           "xaxis": {
            "backgroundcolor": "#E5ECF6",
            "gridcolor": "white",
            "gridwidth": 2,
            "linecolor": "white",
            "showbackground": true,
            "ticks": "",
            "zerolinecolor": "white"
           },
           "yaxis": {
            "backgroundcolor": "#E5ECF6",
            "gridcolor": "white",
            "gridwidth": 2,
            "linecolor": "white",
            "showbackground": true,
            "ticks": "",
            "zerolinecolor": "white"
           },
           "zaxis": {
            "backgroundcolor": "#E5ECF6",
            "gridcolor": "white",
            "gridwidth": 2,
            "linecolor": "white",
            "showbackground": true,
            "ticks": "",
            "zerolinecolor": "white"
           }
          },
          "shapedefaults": {
           "line": {
            "color": "#2a3f5f"
           }
          },
          "ternary": {
           "aaxis": {
            "gridcolor": "white",
            "linecolor": "white",
            "ticks": ""
           },
           "baxis": {
            "gridcolor": "white",
            "linecolor": "white",
            "ticks": ""
           },
           "bgcolor": "#E5ECF6",
           "caxis": {
            "gridcolor": "white",
            "linecolor": "white",
            "ticks": ""
           }
          },
          "title": {
           "x": 0.05
          },
          "xaxis": {
           "automargin": true,
           "gridcolor": "white",
           "linecolor": "white",
           "ticks": "",
           "title": {
            "standoff": 15
           },
           "zerolinecolor": "white",
           "zerolinewidth": 2
          },
          "yaxis": {
           "automargin": true,
           "gridcolor": "white",
           "linecolor": "white",
           "ticks": "",
           "title": {
            "standoff": 15
           },
           "zerolinecolor": "white",
           "zerolinewidth": 2
          }
         }
        },
        "title": {
         "text": "Launches by nation"
        }
       }
      },
      "text/html": [
       "<div>                            <div id=\"c40cfab6-f0bd-419a-9564-60db3e4a4d6d\" class=\"plotly-graph-div\" style=\"height:525px; width:100%;\"></div>            <script type=\"text/javascript\">                require([\"plotly\"], function(Plotly) {                    window.PLOTLYENV=window.PLOTLYENV || {};                                    if (document.getElementById(\"c40cfab6-f0bd-419a-9564-60db3e4a4d6d\")) {                    Plotly.newPlot(                        \"c40cfab6-f0bd-419a-9564-60db3e4a4d6d\",                        [{\"coloraxis\":\"coloraxis\",\"geo\":\"geo\",\"hovertemplate\":\"<b>%{hovertext}</b><br><br>Nation=%{location}<br>Launches=%{z}<extra></extra>\",\"hovertext\":[\"Australia\",\"Brazil\",\"China\",\"France\",\"India\",\"Iran\",\"Israel\",\"Italy\",\"Japan\",\"New Zealand\",\"North Korea\",\"Russian Federation\",\"South Korea\",\"USA\"],\"locationmode\":\"country names\",\"locations\":[\"Australia\",\"Brazil\",\"China\",\"France\",\"India\",\"Iran\",\"Israel\",\"Italy\",\"Japan\",\"New Zealand\",\"North Korea\",\"Russian Federation\",\"South Korea\",\"USA\"],\"name\":\"\",\"type\":\"choropleth\",\"z\":[6,3,268,303,76,14,11,9,126,13,5,2099,3,1387]}],                        {\"coloraxis\":{\"colorbar\":{\"title\":{\"text\":\"Launches\"}},\"colorscale\":[[0.0,\"rgb(253, 237, 176)\"],[0.09090909090909091,\"rgb(250, 205, 145)\"],[0.18181818181818182,\"rgb(246, 173, 119)\"],[0.2727272727272727,\"rgb(240, 142, 98)\"],[0.36363636363636365,\"rgb(231, 109, 84)\"],[0.45454545454545453,\"rgb(216, 80, 83)\"],[0.5454545454545454,\"rgb(195, 56, 90)\"],[0.6363636363636364,\"rgb(168, 40, 96)\"],[0.7272727272727273,\"rgb(138, 29, 99)\"],[0.8181818181818182,\"rgb(107, 24, 93)\"],[0.9090909090909091,\"rgb(76, 21, 80)\"],[1.0,\"rgb(47, 15, 61)\"]],\"showscale\":true},\"geo\":{\"center\":{},\"domain\":{\"x\":[0.0,1.0],\"y\":[0.0,1.0]}},\"legend\":{\"tracegroupgap\":0},\"template\":{\"data\":{\"bar\":[{\"error_x\":{\"color\":\"#2a3f5f\"},\"error_y\":{\"color\":\"#2a3f5f\"},\"marker\":{\"line\":{\"color\":\"#E5ECF6\",\"width\":0.5},\"pattern\":{\"fillmode\":\"overlay\",\"size\":10,\"solidity\":0.2}},\"type\":\"bar\"}],\"barpolar\":[{\"marker\":{\"line\":{\"color\":\"#E5ECF6\",\"width\":0.5},\"pattern\":{\"fillmode\":\"overlay\",\"size\":10,\"solidity\":0.2}},\"type\":\"barpolar\"}],\"carpet\":[{\"aaxis\":{\"endlinecolor\":\"#2a3f5f\",\"gridcolor\":\"white\",\"linecolor\":\"white\",\"minorgridcolor\":\"white\",\"startlinecolor\":\"#2a3f5f\"},\"baxis\":{\"endlinecolor\":\"#2a3f5f\",\"gridcolor\":\"white\",\"linecolor\":\"white\",\"minorgridcolor\":\"white\",\"startlinecolor\":\"#2a3f5f\"},\"type\":\"carpet\"}],\"choropleth\":[{\"colorbar\":{\"outlinewidth\":0,\"ticks\":\"\"},\"type\":\"choropleth\"}],\"contour\":[{\"colorbar\":{\"outlinewidth\":0,\"ticks\":\"\"},\"colorscale\":[[0.0,\"#0d0887\"],[0.1111111111111111,\"#46039f\"],[0.2222222222222222,\"#7201a8\"],[0.3333333333333333,\"#9c179e\"],[0.4444444444444444,\"#bd3786\"],[0.5555555555555556,\"#d8576b\"],[0.6666666666666666,\"#ed7953\"],[0.7777777777777778,\"#fb9f3a\"],[0.8888888888888888,\"#fdca26\"],[1.0,\"#f0f921\"]],\"type\":\"contour\"}],\"contourcarpet\":[{\"colorbar\":{\"outlinewidth\":0,\"ticks\":\"\"},\"type\":\"contourcarpet\"}],\"heatmap\":[{\"colorbar\":{\"outlinewidth\":0,\"ticks\":\"\"},\"colorscale\":[[0.0,\"#0d0887\"],[0.1111111111111111,\"#46039f\"],[0.2222222222222222,\"#7201a8\"],[0.3333333333333333,\"#9c179e\"],[0.4444444444444444,\"#bd3786\"],[0.5555555555555556,\"#d8576b\"],[0.6666666666666666,\"#ed7953\"],[0.7777777777777778,\"#fb9f3a\"],[0.8888888888888888,\"#fdca26\"],[1.0,\"#f0f921\"]],\"type\":\"heatmap\"}],\"heatmapgl\":[{\"colorbar\":{\"outlinewidth\":0,\"ticks\":\"\"},\"colorscale\":[[0.0,\"#0d0887\"],[0.1111111111111111,\"#46039f\"],[0.2222222222222222,\"#7201a8\"],[0.3333333333333333,\"#9c179e\"],[0.4444444444444444,\"#bd3786\"],[0.5555555555555556,\"#d8576b\"],[0.6666666666666666,\"#ed7953\"],[0.7777777777777778,\"#fb9f3a\"],[0.8888888888888888,\"#fdca26\"],[1.0,\"#f0f921\"]],\"type\":\"heatmapgl\"}],\"histogram\":[{\"marker\":{\"pattern\":{\"fillmode\":\"overlay\",\"size\":10,\"solidity\":0.2}},\"type\":\"histogram\"}],\"histogram2d\":[{\"colorbar\":{\"outlinewidth\":0,\"ticks\":\"\"},\"colorscale\":[[0.0,\"#0d0887\"],[0.1111111111111111,\"#46039f\"],[0.2222222222222222,\"#7201a8\"],[0.3333333333333333,\"#9c179e\"],[0.4444444444444444,\"#bd3786\"],[0.5555555555555556,\"#d8576b\"],[0.6666666666666666,\"#ed7953\"],[0.7777777777777778,\"#fb9f3a\"],[0.8888888888888888,\"#fdca26\"],[1.0,\"#f0f921\"]],\"type\":\"histogram2d\"}],\"histogram2dcontour\":[{\"colorbar\":{\"outlinewidth\":0,\"ticks\":\"\"},\"colorscale\":[[0.0,\"#0d0887\"],[0.1111111111111111,\"#46039f\"],[0.2222222222222222,\"#7201a8\"],[0.3333333333333333,\"#9c179e\"],[0.4444444444444444,\"#bd3786\"],[0.5555555555555556,\"#d8576b\"],[0.6666666666666666,\"#ed7953\"],[0.7777777777777778,\"#fb9f3a\"],[0.8888888888888888,\"#fdca26\"],[1.0,\"#f0f921\"]],\"type\":\"histogram2dcontour\"}],\"mesh3d\":[{\"colorbar\":{\"outlinewidth\":0,\"ticks\":\"\"},\"type\":\"mesh3d\"}],\"parcoords\":[{\"line\":{\"colorbar\":{\"outlinewidth\":0,\"ticks\":\"\"}},\"type\":\"parcoords\"}],\"pie\":[{\"automargin\":true,\"type\":\"pie\"}],\"scatter\":[{\"marker\":{\"colorbar\":{\"outlinewidth\":0,\"ticks\":\"\"}},\"type\":\"scatter\"}],\"scatter3d\":[{\"line\":{\"colorbar\":{\"outlinewidth\":0,\"ticks\":\"\"}},\"marker\":{\"colorbar\":{\"outlinewidth\":0,\"ticks\":\"\"}},\"type\":\"scatter3d\"}],\"scattercarpet\":[{\"marker\":{\"colorbar\":{\"outlinewidth\":0,\"ticks\":\"\"}},\"type\":\"scattercarpet\"}],\"scattergeo\":[{\"marker\":{\"colorbar\":{\"outlinewidth\":0,\"ticks\":\"\"}},\"type\":\"scattergeo\"}],\"scattergl\":[{\"marker\":{\"colorbar\":{\"outlinewidth\":0,\"ticks\":\"\"}},\"type\":\"scattergl\"}],\"scattermapbox\":[{\"marker\":{\"colorbar\":{\"outlinewidth\":0,\"ticks\":\"\"}},\"type\":\"scattermapbox\"}],\"scatterpolar\":[{\"marker\":{\"colorbar\":{\"outlinewidth\":0,\"ticks\":\"\"}},\"type\":\"scatterpolar\"}],\"scatterpolargl\":[{\"marker\":{\"colorbar\":{\"outlinewidth\":0,\"ticks\":\"\"}},\"type\":\"scatterpolargl\"}],\"scatterternary\":[{\"marker\":{\"colorbar\":{\"outlinewidth\":0,\"ticks\":\"\"}},\"type\":\"scatterternary\"}],\"surface\":[{\"colorbar\":{\"outlinewidth\":0,\"ticks\":\"\"},\"colorscale\":[[0.0,\"#0d0887\"],[0.1111111111111111,\"#46039f\"],[0.2222222222222222,\"#7201a8\"],[0.3333333333333333,\"#9c179e\"],[0.4444444444444444,\"#bd3786\"],[0.5555555555555556,\"#d8576b\"],[0.6666666666666666,\"#ed7953\"],[0.7777777777777778,\"#fb9f3a\"],[0.8888888888888888,\"#fdca26\"],[1.0,\"#f0f921\"]],\"type\":\"surface\"}],\"table\":[{\"cells\":{\"fill\":{\"color\":\"#EBF0F8\"},\"line\":{\"color\":\"white\"}},\"header\":{\"fill\":{\"color\":\"#C8D4E3\"},\"line\":{\"color\":\"white\"}},\"type\":\"table\"}]},\"layout\":{\"annotationdefaults\":{\"arrowcolor\":\"#2a3f5f\",\"arrowhead\":0,\"arrowwidth\":1},\"autotypenumbers\":\"strict\",\"coloraxis\":{\"colorbar\":{\"outlinewidth\":0,\"ticks\":\"\"}},\"colorscale\":{\"diverging\":[[0,\"#8e0152\"],[0.1,\"#c51b7d\"],[0.2,\"#de77ae\"],[0.3,\"#f1b6da\"],[0.4,\"#fde0ef\"],[0.5,\"#f7f7f7\"],[0.6,\"#e6f5d0\"],[0.7,\"#b8e186\"],[0.8,\"#7fbc41\"],[0.9,\"#4d9221\"],[1,\"#276419\"]],\"sequential\":[[0.0,\"#0d0887\"],[0.1111111111111111,\"#46039f\"],[0.2222222222222222,\"#7201a8\"],[0.3333333333333333,\"#9c179e\"],[0.4444444444444444,\"#bd3786\"],[0.5555555555555556,\"#d8576b\"],[0.6666666666666666,\"#ed7953\"],[0.7777777777777778,\"#fb9f3a\"],[0.8888888888888888,\"#fdca26\"],[1.0,\"#f0f921\"]],\"sequentialminus\":[[0.0,\"#0d0887\"],[0.1111111111111111,\"#46039f\"],[0.2222222222222222,\"#7201a8\"],[0.3333333333333333,\"#9c179e\"],[0.4444444444444444,\"#bd3786\"],[0.5555555555555556,\"#d8576b\"],[0.6666666666666666,\"#ed7953\"],[0.7777777777777778,\"#fb9f3a\"],[0.8888888888888888,\"#fdca26\"],[1.0,\"#f0f921\"]]},\"colorway\":[\"#636efa\",\"#EF553B\",\"#00cc96\",\"#ab63fa\",\"#FFA15A\",\"#19d3f3\",\"#FF6692\",\"#B6E880\",\"#FF97FF\",\"#FECB52\"],\"font\":{\"color\":\"#2a3f5f\"},\"geo\":{\"bgcolor\":\"white\",\"lakecolor\":\"white\",\"landcolor\":\"#E5ECF6\",\"showlakes\":true,\"showland\":true,\"subunitcolor\":\"white\"},\"hoverlabel\":{\"align\":\"left\"},\"hovermode\":\"closest\",\"mapbox\":{\"style\":\"light\"},\"paper_bgcolor\":\"white\",\"plot_bgcolor\":\"#E5ECF6\",\"polar\":{\"angularaxis\":{\"gridcolor\":\"white\",\"linecolor\":\"white\",\"ticks\":\"\"},\"bgcolor\":\"#E5ECF6\",\"radialaxis\":{\"gridcolor\":\"white\",\"linecolor\":\"white\",\"ticks\":\"\"}},\"scene\":{\"xaxis\":{\"backgroundcolor\":\"#E5ECF6\",\"gridcolor\":\"white\",\"gridwidth\":2,\"linecolor\":\"white\",\"showbackground\":true,\"ticks\":\"\",\"zerolinecolor\":\"white\"},\"yaxis\":{\"backgroundcolor\":\"#E5ECF6\",\"gridcolor\":\"white\",\"gridwidth\":2,\"linecolor\":\"white\",\"showbackground\":true,\"ticks\":\"\",\"zerolinecolor\":\"white\"},\"zaxis\":{\"backgroundcolor\":\"#E5ECF6\",\"gridcolor\":\"white\",\"gridwidth\":2,\"linecolor\":\"white\",\"showbackground\":true,\"ticks\":\"\",\"zerolinecolor\":\"white\"}},\"shapedefaults\":{\"line\":{\"color\":\"#2a3f5f\"}},\"ternary\":{\"aaxis\":{\"gridcolor\":\"white\",\"linecolor\":\"white\",\"ticks\":\"\"},\"baxis\":{\"gridcolor\":\"white\",\"linecolor\":\"white\",\"ticks\":\"\"},\"bgcolor\":\"#E5ECF6\",\"caxis\":{\"gridcolor\":\"white\",\"linecolor\":\"white\",\"ticks\":\"\"}},\"title\":{\"x\":0.05},\"xaxis\":{\"automargin\":true,\"gridcolor\":\"white\",\"linecolor\":\"white\",\"ticks\":\"\",\"title\":{\"standoff\":15},\"zerolinecolor\":\"white\",\"zerolinewidth\":2},\"yaxis\":{\"automargin\":true,\"gridcolor\":\"white\",\"linecolor\":\"white\",\"ticks\":\"\",\"title\":{\"standoff\":15},\"zerolinecolor\":\"white\",\"zerolinewidth\":2}}},\"title\":{\"text\":\"Launches by nation\"}},                        {\"responsive\": true}                    ).then(function(){\n",
       "                            \n",
       "var gd = document.getElementById('c40cfab6-f0bd-419a-9564-60db3e4a4d6d');\n",
       "var x = new MutationObserver(function (mutations, observer) {{\n",
       "        var display = window.getComputedStyle(gd).display;\n",
       "        if (!display || display === 'none') {{\n",
       "            console.log([gd, 'removed!']);\n",
       "            Plotly.purge(gd);\n",
       "            observer.disconnect();\n",
       "        }}\n",
       "}});\n",
       "\n",
       "// Listen for the removal of the full notebook cells\n",
       "var notebookContainer = gd.closest('#notebook-container');\n",
       "if (notebookContainer) {{\n",
       "    x.observe(notebookContainer, {childList: true});\n",
       "}}\n",
       "\n",
       "// Listen for the clearing of the current output cell\n",
       "var outputEl = gd.closest('.output');\n",
       "if (outputEl) {{\n",
       "    x.observe(outputEl, {childList: true});\n",
       "}}\n",
       "\n",
       "                        })                };                });            </script>        </div>"
      ]
     },
     "metadata": {},
     "output_type": "display_data"
    }
   ],
   "source": [
    "## Launches by nation\n",
    "\n",
    "%matplotlib inline\n",
    "\n",
    "launches_per_country = df_clean.groupby([\"Nation\"], as_index=False).agg({\"Date\":pd.Series.count})\n",
    "launches_per_country.rename(columns={\"Date\": \"Launches\"}, inplace=True)\n",
    "print(launches_per_country.head())\n",
    "\n",
    "\n",
    "map = px.choropleth(launches_per_country, \n",
    "                    locations=\"Nation\", \n",
    "                    color=\"Launches\",\n",
    "                    hover_name=\"Nation\", \n",
    "                    locationmode=\"country names\",\n",
    "                    color_continuous_scale=px.colors.sequential.matter,\n",
    "                    title=\"Launches by nation\")\n",
    "\n",
    "map.update_layout(coloraxis_showscale=True)\n",
    "map.show()"
   ]
  },
  {
   "cell_type": "markdown",
   "metadata": {
    "id": "F3pwYSUlo_AK"
   },
   "source": [
    "# Use a Choropleth Map to Show the Number of Failures by Country\n"
   ]
  },
  {
   "cell_type": "code",
   "execution_count": 78,
   "metadata": {
    "colab": {
     "base_uri": "https://localhost:8080/",
     "height": 626
    },
    "executionInfo": {
     "elapsed": 475,
     "status": "ok",
     "timestamp": 1620632271592,
     "user": {
      "displayName": "fabio alba",
      "photoUrl": "",
      "userId": "06675624622301434407"
     },
     "user_tz": -120
    },
    "id": "8BH4ICtro9I0",
    "outputId": "43b29a11-e185-4eb2-b5d0-49ff311777de"
   },
   "outputs": [
    {
     "name": "stderr",
     "output_type": "stream",
     "text": [
      "<ipython-input-78-b150cb15aa96>:9: SettingWithCopyWarning:\n",
      "\n",
      "\n",
      "A value is trying to be set on a copy of a slice from a DataFrame.\n",
      "Try using .loc[row_indexer,col_indexer] = value instead\n",
      "\n",
      "See the caveats in the documentation: https://pandas.pydata.org/pandas-docs/stable/user_guide/indexing.html#returning-a-view-versus-a-copy\n",
      "\n"
     ]
    },
    {
     "data": {
      "text/html": [
       "<div>\n",
       "<style scoped>\n",
       "    .dataframe tbody tr th:only-of-type {\n",
       "        vertical-align: middle;\n",
       "    }\n",
       "\n",
       "    .dataframe tbody tr th {\n",
       "        vertical-align: top;\n",
       "    }\n",
       "\n",
       "    .dataframe thead th {\n",
       "        text-align: right;\n",
       "    }\n",
       "</style>\n",
       "<table border=\"1\" class=\"dataframe\">\n",
       "  <thead>\n",
       "    <tr style=\"text-align: right;\">\n",
       "      <th></th>\n",
       "      <th>Nation</th>\n",
       "      <th>Launch_outcome</th>\n",
       "      <th>Launches</th>\n",
       "    </tr>\n",
       "  </thead>\n",
       "  <tbody>\n",
       "    <tr>\n",
       "      <th>0</th>\n",
       "      <td>Australia</td>\n",
       "      <td>failure</td>\n",
       "      <td>3</td>\n",
       "    </tr>\n",
       "    <tr>\n",
       "      <th>1</th>\n",
       "      <td>Brazil</td>\n",
       "      <td>failure</td>\n",
       "      <td>3</td>\n",
       "    </tr>\n",
       "    <tr>\n",
       "      <th>2</th>\n",
       "      <td>China</td>\n",
       "      <td>failure</td>\n",
       "      <td>25</td>\n",
       "    </tr>\n",
       "    <tr>\n",
       "      <th>3</th>\n",
       "      <td>France</td>\n",
       "      <td>failure</td>\n",
       "      <td>18</td>\n",
       "    </tr>\n",
       "    <tr>\n",
       "      <th>4</th>\n",
       "      <td>India</td>\n",
       "      <td>failure</td>\n",
       "      <td>13</td>\n",
       "    </tr>\n",
       "    <tr>\n",
       "      <th>5</th>\n",
       "      <td>Iran</td>\n",
       "      <td>failure</td>\n",
       "      <td>9</td>\n",
       "    </tr>\n",
       "    <tr>\n",
       "      <th>6</th>\n",
       "      <td>Israel</td>\n",
       "      <td>failure</td>\n",
       "      <td>2</td>\n",
       "    </tr>\n",
       "    <tr>\n",
       "      <th>7</th>\n",
       "      <td>Japan</td>\n",
       "      <td>failure</td>\n",
       "      <td>13</td>\n",
       "    </tr>\n",
       "    <tr>\n",
       "      <th>8</th>\n",
       "      <td>New Zealand</td>\n",
       "      <td>failure</td>\n",
       "      <td>2</td>\n",
       "    </tr>\n",
       "    <tr>\n",
       "      <th>9</th>\n",
       "      <td>North Korea</td>\n",
       "      <td>failure</td>\n",
       "      <td>3</td>\n",
       "    </tr>\n",
       "    <tr>\n",
       "      <th>10</th>\n",
       "      <td>Russian Federation</td>\n",
       "      <td>failure</td>\n",
       "      <td>186</td>\n",
       "    </tr>\n",
       "    <tr>\n",
       "      <th>11</th>\n",
       "      <td>South Korea</td>\n",
       "      <td>failure</td>\n",
       "      <td>2</td>\n",
       "    </tr>\n",
       "    <tr>\n",
       "      <th>12</th>\n",
       "      <td>USA</td>\n",
       "      <td>failure</td>\n",
       "      <td>166</td>\n",
       "    </tr>\n",
       "  </tbody>\n",
       "</table>\n",
       "</div>"
      ],
      "text/plain": [
       "                Nation Launch_outcome  Launches\n",
       "0            Australia        failure         3\n",
       "1               Brazil        failure         3\n",
       "2                China        failure        25\n",
       "3               France        failure        18\n",
       "4                India        failure        13\n",
       "5                 Iran        failure         9\n",
       "6               Israel        failure         2\n",
       "7                Japan        failure        13\n",
       "8          New Zealand        failure         2\n",
       "9          North Korea        failure         3\n",
       "10  Russian Federation        failure       186\n",
       "11         South Korea        failure         2\n",
       "12                 USA        failure       166"
      ]
     },
     "execution_count": 78,
     "metadata": {},
     "output_type": "execute_result"
    }
   ],
   "source": [
    "# Update dataset with counting all kind of failures in one column \n",
    "\n",
    "failure = []\n",
    "for i in df_clean[\"Mission_Status\"]:\n",
    "  if i != \"Success\":\n",
    "    failure.append(\"failure\")\n",
    "  else:\n",
    "    failure.append(\"success\")\n",
    "df_clean[\"Launch_outcome\"] = failure\n",
    "df_clean.sample(5)\n",
    "\n",
    "mission_country_df = df_clean[df_clean[\"Launch_outcome\"] == \"failure\"] \n",
    "mission_country = mission_country_df.groupby([\"Nation\", \"Launch_outcome\"], as_index=False).agg({\"Date\": pd.Series.count})\n",
    "mission_country.rename(columns={\"Date\": \"Launches\"}, inplace=True)\n",
    "mission_country"
   ]
  },
  {
   "cell_type": "code",
   "execution_count": 79,
   "metadata": {
    "colab": {
     "base_uri": "https://localhost:8080/",
     "height": 542
    },
    "executionInfo": {
     "elapsed": 1126,
     "status": "ok",
     "timestamp": 1620632272256,
     "user": {
      "displayName": "fabio alba",
      "photoUrl": "",
      "userId": "06675624622301434407"
     },
     "user_tz": -120
    },
    "id": "sfw-q7Obo9GM",
    "outputId": "5b33bfad-c971-4b4d-d621-889b694baad4"
   },
   "outputs": [
    {
     "data": {
      "application/vnd.plotly.v1+json": {
       "config": {
        "plotlyServerURL": "https://plot.ly"
       },
       "data": [
        {
         "coloraxis": "coloraxis",
         "geo": "geo",
         "hovertemplate": "Nation=%{location}<br>Launches=%{z}<extra></extra>",
         "locationmode": "country names",
         "locations": [
          "Australia",
          "Brazil",
          "China",
          "France",
          "India",
          "Iran",
          "Israel",
          "Japan",
          "New Zealand",
          "North Korea",
          "Russian Federation",
          "South Korea",
          "USA"
         ],
         "name": "",
         "type": "choropleth",
         "z": [
          3,
          3,
          25,
          18,
          13,
          9,
          2,
          13,
          2,
          3,
          186,
          2,
          166
         ]
        }
       ],
       "layout": {
        "coloraxis": {
         "colorbar": {
          "title": {
           "text": "Launches"
          }
         },
         "colorscale": [
          [
           0,
           "rgb(253, 237, 176)"
          ],
          [
           0.09090909090909091,
           "rgb(250, 205, 145)"
          ],
          [
           0.18181818181818182,
           "rgb(246, 173, 119)"
          ],
          [
           0.2727272727272727,
           "rgb(240, 142, 98)"
          ],
          [
           0.36363636363636365,
           "rgb(231, 109, 84)"
          ],
          [
           0.45454545454545453,
           "rgb(216, 80, 83)"
          ],
          [
           0.5454545454545454,
           "rgb(195, 56, 90)"
          ],
          [
           0.6363636363636364,
           "rgb(168, 40, 96)"
          ],
          [
           0.7272727272727273,
           "rgb(138, 29, 99)"
          ],
          [
           0.8181818181818182,
           "rgb(107, 24, 93)"
          ],
          [
           0.9090909090909091,
           "rgb(76, 21, 80)"
          ],
          [
           1,
           "rgb(47, 15, 61)"
          ]
         ]
        },
        "geo": {
         "center": {},
         "domain": {
          "x": [
           0,
           1
          ],
          "y": [
           0,
           1
          ]
         }
        },
        "legend": {
         "tracegroupgap": 0
        },
        "template": {
         "data": {
          "bar": [
           {
            "error_x": {
             "color": "#2a3f5f"
            },
            "error_y": {
             "color": "#2a3f5f"
            },
            "marker": {
             "line": {
              "color": "#E5ECF6",
              "width": 0.5
             },
             "pattern": {
              "fillmode": "overlay",
              "size": 10,
              "solidity": 0.2
             }
            },
            "type": "bar"
           }
          ],
          "barpolar": [
           {
            "marker": {
             "line": {
              "color": "#E5ECF6",
              "width": 0.5
             },
             "pattern": {
              "fillmode": "overlay",
              "size": 10,
              "solidity": 0.2
             }
            },
            "type": "barpolar"
           }
          ],
          "carpet": [
           {
            "aaxis": {
             "endlinecolor": "#2a3f5f",
             "gridcolor": "white",
             "linecolor": "white",
             "minorgridcolor": "white",
             "startlinecolor": "#2a3f5f"
            },
            "baxis": {
             "endlinecolor": "#2a3f5f",
             "gridcolor": "white",
             "linecolor": "white",
             "minorgridcolor": "white",
             "startlinecolor": "#2a3f5f"
            },
            "type": "carpet"
           }
          ],
          "choropleth": [
           {
            "colorbar": {
             "outlinewidth": 0,
             "ticks": ""
            },
            "type": "choropleth"
           }
          ],
          "contour": [
           {
            "colorbar": {
             "outlinewidth": 0,
             "ticks": ""
            },
            "colorscale": [
             [
              0,
              "#0d0887"
             ],
             [
              0.1111111111111111,
              "#46039f"
             ],
             [
              0.2222222222222222,
              "#7201a8"
             ],
             [
              0.3333333333333333,
              "#9c179e"
             ],
             [
              0.4444444444444444,
              "#bd3786"
             ],
             [
              0.5555555555555556,
              "#d8576b"
             ],
             [
              0.6666666666666666,
              "#ed7953"
             ],
             [
              0.7777777777777778,
              "#fb9f3a"
             ],
             [
              0.8888888888888888,
              "#fdca26"
             ],
             [
              1,
              "#f0f921"
             ]
            ],
            "type": "contour"
           }
          ],
          "contourcarpet": [
           {
            "colorbar": {
             "outlinewidth": 0,
             "ticks": ""
            },
            "type": "contourcarpet"
           }
          ],
          "heatmap": [
           {
            "colorbar": {
             "outlinewidth": 0,
             "ticks": ""
            },
            "colorscale": [
             [
              0,
              "#0d0887"
             ],
             [
              0.1111111111111111,
              "#46039f"
             ],
             [
              0.2222222222222222,
              "#7201a8"
             ],
             [
              0.3333333333333333,
              "#9c179e"
             ],
             [
              0.4444444444444444,
              "#bd3786"
             ],
             [
              0.5555555555555556,
              "#d8576b"
             ],
             [
              0.6666666666666666,
              "#ed7953"
             ],
             [
              0.7777777777777778,
              "#fb9f3a"
             ],
             [
              0.8888888888888888,
              "#fdca26"
             ],
             [
              1,
              "#f0f921"
             ]
            ],
            "type": "heatmap"
           }
          ],
          "heatmapgl": [
           {
            "colorbar": {
             "outlinewidth": 0,
             "ticks": ""
            },
            "colorscale": [
             [
              0,
              "#0d0887"
             ],
             [
              0.1111111111111111,
              "#46039f"
             ],
             [
              0.2222222222222222,
              "#7201a8"
             ],
             [
              0.3333333333333333,
              "#9c179e"
             ],
             [
              0.4444444444444444,
              "#bd3786"
             ],
             [
              0.5555555555555556,
              "#d8576b"
             ],
             [
              0.6666666666666666,
              "#ed7953"
             ],
             [
              0.7777777777777778,
              "#fb9f3a"
             ],
             [
              0.8888888888888888,
              "#fdca26"
             ],
             [
              1,
              "#f0f921"
             ]
            ],
            "type": "heatmapgl"
           }
          ],
          "histogram": [
           {
            "marker": {
             "pattern": {
              "fillmode": "overlay",
              "size": 10,
              "solidity": 0.2
             }
            },
            "type": "histogram"
           }
          ],
          "histogram2d": [
           {
            "colorbar": {
             "outlinewidth": 0,
             "ticks": ""
            },
            "colorscale": [
             [
              0,
              "#0d0887"
             ],
             [
              0.1111111111111111,
              "#46039f"
             ],
             [
              0.2222222222222222,
              "#7201a8"
             ],
             [
              0.3333333333333333,
              "#9c179e"
             ],
             [
              0.4444444444444444,
              "#bd3786"
             ],
             [
              0.5555555555555556,
              "#d8576b"
             ],
             [
              0.6666666666666666,
              "#ed7953"
             ],
             [
              0.7777777777777778,
              "#fb9f3a"
             ],
             [
              0.8888888888888888,
              "#fdca26"
             ],
             [
              1,
              "#f0f921"
             ]
            ],
            "type": "histogram2d"
           }
          ],
          "histogram2dcontour": [
           {
            "colorbar": {
             "outlinewidth": 0,
             "ticks": ""
            },
            "colorscale": [
             [
              0,
              "#0d0887"
             ],
             [
              0.1111111111111111,
              "#46039f"
             ],
             [
              0.2222222222222222,
              "#7201a8"
             ],
             [
              0.3333333333333333,
              "#9c179e"
             ],
             [
              0.4444444444444444,
              "#bd3786"
             ],
             [
              0.5555555555555556,
              "#d8576b"
             ],
             [
              0.6666666666666666,
              "#ed7953"
             ],
             [
              0.7777777777777778,
              "#fb9f3a"
             ],
             [
              0.8888888888888888,
              "#fdca26"
             ],
             [
              1,
              "#f0f921"
             ]
            ],
            "type": "histogram2dcontour"
           }
          ],
          "mesh3d": [
           {
            "colorbar": {
             "outlinewidth": 0,
             "ticks": ""
            },
            "type": "mesh3d"
           }
          ],
          "parcoords": [
           {
            "line": {
             "colorbar": {
              "outlinewidth": 0,
              "ticks": ""
             }
            },
            "type": "parcoords"
           }
          ],
          "pie": [
           {
            "automargin": true,
            "type": "pie"
           }
          ],
          "scatter": [
           {
            "marker": {
             "colorbar": {
              "outlinewidth": 0,
              "ticks": ""
             }
            },
            "type": "scatter"
           }
          ],
          "scatter3d": [
           {
            "line": {
             "colorbar": {
              "outlinewidth": 0,
              "ticks": ""
             }
            },
            "marker": {
             "colorbar": {
              "outlinewidth": 0,
              "ticks": ""
             }
            },
            "type": "scatter3d"
           }
          ],
          "scattercarpet": [
           {
            "marker": {
             "colorbar": {
              "outlinewidth": 0,
              "ticks": ""
             }
            },
            "type": "scattercarpet"
           }
          ],
          "scattergeo": [
           {
            "marker": {
             "colorbar": {
              "outlinewidth": 0,
              "ticks": ""
             }
            },
            "type": "scattergeo"
           }
          ],
          "scattergl": [
           {
            "marker": {
             "colorbar": {
              "outlinewidth": 0,
              "ticks": ""
             }
            },
            "type": "scattergl"
           }
          ],
          "scattermapbox": [
           {
            "marker": {
             "colorbar": {
              "outlinewidth": 0,
              "ticks": ""
             }
            },
            "type": "scattermapbox"
           }
          ],
          "scatterpolar": [
           {
            "marker": {
             "colorbar": {
              "outlinewidth": 0,
              "ticks": ""
             }
            },
            "type": "scatterpolar"
           }
          ],
          "scatterpolargl": [
           {
            "marker": {
             "colorbar": {
              "outlinewidth": 0,
              "ticks": ""
             }
            },
            "type": "scatterpolargl"
           }
          ],
          "scatterternary": [
           {
            "marker": {
             "colorbar": {
              "outlinewidth": 0,
              "ticks": ""
             }
            },
            "type": "scatterternary"
           }
          ],
          "surface": [
           {
            "colorbar": {
             "outlinewidth": 0,
             "ticks": ""
            },
            "colorscale": [
             [
              0,
              "#0d0887"
             ],
             [
              0.1111111111111111,
              "#46039f"
             ],
             [
              0.2222222222222222,
              "#7201a8"
             ],
             [
              0.3333333333333333,
              "#9c179e"
             ],
             [
              0.4444444444444444,
              "#bd3786"
             ],
             [
              0.5555555555555556,
              "#d8576b"
             ],
             [
              0.6666666666666666,
              "#ed7953"
             ],
             [
              0.7777777777777778,
              "#fb9f3a"
             ],
             [
              0.8888888888888888,
              "#fdca26"
             ],
             [
              1,
              "#f0f921"
             ]
            ],
            "type": "surface"
           }
          ],
          "table": [
           {
            "cells": {
             "fill": {
              "color": "#EBF0F8"
             },
             "line": {
              "color": "white"
             }
            },
            "header": {
             "fill": {
              "color": "#C8D4E3"
             },
             "line": {
              "color": "white"
             }
            },
            "type": "table"
           }
          ]
         },
         "layout": {
          "annotationdefaults": {
           "arrowcolor": "#2a3f5f",
           "arrowhead": 0,
           "arrowwidth": 1
          },
          "autotypenumbers": "strict",
          "coloraxis": {
           "colorbar": {
            "outlinewidth": 0,
            "ticks": ""
           }
          },
          "colorscale": {
           "diverging": [
            [
             0,
             "#8e0152"
            ],
            [
             0.1,
             "#c51b7d"
            ],
            [
             0.2,
             "#de77ae"
            ],
            [
             0.3,
             "#f1b6da"
            ],
            [
             0.4,
             "#fde0ef"
            ],
            [
             0.5,
             "#f7f7f7"
            ],
            [
             0.6,
             "#e6f5d0"
            ],
            [
             0.7,
             "#b8e186"
            ],
            [
             0.8,
             "#7fbc41"
            ],
            [
             0.9,
             "#4d9221"
            ],
            [
             1,
             "#276419"
            ]
           ],
           "sequential": [
            [
             0,
             "#0d0887"
            ],
            [
             0.1111111111111111,
             "#46039f"
            ],
            [
             0.2222222222222222,
             "#7201a8"
            ],
            [
             0.3333333333333333,
             "#9c179e"
            ],
            [
             0.4444444444444444,
             "#bd3786"
            ],
            [
             0.5555555555555556,
             "#d8576b"
            ],
            [
             0.6666666666666666,
             "#ed7953"
            ],
            [
             0.7777777777777778,
             "#fb9f3a"
            ],
            [
             0.8888888888888888,
             "#fdca26"
            ],
            [
             1,
             "#f0f921"
            ]
           ],
           "sequentialminus": [
            [
             0,
             "#0d0887"
            ],
            [
             0.1111111111111111,
             "#46039f"
            ],
            [
             0.2222222222222222,
             "#7201a8"
            ],
            [
             0.3333333333333333,
             "#9c179e"
            ],
            [
             0.4444444444444444,
             "#bd3786"
            ],
            [
             0.5555555555555556,
             "#d8576b"
            ],
            [
             0.6666666666666666,
             "#ed7953"
            ],
            [
             0.7777777777777778,
             "#fb9f3a"
            ],
            [
             0.8888888888888888,
             "#fdca26"
            ],
            [
             1,
             "#f0f921"
            ]
           ]
          },
          "colorway": [
           "#636efa",
           "#EF553B",
           "#00cc96",
           "#ab63fa",
           "#FFA15A",
           "#19d3f3",
           "#FF6692",
           "#B6E880",
           "#FF97FF",
           "#FECB52"
          ],
          "font": {
           "color": "#2a3f5f"
          },
          "geo": {
           "bgcolor": "white",
           "lakecolor": "white",
           "landcolor": "#E5ECF6",
           "showlakes": true,
           "showland": true,
           "subunitcolor": "white"
          },
          "hoverlabel": {
           "align": "left"
          },
          "hovermode": "closest",
          "mapbox": {
           "style": "light"
          },
          "paper_bgcolor": "white",
          "plot_bgcolor": "#E5ECF6",
          "polar": {
           "angularaxis": {
            "gridcolor": "white",
            "linecolor": "white",
            "ticks": ""
           },
           "bgcolor": "#E5ECF6",
           "radialaxis": {
            "gridcolor": "white",
            "linecolor": "white",
            "ticks": ""
           }
          },
          "scene": {
           "xaxis": {
            "backgroundcolor": "#E5ECF6",
            "gridcolor": "white",
            "gridwidth": 2,
            "linecolor": "white",
            "showbackground": true,
            "ticks": "",
            "zerolinecolor": "white"
           },
           "yaxis": {
            "backgroundcolor": "#E5ECF6",
            "gridcolor": "white",
            "gridwidth": 2,
            "linecolor": "white",
            "showbackground": true,
            "ticks": "",
            "zerolinecolor": "white"
           },
           "zaxis": {
            "backgroundcolor": "#E5ECF6",
            "gridcolor": "white",
            "gridwidth": 2,
            "linecolor": "white",
            "showbackground": true,
            "ticks": "",
            "zerolinecolor": "white"
           }
          },
          "shapedefaults": {
           "line": {
            "color": "#2a3f5f"
           }
          },
          "ternary": {
           "aaxis": {
            "gridcolor": "white",
            "linecolor": "white",
            "ticks": ""
           },
           "baxis": {
            "gridcolor": "white",
            "linecolor": "white",
            "ticks": ""
           },
           "bgcolor": "#E5ECF6",
           "caxis": {
            "gridcolor": "white",
            "linecolor": "white",
            "ticks": ""
           }
          },
          "title": {
           "x": 0.05
          },
          "xaxis": {
           "automargin": true,
           "gridcolor": "white",
           "linecolor": "white",
           "ticks": "",
           "title": {
            "standoff": 15
           },
           "zerolinecolor": "white",
           "zerolinewidth": 2
          },
          "yaxis": {
           "automargin": true,
           "gridcolor": "white",
           "linecolor": "white",
           "ticks": "",
           "title": {
            "standoff": 15
           },
           "zerolinecolor": "white",
           "zerolinewidth": 2
          }
         }
        },
        "title": {
         "text": "Map launch failures by country"
        }
       }
      },
      "text/html": [
       "<div>                            <div id=\"322ae3a1-4e27-4845-9b64-1790ab1cab50\" class=\"plotly-graph-div\" style=\"height:525px; width:100%;\"></div>            <script type=\"text/javascript\">                require([\"plotly\"], function(Plotly) {                    window.PLOTLYENV=window.PLOTLYENV || {};                                    if (document.getElementById(\"322ae3a1-4e27-4845-9b64-1790ab1cab50\")) {                    Plotly.newPlot(                        \"322ae3a1-4e27-4845-9b64-1790ab1cab50\",                        [{\"coloraxis\":\"coloraxis\",\"geo\":\"geo\",\"hovertemplate\":\"Nation=%{location}<br>Launches=%{z}<extra></extra>\",\"locationmode\":\"country names\",\"locations\":[\"Australia\",\"Brazil\",\"China\",\"France\",\"India\",\"Iran\",\"Israel\",\"Japan\",\"New Zealand\",\"North Korea\",\"Russian Federation\",\"South Korea\",\"USA\"],\"name\":\"\",\"type\":\"choropleth\",\"z\":[3,3,25,18,13,9,2,13,2,3,186,2,166]}],                        {\"coloraxis\":{\"colorbar\":{\"title\":{\"text\":\"Launches\"}},\"colorscale\":[[0.0,\"rgb(253, 237, 176)\"],[0.09090909090909091,\"rgb(250, 205, 145)\"],[0.18181818181818182,\"rgb(246, 173, 119)\"],[0.2727272727272727,\"rgb(240, 142, 98)\"],[0.36363636363636365,\"rgb(231, 109, 84)\"],[0.45454545454545453,\"rgb(216, 80, 83)\"],[0.5454545454545454,\"rgb(195, 56, 90)\"],[0.6363636363636364,\"rgb(168, 40, 96)\"],[0.7272727272727273,\"rgb(138, 29, 99)\"],[0.8181818181818182,\"rgb(107, 24, 93)\"],[0.9090909090909091,\"rgb(76, 21, 80)\"],[1.0,\"rgb(47, 15, 61)\"]]},\"geo\":{\"center\":{},\"domain\":{\"x\":[0.0,1.0],\"y\":[0.0,1.0]}},\"legend\":{\"tracegroupgap\":0},\"template\":{\"data\":{\"bar\":[{\"error_x\":{\"color\":\"#2a3f5f\"},\"error_y\":{\"color\":\"#2a3f5f\"},\"marker\":{\"line\":{\"color\":\"#E5ECF6\",\"width\":0.5},\"pattern\":{\"fillmode\":\"overlay\",\"size\":10,\"solidity\":0.2}},\"type\":\"bar\"}],\"barpolar\":[{\"marker\":{\"line\":{\"color\":\"#E5ECF6\",\"width\":0.5},\"pattern\":{\"fillmode\":\"overlay\",\"size\":10,\"solidity\":0.2}},\"type\":\"barpolar\"}],\"carpet\":[{\"aaxis\":{\"endlinecolor\":\"#2a3f5f\",\"gridcolor\":\"white\",\"linecolor\":\"white\",\"minorgridcolor\":\"white\",\"startlinecolor\":\"#2a3f5f\"},\"baxis\":{\"endlinecolor\":\"#2a3f5f\",\"gridcolor\":\"white\",\"linecolor\":\"white\",\"minorgridcolor\":\"white\",\"startlinecolor\":\"#2a3f5f\"},\"type\":\"carpet\"}],\"choropleth\":[{\"colorbar\":{\"outlinewidth\":0,\"ticks\":\"\"},\"type\":\"choropleth\"}],\"contour\":[{\"colorbar\":{\"outlinewidth\":0,\"ticks\":\"\"},\"colorscale\":[[0.0,\"#0d0887\"],[0.1111111111111111,\"#46039f\"],[0.2222222222222222,\"#7201a8\"],[0.3333333333333333,\"#9c179e\"],[0.4444444444444444,\"#bd3786\"],[0.5555555555555556,\"#d8576b\"],[0.6666666666666666,\"#ed7953\"],[0.7777777777777778,\"#fb9f3a\"],[0.8888888888888888,\"#fdca26\"],[1.0,\"#f0f921\"]],\"type\":\"contour\"}],\"contourcarpet\":[{\"colorbar\":{\"outlinewidth\":0,\"ticks\":\"\"},\"type\":\"contourcarpet\"}],\"heatmap\":[{\"colorbar\":{\"outlinewidth\":0,\"ticks\":\"\"},\"colorscale\":[[0.0,\"#0d0887\"],[0.1111111111111111,\"#46039f\"],[0.2222222222222222,\"#7201a8\"],[0.3333333333333333,\"#9c179e\"],[0.4444444444444444,\"#bd3786\"],[0.5555555555555556,\"#d8576b\"],[0.6666666666666666,\"#ed7953\"],[0.7777777777777778,\"#fb9f3a\"],[0.8888888888888888,\"#fdca26\"],[1.0,\"#f0f921\"]],\"type\":\"heatmap\"}],\"heatmapgl\":[{\"colorbar\":{\"outlinewidth\":0,\"ticks\":\"\"},\"colorscale\":[[0.0,\"#0d0887\"],[0.1111111111111111,\"#46039f\"],[0.2222222222222222,\"#7201a8\"],[0.3333333333333333,\"#9c179e\"],[0.4444444444444444,\"#bd3786\"],[0.5555555555555556,\"#d8576b\"],[0.6666666666666666,\"#ed7953\"],[0.7777777777777778,\"#fb9f3a\"],[0.8888888888888888,\"#fdca26\"],[1.0,\"#f0f921\"]],\"type\":\"heatmapgl\"}],\"histogram\":[{\"marker\":{\"pattern\":{\"fillmode\":\"overlay\",\"size\":10,\"solidity\":0.2}},\"type\":\"histogram\"}],\"histogram2d\":[{\"colorbar\":{\"outlinewidth\":0,\"ticks\":\"\"},\"colorscale\":[[0.0,\"#0d0887\"],[0.1111111111111111,\"#46039f\"],[0.2222222222222222,\"#7201a8\"],[0.3333333333333333,\"#9c179e\"],[0.4444444444444444,\"#bd3786\"],[0.5555555555555556,\"#d8576b\"],[0.6666666666666666,\"#ed7953\"],[0.7777777777777778,\"#fb9f3a\"],[0.8888888888888888,\"#fdca26\"],[1.0,\"#f0f921\"]],\"type\":\"histogram2d\"}],\"histogram2dcontour\":[{\"colorbar\":{\"outlinewidth\":0,\"ticks\":\"\"},\"colorscale\":[[0.0,\"#0d0887\"],[0.1111111111111111,\"#46039f\"],[0.2222222222222222,\"#7201a8\"],[0.3333333333333333,\"#9c179e\"],[0.4444444444444444,\"#bd3786\"],[0.5555555555555556,\"#d8576b\"],[0.6666666666666666,\"#ed7953\"],[0.7777777777777778,\"#fb9f3a\"],[0.8888888888888888,\"#fdca26\"],[1.0,\"#f0f921\"]],\"type\":\"histogram2dcontour\"}],\"mesh3d\":[{\"colorbar\":{\"outlinewidth\":0,\"ticks\":\"\"},\"type\":\"mesh3d\"}],\"parcoords\":[{\"line\":{\"colorbar\":{\"outlinewidth\":0,\"ticks\":\"\"}},\"type\":\"parcoords\"}],\"pie\":[{\"automargin\":true,\"type\":\"pie\"}],\"scatter\":[{\"marker\":{\"colorbar\":{\"outlinewidth\":0,\"ticks\":\"\"}},\"type\":\"scatter\"}],\"scatter3d\":[{\"line\":{\"colorbar\":{\"outlinewidth\":0,\"ticks\":\"\"}},\"marker\":{\"colorbar\":{\"outlinewidth\":0,\"ticks\":\"\"}},\"type\":\"scatter3d\"}],\"scattercarpet\":[{\"marker\":{\"colorbar\":{\"outlinewidth\":0,\"ticks\":\"\"}},\"type\":\"scattercarpet\"}],\"scattergeo\":[{\"marker\":{\"colorbar\":{\"outlinewidth\":0,\"ticks\":\"\"}},\"type\":\"scattergeo\"}],\"scattergl\":[{\"marker\":{\"colorbar\":{\"outlinewidth\":0,\"ticks\":\"\"}},\"type\":\"scattergl\"}],\"scattermapbox\":[{\"marker\":{\"colorbar\":{\"outlinewidth\":0,\"ticks\":\"\"}},\"type\":\"scattermapbox\"}],\"scatterpolar\":[{\"marker\":{\"colorbar\":{\"outlinewidth\":0,\"ticks\":\"\"}},\"type\":\"scatterpolar\"}],\"scatterpolargl\":[{\"marker\":{\"colorbar\":{\"outlinewidth\":0,\"ticks\":\"\"}},\"type\":\"scatterpolargl\"}],\"scatterternary\":[{\"marker\":{\"colorbar\":{\"outlinewidth\":0,\"ticks\":\"\"}},\"type\":\"scatterternary\"}],\"surface\":[{\"colorbar\":{\"outlinewidth\":0,\"ticks\":\"\"},\"colorscale\":[[0.0,\"#0d0887\"],[0.1111111111111111,\"#46039f\"],[0.2222222222222222,\"#7201a8\"],[0.3333333333333333,\"#9c179e\"],[0.4444444444444444,\"#bd3786\"],[0.5555555555555556,\"#d8576b\"],[0.6666666666666666,\"#ed7953\"],[0.7777777777777778,\"#fb9f3a\"],[0.8888888888888888,\"#fdca26\"],[1.0,\"#f0f921\"]],\"type\":\"surface\"}],\"table\":[{\"cells\":{\"fill\":{\"color\":\"#EBF0F8\"},\"line\":{\"color\":\"white\"}},\"header\":{\"fill\":{\"color\":\"#C8D4E3\"},\"line\":{\"color\":\"white\"}},\"type\":\"table\"}]},\"layout\":{\"annotationdefaults\":{\"arrowcolor\":\"#2a3f5f\",\"arrowhead\":0,\"arrowwidth\":1},\"autotypenumbers\":\"strict\",\"coloraxis\":{\"colorbar\":{\"outlinewidth\":0,\"ticks\":\"\"}},\"colorscale\":{\"diverging\":[[0,\"#8e0152\"],[0.1,\"#c51b7d\"],[0.2,\"#de77ae\"],[0.3,\"#f1b6da\"],[0.4,\"#fde0ef\"],[0.5,\"#f7f7f7\"],[0.6,\"#e6f5d0\"],[0.7,\"#b8e186\"],[0.8,\"#7fbc41\"],[0.9,\"#4d9221\"],[1,\"#276419\"]],\"sequential\":[[0.0,\"#0d0887\"],[0.1111111111111111,\"#46039f\"],[0.2222222222222222,\"#7201a8\"],[0.3333333333333333,\"#9c179e\"],[0.4444444444444444,\"#bd3786\"],[0.5555555555555556,\"#d8576b\"],[0.6666666666666666,\"#ed7953\"],[0.7777777777777778,\"#fb9f3a\"],[0.8888888888888888,\"#fdca26\"],[1.0,\"#f0f921\"]],\"sequentialminus\":[[0.0,\"#0d0887\"],[0.1111111111111111,\"#46039f\"],[0.2222222222222222,\"#7201a8\"],[0.3333333333333333,\"#9c179e\"],[0.4444444444444444,\"#bd3786\"],[0.5555555555555556,\"#d8576b\"],[0.6666666666666666,\"#ed7953\"],[0.7777777777777778,\"#fb9f3a\"],[0.8888888888888888,\"#fdca26\"],[1.0,\"#f0f921\"]]},\"colorway\":[\"#636efa\",\"#EF553B\",\"#00cc96\",\"#ab63fa\",\"#FFA15A\",\"#19d3f3\",\"#FF6692\",\"#B6E880\",\"#FF97FF\",\"#FECB52\"],\"font\":{\"color\":\"#2a3f5f\"},\"geo\":{\"bgcolor\":\"white\",\"lakecolor\":\"white\",\"landcolor\":\"#E5ECF6\",\"showlakes\":true,\"showland\":true,\"subunitcolor\":\"white\"},\"hoverlabel\":{\"align\":\"left\"},\"hovermode\":\"closest\",\"mapbox\":{\"style\":\"light\"},\"paper_bgcolor\":\"white\",\"plot_bgcolor\":\"#E5ECF6\",\"polar\":{\"angularaxis\":{\"gridcolor\":\"white\",\"linecolor\":\"white\",\"ticks\":\"\"},\"bgcolor\":\"#E5ECF6\",\"radialaxis\":{\"gridcolor\":\"white\",\"linecolor\":\"white\",\"ticks\":\"\"}},\"scene\":{\"xaxis\":{\"backgroundcolor\":\"#E5ECF6\",\"gridcolor\":\"white\",\"gridwidth\":2,\"linecolor\":\"white\",\"showbackground\":true,\"ticks\":\"\",\"zerolinecolor\":\"white\"},\"yaxis\":{\"backgroundcolor\":\"#E5ECF6\",\"gridcolor\":\"white\",\"gridwidth\":2,\"linecolor\":\"white\",\"showbackground\":true,\"ticks\":\"\",\"zerolinecolor\":\"white\"},\"zaxis\":{\"backgroundcolor\":\"#E5ECF6\",\"gridcolor\":\"white\",\"gridwidth\":2,\"linecolor\":\"white\",\"showbackground\":true,\"ticks\":\"\",\"zerolinecolor\":\"white\"}},\"shapedefaults\":{\"line\":{\"color\":\"#2a3f5f\"}},\"ternary\":{\"aaxis\":{\"gridcolor\":\"white\",\"linecolor\":\"white\",\"ticks\":\"\"},\"baxis\":{\"gridcolor\":\"white\",\"linecolor\":\"white\",\"ticks\":\"\"},\"bgcolor\":\"#E5ECF6\",\"caxis\":{\"gridcolor\":\"white\",\"linecolor\":\"white\",\"ticks\":\"\"}},\"title\":{\"x\":0.05},\"xaxis\":{\"automargin\":true,\"gridcolor\":\"white\",\"linecolor\":\"white\",\"ticks\":\"\",\"title\":{\"standoff\":15},\"zerolinecolor\":\"white\",\"zerolinewidth\":2},\"yaxis\":{\"automargin\":true,\"gridcolor\":\"white\",\"linecolor\":\"white\",\"ticks\":\"\",\"title\":{\"standoff\":15},\"zerolinecolor\":\"white\",\"zerolinewidth\":2}}},\"title\":{\"text\":\"Map launch failures by country\"}},                        {\"responsive\": true}                    ).then(function(){\n",
       "                            \n",
       "var gd = document.getElementById('322ae3a1-4e27-4845-9b64-1790ab1cab50');\n",
       "var x = new MutationObserver(function (mutations, observer) {{\n",
       "        var display = window.getComputedStyle(gd).display;\n",
       "        if (!display || display === 'none') {{\n",
       "            console.log([gd, 'removed!']);\n",
       "            Plotly.purge(gd);\n",
       "            observer.disconnect();\n",
       "        }}\n",
       "}});\n",
       "\n",
       "// Listen for the removal of the full notebook cells\n",
       "var notebookContainer = gd.closest('#notebook-container');\n",
       "if (notebookContainer) {{\n",
       "    x.observe(notebookContainer, {childList: true});\n",
       "}}\n",
       "\n",
       "// Listen for the clearing of the current output cell\n",
       "var outputEl = gd.closest('.output');\n",
       "if (outputEl) {{\n",
       "    x.observe(outputEl, {childList: true});\n",
       "}}\n",
       "\n",
       "                        })                };                });            </script>        </div>"
      ]
     },
     "metadata": {},
     "output_type": "display_data"
    }
   ],
   "source": [
    "%matplotlib inline\n",
    "\n",
    "world_map = px.choropleth(mission_country,\n",
    "                          locations='Nation',\n",
    "                          color=\"Launches\",\n",
    "                          locationmode=\"country names\",\n",
    "                          color_continuous_scale=px.colors.sequential.matter,\n",
    "                          title=\"Map launch failures by country\")\n",
    "world_map.show()"
   ]
  },
  {
   "cell_type": "markdown",
   "metadata": {
    "id": "9LqcqSrKa-qN",
    "papermill": {
     "duration": 0.039343,
     "end_time": "2020-10-20T21:34:06.591694",
     "exception": false,
     "start_time": "2020-10-20T21:34:06.552351",
     "status": "completed"
    },
    "tags": []
   },
   "source": [
    "# Create a Plotly Sunburst Chart of the countries, organisations, and mission status. "
   ]
  },
  {
   "cell_type": "code",
   "execution_count": 80,
   "metadata": {
    "colab": {
     "base_uri": "https://localhost:8080/",
     "height": 206
    },
    "executionInfo": {
     "elapsed": 989,
     "status": "ok",
     "timestamp": 1620632276299,
     "user": {
      "displayName": "fabio alba",
      "photoUrl": "",
      "userId": "06675624622301434407"
     },
     "user_tz": -120
    },
    "id": "MwUfpoByo3_J",
    "outputId": "cb4488f1-21b8-48f1-989e-a981e918c3c8"
   },
   "outputs": [
    {
     "data": {
      "text/html": [
       "<div>\n",
       "<style scoped>\n",
       "    .dataframe tbody tr th:only-of-type {\n",
       "        vertical-align: middle;\n",
       "    }\n",
       "\n",
       "    .dataframe tbody tr th {\n",
       "        vertical-align: top;\n",
       "    }\n",
       "\n",
       "    .dataframe thead th {\n",
       "        text-align: right;\n",
       "    }\n",
       "</style>\n",
       "<table border=\"1\" class=\"dataframe\">\n",
       "  <thead>\n",
       "    <tr style=\"text-align: right;\">\n",
       "      <th></th>\n",
       "      <th>Nation</th>\n",
       "      <th>Organisation</th>\n",
       "      <th>Mission_Status</th>\n",
       "      <th>Launches</th>\n",
       "    </tr>\n",
       "  </thead>\n",
       "  <tbody>\n",
       "    <tr>\n",
       "      <th>51</th>\n",
       "      <td>North Korea</td>\n",
       "      <td>KCST</td>\n",
       "      <td>Success</td>\n",
       "      <td>2</td>\n",
       "    </tr>\n",
       "    <tr>\n",
       "      <th>116</th>\n",
       "      <td>USA</td>\n",
       "      <td>US Air Force</td>\n",
       "      <td>Failure</td>\n",
       "      <td>30</td>\n",
       "    </tr>\n",
       "    <tr>\n",
       "      <th>100</th>\n",
       "      <td>USA</td>\n",
       "      <td>Martin Marietta</td>\n",
       "      <td>Success</td>\n",
       "      <td>100</td>\n",
       "    </tr>\n",
       "    <tr>\n",
       "      <th>1</th>\n",
       "      <td>Australia</td>\n",
       "      <td>CECLES</td>\n",
       "      <td>Failure</td>\n",
       "      <td>2</td>\n",
       "    </tr>\n",
       "    <tr>\n",
       "      <th>14</th>\n",
       "      <td>China</td>\n",
       "      <td>Landspace</td>\n",
       "      <td>Failure</td>\n",
       "      <td>1</td>\n",
       "    </tr>\n",
       "  </tbody>\n",
       "</table>\n",
       "</div>"
      ],
      "text/plain": [
       "          Nation     Organisation Mission_Status  Launches\n",
       "51   North Korea             KCST        Success         2\n",
       "116          USA     US Air Force        Failure        30\n",
       "100          USA  Martin Marietta        Success       100\n",
       "1      Australia           CECLES        Failure         2\n",
       "14         China        Landspace        Failure         1"
      ]
     },
     "execution_count": 80,
     "metadata": {},
     "output_type": "execute_result"
    }
   ],
   "source": [
    "## Dataset\n",
    "\n",
    "df_sunburst = df_clean.groupby([\"Nation\", \"Organisation\", \"Mission_Status\"], as_index=False).agg({\"Date\": pd.Series.count})\n",
    "df_sunburst.rename(columns={\"Date\": \"Launches\"}, inplace=True)\n",
    "\n",
    "df_sunburst.sample(5)"
   ]
  },
  {
   "cell_type": "code",
   "execution_count": 81,
   "metadata": {
    "colab": {
     "base_uri": "https://localhost:8080/",
     "height": 817
    },
    "executionInfo": {
     "elapsed": 592,
     "status": "ok",
     "timestamp": 1620633013556,
     "user": {
      "displayName": "fabio alba",
      "photoUrl": "",
      "userId": "06675624622301434407"
     },
     "user_tz": -120
    },
    "id": "-ZwZkx1ro4X9",
    "outputId": "93a18f68-6229-41e6-b39b-f11693b1c9c2",
    "scrolled": false
   },
   "outputs": [
    {
     "data": {
      "application/vnd.plotly.v1+json": {
       "config": {
        "plotlyServerURL": "https://plot.ly"
       },
       "data": [
        {
         "branchvalues": "total",
         "domain": {
          "x": [
           0,
           1
          ],
          "y": [
           0,
           1
          ]
         },
         "hovertemplate": "labels=%{label}<br>Launches=%{value}<br>parent=%{parent}<br>id=%{id}<extra></extra>",
         "ids": [
          "Brazil/AEB/Failure",
          "USA/AMBA/Failure",
          "France/Arianespace/Failure",
          "USA/Boeing/Failure",
          "China/CASC/Failure",
          "China/CASIC/Failure",
          "Australia/CECLES/Failure",
          "France/CECLES/Failure",
          "France/CNES/Failure",
          "USA/EER/Failure",
          "France/ESA/Failure",
          "Russian Federation/Eurockot/Failure",
          "China/ExPace/Failure",
          "USA/Exos/Failure",
          "USA/General Dynamics/Failure",
          "Israel/IAI/Failure",
          "Iran/ISA/Failure",
          "Japan/ISAS/Failure",
          "India/ISRO/Failure",
          "Japan/JAXA/Failure",
          "South Korea/KARI/Failure",
          "North Korea/KCST/Failure",
          "Russian Federation/Kosmotras/Failure",
          "China/Landspace/Failure",
          "USA/Lockheed/Failure",
          "Japan/MHI/Failure",
          "Russian Federation/MITT/Failure",
          "USA/Martin Marietta/Failure",
          "USA/NASA/Failure",
          "USA/Northrop/Failure",
          "China/OneSpace/Failure",
          "Australia/RAE/Failure",
          "Russian Federation/RVSN USSR/Failure",
          "New Zealand/Rocket Lab/Failure",
          "Russian Federation/Roscosmos/Failure",
          "Russian Federation/SRC/Failure",
          "USA/Sandia/Failure",
          "USA/Sea Launch/Failure",
          "USA/SpaceX/Failure",
          "USA/US Air Force/Failure",
          "USA/US Navy/Failure",
          "Japan/UT/Failure",
          "Russian Federation/VKS RF/Failure",
          "USA/Virgin Orbit/Failure",
          "USA/AMBA/Partial Failure",
          "France/Arianespace/Partial Failure",
          "France/Arm??e de l'Air/Partial Failure",
          "USA/Boeing/Partial Failure",
          "China/CASC/Partial Failure",
          "France/ESA/Partial Failure",
          "USA/Exos/Partial Failure",
          "USA/General Dynamics/Partial Failure",
          "Russian Federation/ILS/Partial Failure",
          "Japan/ISAS/Partial Failure",
          "India/ISRO/Partial Failure",
          "Russian Federation/Land Launch/Partial Failure",
          "Japan/MHI/Partial Failure",
          "USA/Martin Marietta/Partial Failure",
          "USA/NASA/Partial Failure",
          "USA/Northrop/Partial Failure",
          "Russian Federation/RVSN USSR/Partial Failure",
          "Russian Federation/Roscosmos/Partial Failure",
          "USA/SpaceX/Partial Failure",
          "USA/ULA/Partial Failure",
          "USA/US Air Force/Partial Failure",
          "USA/US Navy/Partial Failure",
          "Russian Federation/VKS RF/Partial Failure",
          "Brazil/AEB/Prelaunch Failure",
          "Iran/ISA/Prelaunch Failure",
          "Russian Federation/RVSN USSR/Prelaunch Failure",
          "USA/SpaceX/Prelaunch Failure",
          "Australia/AMBA/Success",
          "USA/AMBA/Success",
          "Italy/ASI/Success",
          "France/Arianespace/Success",
          "Russian Federation/Arianespace/Success",
          "France/Arm??e de l'Air/Success",
          "USA/Blue Origin/Success",
          "USA/Boeing/Success",
          "China/CASC/Success",
          "China/CASIC/Success",
          "Australia/CECLES/Success",
          "France/CNES/Success",
          "USA/Douglas/Success",
          "France/ESA/Success",
          "Russian Federation/Eurockot/Success",
          "China/ExPace/Success",
          "USA/General Dynamics/Success",
          "Israel/IAI/Success",
          "Russian Federation/ILS/Success",
          "USA/ILS/Success",
          "Iran/IRGC/Success",
          "Iran/ISA/Success",
          "Japan/ISAS/Success",
          "India/ISRO/Success",
          "Japan/JAXA/Success",
          "South Korea/KARI/Success",
          "North Korea/KCST/Success",
          "Russian Federation/Khrunichev/Success",
          "Russian Federation/Kosmotras/Success",
          "Russian Federation/Land Launch/Success",
          "USA/Lockheed/Success",
          "Japan/MHI/Success",
          "Russian Federation/MITT/Success",
          "USA/Martin Marietta/Success",
          "USA/NASA/Success",
          "USA/Northrop/Success",
          "Russian Federation/OKB-586/Success",
          "Australia/RAE/Success",
          "Russian Federation/RVSN USSR/Success",
          "New Zealand/Rocket Lab/Success",
          "Russian Federation/Roscosmos/Success",
          "Russian Federation/SRC/Success",
          "USA/Sea Launch/Success",
          "USA/SpaceX/Success",
          "Russian Federation/Starsem/Success",
          "USA/ULA/Success",
          "USA/US Air Force/Success",
          "USA/US Navy/Success",
          "Japan/UT/Success",
          "Russian Federation/VKS RF/Success",
          "Russian Federation/Yuzhmash/Success",
          "China/i-Space/Success",
          "Brazil/AEB",
          "Australia/AMBA",
          "USA/AMBA",
          "Italy/ASI",
          "France/Arianespace",
          "Russian Federation/Arianespace",
          "France/Arm??e de l'Air",
          "USA/Blue Origin",
          "USA/Boeing",
          "China/CASC",
          "China/CASIC",
          "Australia/CECLES",
          "France/CECLES",
          "France/CNES",
          "USA/Douglas",
          "USA/EER",
          "France/ESA",
          "Russian Federation/Eurockot",
          "China/ExPace",
          "USA/Exos",
          "USA/General Dynamics",
          "Israel/IAI",
          "Russian Federation/ILS",
          "USA/ILS",
          "Iran/IRGC",
          "Iran/ISA",
          "Japan/ISAS",
          "India/ISRO",
          "Japan/JAXA",
          "South Korea/KARI",
          "North Korea/KCST",
          "Russian Federation/Khrunichev",
          "Russian Federation/Kosmotras",
          "Russian Federation/Land Launch",
          "China/Landspace",
          "USA/Lockheed",
          "Japan/MHI",
          "Russian Federation/MITT",
          "USA/Martin Marietta",
          "USA/NASA",
          "USA/Northrop",
          "Russian Federation/OKB-586",
          "China/OneSpace",
          "Australia/RAE",
          "Russian Federation/RVSN USSR",
          "New Zealand/Rocket Lab",
          "Russian Federation/Roscosmos",
          "Russian Federation/SRC",
          "USA/Sandia",
          "USA/Sea Launch",
          "USA/SpaceX",
          "Russian Federation/Starsem",
          "USA/ULA",
          "USA/US Air Force",
          "USA/US Navy",
          "Japan/UT",
          "Russian Federation/VKS RF",
          "USA/Virgin Orbit",
          "Russian Federation/Yuzhmash",
          "China/i-Space",
          "Australia",
          "Brazil",
          "China",
          "France",
          "India",
          "Iran",
          "Israel",
          "Italy",
          "Japan",
          "New Zealand",
          "North Korea",
          "Russian Federation",
          "South Korea",
          "USA"
         ],
         "labels": [
          "Failure",
          "Failure",
          "Failure",
          "Failure",
          "Failure",
          "Failure",
          "Failure",
          "Failure",
          "Failure",
          "Failure",
          "Failure",
          "Failure",
          "Failure",
          "Failure",
          "Failure",
          "Failure",
          "Failure",
          "Failure",
          "Failure",
          "Failure",
          "Failure",
          "Failure",
          "Failure",
          "Failure",
          "Failure",
          "Failure",
          "Failure",
          "Failure",
          "Failure",
          "Failure",
          "Failure",
          "Failure",
          "Failure",
          "Failure",
          "Failure",
          "Failure",
          "Failure",
          "Failure",
          "Failure",
          "Failure",
          "Failure",
          "Failure",
          "Failure",
          "Failure",
          "Partial Failure",
          "Partial Failure",
          "Partial Failure",
          "Partial Failure",
          "Partial Failure",
          "Partial Failure",
          "Partial Failure",
          "Partial Failure",
          "Partial Failure",
          "Partial Failure",
          "Partial Failure",
          "Partial Failure",
          "Partial Failure",
          "Partial Failure",
          "Partial Failure",
          "Partial Failure",
          "Partial Failure",
          "Partial Failure",
          "Partial Failure",
          "Partial Failure",
          "Partial Failure",
          "Partial Failure",
          "Partial Failure",
          "Prelaunch Failure",
          "Prelaunch Failure",
          "Prelaunch Failure",
          "Prelaunch Failure",
          "Success",
          "Success",
          "Success",
          "Success",
          "Success",
          "Success",
          "Success",
          "Success",
          "Success",
          "Success",
          "Success",
          "Success",
          "Success",
          "Success",
          "Success",
          "Success",
          "Success",
          "Success",
          "Success",
          "Success",
          "Success",
          "Success",
          "Success",
          "Success",
          "Success",
          "Success",
          "Success",
          "Success",
          "Success",
          "Success",
          "Success",
          "Success",
          "Success",
          "Success",
          "Success",
          "Success",
          "Success",
          "Success",
          "Success",
          "Success",
          "Success",
          "Success",
          "Success",
          "Success",
          "Success",
          "Success",
          "Success",
          "Success",
          "Success",
          "Success",
          "Success",
          "Success",
          "AEB",
          "AMBA",
          "AMBA",
          "ASI",
          "Arianespace",
          "Arianespace",
          "Arm??e de l'Air",
          "Blue Origin",
          "Boeing",
          "CASC",
          "CASIC",
          "CECLES",
          "CECLES",
          "CNES",
          "Douglas",
          "EER",
          "ESA",
          "Eurockot",
          "ExPace",
          "Exos",
          "General Dynamics",
          "IAI",
          "ILS",
          "ILS",
          "IRGC",
          "ISA",
          "ISAS",
          "ISRO",
          "JAXA",
          "KARI",
          "KCST",
          "Khrunichev",
          "Kosmotras",
          "Land Launch",
          "Landspace",
          "Lockheed",
          "MHI",
          "MITT",
          "Martin Marietta",
          "NASA",
          "Northrop",
          "OKB-586",
          "OneSpace",
          "RAE",
          "RVSN USSR",
          "Rocket Lab",
          "Roscosmos",
          "SRC",
          "Sandia",
          "Sea Launch",
          "SpaceX",
          "Starsem",
          "ULA",
          "US Air Force",
          "US Navy",
          "UT",
          "VKS RF",
          "Virgin Orbit",
          "Yuzhmash",
          "i-Space",
          "Australia",
          "Brazil",
          "China",
          "France",
          "India",
          "Iran",
          "Israel",
          "Italy",
          "Japan",
          "New Zealand",
          "North Korea",
          "Russian Federation",
          "South Korea",
          "USA"
         ],
         "name": "",
         "parents": [
          "Brazil/AEB",
          "USA/AMBA",
          "France/Arianespace",
          "USA/Boeing",
          "China/CASC",
          "China/CASIC",
          "Australia/CECLES",
          "France/CECLES",
          "France/CNES",
          "USA/EER",
          "France/ESA",
          "Russian Federation/Eurockot",
          "China/ExPace",
          "USA/Exos",
          "USA/General Dynamics",
          "Israel/IAI",
          "Iran/ISA",
          "Japan/ISAS",
          "India/ISRO",
          "Japan/JAXA",
          "South Korea/KARI",
          "North Korea/KCST",
          "Russian Federation/Kosmotras",
          "China/Landspace",
          "USA/Lockheed",
          "Japan/MHI",
          "Russian Federation/MITT",
          "USA/Martin Marietta",
          "USA/NASA",
          "USA/Northrop",
          "China/OneSpace",
          "Australia/RAE",
          "Russian Federation/RVSN USSR",
          "New Zealand/Rocket Lab",
          "Russian Federation/Roscosmos",
          "Russian Federation/SRC",
          "USA/Sandia",
          "USA/Sea Launch",
          "USA/SpaceX",
          "USA/US Air Force",
          "USA/US Navy",
          "Japan/UT",
          "Russian Federation/VKS RF",
          "USA/Virgin Orbit",
          "USA/AMBA",
          "France/Arianespace",
          "France/Arm??e de l'Air",
          "USA/Boeing",
          "China/CASC",
          "France/ESA",
          "USA/Exos",
          "USA/General Dynamics",
          "Russian Federation/ILS",
          "Japan/ISAS",
          "India/ISRO",
          "Russian Federation/Land Launch",
          "Japan/MHI",
          "USA/Martin Marietta",
          "USA/NASA",
          "USA/Northrop",
          "Russian Federation/RVSN USSR",
          "Russian Federation/Roscosmos",
          "USA/SpaceX",
          "USA/ULA",
          "USA/US Air Force",
          "USA/US Navy",
          "Russian Federation/VKS RF",
          "Brazil/AEB",
          "Iran/ISA",
          "Russian Federation/RVSN USSR",
          "USA/SpaceX",
          "Australia/AMBA",
          "USA/AMBA",
          "Italy/ASI",
          "France/Arianespace",
          "Russian Federation/Arianespace",
          "France/Arm??e de l'Air",
          "USA/Blue Origin",
          "USA/Boeing",
          "China/CASC",
          "China/CASIC",
          "Australia/CECLES",
          "France/CNES",
          "USA/Douglas",
          "France/ESA",
          "Russian Federation/Eurockot",
          "China/ExPace",
          "USA/General Dynamics",
          "Israel/IAI",
          "Russian Federation/ILS",
          "USA/ILS",
          "Iran/IRGC",
          "Iran/ISA",
          "Japan/ISAS",
          "India/ISRO",
          "Japan/JAXA",
          "South Korea/KARI",
          "North Korea/KCST",
          "Russian Federation/Khrunichev",
          "Russian Federation/Kosmotras",
          "Russian Federation/Land Launch",
          "USA/Lockheed",
          "Japan/MHI",
          "Russian Federation/MITT",
          "USA/Martin Marietta",
          "USA/NASA",
          "USA/Northrop",
          "Russian Federation/OKB-586",
          "Australia/RAE",
          "Russian Federation/RVSN USSR",
          "New Zealand/Rocket Lab",
          "Russian Federation/Roscosmos",
          "Russian Federation/SRC",
          "USA/Sea Launch",
          "USA/SpaceX",
          "Russian Federation/Starsem",
          "USA/ULA",
          "USA/US Air Force",
          "USA/US Navy",
          "Japan/UT",
          "Russian Federation/VKS RF",
          "Russian Federation/Yuzhmash",
          "China/i-Space",
          "Brazil",
          "Australia",
          "USA",
          "Italy",
          "France",
          "Russian Federation",
          "France",
          "USA",
          "USA",
          "China",
          "China",
          "Australia",
          "France",
          "France",
          "USA",
          "USA",
          "France",
          "Russian Federation",
          "China",
          "USA",
          "USA",
          "Israel",
          "Russian Federation",
          "USA",
          "Iran",
          "Iran",
          "Japan",
          "India",
          "Japan",
          "South Korea",
          "North Korea",
          "Russian Federation",
          "Russian Federation",
          "Russian Federation",
          "China",
          "USA",
          "Japan",
          "Russian Federation",
          "USA",
          "USA",
          "USA",
          "Russian Federation",
          "China",
          "Australia",
          "Russian Federation",
          "New Zealand",
          "Russian Federation",
          "Russian Federation",
          "USA",
          "USA",
          "USA",
          "Russian Federation",
          "USA",
          "USA",
          "USA",
          "Japan",
          "Russian Federation",
          "USA",
          "Russian Federation",
          "China",
          "",
          "",
          "",
          "",
          "",
          "",
          "",
          "",
          "",
          "",
          "",
          "",
          "",
          ""
         ],
         "type": "sunburst",
         "values": [
          2,
          3,
          7,
          3,
          14,
          2,
          2,
          1,
          2,
          1,
          3,
          1,
          1,
          1,
          37,
          2,
          8,
          3,
          8,
          1,
          2,
          3,
          1,
          1,
          5,
          2,
          1,
          11,
          11,
          7,
          1,
          1,
          121,
          2,
          3,
          1,
          1,
          3,
          4,
          30,
          14,
          4,
          7,
          1,
          1,
          3,
          1,
          2,
          6,
          1,
          3,
          11,
          1,
          1,
          5,
          1,
          2,
          3,
          6,
          2,
          41,
          1,
          1,
          1,
          2,
          1,
          6,
          1,
          1,
          1,
          1,
          1,
          3,
          9,
          267,
          2,
          3,
          12,
          131,
          230,
          3,
          1,
          6,
          1,
          9,
          12,
          9,
          203,
          9,
          5,
          40,
          1,
          4,
          26,
          63,
          6,
          1,
          2,
          1,
          21,
          6,
          74,
          80,
          6,
          100,
          186,
          74,
          2,
          1,
          1614,
          11,
          51,
          2,
          33,
          94,
          1,
          139,
          129,
          2,
          1,
          188,
          2,
          1,
          3,
          1,
          7,
          9,
          277,
          2,
          4,
          12,
          136,
          250,
          5,
          3,
          1,
          8,
          1,
          1,
          13,
          13,
          10,
          4,
          251,
          11,
          6,
          40,
          1,
          13,
          30,
          76,
          7,
          3,
          5,
          1,
          22,
          7,
          1,
          79,
          84,
          7,
          114,
          203,
          83,
          2,
          1,
          2,
          1777,
          13,
          55,
          3,
          1,
          36,
          100,
          1,
          140,
          161,
          17,
          5,
          201,
          1,
          2,
          1,
          6,
          3,
          268,
          303,
          76,
          14,
          11,
          9,
          126,
          13,
          5,
          2099,
          3,
          1387
         ]
        }
       ],
       "layout": {
        "height": 800,
        "legend": {
         "tracegroupgap": 0
        },
        "template": {
         "data": {
          "bar": [
           {
            "error_x": {
             "color": "#2a3f5f"
            },
            "error_y": {
             "color": "#2a3f5f"
            },
            "marker": {
             "line": {
              "color": "#E5ECF6",
              "width": 0.5
             },
             "pattern": {
              "fillmode": "overlay",
              "size": 10,
              "solidity": 0.2
             }
            },
            "type": "bar"
           }
          ],
          "barpolar": [
           {
            "marker": {
             "line": {
              "color": "#E5ECF6",
              "width": 0.5
             },
             "pattern": {
              "fillmode": "overlay",
              "size": 10,
              "solidity": 0.2
             }
            },
            "type": "barpolar"
           }
          ],
          "carpet": [
           {
            "aaxis": {
             "endlinecolor": "#2a3f5f",
             "gridcolor": "white",
             "linecolor": "white",
             "minorgridcolor": "white",
             "startlinecolor": "#2a3f5f"
            },
            "baxis": {
             "endlinecolor": "#2a3f5f",
             "gridcolor": "white",
             "linecolor": "white",
             "minorgridcolor": "white",
             "startlinecolor": "#2a3f5f"
            },
            "type": "carpet"
           }
          ],
          "choropleth": [
           {
            "colorbar": {
             "outlinewidth": 0,
             "ticks": ""
            },
            "type": "choropleth"
           }
          ],
          "contour": [
           {
            "colorbar": {
             "outlinewidth": 0,
             "ticks": ""
            },
            "colorscale": [
             [
              0,
              "#0d0887"
             ],
             [
              0.1111111111111111,
              "#46039f"
             ],
             [
              0.2222222222222222,
              "#7201a8"
             ],
             [
              0.3333333333333333,
              "#9c179e"
             ],
             [
              0.4444444444444444,
              "#bd3786"
             ],
             [
              0.5555555555555556,
              "#d8576b"
             ],
             [
              0.6666666666666666,
              "#ed7953"
             ],
             [
              0.7777777777777778,
              "#fb9f3a"
             ],
             [
              0.8888888888888888,
              "#fdca26"
             ],
             [
              1,
              "#f0f921"
             ]
            ],
            "type": "contour"
           }
          ],
          "contourcarpet": [
           {
            "colorbar": {
             "outlinewidth": 0,
             "ticks": ""
            },
            "type": "contourcarpet"
           }
          ],
          "heatmap": [
           {
            "colorbar": {
             "outlinewidth": 0,
             "ticks": ""
            },
            "colorscale": [
             [
              0,
              "#0d0887"
             ],
             [
              0.1111111111111111,
              "#46039f"
             ],
             [
              0.2222222222222222,
              "#7201a8"
             ],
             [
              0.3333333333333333,
              "#9c179e"
             ],
             [
              0.4444444444444444,
              "#bd3786"
             ],
             [
              0.5555555555555556,
              "#d8576b"
             ],
             [
              0.6666666666666666,
              "#ed7953"
             ],
             [
              0.7777777777777778,
              "#fb9f3a"
             ],
             [
              0.8888888888888888,
              "#fdca26"
             ],
             [
              1,
              "#f0f921"
             ]
            ],
            "type": "heatmap"
           }
          ],
          "heatmapgl": [
           {
            "colorbar": {
             "outlinewidth": 0,
             "ticks": ""
            },
            "colorscale": [
             [
              0,
              "#0d0887"
             ],
             [
              0.1111111111111111,
              "#46039f"
             ],
             [
              0.2222222222222222,
              "#7201a8"
             ],
             [
              0.3333333333333333,
              "#9c179e"
             ],
             [
              0.4444444444444444,
              "#bd3786"
             ],
             [
              0.5555555555555556,
              "#d8576b"
             ],
             [
              0.6666666666666666,
              "#ed7953"
             ],
             [
              0.7777777777777778,
              "#fb9f3a"
             ],
             [
              0.8888888888888888,
              "#fdca26"
             ],
             [
              1,
              "#f0f921"
             ]
            ],
            "type": "heatmapgl"
           }
          ],
          "histogram": [
           {
            "marker": {
             "pattern": {
              "fillmode": "overlay",
              "size": 10,
              "solidity": 0.2
             }
            },
            "type": "histogram"
           }
          ],
          "histogram2d": [
           {
            "colorbar": {
             "outlinewidth": 0,
             "ticks": ""
            },
            "colorscale": [
             [
              0,
              "#0d0887"
             ],
             [
              0.1111111111111111,
              "#46039f"
             ],
             [
              0.2222222222222222,
              "#7201a8"
             ],
             [
              0.3333333333333333,
              "#9c179e"
             ],
             [
              0.4444444444444444,
              "#bd3786"
             ],
             [
              0.5555555555555556,
              "#d8576b"
             ],
             [
              0.6666666666666666,
              "#ed7953"
             ],
             [
              0.7777777777777778,
              "#fb9f3a"
             ],
             [
              0.8888888888888888,
              "#fdca26"
             ],
             [
              1,
              "#f0f921"
             ]
            ],
            "type": "histogram2d"
           }
          ],
          "histogram2dcontour": [
           {
            "colorbar": {
             "outlinewidth": 0,
             "ticks": ""
            },
            "colorscale": [
             [
              0,
              "#0d0887"
             ],
             [
              0.1111111111111111,
              "#46039f"
             ],
             [
              0.2222222222222222,
              "#7201a8"
             ],
             [
              0.3333333333333333,
              "#9c179e"
             ],
             [
              0.4444444444444444,
              "#bd3786"
             ],
             [
              0.5555555555555556,
              "#d8576b"
             ],
             [
              0.6666666666666666,
              "#ed7953"
             ],
             [
              0.7777777777777778,
              "#fb9f3a"
             ],
             [
              0.8888888888888888,
              "#fdca26"
             ],
             [
              1,
              "#f0f921"
             ]
            ],
            "type": "histogram2dcontour"
           }
          ],
          "mesh3d": [
           {
            "colorbar": {
             "outlinewidth": 0,
             "ticks": ""
            },
            "type": "mesh3d"
           }
          ],
          "parcoords": [
           {
            "line": {
             "colorbar": {
              "outlinewidth": 0,
              "ticks": ""
             }
            },
            "type": "parcoords"
           }
          ],
          "pie": [
           {
            "automargin": true,
            "type": "pie"
           }
          ],
          "scatter": [
           {
            "marker": {
             "colorbar": {
              "outlinewidth": 0,
              "ticks": ""
             }
            },
            "type": "scatter"
           }
          ],
          "scatter3d": [
           {
            "line": {
             "colorbar": {
              "outlinewidth": 0,
              "ticks": ""
             }
            },
            "marker": {
             "colorbar": {
              "outlinewidth": 0,
              "ticks": ""
             }
            },
            "type": "scatter3d"
           }
          ],
          "scattercarpet": [
           {
            "marker": {
             "colorbar": {
              "outlinewidth": 0,
              "ticks": ""
             }
            },
            "type": "scattercarpet"
           }
          ],
          "scattergeo": [
           {
            "marker": {
             "colorbar": {
              "outlinewidth": 0,
              "ticks": ""
             }
            },
            "type": "scattergeo"
           }
          ],
          "scattergl": [
           {
            "marker": {
             "colorbar": {
              "outlinewidth": 0,
              "ticks": ""
             }
            },
            "type": "scattergl"
           }
          ],
          "scattermapbox": [
           {
            "marker": {
             "colorbar": {
              "outlinewidth": 0,
              "ticks": ""
             }
            },
            "type": "scattermapbox"
           }
          ],
          "scatterpolar": [
           {
            "marker": {
             "colorbar": {
              "outlinewidth": 0,
              "ticks": ""
             }
            },
            "type": "scatterpolar"
           }
          ],
          "scatterpolargl": [
           {
            "marker": {
             "colorbar": {
              "outlinewidth": 0,
              "ticks": ""
             }
            },
            "type": "scatterpolargl"
           }
          ],
          "scatterternary": [
           {
            "marker": {
             "colorbar": {
              "outlinewidth": 0,
              "ticks": ""
             }
            },
            "type": "scatterternary"
           }
          ],
          "surface": [
           {
            "colorbar": {
             "outlinewidth": 0,
             "ticks": ""
            },
            "colorscale": [
             [
              0,
              "#0d0887"
             ],
             [
              0.1111111111111111,
              "#46039f"
             ],
             [
              0.2222222222222222,
              "#7201a8"
             ],
             [
              0.3333333333333333,
              "#9c179e"
             ],
             [
              0.4444444444444444,
              "#bd3786"
             ],
             [
              0.5555555555555556,
              "#d8576b"
             ],
             [
              0.6666666666666666,
              "#ed7953"
             ],
             [
              0.7777777777777778,
              "#fb9f3a"
             ],
             [
              0.8888888888888888,
              "#fdca26"
             ],
             [
              1,
              "#f0f921"
             ]
            ],
            "type": "surface"
           }
          ],
          "table": [
           {
            "cells": {
             "fill": {
              "color": "#EBF0F8"
             },
             "line": {
              "color": "white"
             }
            },
            "header": {
             "fill": {
              "color": "#C8D4E3"
             },
             "line": {
              "color": "white"
             }
            },
            "type": "table"
           }
          ]
         },
         "layout": {
          "annotationdefaults": {
           "arrowcolor": "#2a3f5f",
           "arrowhead": 0,
           "arrowwidth": 1
          },
          "autotypenumbers": "strict",
          "coloraxis": {
           "colorbar": {
            "outlinewidth": 0,
            "ticks": ""
           }
          },
          "colorscale": {
           "diverging": [
            [
             0,
             "#8e0152"
            ],
            [
             0.1,
             "#c51b7d"
            ],
            [
             0.2,
             "#de77ae"
            ],
            [
             0.3,
             "#f1b6da"
            ],
            [
             0.4,
             "#fde0ef"
            ],
            [
             0.5,
             "#f7f7f7"
            ],
            [
             0.6,
             "#e6f5d0"
            ],
            [
             0.7,
             "#b8e186"
            ],
            [
             0.8,
             "#7fbc41"
            ],
            [
             0.9,
             "#4d9221"
            ],
            [
             1,
             "#276419"
            ]
           ],
           "sequential": [
            [
             0,
             "#0d0887"
            ],
            [
             0.1111111111111111,
             "#46039f"
            ],
            [
             0.2222222222222222,
             "#7201a8"
            ],
            [
             0.3333333333333333,
             "#9c179e"
            ],
            [
             0.4444444444444444,
             "#bd3786"
            ],
            [
             0.5555555555555556,
             "#d8576b"
            ],
            [
             0.6666666666666666,
             "#ed7953"
            ],
            [
             0.7777777777777778,
             "#fb9f3a"
            ],
            [
             0.8888888888888888,
             "#fdca26"
            ],
            [
             1,
             "#f0f921"
            ]
           ],
           "sequentialminus": [
            [
             0,
             "#0d0887"
            ],
            [
             0.1111111111111111,
             "#46039f"
            ],
            [
             0.2222222222222222,
             "#7201a8"
            ],
            [
             0.3333333333333333,
             "#9c179e"
            ],
            [
             0.4444444444444444,
             "#bd3786"
            ],
            [
             0.5555555555555556,
             "#d8576b"
            ],
            [
             0.6666666666666666,
             "#ed7953"
            ],
            [
             0.7777777777777778,
             "#fb9f3a"
            ],
            [
             0.8888888888888888,
             "#fdca26"
            ],
            [
             1,
             "#f0f921"
            ]
           ]
          },
          "colorway": [
           "#636efa",
           "#EF553B",
           "#00cc96",
           "#ab63fa",
           "#FFA15A",
           "#19d3f3",
           "#FF6692",
           "#B6E880",
           "#FF97FF",
           "#FECB52"
          ],
          "font": {
           "color": "#2a3f5f"
          },
          "geo": {
           "bgcolor": "white",
           "lakecolor": "white",
           "landcolor": "#E5ECF6",
           "showlakes": true,
           "showland": true,
           "subunitcolor": "white"
          },
          "hoverlabel": {
           "align": "left"
          },
          "hovermode": "closest",
          "mapbox": {
           "style": "light"
          },
          "paper_bgcolor": "white",
          "plot_bgcolor": "#E5ECF6",
          "polar": {
           "angularaxis": {
            "gridcolor": "white",
            "linecolor": "white",
            "ticks": ""
           },
           "bgcolor": "#E5ECF6",
           "radialaxis": {
            "gridcolor": "white",
            "linecolor": "white",
            "ticks": ""
           }
          },
          "scene": {
           "xaxis": {
            "backgroundcolor": "#E5ECF6",
            "gridcolor": "white",
            "gridwidth": 2,
            "linecolor": "white",
            "showbackground": true,
            "ticks": "",
            "zerolinecolor": "white"
           },
           "yaxis": {
            "backgroundcolor": "#E5ECF6",
            "gridcolor": "white",
            "gridwidth": 2,
            "linecolor": "white",
            "showbackground": true,
            "ticks": "",
            "zerolinecolor": "white"
           },
           "zaxis": {
            "backgroundcolor": "#E5ECF6",
            "gridcolor": "white",
            "gridwidth": 2,
            "linecolor": "white",
            "showbackground": true,
            "ticks": "",
            "zerolinecolor": "white"
           }
          },
          "shapedefaults": {
           "line": {
            "color": "#2a3f5f"
           }
          },
          "ternary": {
           "aaxis": {
            "gridcolor": "white",
            "linecolor": "white",
            "ticks": ""
           },
           "baxis": {
            "gridcolor": "white",
            "linecolor": "white",
            "ticks": ""
           },
           "bgcolor": "#E5ECF6",
           "caxis": {
            "gridcolor": "white",
            "linecolor": "white",
            "ticks": ""
           }
          },
          "title": {
           "x": 0.05
          },
          "xaxis": {
           "automargin": true,
           "gridcolor": "white",
           "linecolor": "white",
           "ticks": "",
           "title": {
            "standoff": 15
           },
           "zerolinecolor": "white",
           "zerolinewidth": 2
          },
          "yaxis": {
           "automargin": true,
           "gridcolor": "white",
           "linecolor": "white",
           "ticks": "",
           "title": {
            "standoff": 15
           },
           "zerolinecolor": "white",
           "zerolinewidth": 2
          }
         }
        },
        "title": {
         "text": "Launches by countries, organisations, and mission status"
        }
       }
      },
      "text/html": [
       "<div>                            <div id=\"7d21ce92-06e9-4e62-bbaa-ae2cb74098f9\" class=\"plotly-graph-div\" style=\"height:800px; width:100%;\"></div>            <script type=\"text/javascript\">                require([\"plotly\"], function(Plotly) {                    window.PLOTLYENV=window.PLOTLYENV || {};                                    if (document.getElementById(\"7d21ce92-06e9-4e62-bbaa-ae2cb74098f9\")) {                    Plotly.newPlot(                        \"7d21ce92-06e9-4e62-bbaa-ae2cb74098f9\",                        [{\"branchvalues\":\"total\",\"domain\":{\"x\":[0.0,1.0],\"y\":[0.0,1.0]},\"hovertemplate\":\"labels=%{label}<br>Launches=%{value}<br>parent=%{parent}<br>id=%{id}<extra></extra>\",\"ids\":[\"Brazil/AEB/Failure\",\"USA/AMBA/Failure\",\"France/Arianespace/Failure\",\"USA/Boeing/Failure\",\"China/CASC/Failure\",\"China/CASIC/Failure\",\"Australia/CECLES/Failure\",\"France/CECLES/Failure\",\"France/CNES/Failure\",\"USA/EER/Failure\",\"France/ESA/Failure\",\"Russian Federation/Eurockot/Failure\",\"China/ExPace/Failure\",\"USA/Exos/Failure\",\"USA/General Dynamics/Failure\",\"Israel/IAI/Failure\",\"Iran/ISA/Failure\",\"Japan/ISAS/Failure\",\"India/ISRO/Failure\",\"Japan/JAXA/Failure\",\"South Korea/KARI/Failure\",\"North Korea/KCST/Failure\",\"Russian Federation/Kosmotras/Failure\",\"China/Landspace/Failure\",\"USA/Lockheed/Failure\",\"Japan/MHI/Failure\",\"Russian Federation/MITT/Failure\",\"USA/Martin Marietta/Failure\",\"USA/NASA/Failure\",\"USA/Northrop/Failure\",\"China/OneSpace/Failure\",\"Australia/RAE/Failure\",\"Russian Federation/RVSN USSR/Failure\",\"New Zealand/Rocket Lab/Failure\",\"Russian Federation/Roscosmos/Failure\",\"Russian Federation/SRC/Failure\",\"USA/Sandia/Failure\",\"USA/Sea Launch/Failure\",\"USA/SpaceX/Failure\",\"USA/US Air Force/Failure\",\"USA/US Navy/Failure\",\"Japan/UT/Failure\",\"Russian Federation/VKS RF/Failure\",\"USA/Virgin Orbit/Failure\",\"USA/AMBA/Partial Failure\",\"France/Arianespace/Partial Failure\",\"France/Arm??e de l'Air/Partial Failure\",\"USA/Boeing/Partial Failure\",\"China/CASC/Partial Failure\",\"France/ESA/Partial Failure\",\"USA/Exos/Partial Failure\",\"USA/General Dynamics/Partial Failure\",\"Russian Federation/ILS/Partial Failure\",\"Japan/ISAS/Partial Failure\",\"India/ISRO/Partial Failure\",\"Russian Federation/Land Launch/Partial Failure\",\"Japan/MHI/Partial Failure\",\"USA/Martin Marietta/Partial Failure\",\"USA/NASA/Partial Failure\",\"USA/Northrop/Partial Failure\",\"Russian Federation/RVSN USSR/Partial Failure\",\"Russian Federation/Roscosmos/Partial Failure\",\"USA/SpaceX/Partial Failure\",\"USA/ULA/Partial Failure\",\"USA/US Air Force/Partial Failure\",\"USA/US Navy/Partial Failure\",\"Russian Federation/VKS RF/Partial Failure\",\"Brazil/AEB/Prelaunch Failure\",\"Iran/ISA/Prelaunch Failure\",\"Russian Federation/RVSN USSR/Prelaunch Failure\",\"USA/SpaceX/Prelaunch Failure\",\"Australia/AMBA/Success\",\"USA/AMBA/Success\",\"Italy/ASI/Success\",\"France/Arianespace/Success\",\"Russian Federation/Arianespace/Success\",\"France/Arm??e de l'Air/Success\",\"USA/Blue Origin/Success\",\"USA/Boeing/Success\",\"China/CASC/Success\",\"China/CASIC/Success\",\"Australia/CECLES/Success\",\"France/CNES/Success\",\"USA/Douglas/Success\",\"France/ESA/Success\",\"Russian Federation/Eurockot/Success\",\"China/ExPace/Success\",\"USA/General Dynamics/Success\",\"Israel/IAI/Success\",\"Russian Federation/ILS/Success\",\"USA/ILS/Success\",\"Iran/IRGC/Success\",\"Iran/ISA/Success\",\"Japan/ISAS/Success\",\"India/ISRO/Success\",\"Japan/JAXA/Success\",\"South Korea/KARI/Success\",\"North Korea/KCST/Success\",\"Russian Federation/Khrunichev/Success\",\"Russian Federation/Kosmotras/Success\",\"Russian Federation/Land Launch/Success\",\"USA/Lockheed/Success\",\"Japan/MHI/Success\",\"Russian Federation/MITT/Success\",\"USA/Martin Marietta/Success\",\"USA/NASA/Success\",\"USA/Northrop/Success\",\"Russian Federation/OKB-586/Success\",\"Australia/RAE/Success\",\"Russian Federation/RVSN USSR/Success\",\"New Zealand/Rocket Lab/Success\",\"Russian Federation/Roscosmos/Success\",\"Russian Federation/SRC/Success\",\"USA/Sea Launch/Success\",\"USA/SpaceX/Success\",\"Russian Federation/Starsem/Success\",\"USA/ULA/Success\",\"USA/US Air Force/Success\",\"USA/US Navy/Success\",\"Japan/UT/Success\",\"Russian Federation/VKS RF/Success\",\"Russian Federation/Yuzhmash/Success\",\"China/i-Space/Success\",\"Brazil/AEB\",\"Australia/AMBA\",\"USA/AMBA\",\"Italy/ASI\",\"France/Arianespace\",\"Russian Federation/Arianespace\",\"France/Arm??e de l'Air\",\"USA/Blue Origin\",\"USA/Boeing\",\"China/CASC\",\"China/CASIC\",\"Australia/CECLES\",\"France/CECLES\",\"France/CNES\",\"USA/Douglas\",\"USA/EER\",\"France/ESA\",\"Russian Federation/Eurockot\",\"China/ExPace\",\"USA/Exos\",\"USA/General Dynamics\",\"Israel/IAI\",\"Russian Federation/ILS\",\"USA/ILS\",\"Iran/IRGC\",\"Iran/ISA\",\"Japan/ISAS\",\"India/ISRO\",\"Japan/JAXA\",\"South Korea/KARI\",\"North Korea/KCST\",\"Russian Federation/Khrunichev\",\"Russian Federation/Kosmotras\",\"Russian Federation/Land Launch\",\"China/Landspace\",\"USA/Lockheed\",\"Japan/MHI\",\"Russian Federation/MITT\",\"USA/Martin Marietta\",\"USA/NASA\",\"USA/Northrop\",\"Russian Federation/OKB-586\",\"China/OneSpace\",\"Australia/RAE\",\"Russian Federation/RVSN USSR\",\"New Zealand/Rocket Lab\",\"Russian Federation/Roscosmos\",\"Russian Federation/SRC\",\"USA/Sandia\",\"USA/Sea Launch\",\"USA/SpaceX\",\"Russian Federation/Starsem\",\"USA/ULA\",\"USA/US Air Force\",\"USA/US Navy\",\"Japan/UT\",\"Russian Federation/VKS RF\",\"USA/Virgin Orbit\",\"Russian Federation/Yuzhmash\",\"China/i-Space\",\"Australia\",\"Brazil\",\"China\",\"France\",\"India\",\"Iran\",\"Israel\",\"Italy\",\"Japan\",\"New Zealand\",\"North Korea\",\"Russian Federation\",\"South Korea\",\"USA\"],\"labels\":[\"Failure\",\"Failure\",\"Failure\",\"Failure\",\"Failure\",\"Failure\",\"Failure\",\"Failure\",\"Failure\",\"Failure\",\"Failure\",\"Failure\",\"Failure\",\"Failure\",\"Failure\",\"Failure\",\"Failure\",\"Failure\",\"Failure\",\"Failure\",\"Failure\",\"Failure\",\"Failure\",\"Failure\",\"Failure\",\"Failure\",\"Failure\",\"Failure\",\"Failure\",\"Failure\",\"Failure\",\"Failure\",\"Failure\",\"Failure\",\"Failure\",\"Failure\",\"Failure\",\"Failure\",\"Failure\",\"Failure\",\"Failure\",\"Failure\",\"Failure\",\"Failure\",\"Partial Failure\",\"Partial Failure\",\"Partial Failure\",\"Partial Failure\",\"Partial Failure\",\"Partial Failure\",\"Partial Failure\",\"Partial Failure\",\"Partial Failure\",\"Partial Failure\",\"Partial Failure\",\"Partial Failure\",\"Partial Failure\",\"Partial Failure\",\"Partial Failure\",\"Partial Failure\",\"Partial Failure\",\"Partial Failure\",\"Partial Failure\",\"Partial Failure\",\"Partial Failure\",\"Partial Failure\",\"Partial Failure\",\"Prelaunch Failure\",\"Prelaunch Failure\",\"Prelaunch Failure\",\"Prelaunch Failure\",\"Success\",\"Success\",\"Success\",\"Success\",\"Success\",\"Success\",\"Success\",\"Success\",\"Success\",\"Success\",\"Success\",\"Success\",\"Success\",\"Success\",\"Success\",\"Success\",\"Success\",\"Success\",\"Success\",\"Success\",\"Success\",\"Success\",\"Success\",\"Success\",\"Success\",\"Success\",\"Success\",\"Success\",\"Success\",\"Success\",\"Success\",\"Success\",\"Success\",\"Success\",\"Success\",\"Success\",\"Success\",\"Success\",\"Success\",\"Success\",\"Success\",\"Success\",\"Success\",\"Success\",\"Success\",\"Success\",\"Success\",\"Success\",\"Success\",\"Success\",\"Success\",\"Success\",\"AEB\",\"AMBA\",\"AMBA\",\"ASI\",\"Arianespace\",\"Arianespace\",\"Arm??e de l'Air\",\"Blue Origin\",\"Boeing\",\"CASC\",\"CASIC\",\"CECLES\",\"CECLES\",\"CNES\",\"Douglas\",\"EER\",\"ESA\",\"Eurockot\",\"ExPace\",\"Exos\",\"General Dynamics\",\"IAI\",\"ILS\",\"ILS\",\"IRGC\",\"ISA\",\"ISAS\",\"ISRO\",\"JAXA\",\"KARI\",\"KCST\",\"Khrunichev\",\"Kosmotras\",\"Land Launch\",\"Landspace\",\"Lockheed\",\"MHI\",\"MITT\",\"Martin Marietta\",\"NASA\",\"Northrop\",\"OKB-586\",\"OneSpace\",\"RAE\",\"RVSN USSR\",\"Rocket Lab\",\"Roscosmos\",\"SRC\",\"Sandia\",\"Sea Launch\",\"SpaceX\",\"Starsem\",\"ULA\",\"US Air Force\",\"US Navy\",\"UT\",\"VKS RF\",\"Virgin Orbit\",\"Yuzhmash\",\"i-Space\",\"Australia\",\"Brazil\",\"China\",\"France\",\"India\",\"Iran\",\"Israel\",\"Italy\",\"Japan\",\"New Zealand\",\"North Korea\",\"Russian Federation\",\"South Korea\",\"USA\"],\"name\":\"\",\"parents\":[\"Brazil/AEB\",\"USA/AMBA\",\"France/Arianespace\",\"USA/Boeing\",\"China/CASC\",\"China/CASIC\",\"Australia/CECLES\",\"France/CECLES\",\"France/CNES\",\"USA/EER\",\"France/ESA\",\"Russian Federation/Eurockot\",\"China/ExPace\",\"USA/Exos\",\"USA/General Dynamics\",\"Israel/IAI\",\"Iran/ISA\",\"Japan/ISAS\",\"India/ISRO\",\"Japan/JAXA\",\"South Korea/KARI\",\"North Korea/KCST\",\"Russian Federation/Kosmotras\",\"China/Landspace\",\"USA/Lockheed\",\"Japan/MHI\",\"Russian Federation/MITT\",\"USA/Martin Marietta\",\"USA/NASA\",\"USA/Northrop\",\"China/OneSpace\",\"Australia/RAE\",\"Russian Federation/RVSN USSR\",\"New Zealand/Rocket Lab\",\"Russian Federation/Roscosmos\",\"Russian Federation/SRC\",\"USA/Sandia\",\"USA/Sea Launch\",\"USA/SpaceX\",\"USA/US Air Force\",\"USA/US Navy\",\"Japan/UT\",\"Russian Federation/VKS RF\",\"USA/Virgin Orbit\",\"USA/AMBA\",\"France/Arianespace\",\"France/Arm??e de l'Air\",\"USA/Boeing\",\"China/CASC\",\"France/ESA\",\"USA/Exos\",\"USA/General Dynamics\",\"Russian Federation/ILS\",\"Japan/ISAS\",\"India/ISRO\",\"Russian Federation/Land Launch\",\"Japan/MHI\",\"USA/Martin Marietta\",\"USA/NASA\",\"USA/Northrop\",\"Russian Federation/RVSN USSR\",\"Russian Federation/Roscosmos\",\"USA/SpaceX\",\"USA/ULA\",\"USA/US Air Force\",\"USA/US Navy\",\"Russian Federation/VKS RF\",\"Brazil/AEB\",\"Iran/ISA\",\"Russian Federation/RVSN USSR\",\"USA/SpaceX\",\"Australia/AMBA\",\"USA/AMBA\",\"Italy/ASI\",\"France/Arianespace\",\"Russian Federation/Arianespace\",\"France/Arm??e de l'Air\",\"USA/Blue Origin\",\"USA/Boeing\",\"China/CASC\",\"China/CASIC\",\"Australia/CECLES\",\"France/CNES\",\"USA/Douglas\",\"France/ESA\",\"Russian Federation/Eurockot\",\"China/ExPace\",\"USA/General Dynamics\",\"Israel/IAI\",\"Russian Federation/ILS\",\"USA/ILS\",\"Iran/IRGC\",\"Iran/ISA\",\"Japan/ISAS\",\"India/ISRO\",\"Japan/JAXA\",\"South Korea/KARI\",\"North Korea/KCST\",\"Russian Federation/Khrunichev\",\"Russian Federation/Kosmotras\",\"Russian Federation/Land Launch\",\"USA/Lockheed\",\"Japan/MHI\",\"Russian Federation/MITT\",\"USA/Martin Marietta\",\"USA/NASA\",\"USA/Northrop\",\"Russian Federation/OKB-586\",\"Australia/RAE\",\"Russian Federation/RVSN USSR\",\"New Zealand/Rocket Lab\",\"Russian Federation/Roscosmos\",\"Russian Federation/SRC\",\"USA/Sea Launch\",\"USA/SpaceX\",\"Russian Federation/Starsem\",\"USA/ULA\",\"USA/US Air Force\",\"USA/US Navy\",\"Japan/UT\",\"Russian Federation/VKS RF\",\"Russian Federation/Yuzhmash\",\"China/i-Space\",\"Brazil\",\"Australia\",\"USA\",\"Italy\",\"France\",\"Russian Federation\",\"France\",\"USA\",\"USA\",\"China\",\"China\",\"Australia\",\"France\",\"France\",\"USA\",\"USA\",\"France\",\"Russian Federation\",\"China\",\"USA\",\"USA\",\"Israel\",\"Russian Federation\",\"USA\",\"Iran\",\"Iran\",\"Japan\",\"India\",\"Japan\",\"South Korea\",\"North Korea\",\"Russian Federation\",\"Russian Federation\",\"Russian Federation\",\"China\",\"USA\",\"Japan\",\"Russian Federation\",\"USA\",\"USA\",\"USA\",\"Russian Federation\",\"China\",\"Australia\",\"Russian Federation\",\"New Zealand\",\"Russian Federation\",\"Russian Federation\",\"USA\",\"USA\",\"USA\",\"Russian Federation\",\"USA\",\"USA\",\"USA\",\"Japan\",\"Russian Federation\",\"USA\",\"Russian Federation\",\"China\",\"\",\"\",\"\",\"\",\"\",\"\",\"\",\"\",\"\",\"\",\"\",\"\",\"\",\"\"],\"type\":\"sunburst\",\"values\":[2,3,7,3,14,2,2,1,2,1,3,1,1,1,37,2,8,3,8,1,2,3,1,1,5,2,1,11,11,7,1,1,121,2,3,1,1,3,4,30,14,4,7,1,1,3,1,2,6,1,3,11,1,1,5,1,2,3,6,2,41,1,1,1,2,1,6,1,1,1,1,1,3,9,267,2,3,12,131,230,3,1,6,1,9,12,9,203,9,5,40,1,4,26,63,6,1,2,1,21,6,74,80,6,100,186,74,2,1,1614,11,51,2,33,94,1,139,129,2,1,188,2,1,3,1,7,9,277,2,4,12,136,250,5,3,1,8,1,1,13,13,10,4,251,11,6,40,1,13,30,76,7,3,5,1,22,7,1,79,84,7,114,203,83,2,1,2,1777,13,55,3,1,36,100,1,140,161,17,5,201,1,2,1,6,3,268,303,76,14,11,9,126,13,5,2099,3,1387]}],                        {\"height\":800,\"legend\":{\"tracegroupgap\":0},\"template\":{\"data\":{\"bar\":[{\"error_x\":{\"color\":\"#2a3f5f\"},\"error_y\":{\"color\":\"#2a3f5f\"},\"marker\":{\"line\":{\"color\":\"#E5ECF6\",\"width\":0.5},\"pattern\":{\"fillmode\":\"overlay\",\"size\":10,\"solidity\":0.2}},\"type\":\"bar\"}],\"barpolar\":[{\"marker\":{\"line\":{\"color\":\"#E5ECF6\",\"width\":0.5},\"pattern\":{\"fillmode\":\"overlay\",\"size\":10,\"solidity\":0.2}},\"type\":\"barpolar\"}],\"carpet\":[{\"aaxis\":{\"endlinecolor\":\"#2a3f5f\",\"gridcolor\":\"white\",\"linecolor\":\"white\",\"minorgridcolor\":\"white\",\"startlinecolor\":\"#2a3f5f\"},\"baxis\":{\"endlinecolor\":\"#2a3f5f\",\"gridcolor\":\"white\",\"linecolor\":\"white\",\"minorgridcolor\":\"white\",\"startlinecolor\":\"#2a3f5f\"},\"type\":\"carpet\"}],\"choropleth\":[{\"colorbar\":{\"outlinewidth\":0,\"ticks\":\"\"},\"type\":\"choropleth\"}],\"contour\":[{\"colorbar\":{\"outlinewidth\":0,\"ticks\":\"\"},\"colorscale\":[[0.0,\"#0d0887\"],[0.1111111111111111,\"#46039f\"],[0.2222222222222222,\"#7201a8\"],[0.3333333333333333,\"#9c179e\"],[0.4444444444444444,\"#bd3786\"],[0.5555555555555556,\"#d8576b\"],[0.6666666666666666,\"#ed7953\"],[0.7777777777777778,\"#fb9f3a\"],[0.8888888888888888,\"#fdca26\"],[1.0,\"#f0f921\"]],\"type\":\"contour\"}],\"contourcarpet\":[{\"colorbar\":{\"outlinewidth\":0,\"ticks\":\"\"},\"type\":\"contourcarpet\"}],\"heatmap\":[{\"colorbar\":{\"outlinewidth\":0,\"ticks\":\"\"},\"colorscale\":[[0.0,\"#0d0887\"],[0.1111111111111111,\"#46039f\"],[0.2222222222222222,\"#7201a8\"],[0.3333333333333333,\"#9c179e\"],[0.4444444444444444,\"#bd3786\"],[0.5555555555555556,\"#d8576b\"],[0.6666666666666666,\"#ed7953\"],[0.7777777777777778,\"#fb9f3a\"],[0.8888888888888888,\"#fdca26\"],[1.0,\"#f0f921\"]],\"type\":\"heatmap\"}],\"heatmapgl\":[{\"colorbar\":{\"outlinewidth\":0,\"ticks\":\"\"},\"colorscale\":[[0.0,\"#0d0887\"],[0.1111111111111111,\"#46039f\"],[0.2222222222222222,\"#7201a8\"],[0.3333333333333333,\"#9c179e\"],[0.4444444444444444,\"#bd3786\"],[0.5555555555555556,\"#d8576b\"],[0.6666666666666666,\"#ed7953\"],[0.7777777777777778,\"#fb9f3a\"],[0.8888888888888888,\"#fdca26\"],[1.0,\"#f0f921\"]],\"type\":\"heatmapgl\"}],\"histogram\":[{\"marker\":{\"pattern\":{\"fillmode\":\"overlay\",\"size\":10,\"solidity\":0.2}},\"type\":\"histogram\"}],\"histogram2d\":[{\"colorbar\":{\"outlinewidth\":0,\"ticks\":\"\"},\"colorscale\":[[0.0,\"#0d0887\"],[0.1111111111111111,\"#46039f\"],[0.2222222222222222,\"#7201a8\"],[0.3333333333333333,\"#9c179e\"],[0.4444444444444444,\"#bd3786\"],[0.5555555555555556,\"#d8576b\"],[0.6666666666666666,\"#ed7953\"],[0.7777777777777778,\"#fb9f3a\"],[0.8888888888888888,\"#fdca26\"],[1.0,\"#f0f921\"]],\"type\":\"histogram2d\"}],\"histogram2dcontour\":[{\"colorbar\":{\"outlinewidth\":0,\"ticks\":\"\"},\"colorscale\":[[0.0,\"#0d0887\"],[0.1111111111111111,\"#46039f\"],[0.2222222222222222,\"#7201a8\"],[0.3333333333333333,\"#9c179e\"],[0.4444444444444444,\"#bd3786\"],[0.5555555555555556,\"#d8576b\"],[0.6666666666666666,\"#ed7953\"],[0.7777777777777778,\"#fb9f3a\"],[0.8888888888888888,\"#fdca26\"],[1.0,\"#f0f921\"]],\"type\":\"histogram2dcontour\"}],\"mesh3d\":[{\"colorbar\":{\"outlinewidth\":0,\"ticks\":\"\"},\"type\":\"mesh3d\"}],\"parcoords\":[{\"line\":{\"colorbar\":{\"outlinewidth\":0,\"ticks\":\"\"}},\"type\":\"parcoords\"}],\"pie\":[{\"automargin\":true,\"type\":\"pie\"}],\"scatter\":[{\"marker\":{\"colorbar\":{\"outlinewidth\":0,\"ticks\":\"\"}},\"type\":\"scatter\"}],\"scatter3d\":[{\"line\":{\"colorbar\":{\"outlinewidth\":0,\"ticks\":\"\"}},\"marker\":{\"colorbar\":{\"outlinewidth\":0,\"ticks\":\"\"}},\"type\":\"scatter3d\"}],\"scattercarpet\":[{\"marker\":{\"colorbar\":{\"outlinewidth\":0,\"ticks\":\"\"}},\"type\":\"scattercarpet\"}],\"scattergeo\":[{\"marker\":{\"colorbar\":{\"outlinewidth\":0,\"ticks\":\"\"}},\"type\":\"scattergeo\"}],\"scattergl\":[{\"marker\":{\"colorbar\":{\"outlinewidth\":0,\"ticks\":\"\"}},\"type\":\"scattergl\"}],\"scattermapbox\":[{\"marker\":{\"colorbar\":{\"outlinewidth\":0,\"ticks\":\"\"}},\"type\":\"scattermapbox\"}],\"scatterpolar\":[{\"marker\":{\"colorbar\":{\"outlinewidth\":0,\"ticks\":\"\"}},\"type\":\"scatterpolar\"}],\"scatterpolargl\":[{\"marker\":{\"colorbar\":{\"outlinewidth\":0,\"ticks\":\"\"}},\"type\":\"scatterpolargl\"}],\"scatterternary\":[{\"marker\":{\"colorbar\":{\"outlinewidth\":0,\"ticks\":\"\"}},\"type\":\"scatterternary\"}],\"surface\":[{\"colorbar\":{\"outlinewidth\":0,\"ticks\":\"\"},\"colorscale\":[[0.0,\"#0d0887\"],[0.1111111111111111,\"#46039f\"],[0.2222222222222222,\"#7201a8\"],[0.3333333333333333,\"#9c179e\"],[0.4444444444444444,\"#bd3786\"],[0.5555555555555556,\"#d8576b\"],[0.6666666666666666,\"#ed7953\"],[0.7777777777777778,\"#fb9f3a\"],[0.8888888888888888,\"#fdca26\"],[1.0,\"#f0f921\"]],\"type\":\"surface\"}],\"table\":[{\"cells\":{\"fill\":{\"color\":\"#EBF0F8\"},\"line\":{\"color\":\"white\"}},\"header\":{\"fill\":{\"color\":\"#C8D4E3\"},\"line\":{\"color\":\"white\"}},\"type\":\"table\"}]},\"layout\":{\"annotationdefaults\":{\"arrowcolor\":\"#2a3f5f\",\"arrowhead\":0,\"arrowwidth\":1},\"autotypenumbers\":\"strict\",\"coloraxis\":{\"colorbar\":{\"outlinewidth\":0,\"ticks\":\"\"}},\"colorscale\":{\"diverging\":[[0,\"#8e0152\"],[0.1,\"#c51b7d\"],[0.2,\"#de77ae\"],[0.3,\"#f1b6da\"],[0.4,\"#fde0ef\"],[0.5,\"#f7f7f7\"],[0.6,\"#e6f5d0\"],[0.7,\"#b8e186\"],[0.8,\"#7fbc41\"],[0.9,\"#4d9221\"],[1,\"#276419\"]],\"sequential\":[[0.0,\"#0d0887\"],[0.1111111111111111,\"#46039f\"],[0.2222222222222222,\"#7201a8\"],[0.3333333333333333,\"#9c179e\"],[0.4444444444444444,\"#bd3786\"],[0.5555555555555556,\"#d8576b\"],[0.6666666666666666,\"#ed7953\"],[0.7777777777777778,\"#fb9f3a\"],[0.8888888888888888,\"#fdca26\"],[1.0,\"#f0f921\"]],\"sequentialminus\":[[0.0,\"#0d0887\"],[0.1111111111111111,\"#46039f\"],[0.2222222222222222,\"#7201a8\"],[0.3333333333333333,\"#9c179e\"],[0.4444444444444444,\"#bd3786\"],[0.5555555555555556,\"#d8576b\"],[0.6666666666666666,\"#ed7953\"],[0.7777777777777778,\"#fb9f3a\"],[0.8888888888888888,\"#fdca26\"],[1.0,\"#f0f921\"]]},\"colorway\":[\"#636efa\",\"#EF553B\",\"#00cc96\",\"#ab63fa\",\"#FFA15A\",\"#19d3f3\",\"#FF6692\",\"#B6E880\",\"#FF97FF\",\"#FECB52\"],\"font\":{\"color\":\"#2a3f5f\"},\"geo\":{\"bgcolor\":\"white\",\"lakecolor\":\"white\",\"landcolor\":\"#E5ECF6\",\"showlakes\":true,\"showland\":true,\"subunitcolor\":\"white\"},\"hoverlabel\":{\"align\":\"left\"},\"hovermode\":\"closest\",\"mapbox\":{\"style\":\"light\"},\"paper_bgcolor\":\"white\",\"plot_bgcolor\":\"#E5ECF6\",\"polar\":{\"angularaxis\":{\"gridcolor\":\"white\",\"linecolor\":\"white\",\"ticks\":\"\"},\"bgcolor\":\"#E5ECF6\",\"radialaxis\":{\"gridcolor\":\"white\",\"linecolor\":\"white\",\"ticks\":\"\"}},\"scene\":{\"xaxis\":{\"backgroundcolor\":\"#E5ECF6\",\"gridcolor\":\"white\",\"gridwidth\":2,\"linecolor\":\"white\",\"showbackground\":true,\"ticks\":\"\",\"zerolinecolor\":\"white\"},\"yaxis\":{\"backgroundcolor\":\"#E5ECF6\",\"gridcolor\":\"white\",\"gridwidth\":2,\"linecolor\":\"white\",\"showbackground\":true,\"ticks\":\"\",\"zerolinecolor\":\"white\"},\"zaxis\":{\"backgroundcolor\":\"#E5ECF6\",\"gridcolor\":\"white\",\"gridwidth\":2,\"linecolor\":\"white\",\"showbackground\":true,\"ticks\":\"\",\"zerolinecolor\":\"white\"}},\"shapedefaults\":{\"line\":{\"color\":\"#2a3f5f\"}},\"ternary\":{\"aaxis\":{\"gridcolor\":\"white\",\"linecolor\":\"white\",\"ticks\":\"\"},\"baxis\":{\"gridcolor\":\"white\",\"linecolor\":\"white\",\"ticks\":\"\"},\"bgcolor\":\"#E5ECF6\",\"caxis\":{\"gridcolor\":\"white\",\"linecolor\":\"white\",\"ticks\":\"\"}},\"title\":{\"x\":0.05},\"xaxis\":{\"automargin\":true,\"gridcolor\":\"white\",\"linecolor\":\"white\",\"ticks\":\"\",\"title\":{\"standoff\":15},\"zerolinecolor\":\"white\",\"zerolinewidth\":2},\"yaxis\":{\"automargin\":true,\"gridcolor\":\"white\",\"linecolor\":\"white\",\"ticks\":\"\",\"title\":{\"standoff\":15},\"zerolinecolor\":\"white\",\"zerolinewidth\":2}}},\"title\":{\"text\":\"Launches by countries, organisations, and mission status\"}},                        {\"responsive\": true}                    ).then(function(){\n",
       "                            \n",
       "var gd = document.getElementById('7d21ce92-06e9-4e62-bbaa-ae2cb74098f9');\n",
       "var x = new MutationObserver(function (mutations, observer) {{\n",
       "        var display = window.getComputedStyle(gd).display;\n",
       "        if (!display || display === 'none') {{\n",
       "            console.log([gd, 'removed!']);\n",
       "            Plotly.purge(gd);\n",
       "            observer.disconnect();\n",
       "        }}\n",
       "}});\n",
       "\n",
       "// Listen for the removal of the full notebook cells\n",
       "var notebookContainer = gd.closest('#notebook-container');\n",
       "if (notebookContainer) {{\n",
       "    x.observe(notebookContainer, {childList: true});\n",
       "}}\n",
       "\n",
       "// Listen for the clearing of the current output cell\n",
       "var outputEl = gd.closest('.output');\n",
       "if (outputEl) {{\n",
       "    x.observe(outputEl, {childList: true});\n",
       "}}\n",
       "\n",
       "                        })                };                });            </script>        </div>"
      ]
     },
     "metadata": {},
     "output_type": "display_data"
    }
   ],
   "source": [
    "## Graph\n",
    "\n",
    "%matplotlib inline\n",
    "\n",
    "\n",
    "sunburst = px.sunburst(data_frame=df_sunburst,\n",
    "                       path=[\"Nation\", \"Organisation\", \"Mission_Status\"],\n",
    "                       values=\"Launches\", title=\"Launches by countries, organisations, and mission status\",\n",
    "                       height=800)\n",
    "sunburst.show()"
   ]
  },
  {
   "cell_type": "markdown",
   "metadata": {
    "id": "70pG1BCZa-qY",
    "papermill": {
     "duration": 0.062712,
     "end_time": "2020-10-20T21:34:07.951200",
     "exception": false,
     "start_time": "2020-10-20T21:34:07.888488",
     "status": "completed"
    },
    "tags": []
   },
   "source": [
    "# Analyse the Total Amount of Money Spent by Organisation on Space Missions"
   ]
  },
  {
   "cell_type": "code",
   "execution_count": 82,
   "metadata": {
    "id": "IaJYxwEVpKHy"
   },
   "outputs": [],
   "source": [
    "# df_clean.sample(5)"
   ]
  },
  {
   "cell_type": "code",
   "execution_count": 83,
   "metadata": {
    "colab": {
     "base_uri": "https://localhost:8080/",
     "height": 833
    },
    "executionInfo": {
     "elapsed": 1263,
     "status": "ok",
     "timestamp": 1620632281109,
     "user": {
      "displayName": "fabio alba",
      "photoUrl": "",
      "userId": "06675624622301434407"
     },
     "user_tz": -120
    },
    "id": "orIFf-appPDL",
    "outputId": "87f614e6-953d-4e43-fa14-f97ca1f60138"
   },
   "outputs": [
    {
     "data": {
      "text/html": [
       "<div>\n",
       "<style scoped>\n",
       "    .dataframe tbody tr th:only-of-type {\n",
       "        vertical-align: middle;\n",
       "    }\n",
       "\n",
       "    .dataframe tbody tr th {\n",
       "        vertical-align: top;\n",
       "    }\n",
       "\n",
       "    .dataframe thead th {\n",
       "        text-align: right;\n",
       "    }\n",
       "</style>\n",
       "<table border=\"1\" class=\"dataframe\">\n",
       "  <thead>\n",
       "    <tr style=\"text-align: right;\">\n",
       "      <th></th>\n",
       "      <th>Organisation</th>\n",
       "      <th>Tot_cost</th>\n",
       "    </tr>\n",
       "  </thead>\n",
       "  <tbody>\n",
       "    <tr>\n",
       "      <th>14</th>\n",
       "      <td>NASA</td>\n",
       "      <td>76,280.00</td>\n",
       "    </tr>\n",
       "    <tr>\n",
       "      <th>0</th>\n",
       "      <td>Arianespace</td>\n",
       "      <td>16,345.00</td>\n",
       "    </tr>\n",
       "    <tr>\n",
       "      <th>21</th>\n",
       "      <td>ULA</td>\n",
       "      <td>14,798.00</td>\n",
       "    </tr>\n",
       "    <tr>\n",
       "      <th>16</th>\n",
       "      <td>RVSN USSR</td>\n",
       "      <td>10,000.00</td>\n",
       "    </tr>\n",
       "    <tr>\n",
       "      <th>2</th>\n",
       "      <td>CASC</td>\n",
       "      <td>6,310.51</td>\n",
       "    </tr>\n",
       "    <tr>\n",
       "      <th>20</th>\n",
       "      <td>SpaceX</td>\n",
       "      <td>5,444.00</td>\n",
       "    </tr>\n",
       "    <tr>\n",
       "      <th>15</th>\n",
       "      <td>Northrop</td>\n",
       "      <td>3,930.00</td>\n",
       "    </tr>\n",
       "    <tr>\n",
       "      <th>12</th>\n",
       "      <td>MHI</td>\n",
       "      <td>3,532.50</td>\n",
       "    </tr>\n",
       "    <tr>\n",
       "      <th>8</th>\n",
       "      <td>ISRO</td>\n",
       "      <td>2,177.00</td>\n",
       "    </tr>\n",
       "    <tr>\n",
       "      <th>22</th>\n",
       "      <td>US Air Force</td>\n",
       "      <td>1,550.92</td>\n",
       "    </tr>\n",
       "    <tr>\n",
       "      <th>23</th>\n",
       "      <td>VKS RF</td>\n",
       "      <td>1,548.90</td>\n",
       "    </tr>\n",
       "    <tr>\n",
       "      <th>7</th>\n",
       "      <td>ILS</td>\n",
       "      <td>1,320.00</td>\n",
       "    </tr>\n",
       "    <tr>\n",
       "      <th>1</th>\n",
       "      <td>Boeing</td>\n",
       "      <td>1,241.00</td>\n",
       "    </tr>\n",
       "    <tr>\n",
       "      <th>18</th>\n",
       "      <td>Roscosmos</td>\n",
       "      <td>1,187.50</td>\n",
       "    </tr>\n",
       "    <tr>\n",
       "      <th>13</th>\n",
       "      <td>Martin Marietta</td>\n",
       "      <td>721.40</td>\n",
       "    </tr>\n",
       "    <tr>\n",
       "      <th>10</th>\n",
       "      <td>Kosmotras</td>\n",
       "      <td>638.00</td>\n",
       "    </tr>\n",
       "    <tr>\n",
       "      <th>5</th>\n",
       "      <td>Eurockot</td>\n",
       "      <td>543.40</td>\n",
       "    </tr>\n",
       "    <tr>\n",
       "      <th>11</th>\n",
       "      <td>Lockheed</td>\n",
       "      <td>280.00</td>\n",
       "    </tr>\n",
       "    <tr>\n",
       "      <th>9</th>\n",
       "      <td>JAXA</td>\n",
       "      <td>168.00</td>\n",
       "    </tr>\n",
       "    <tr>\n",
       "      <th>17</th>\n",
       "      <td>Rocket Lab</td>\n",
       "      <td>97.50</td>\n",
       "    </tr>\n",
       "    <tr>\n",
       "      <th>4</th>\n",
       "      <td>ESA</td>\n",
       "      <td>37.00</td>\n",
       "    </tr>\n",
       "    <tr>\n",
       "      <th>6</th>\n",
       "      <td>ExPace</td>\n",
       "      <td>28.30</td>\n",
       "    </tr>\n",
       "    <tr>\n",
       "      <th>3</th>\n",
       "      <td>EER</td>\n",
       "      <td>20.00</td>\n",
       "    </tr>\n",
       "    <tr>\n",
       "      <th>19</th>\n",
       "      <td>Sandia</td>\n",
       "      <td>15.00</td>\n",
       "    </tr>\n",
       "    <tr>\n",
       "      <th>24</th>\n",
       "      <td>Virgin Orbit</td>\n",
       "      <td>12.00</td>\n",
       "    </tr>\n",
       "  </tbody>\n",
       "</table>\n",
       "</div>"
      ],
      "text/plain": [
       "       Organisation  Tot_cost\n",
       "14             NASA 76,280.00\n",
       "0       Arianespace 16,345.00\n",
       "21              ULA 14,798.00\n",
       "16        RVSN USSR 10,000.00\n",
       "2              CASC  6,310.51\n",
       "20           SpaceX  5,444.00\n",
       "15         Northrop  3,930.00\n",
       "12              MHI  3,532.50\n",
       "8              ISRO  2,177.00\n",
       "22     US Air Force  1,550.92\n",
       "23           VKS RF  1,548.90\n",
       "7               ILS  1,320.00\n",
       "1            Boeing  1,241.00\n",
       "18        Roscosmos  1,187.50\n",
       "13  Martin Marietta    721.40\n",
       "10        Kosmotras    638.00\n",
       "5          Eurockot    543.40\n",
       "11         Lockheed    280.00\n",
       "9              JAXA    168.00\n",
       "17       Rocket Lab     97.50\n",
       "4               ESA     37.00\n",
       "6            ExPace     28.30\n",
       "3               EER     20.00\n",
       "19           Sandia     15.00\n",
       "24     Virgin Orbit     12.00"
      ]
     },
     "execution_count": 83,
     "metadata": {},
     "output_type": "execute_result"
    }
   ],
   "source": [
    "## Define dataframe with available price data \n",
    "\n",
    "# print(df_price.info())\n",
    "\n",
    "\n",
    "df_tot_money = df_price.groupby(\"Organisation\", as_index=False).agg({\"Price\": pd.Series.sum})\n",
    "df_tot_money.rename(columns={\"Price\": \"Tot_cost\"}, inplace=True)\n",
    "df_tot_money = df_tot_money.sort_values(\"Tot_cost\", ascending=False)\n",
    "df_tot_money"
   ]
  },
  {
   "cell_type": "code",
   "execution_count": 84,
   "metadata": {
    "colab": {
     "base_uri": "https://localhost:8080/"
    },
    "executionInfo": {
     "elapsed": 1259,
     "status": "ok",
     "timestamp": 1620632281111,
     "user": {
      "displayName": "fabio alba",
      "photoUrl": "",
      "userId": "06675624622301434407"
     },
     "user_tz": -120
    },
    "id": "86OMPfpEpO7R",
    "outputId": "7dee5d3d-d985-4c4e-8032-4d74c469002c"
   },
   "outputs": [
    {
     "name": "stdout",
     "output_type": "stream",
     "text": [
      "Total amount spent since the Space Race: $148.23B\n"
     ]
    }
   ],
   "source": [
    "total_money_spent = df_tot_money[\"Tot_cost\"].sum()\n",
    "print(f\"Total amount spent since the Space Race: ${total_money_spent/1000:.2f}B\")"
   ]
  },
  {
   "cell_type": "markdown",
   "metadata": {
    "id": "DpsWkPxzpPXs"
   },
   "source": [
    "# Analyse the Amount of Money Spent by Organisation per Launch"
   ]
  },
  {
   "cell_type": "code",
   "execution_count": 85,
   "metadata": {
    "colab": {
     "base_uri": "https://localhost:8080/",
     "height": 206
    },
    "executionInfo": {
     "elapsed": 562,
     "status": "ok",
     "timestamp": 1620632284021,
     "user": {
      "displayName": "fabio alba",
      "photoUrl": "",
      "userId": "06675624622301434407"
     },
     "user_tz": -120
    },
    "id": "opYJ6GiRpTk5",
    "outputId": "2dfecc11-88e9-4dd9-f158-48b2d27a6163"
   },
   "outputs": [
    {
     "data": {
      "text/html": [
       "<div>\n",
       "<style scoped>\n",
       "    .dataframe tbody tr th:only-of-type {\n",
       "        vertical-align: middle;\n",
       "    }\n",
       "\n",
       "    .dataframe tbody tr th {\n",
       "        vertical-align: top;\n",
       "    }\n",
       "\n",
       "    .dataframe thead th {\n",
       "        text-align: right;\n",
       "    }\n",
       "</style>\n",
       "<table border=\"1\" class=\"dataframe\">\n",
       "  <thead>\n",
       "    <tr style=\"text-align: right;\">\n",
       "      <th></th>\n",
       "      <th>Organisation</th>\n",
       "      <th>Launches</th>\n",
       "      <th>Tot_cost</th>\n",
       "      <th>Cost_per_launch</th>\n",
       "    </tr>\n",
       "  </thead>\n",
       "  <tbody>\n",
       "    <tr>\n",
       "      <th>0</th>\n",
       "      <td>Arianespace</td>\n",
       "      <td>96</td>\n",
       "      <td>16,345.00</td>\n",
       "      <td>170.26</td>\n",
       "    </tr>\n",
       "    <tr>\n",
       "      <th>1</th>\n",
       "      <td>Boeing</td>\n",
       "      <td>7</td>\n",
       "      <td>1,241.00</td>\n",
       "      <td>177.29</td>\n",
       "    </tr>\n",
       "    <tr>\n",
       "      <th>2</th>\n",
       "      <td>CASC</td>\n",
       "      <td>157</td>\n",
       "      <td>6,310.51</td>\n",
       "      <td>40.19</td>\n",
       "    </tr>\n",
       "    <tr>\n",
       "      <th>3</th>\n",
       "      <td>EER</td>\n",
       "      <td>1</td>\n",
       "      <td>20.00</td>\n",
       "      <td>20.00</td>\n",
       "    </tr>\n",
       "    <tr>\n",
       "      <th>4</th>\n",
       "      <td>ESA</td>\n",
       "      <td>1</td>\n",
       "      <td>37.00</td>\n",
       "      <td>37.00</td>\n",
       "    </tr>\n",
       "  </tbody>\n",
       "</table>\n",
       "</div>"
      ],
      "text/plain": [
       "  Organisation  Launches  Tot_cost  Cost_per_launch\n",
       "0  Arianespace        96 16,345.00           170.26\n",
       "1       Boeing         7  1,241.00           177.29\n",
       "2         CASC       157  6,310.51            40.19\n",
       "3          EER         1     20.00            20.00\n",
       "4          ESA         1     37.00            37.00"
      ]
     },
     "execution_count": 85,
     "metadata": {},
     "output_type": "execute_result"
    }
   ],
   "source": [
    "## Determine companies' avg cost per launch\n",
    "\n",
    "# df_price.info()\n",
    "\n",
    "launches_per_org = df_price.groupby([\"Organisation\"], as_index=False).agg({\"Date\": pd.Series.count, \"Price\": pd.Series.sum})\n",
    "launches_per_org.rename(columns={\"Price\":\"Tot_cost\", \"Date\": \"Launches\"}, inplace=True)\n",
    "\n",
    "\n",
    "launches_per_org[\"Cost_per_launch\"] = launches_per_org[\"Tot_cost\"] / launches_per_org[\"Launches\"] \n",
    "launches_per_org.head()\n"
   ]
  },
  {
   "cell_type": "code",
   "execution_count": 86,
   "metadata": {
    "colab": {
     "base_uri": "https://localhost:8080/",
     "height": 1000
    },
    "executionInfo": {
     "elapsed": 556,
     "status": "ok",
     "timestamp": 1620632284025,
     "user": {
      "displayName": "fabio alba",
      "photoUrl": "",
      "userId": "06675624622301434407"
     },
     "user_tz": -120
    },
    "id": "VEkHzAk2pTvj",
    "outputId": "e96148c3-6e87-4c48-f87b-089414587558"
   },
   "outputs": [
    {
     "data": {
      "application/vnd.plotly.v1+json": {
       "config": {
        "plotlyServerURL": "https://plot.ly"
       },
       "data": [
        {
         "alignmentgroup": "True",
         "hovertemplate": "Cost_per_launch=%{x}<br>Organisation=%{y}<extra></extra>",
         "legendgroup": "",
         "marker": {
          "color": "#636efa",
          "pattern": {
           "shape": ""
          }
         },
         "name": "",
         "offsetgroup": "",
         "orientation": "h",
         "showlegend": false,
         "textposition": "auto",
         "type": "bar",
         "x": [
          7.5,
          12,
          15,
          20,
          28.3,
          29,
          32.492537313432834,
          35,
          37,
          40.194331210191095,
          41.8,
          46.93636363636364,
          47.34939759036145,
          51.630434782608695,
          54.98989898989899,
          56,
          59.650769230769235,
          80.15555555555555,
          95.47297297297297,
          101.53846153846153,
          151,
          170.26041666666666,
          177.28571428571428,
          511.9463087248322,
          5000
         ],
         "xaxis": "x",
         "y": [
          "Rocket Lab",
          "Virgin Orbit",
          "Sandia",
          "EER",
          "ExPace",
          "Kosmotras",
          "ISRO",
          "Lockheed",
          "ESA",
          "CASC",
          "Eurockot",
          "VKS RF",
          "Northrop",
          "Roscosmos",
          "SpaceX",
          "JAXA",
          "US Air Force",
          "Martin Marietta",
          "MHI",
          "ILS",
          "ULA",
          "Arianespace",
          "Boeing",
          "NASA",
          "RVSN USSR"
         ],
         "yaxis": "y"
        }
       ],
       "layout": {
        "barmode": "relative",
        "height": 1000,
        "legend": {
         "tracegroupgap": 0
        },
        "template": {
         "data": {
          "bar": [
           {
            "error_x": {
             "color": "#2a3f5f"
            },
            "error_y": {
             "color": "#2a3f5f"
            },
            "marker": {
             "line": {
              "color": "#E5ECF6",
              "width": 0.5
             },
             "pattern": {
              "fillmode": "overlay",
              "size": 10,
              "solidity": 0.2
             }
            },
            "type": "bar"
           }
          ],
          "barpolar": [
           {
            "marker": {
             "line": {
              "color": "#E5ECF6",
              "width": 0.5
             },
             "pattern": {
              "fillmode": "overlay",
              "size": 10,
              "solidity": 0.2
             }
            },
            "type": "barpolar"
           }
          ],
          "carpet": [
           {
            "aaxis": {
             "endlinecolor": "#2a3f5f",
             "gridcolor": "white",
             "linecolor": "white",
             "minorgridcolor": "white",
             "startlinecolor": "#2a3f5f"
            },
            "baxis": {
             "endlinecolor": "#2a3f5f",
             "gridcolor": "white",
             "linecolor": "white",
             "minorgridcolor": "white",
             "startlinecolor": "#2a3f5f"
            },
            "type": "carpet"
           }
          ],
          "choropleth": [
           {
            "colorbar": {
             "outlinewidth": 0,
             "ticks": ""
            },
            "type": "choropleth"
           }
          ],
          "contour": [
           {
            "colorbar": {
             "outlinewidth": 0,
             "ticks": ""
            },
            "colorscale": [
             [
              0,
              "#0d0887"
             ],
             [
              0.1111111111111111,
              "#46039f"
             ],
             [
              0.2222222222222222,
              "#7201a8"
             ],
             [
              0.3333333333333333,
              "#9c179e"
             ],
             [
              0.4444444444444444,
              "#bd3786"
             ],
             [
              0.5555555555555556,
              "#d8576b"
             ],
             [
              0.6666666666666666,
              "#ed7953"
             ],
             [
              0.7777777777777778,
              "#fb9f3a"
             ],
             [
              0.8888888888888888,
              "#fdca26"
             ],
             [
              1,
              "#f0f921"
             ]
            ],
            "type": "contour"
           }
          ],
          "contourcarpet": [
           {
            "colorbar": {
             "outlinewidth": 0,
             "ticks": ""
            },
            "type": "contourcarpet"
           }
          ],
          "heatmap": [
           {
            "colorbar": {
             "outlinewidth": 0,
             "ticks": ""
            },
            "colorscale": [
             [
              0,
              "#0d0887"
             ],
             [
              0.1111111111111111,
              "#46039f"
             ],
             [
              0.2222222222222222,
              "#7201a8"
             ],
             [
              0.3333333333333333,
              "#9c179e"
             ],
             [
              0.4444444444444444,
              "#bd3786"
             ],
             [
              0.5555555555555556,
              "#d8576b"
             ],
             [
              0.6666666666666666,
              "#ed7953"
             ],
             [
              0.7777777777777778,
              "#fb9f3a"
             ],
             [
              0.8888888888888888,
              "#fdca26"
             ],
             [
              1,
              "#f0f921"
             ]
            ],
            "type": "heatmap"
           }
          ],
          "heatmapgl": [
           {
            "colorbar": {
             "outlinewidth": 0,
             "ticks": ""
            },
            "colorscale": [
             [
              0,
              "#0d0887"
             ],
             [
              0.1111111111111111,
              "#46039f"
             ],
             [
              0.2222222222222222,
              "#7201a8"
             ],
             [
              0.3333333333333333,
              "#9c179e"
             ],
             [
              0.4444444444444444,
              "#bd3786"
             ],
             [
              0.5555555555555556,
              "#d8576b"
             ],
             [
              0.6666666666666666,
              "#ed7953"
             ],
             [
              0.7777777777777778,
              "#fb9f3a"
             ],
             [
              0.8888888888888888,
              "#fdca26"
             ],
             [
              1,
              "#f0f921"
             ]
            ],
            "type": "heatmapgl"
           }
          ],
          "histogram": [
           {
            "marker": {
             "pattern": {
              "fillmode": "overlay",
              "size": 10,
              "solidity": 0.2
             }
            },
            "type": "histogram"
           }
          ],
          "histogram2d": [
           {
            "colorbar": {
             "outlinewidth": 0,
             "ticks": ""
            },
            "colorscale": [
             [
              0,
              "#0d0887"
             ],
             [
              0.1111111111111111,
              "#46039f"
             ],
             [
              0.2222222222222222,
              "#7201a8"
             ],
             [
              0.3333333333333333,
              "#9c179e"
             ],
             [
              0.4444444444444444,
              "#bd3786"
             ],
             [
              0.5555555555555556,
              "#d8576b"
             ],
             [
              0.6666666666666666,
              "#ed7953"
             ],
             [
              0.7777777777777778,
              "#fb9f3a"
             ],
             [
              0.8888888888888888,
              "#fdca26"
             ],
             [
              1,
              "#f0f921"
             ]
            ],
            "type": "histogram2d"
           }
          ],
          "histogram2dcontour": [
           {
            "colorbar": {
             "outlinewidth": 0,
             "ticks": ""
            },
            "colorscale": [
             [
              0,
              "#0d0887"
             ],
             [
              0.1111111111111111,
              "#46039f"
             ],
             [
              0.2222222222222222,
              "#7201a8"
             ],
             [
              0.3333333333333333,
              "#9c179e"
             ],
             [
              0.4444444444444444,
              "#bd3786"
             ],
             [
              0.5555555555555556,
              "#d8576b"
             ],
             [
              0.6666666666666666,
              "#ed7953"
             ],
             [
              0.7777777777777778,
              "#fb9f3a"
             ],
             [
              0.8888888888888888,
              "#fdca26"
             ],
             [
              1,
              "#f0f921"
             ]
            ],
            "type": "histogram2dcontour"
           }
          ],
          "mesh3d": [
           {
            "colorbar": {
             "outlinewidth": 0,
             "ticks": ""
            },
            "type": "mesh3d"
           }
          ],
          "parcoords": [
           {
            "line": {
             "colorbar": {
              "outlinewidth": 0,
              "ticks": ""
             }
            },
            "type": "parcoords"
           }
          ],
          "pie": [
           {
            "automargin": true,
            "type": "pie"
           }
          ],
          "scatter": [
           {
            "marker": {
             "colorbar": {
              "outlinewidth": 0,
              "ticks": ""
             }
            },
            "type": "scatter"
           }
          ],
          "scatter3d": [
           {
            "line": {
             "colorbar": {
              "outlinewidth": 0,
              "ticks": ""
             }
            },
            "marker": {
             "colorbar": {
              "outlinewidth": 0,
              "ticks": ""
             }
            },
            "type": "scatter3d"
           }
          ],
          "scattercarpet": [
           {
            "marker": {
             "colorbar": {
              "outlinewidth": 0,
              "ticks": ""
             }
            },
            "type": "scattercarpet"
           }
          ],
          "scattergeo": [
           {
            "marker": {
             "colorbar": {
              "outlinewidth": 0,
              "ticks": ""
             }
            },
            "type": "scattergeo"
           }
          ],
          "scattergl": [
           {
            "marker": {
             "colorbar": {
              "outlinewidth": 0,
              "ticks": ""
             }
            },
            "type": "scattergl"
           }
          ],
          "scattermapbox": [
           {
            "marker": {
             "colorbar": {
              "outlinewidth": 0,
              "ticks": ""
             }
            },
            "type": "scattermapbox"
           }
          ],
          "scatterpolar": [
           {
            "marker": {
             "colorbar": {
              "outlinewidth": 0,
              "ticks": ""
             }
            },
            "type": "scatterpolar"
           }
          ],
          "scatterpolargl": [
           {
            "marker": {
             "colorbar": {
              "outlinewidth": 0,
              "ticks": ""
             }
            },
            "type": "scatterpolargl"
           }
          ],
          "scatterternary": [
           {
            "marker": {
             "colorbar": {
              "outlinewidth": 0,
              "ticks": ""
             }
            },
            "type": "scatterternary"
           }
          ],
          "surface": [
           {
            "colorbar": {
             "outlinewidth": 0,
             "ticks": ""
            },
            "colorscale": [
             [
              0,
              "#0d0887"
             ],
             [
              0.1111111111111111,
              "#46039f"
             ],
             [
              0.2222222222222222,
              "#7201a8"
             ],
             [
              0.3333333333333333,
              "#9c179e"
             ],
             [
              0.4444444444444444,
              "#bd3786"
             ],
             [
              0.5555555555555556,
              "#d8576b"
             ],
             [
              0.6666666666666666,
              "#ed7953"
             ],
             [
              0.7777777777777778,
              "#fb9f3a"
             ],
             [
              0.8888888888888888,
              "#fdca26"
             ],
             [
              1,
              "#f0f921"
             ]
            ],
            "type": "surface"
           }
          ],
          "table": [
           {
            "cells": {
             "fill": {
              "color": "#EBF0F8"
             },
             "line": {
              "color": "white"
             }
            },
            "header": {
             "fill": {
              "color": "#C8D4E3"
             },
             "line": {
              "color": "white"
             }
            },
            "type": "table"
           }
          ]
         },
         "layout": {
          "annotationdefaults": {
           "arrowcolor": "#2a3f5f",
           "arrowhead": 0,
           "arrowwidth": 1
          },
          "autotypenumbers": "strict",
          "coloraxis": {
           "colorbar": {
            "outlinewidth": 0,
            "ticks": ""
           }
          },
          "colorscale": {
           "diverging": [
            [
             0,
             "#8e0152"
            ],
            [
             0.1,
             "#c51b7d"
            ],
            [
             0.2,
             "#de77ae"
            ],
            [
             0.3,
             "#f1b6da"
            ],
            [
             0.4,
             "#fde0ef"
            ],
            [
             0.5,
             "#f7f7f7"
            ],
            [
             0.6,
             "#e6f5d0"
            ],
            [
             0.7,
             "#b8e186"
            ],
            [
             0.8,
             "#7fbc41"
            ],
            [
             0.9,
             "#4d9221"
            ],
            [
             1,
             "#276419"
            ]
           ],
           "sequential": [
            [
             0,
             "#0d0887"
            ],
            [
             0.1111111111111111,
             "#46039f"
            ],
            [
             0.2222222222222222,
             "#7201a8"
            ],
            [
             0.3333333333333333,
             "#9c179e"
            ],
            [
             0.4444444444444444,
             "#bd3786"
            ],
            [
             0.5555555555555556,
             "#d8576b"
            ],
            [
             0.6666666666666666,
             "#ed7953"
            ],
            [
             0.7777777777777778,
             "#fb9f3a"
            ],
            [
             0.8888888888888888,
             "#fdca26"
            ],
            [
             1,
             "#f0f921"
            ]
           ],
           "sequentialminus": [
            [
             0,
             "#0d0887"
            ],
            [
             0.1111111111111111,
             "#46039f"
            ],
            [
             0.2222222222222222,
             "#7201a8"
            ],
            [
             0.3333333333333333,
             "#9c179e"
            ],
            [
             0.4444444444444444,
             "#bd3786"
            ],
            [
             0.5555555555555556,
             "#d8576b"
            ],
            [
             0.6666666666666666,
             "#ed7953"
            ],
            [
             0.7777777777777778,
             "#fb9f3a"
            ],
            [
             0.8888888888888888,
             "#fdca26"
            ],
            [
             1,
             "#f0f921"
            ]
           ]
          },
          "colorway": [
           "#636efa",
           "#EF553B",
           "#00cc96",
           "#ab63fa",
           "#FFA15A",
           "#19d3f3",
           "#FF6692",
           "#B6E880",
           "#FF97FF",
           "#FECB52"
          ],
          "font": {
           "color": "#2a3f5f"
          },
          "geo": {
           "bgcolor": "white",
           "lakecolor": "white",
           "landcolor": "#E5ECF6",
           "showlakes": true,
           "showland": true,
           "subunitcolor": "white"
          },
          "hoverlabel": {
           "align": "left"
          },
          "hovermode": "closest",
          "mapbox": {
           "style": "light"
          },
          "paper_bgcolor": "white",
          "plot_bgcolor": "#E5ECF6",
          "polar": {
           "angularaxis": {
            "gridcolor": "white",
            "linecolor": "white",
            "ticks": ""
           },
           "bgcolor": "#E5ECF6",
           "radialaxis": {
            "gridcolor": "white",
            "linecolor": "white",
            "ticks": ""
           }
          },
          "scene": {
           "xaxis": {
            "backgroundcolor": "#E5ECF6",
            "gridcolor": "white",
            "gridwidth": 2,
            "linecolor": "white",
            "showbackground": true,
            "ticks": "",
            "zerolinecolor": "white"
           },
           "yaxis": {
            "backgroundcolor": "#E5ECF6",
            "gridcolor": "white",
            "gridwidth": 2,
            "linecolor": "white",
            "showbackground": true,
            "ticks": "",
            "zerolinecolor": "white"
           },
           "zaxis": {
            "backgroundcolor": "#E5ECF6",
            "gridcolor": "white",
            "gridwidth": 2,
            "linecolor": "white",
            "showbackground": true,
            "ticks": "",
            "zerolinecolor": "white"
           }
          },
          "shapedefaults": {
           "line": {
            "color": "#2a3f5f"
           }
          },
          "ternary": {
           "aaxis": {
            "gridcolor": "white",
            "linecolor": "white",
            "ticks": ""
           },
           "baxis": {
            "gridcolor": "white",
            "linecolor": "white",
            "ticks": ""
           },
           "bgcolor": "#E5ECF6",
           "caxis": {
            "gridcolor": "white",
            "linecolor": "white",
            "ticks": ""
           }
          },
          "title": {
           "x": 0.05
          },
          "xaxis": {
           "automargin": true,
           "gridcolor": "white",
           "linecolor": "white",
           "ticks": "",
           "title": {
            "standoff": 15
           },
           "zerolinecolor": "white",
           "zerolinewidth": 2
          },
          "yaxis": {
           "automargin": true,
           "gridcolor": "white",
           "linecolor": "white",
           "ticks": "",
           "title": {
            "standoff": 15
           },
           "zerolinecolor": "white",
           "zerolinewidth": 2
          }
         }
        },
        "title": {
         "text": "Money spent by Organisations in $k"
        },
        "width": 2000,
        "xaxis": {
         "anchor": "y",
         "domain": [
          0,
          1
         ],
         "title": {
          "text": "Cost_per_launch"
         }
        },
        "yaxis": {
         "anchor": "x",
         "domain": [
          0,
          1
         ],
         "title": {
          "text": "Organisation"
         }
        }
       }
      },
      "text/html": [
       "<div>                            <div id=\"d96867c1-538d-4a78-b389-c4f871acd82c\" class=\"plotly-graph-div\" style=\"height:1000px; width:2000px;\"></div>            <script type=\"text/javascript\">                require([\"plotly\"], function(Plotly) {                    window.PLOTLYENV=window.PLOTLYENV || {};                                    if (document.getElementById(\"d96867c1-538d-4a78-b389-c4f871acd82c\")) {                    Plotly.newPlot(                        \"d96867c1-538d-4a78-b389-c4f871acd82c\",                        [{\"alignmentgroup\":\"True\",\"hovertemplate\":\"Cost_per_launch=%{x}<br>Organisation=%{y}<extra></extra>\",\"legendgroup\":\"\",\"marker\":{\"color\":\"#636efa\",\"pattern\":{\"shape\":\"\"}},\"name\":\"\",\"offsetgroup\":\"\",\"orientation\":\"h\",\"showlegend\":false,\"textposition\":\"auto\",\"type\":\"bar\",\"x\":[7.5,12.0,15.0,20.0,28.3,29.0,32.492537313432834,35.0,37.0,40.194331210191095,41.8,46.93636363636364,47.34939759036145,51.630434782608695,54.98989898989899,56.0,59.650769230769235,80.15555555555555,95.47297297297297,101.53846153846153,151.0,170.26041666666666,177.28571428571428,511.9463087248322,5000.0],\"xaxis\":\"x\",\"y\":[\"Rocket Lab\",\"Virgin Orbit\",\"Sandia\",\"EER\",\"ExPace\",\"Kosmotras\",\"ISRO\",\"Lockheed\",\"ESA\",\"CASC\",\"Eurockot\",\"VKS RF\",\"Northrop\",\"Roscosmos\",\"SpaceX\",\"JAXA\",\"US Air Force\",\"Martin Marietta\",\"MHI\",\"ILS\",\"ULA\",\"Arianespace\",\"Boeing\",\"NASA\",\"RVSN USSR\"],\"yaxis\":\"y\"}],                        {\"barmode\":\"relative\",\"height\":1000,\"legend\":{\"tracegroupgap\":0},\"template\":{\"data\":{\"bar\":[{\"error_x\":{\"color\":\"#2a3f5f\"},\"error_y\":{\"color\":\"#2a3f5f\"},\"marker\":{\"line\":{\"color\":\"#E5ECF6\",\"width\":0.5},\"pattern\":{\"fillmode\":\"overlay\",\"size\":10,\"solidity\":0.2}},\"type\":\"bar\"}],\"barpolar\":[{\"marker\":{\"line\":{\"color\":\"#E5ECF6\",\"width\":0.5},\"pattern\":{\"fillmode\":\"overlay\",\"size\":10,\"solidity\":0.2}},\"type\":\"barpolar\"}],\"carpet\":[{\"aaxis\":{\"endlinecolor\":\"#2a3f5f\",\"gridcolor\":\"white\",\"linecolor\":\"white\",\"minorgridcolor\":\"white\",\"startlinecolor\":\"#2a3f5f\"},\"baxis\":{\"endlinecolor\":\"#2a3f5f\",\"gridcolor\":\"white\",\"linecolor\":\"white\",\"minorgridcolor\":\"white\",\"startlinecolor\":\"#2a3f5f\"},\"type\":\"carpet\"}],\"choropleth\":[{\"colorbar\":{\"outlinewidth\":0,\"ticks\":\"\"},\"type\":\"choropleth\"}],\"contour\":[{\"colorbar\":{\"outlinewidth\":0,\"ticks\":\"\"},\"colorscale\":[[0.0,\"#0d0887\"],[0.1111111111111111,\"#46039f\"],[0.2222222222222222,\"#7201a8\"],[0.3333333333333333,\"#9c179e\"],[0.4444444444444444,\"#bd3786\"],[0.5555555555555556,\"#d8576b\"],[0.6666666666666666,\"#ed7953\"],[0.7777777777777778,\"#fb9f3a\"],[0.8888888888888888,\"#fdca26\"],[1.0,\"#f0f921\"]],\"type\":\"contour\"}],\"contourcarpet\":[{\"colorbar\":{\"outlinewidth\":0,\"ticks\":\"\"},\"type\":\"contourcarpet\"}],\"heatmap\":[{\"colorbar\":{\"outlinewidth\":0,\"ticks\":\"\"},\"colorscale\":[[0.0,\"#0d0887\"],[0.1111111111111111,\"#46039f\"],[0.2222222222222222,\"#7201a8\"],[0.3333333333333333,\"#9c179e\"],[0.4444444444444444,\"#bd3786\"],[0.5555555555555556,\"#d8576b\"],[0.6666666666666666,\"#ed7953\"],[0.7777777777777778,\"#fb9f3a\"],[0.8888888888888888,\"#fdca26\"],[1.0,\"#f0f921\"]],\"type\":\"heatmap\"}],\"heatmapgl\":[{\"colorbar\":{\"outlinewidth\":0,\"ticks\":\"\"},\"colorscale\":[[0.0,\"#0d0887\"],[0.1111111111111111,\"#46039f\"],[0.2222222222222222,\"#7201a8\"],[0.3333333333333333,\"#9c179e\"],[0.4444444444444444,\"#bd3786\"],[0.5555555555555556,\"#d8576b\"],[0.6666666666666666,\"#ed7953\"],[0.7777777777777778,\"#fb9f3a\"],[0.8888888888888888,\"#fdca26\"],[1.0,\"#f0f921\"]],\"type\":\"heatmapgl\"}],\"histogram\":[{\"marker\":{\"pattern\":{\"fillmode\":\"overlay\",\"size\":10,\"solidity\":0.2}},\"type\":\"histogram\"}],\"histogram2d\":[{\"colorbar\":{\"outlinewidth\":0,\"ticks\":\"\"},\"colorscale\":[[0.0,\"#0d0887\"],[0.1111111111111111,\"#46039f\"],[0.2222222222222222,\"#7201a8\"],[0.3333333333333333,\"#9c179e\"],[0.4444444444444444,\"#bd3786\"],[0.5555555555555556,\"#d8576b\"],[0.6666666666666666,\"#ed7953\"],[0.7777777777777778,\"#fb9f3a\"],[0.8888888888888888,\"#fdca26\"],[1.0,\"#f0f921\"]],\"type\":\"histogram2d\"}],\"histogram2dcontour\":[{\"colorbar\":{\"outlinewidth\":0,\"ticks\":\"\"},\"colorscale\":[[0.0,\"#0d0887\"],[0.1111111111111111,\"#46039f\"],[0.2222222222222222,\"#7201a8\"],[0.3333333333333333,\"#9c179e\"],[0.4444444444444444,\"#bd3786\"],[0.5555555555555556,\"#d8576b\"],[0.6666666666666666,\"#ed7953\"],[0.7777777777777778,\"#fb9f3a\"],[0.8888888888888888,\"#fdca26\"],[1.0,\"#f0f921\"]],\"type\":\"histogram2dcontour\"}],\"mesh3d\":[{\"colorbar\":{\"outlinewidth\":0,\"ticks\":\"\"},\"type\":\"mesh3d\"}],\"parcoords\":[{\"line\":{\"colorbar\":{\"outlinewidth\":0,\"ticks\":\"\"}},\"type\":\"parcoords\"}],\"pie\":[{\"automargin\":true,\"type\":\"pie\"}],\"scatter\":[{\"marker\":{\"colorbar\":{\"outlinewidth\":0,\"ticks\":\"\"}},\"type\":\"scatter\"}],\"scatter3d\":[{\"line\":{\"colorbar\":{\"outlinewidth\":0,\"ticks\":\"\"}},\"marker\":{\"colorbar\":{\"outlinewidth\":0,\"ticks\":\"\"}},\"type\":\"scatter3d\"}],\"scattercarpet\":[{\"marker\":{\"colorbar\":{\"outlinewidth\":0,\"ticks\":\"\"}},\"type\":\"scattercarpet\"}],\"scattergeo\":[{\"marker\":{\"colorbar\":{\"outlinewidth\":0,\"ticks\":\"\"}},\"type\":\"scattergeo\"}],\"scattergl\":[{\"marker\":{\"colorbar\":{\"outlinewidth\":0,\"ticks\":\"\"}},\"type\":\"scattergl\"}],\"scattermapbox\":[{\"marker\":{\"colorbar\":{\"outlinewidth\":0,\"ticks\":\"\"}},\"type\":\"scattermapbox\"}],\"scatterpolar\":[{\"marker\":{\"colorbar\":{\"outlinewidth\":0,\"ticks\":\"\"}},\"type\":\"scatterpolar\"}],\"scatterpolargl\":[{\"marker\":{\"colorbar\":{\"outlinewidth\":0,\"ticks\":\"\"}},\"type\":\"scatterpolargl\"}],\"scatterternary\":[{\"marker\":{\"colorbar\":{\"outlinewidth\":0,\"ticks\":\"\"}},\"type\":\"scatterternary\"}],\"surface\":[{\"colorbar\":{\"outlinewidth\":0,\"ticks\":\"\"},\"colorscale\":[[0.0,\"#0d0887\"],[0.1111111111111111,\"#46039f\"],[0.2222222222222222,\"#7201a8\"],[0.3333333333333333,\"#9c179e\"],[0.4444444444444444,\"#bd3786\"],[0.5555555555555556,\"#d8576b\"],[0.6666666666666666,\"#ed7953\"],[0.7777777777777778,\"#fb9f3a\"],[0.8888888888888888,\"#fdca26\"],[1.0,\"#f0f921\"]],\"type\":\"surface\"}],\"table\":[{\"cells\":{\"fill\":{\"color\":\"#EBF0F8\"},\"line\":{\"color\":\"white\"}},\"header\":{\"fill\":{\"color\":\"#C8D4E3\"},\"line\":{\"color\":\"white\"}},\"type\":\"table\"}]},\"layout\":{\"annotationdefaults\":{\"arrowcolor\":\"#2a3f5f\",\"arrowhead\":0,\"arrowwidth\":1},\"autotypenumbers\":\"strict\",\"coloraxis\":{\"colorbar\":{\"outlinewidth\":0,\"ticks\":\"\"}},\"colorscale\":{\"diverging\":[[0,\"#8e0152\"],[0.1,\"#c51b7d\"],[0.2,\"#de77ae\"],[0.3,\"#f1b6da\"],[0.4,\"#fde0ef\"],[0.5,\"#f7f7f7\"],[0.6,\"#e6f5d0\"],[0.7,\"#b8e186\"],[0.8,\"#7fbc41\"],[0.9,\"#4d9221\"],[1,\"#276419\"]],\"sequential\":[[0.0,\"#0d0887\"],[0.1111111111111111,\"#46039f\"],[0.2222222222222222,\"#7201a8\"],[0.3333333333333333,\"#9c179e\"],[0.4444444444444444,\"#bd3786\"],[0.5555555555555556,\"#d8576b\"],[0.6666666666666666,\"#ed7953\"],[0.7777777777777778,\"#fb9f3a\"],[0.8888888888888888,\"#fdca26\"],[1.0,\"#f0f921\"]],\"sequentialminus\":[[0.0,\"#0d0887\"],[0.1111111111111111,\"#46039f\"],[0.2222222222222222,\"#7201a8\"],[0.3333333333333333,\"#9c179e\"],[0.4444444444444444,\"#bd3786\"],[0.5555555555555556,\"#d8576b\"],[0.6666666666666666,\"#ed7953\"],[0.7777777777777778,\"#fb9f3a\"],[0.8888888888888888,\"#fdca26\"],[1.0,\"#f0f921\"]]},\"colorway\":[\"#636efa\",\"#EF553B\",\"#00cc96\",\"#ab63fa\",\"#FFA15A\",\"#19d3f3\",\"#FF6692\",\"#B6E880\",\"#FF97FF\",\"#FECB52\"],\"font\":{\"color\":\"#2a3f5f\"},\"geo\":{\"bgcolor\":\"white\",\"lakecolor\":\"white\",\"landcolor\":\"#E5ECF6\",\"showlakes\":true,\"showland\":true,\"subunitcolor\":\"white\"},\"hoverlabel\":{\"align\":\"left\"},\"hovermode\":\"closest\",\"mapbox\":{\"style\":\"light\"},\"paper_bgcolor\":\"white\",\"plot_bgcolor\":\"#E5ECF6\",\"polar\":{\"angularaxis\":{\"gridcolor\":\"white\",\"linecolor\":\"white\",\"ticks\":\"\"},\"bgcolor\":\"#E5ECF6\",\"radialaxis\":{\"gridcolor\":\"white\",\"linecolor\":\"white\",\"ticks\":\"\"}},\"scene\":{\"xaxis\":{\"backgroundcolor\":\"#E5ECF6\",\"gridcolor\":\"white\",\"gridwidth\":2,\"linecolor\":\"white\",\"showbackground\":true,\"ticks\":\"\",\"zerolinecolor\":\"white\"},\"yaxis\":{\"backgroundcolor\":\"#E5ECF6\",\"gridcolor\":\"white\",\"gridwidth\":2,\"linecolor\":\"white\",\"showbackground\":true,\"ticks\":\"\",\"zerolinecolor\":\"white\"},\"zaxis\":{\"backgroundcolor\":\"#E5ECF6\",\"gridcolor\":\"white\",\"gridwidth\":2,\"linecolor\":\"white\",\"showbackground\":true,\"ticks\":\"\",\"zerolinecolor\":\"white\"}},\"shapedefaults\":{\"line\":{\"color\":\"#2a3f5f\"}},\"ternary\":{\"aaxis\":{\"gridcolor\":\"white\",\"linecolor\":\"white\",\"ticks\":\"\"},\"baxis\":{\"gridcolor\":\"white\",\"linecolor\":\"white\",\"ticks\":\"\"},\"bgcolor\":\"#E5ECF6\",\"caxis\":{\"gridcolor\":\"white\",\"linecolor\":\"white\",\"ticks\":\"\"}},\"title\":{\"x\":0.05},\"xaxis\":{\"automargin\":true,\"gridcolor\":\"white\",\"linecolor\":\"white\",\"ticks\":\"\",\"title\":{\"standoff\":15},\"zerolinecolor\":\"white\",\"zerolinewidth\":2},\"yaxis\":{\"automargin\":true,\"gridcolor\":\"white\",\"linecolor\":\"white\",\"ticks\":\"\",\"title\":{\"standoff\":15},\"zerolinecolor\":\"white\",\"zerolinewidth\":2}}},\"title\":{\"text\":\"Money spent by Organisations in $k\"},\"width\":2000,\"xaxis\":{\"anchor\":\"y\",\"domain\":[0.0,1.0],\"title\":{\"text\":\"Cost_per_launch\"}},\"yaxis\":{\"anchor\":\"x\",\"domain\":[0.0,1.0],\"title\":{\"text\":\"Organisation\"}}},                        {\"responsive\": true}                    ).then(function(){\n",
       "                            \n",
       "var gd = document.getElementById('d96867c1-538d-4a78-b389-c4f871acd82c');\n",
       "var x = new MutationObserver(function (mutations, observer) {{\n",
       "        var display = window.getComputedStyle(gd).display;\n",
       "        if (!display || display === 'none') {{\n",
       "            console.log([gd, 'removed!']);\n",
       "            Plotly.purge(gd);\n",
       "            observer.disconnect();\n",
       "        }}\n",
       "}});\n",
       "\n",
       "// Listen for the removal of the full notebook cells\n",
       "var notebookContainer = gd.closest('#notebook-container');\n",
       "if (notebookContainer) {{\n",
       "    x.observe(notebookContainer, {childList: true});\n",
       "}}\n",
       "\n",
       "// Listen for the clearing of the current output cell\n",
       "var outputEl = gd.closest('.output');\n",
       "if (outputEl) {{\n",
       "    x.observe(outputEl, {childList: true});\n",
       "}}\n",
       "\n",
       "                        })                };                });            </script>        </div>"
      ]
     },
     "metadata": {},
     "output_type": "display_data"
    }
   ],
   "source": [
    "## Chart\n",
    "\n",
    "%matplotlib inline\n",
    "\n",
    "launches_per_org = launches_per_org.sort_values(\"Cost_per_launch\", ascending=True)\n",
    "launches_per_org.tail()\n",
    "\n",
    "\n",
    "h_bar = px.bar(launches_per_org, y=\"Organisation\", x=\"Cost_per_launch\", orientation=\"h\", title=\"Money spent by Organisations in $k\", width=2000, height=1000)\n",
    "h_bar.show()\n",
    "\n",
    "\n",
    "# df_clean[df_clean[\"Organisation\"] == \"RVSN USSR\"].shape[0]\n",
    "\n",
    "## RVSN USSR has attempted 1777 launches, price data just on 2 of them\n"
   ]
  },
  {
   "cell_type": "markdown",
   "metadata": {
    "id": "yRa1BbPoa-qf",
    "papermill": {
     "duration": 0.042662,
     "end_time": "2020-10-20T21:34:09.943196",
     "exception": false,
     "start_time": "2020-10-20T21:34:09.900534",
     "status": "completed"
    },
    "tags": []
   },
   "source": [
    "# Chart the Number of Launches per Year"
   ]
  },
  {
   "cell_type": "code",
   "execution_count": 87,
   "metadata": {
    "colab": {
     "base_uri": "https://localhost:8080/",
     "height": 375
    },
    "executionInfo": {
     "elapsed": 496,
     "status": "ok",
     "timestamp": 1620632287810,
     "user": {
      "displayName": "fabio alba",
      "photoUrl": "",
      "userId": "06675624622301434407"
     },
     "user_tz": -120
    },
    "id": "_9FohVh3pcAJ",
    "outputId": "110cf23e-a47d-43fd-b93f-fee9e3dce727"
   },
   "outputs": [
    {
     "name": "stderr",
     "output_type": "stream",
     "text": [
      "<ipython-input-87-1dc4e0a2c873>:4: SettingWithCopyWarning:\n",
      "\n",
      "\n",
      "A value is trying to be set on a copy of a slice from a DataFrame.\n",
      "Try using .loc[row_indexer,col_indexer] = value instead\n",
      "\n",
      "See the caveats in the documentation: https://pandas.pydata.org/pandas-docs/stable/user_guide/indexing.html#returning-a-view-versus-a-copy\n",
      "\n"
     ]
    },
    {
     "data": {
      "text/html": [
       "<div>\n",
       "<style scoped>\n",
       "    .dataframe tbody tr th:only-of-type {\n",
       "        vertical-align: middle;\n",
       "    }\n",
       "\n",
       "    .dataframe tbody tr th {\n",
       "        vertical-align: top;\n",
       "    }\n",
       "\n",
       "    .dataframe thead th {\n",
       "        text-align: right;\n",
       "    }\n",
       "</style>\n",
       "<table border=\"1\" class=\"dataframe\">\n",
       "  <thead>\n",
       "    <tr style=\"text-align: right;\">\n",
       "      <th></th>\n",
       "      <th>Year</th>\n",
       "      <th>Launches</th>\n",
       "    </tr>\n",
       "  </thead>\n",
       "  <tbody>\n",
       "    <tr>\n",
       "      <th>0</th>\n",
       "      <td>1957</td>\n",
       "      <td>3</td>\n",
       "    </tr>\n",
       "    <tr>\n",
       "      <th>1</th>\n",
       "      <td>1958</td>\n",
       "      <td>28</td>\n",
       "    </tr>\n",
       "    <tr>\n",
       "      <th>2</th>\n",
       "      <td>1959</td>\n",
       "      <td>20</td>\n",
       "    </tr>\n",
       "    <tr>\n",
       "      <th>3</th>\n",
       "      <td>1960</td>\n",
       "      <td>39</td>\n",
       "    </tr>\n",
       "    <tr>\n",
       "      <th>4</th>\n",
       "      <td>1961</td>\n",
       "      <td>52</td>\n",
       "    </tr>\n",
       "  </tbody>\n",
       "</table>\n",
       "</div>"
      ],
      "text/plain": [
       "   Year  Launches\n",
       "0  1957         3\n",
       "1  1958        28\n",
       "2  1959        20\n",
       "3  1960        39\n",
       "4  1961        52"
      ]
     },
     "execution_count": 87,
     "metadata": {},
     "output_type": "execute_result"
    }
   ],
   "source": [
    "## Launches per year\n",
    "\n",
    "df_launches_per_year = df_clean\n",
    "df_launches_per_year[\"Year\"] = df_clean[\"Date\"].dt.year \n",
    "launches_per_year = df_launches_per_year.groupby(\"Year\", as_index=False).agg({\"Date\": pd.Series.count})\n",
    "launches_per_year.rename(columns={\"Date\": \"Launches\"}, inplace=True)\n",
    "launches_per_year.head()"
   ]
  },
  {
   "cell_type": "code",
   "execution_count": 88,
   "metadata": {
    "colab": {
     "base_uri": "https://localhost:8080/",
     "height": 626
    },
    "executionInfo": {
     "elapsed": 1325,
     "status": "ok",
     "timestamp": 1620632288647,
     "user": {
      "displayName": "fabio alba",
      "photoUrl": "",
      "userId": "06675624622301434407"
     },
     "user_tz": -120
    },
    "id": "b2pggcZBpb4x",
    "outputId": "b5fa053f-6f15-4f5a-8192-fc9a8f5376b9"
   },
   "outputs": [
    {
     "data": {
      "image/png": "[encoded data removed]",
      "text/plain": [
       "<Figure size 1440x720 with 1 Axes>"
      ]
     },
     "metadata": {
      "needs_background": "light"
     },
     "output_type": "display_data"
    }
   ],
   "source": [
    "## Chart\n",
    "\n",
    "%matplotlib inline\n",
    "\n",
    "plt.figure(figsize=(20, 10))\n",
    "plt.title(\"\\nLaunches per year\", fontsize=20)\n",
    "\n",
    "plt.xlim(1957, 2020)\n",
    "\n",
    "chart = plt.plot(launches_per_year[\"Year\"],\n",
    "                 launches_per_year[\"Launches\"])\n",
    "\n"
   ]
  },
  {
   "cell_type": "markdown",
   "metadata": {
    "id": "NomJVLi3tIaM"
   },
   "source": [
    "# Chart the Number of Launches Month-on-Month until the Present\n",
    "\n",
    "Which month has seen the highest number of launches in all time? Superimpose a rolling average on the month on month time series chart. "
   ]
  },
  {
   "cell_type": "code",
   "execution_count": 89,
   "metadata": {
    "colab": {
     "base_uri": "https://localhost:8080/",
     "height": 375
    },
    "executionInfo": {
     "elapsed": 459,
     "status": "ok",
     "timestamp": 1620632292212,
     "user": {
      "displayName": "fabio alba",
      "photoUrl": "",
      "userId": "06675624622301434407"
     },
     "user_tz": -120
    },
    "id": "H1N2aBs5tH9z",
    "outputId": "94e41830-cab4-4f8a-86c2-b375aba8a9a3"
   },
   "outputs": [
    {
     "name": "stderr",
     "output_type": "stream",
     "text": [
      "<ipython-input-89-4eca7d14850e>:1: SettingWithCopyWarning:\n",
      "\n",
      "\n",
      "A value is trying to be set on a copy of a slice from a DataFrame.\n",
      "Try using .loc[row_indexer,col_indexer] = value instead\n",
      "\n",
      "See the caveats in the documentation: https://pandas.pydata.org/pandas-docs/stable/user_guide/indexing.html#returning-a-view-versus-a-copy\n",
      "\n"
     ]
    },
    {
     "data": {
      "text/html": [
       "<div>\n",
       "<style scoped>\n",
       "    .dataframe tbody tr th:only-of-type {\n",
       "        vertical-align: middle;\n",
       "    }\n",
       "\n",
       "    .dataframe tbody tr th {\n",
       "        vertical-align: top;\n",
       "    }\n",
       "\n",
       "    .dataframe thead th {\n",
       "        text-align: right;\n",
       "    }\n",
       "</style>\n",
       "<table border=\"1\" class=\"dataframe\">\n",
       "  <thead>\n",
       "    <tr style=\"text-align: right;\">\n",
       "      <th></th>\n",
       "      <th>Year</th>\n",
       "      <th>Month</th>\n",
       "      <th>Launches</th>\n",
       "    </tr>\n",
       "  </thead>\n",
       "  <tbody>\n",
       "    <tr>\n",
       "      <th>746</th>\n",
       "      <td>2020</td>\n",
       "      <td>8</td>\n",
       "      <td>3</td>\n",
       "    </tr>\n",
       "    <tr>\n",
       "      <th>745</th>\n",
       "      <td>2020</td>\n",
       "      <td>7</td>\n",
       "      <td>14</td>\n",
       "    </tr>\n",
       "    <tr>\n",
       "      <th>744</th>\n",
       "      <td>2020</td>\n",
       "      <td>6</td>\n",
       "      <td>7</td>\n",
       "    </tr>\n",
       "    <tr>\n",
       "      <th>743</th>\n",
       "      <td>2020</td>\n",
       "      <td>5</td>\n",
       "      <td>9</td>\n",
       "    </tr>\n",
       "    <tr>\n",
       "      <th>742</th>\n",
       "      <td>2020</td>\n",
       "      <td>4</td>\n",
       "      <td>5</td>\n",
       "    </tr>\n",
       "  </tbody>\n",
       "</table>\n",
       "</div>"
      ],
      "text/plain": [
       "     Year  Month  Launches\n",
       "746  2020      8         3\n",
       "745  2020      7        14\n",
       "744  2020      6         7\n",
       "743  2020      5         9\n",
       "742  2020      4         5"
      ]
     },
     "execution_count": 89,
     "metadata": {},
     "output_type": "execute_result"
    }
   ],
   "source": [
    "\n",
    "df_launches_per_year[\"Month\"] = df_clean[\"Date\"].dt.month \n",
    "launches_per_year = df_launches_per_year.groupby([\"Year\", \"Month\"], as_index=False).agg({\"Date\": pd.Series.count})\n",
    "launches_per_year.rename(columns={\"Date\": \"Launches\"}, inplace=True)\n",
    "launches_per_year = launches_per_year.sort_values(\"Year\", ascending=False)\n",
    "launches_per_year.head()"
   ]
  },
  {
   "cell_type": "code",
   "execution_count": 90,
   "metadata": {
    "colab": {
     "base_uri": "https://localhost:8080/",
     "height": 1000
    },
    "executionInfo": {
     "elapsed": 862,
     "status": "ok",
     "timestamp": 1620632292619,
     "user": {
      "displayName": "fabio alba",
      "photoUrl": "",
      "userId": "06675624622301434407"
     },
     "user_tz": -120
    },
    "id": "pfw0aX1lpdRv",
    "outputId": "63f228be-beaa-41ef-cec5-cdf131ac7717"
   },
   "outputs": [
    {
     "data": {
      "application/vnd.plotly.v1+json": {
       "config": {
        "plotlyServerURL": "https://plot.ly"
       },
       "data": [
        {
         "alignmentgroup": "True",
         "hovertemplate": "Launches=%{x}<br>Year=%{y}<br>Month=%{marker.color}<extra></extra>",
         "legendgroup": "",
         "marker": {
          "color": [
           8,
           7,
           6,
           5,
           4,
           3,
           2,
           1,
           7,
           1,
           3,
           4,
           5,
           6,
           2,
           8,
           9,
           10,
           11,
           12,
           1,
           2,
           3,
           4,
           5,
           6,
           7,
           8,
           9,
           10,
           11,
           12,
           7,
           1,
           2,
           4,
           5,
           6,
           3,
           8,
           9,
           10,
           11,
           12,
           1,
           2,
           3,
           4,
           5,
           6,
           7,
           8,
           9,
           10,
           11,
           12,
           1,
           2,
           3,
           4,
           5,
           6,
           7,
           8,
           9,
           10,
           11,
           12,
           1,
           2,
           3,
           4,
           5,
           6,
           7,
           8,
           9,
           10,
           11,
           12,
           6,
           1,
           3,
           4,
           5,
           2,
           7,
           11,
           12,
           8,
           9,
           7,
           1,
           2,
           3,
           4,
           6,
           5,
           8,
           9,
           10,
           11,
           12,
           6,
           1,
           2,
           3,
           4,
           5,
           7,
           8,
           9,
           10,
           11,
           12,
           7,
           2,
           3,
           4,
           5,
           6,
           9,
           8,
           10,
           11,
           12,
           4,
           5,
           7,
           3,
           2,
           1,
           6,
           8,
           9,
           10,
           11,
           12,
           1,
           2,
           3,
           4,
           5,
           6,
           7,
           8,
           9,
           10,
           11,
           12,
           1,
           2,
           3,
           4,
           5,
           6,
           7,
           8,
           9,
           10,
           11,
           12,
           1,
           2,
           3,
           4,
           5,
           6,
           7,
           8,
           9,
           10,
           11,
           12,
           7,
           2,
           3,
           4,
           5,
           6,
           1,
           8,
           11,
           12,
           9,
           10,
           7,
           1,
           2,
           3,
           4,
           6,
           5,
           8,
           9,
           10,
           11,
           12,
           7,
           1,
           2,
           3,
           4,
           6,
           5,
           8,
           9,
           10,
           11,
           12,
           6,
           1,
           2,
           3,
           4,
           5,
           7,
           8,
           9,
           10,
           11,
           12,
           6,
           1,
           2,
           3,
           4,
           5,
           7,
           8,
           9,
           10,
           11,
           12,
           1,
           2,
           3,
           4,
           5,
           6,
           7,
           8,
           9,
           10,
           11,
           12,
           1,
           2,
           3,
           4,
           5,
           6,
           7,
           8,
           9,
           10,
           11,
           12,
           1,
           2,
           3,
           4,
           5,
           6,
           7,
           8,
           9,
           10,
           11,
           12,
           1,
           2,
           3,
           4,
           5,
           7,
           6,
           8,
           11,
           12,
           9,
           10,
           7,
           1,
           2,
           3,
           4,
           6,
           5,
           8,
           9,
           10,
           11,
           12,
           6,
           1,
           2,
           3,
           4,
           5,
           7,
           8,
           9,
           10,
           11,
           12,
           1,
           2,
           3,
           4,
           5,
           6,
           7,
           8,
           9,
           10,
           11,
           12,
           1,
           2,
           3,
           4,
           5,
           7,
           6,
           8,
           11,
           12,
           9,
           10,
           6,
           1,
           2,
           3,
           4,
           5,
           8,
           9,
           10,
           11,
           12,
           7,
           7,
           1,
           2,
           3,
           4,
           5,
           6,
           8,
           10,
           11,
           12,
           9,
           7,
           1,
           2,
           3,
           4,
           5,
           6,
           8,
           9,
           10,
           11,
           12,
           6,
           12,
           11,
           10,
           9,
           8,
           7,
           5,
           4,
           3,
           2,
           1,
           7,
           1,
           2,
           3,
           4,
           5,
           6,
           8,
           9,
           10,
           11,
           12,
           7,
           1,
           2,
           3,
           4,
           5,
           6,
           9,
           10,
           11,
           12,
           8,
           7,
           6,
           1,
           2,
           3,
           4,
           5,
           9,
           8,
           10,
           11,
           12,
           3,
           4,
           7,
           2,
           1,
           5,
           6,
           8,
           9,
           10,
           11,
           12,
           7,
           1,
           2,
           3,
           4,
           5,
           6,
           8,
           9,
           10,
           11,
           12,
           6,
           1,
           2,
           3,
           4,
           5,
           7,
           9,
           8,
           10,
           11,
           12,
           6,
           1,
           2,
           3,
           4,
           5,
           8,
           7,
           9,
           10,
           11,
           12,
           3,
           4,
           7,
           2,
           1,
           5,
           6,
           8,
           9,
           10,
           11,
           12,
           6,
           1,
           2,
           3,
           4,
           5,
           7,
           8,
           9,
           10,
           11,
           12,
           6,
           1,
           2,
           3,
           4,
           5,
           7,
           9,
           10,
           11,
           12,
           8,
           7,
           6,
           1,
           2,
           3,
           4,
           5,
           9,
           8,
           10,
           11,
           12,
           3,
           4,
           6,
           2,
           1,
           5,
           8,
           7,
           9,
           10,
           11,
           12,
           6,
           1,
           2,
           3,
           4,
           5,
           7,
           8,
           9,
           10,
           11,
           12,
           6,
           1,
           2,
           3,
           4,
           5,
           8,
           7,
           9,
           10,
           11,
           12,
           6,
           1,
           2,
           3,
           4,
           5,
           8,
           7,
           9,
           10,
           11,
           12,
           2,
           3,
           4,
           11,
           1,
           6,
           5,
           12,
           7,
           9,
           10,
           8,
           7,
           1,
           2,
           3,
           4,
           5,
           6,
           8,
           9,
           10,
           11,
           12,
           7,
           1,
           2,
           3,
           4,
           5,
           6,
           9,
           10,
           11,
           12,
           8,
           7,
           6,
           1,
           2,
           3,
           4,
           5,
           9,
           8,
           10,
           11,
           12,
           3,
           4,
           7,
           2,
           1,
           5,
           6,
           8,
           9,
           10,
           11,
           12,
           7,
           1,
           2,
           3,
           4,
           5,
           6,
           8,
           9,
           10,
           11,
           12,
           6,
           1,
           2,
           3,
           4,
           5,
           7,
           9,
           8,
           10,
           11,
           12,
           6,
           1,
           2,
           3,
           4,
           5,
           8,
           7,
           9,
           10,
           11,
           12,
           3,
           4,
           6,
           2,
           1,
           5,
           12,
           7,
           9,
           10,
           11,
           8,
           6,
           1,
           2,
           3,
           4,
           5,
           7,
           8,
           9,
           10,
           11,
           12,
           6,
           1,
           2,
           3,
           4,
           5,
           7,
           9,
           10,
           11,
           12,
           8,
           7,
           6,
           1,
           2,
           3,
           4,
           5,
           9,
           8,
           10,
           11,
           12,
           3,
           4,
           6,
           2,
           1,
           5,
           12,
           7,
           9,
           10,
           11,
           8,
           7,
           2,
           3,
           4,
           5,
           6,
           8,
           9,
           10,
           11,
           12,
           6,
           2,
           1,
           4,
           10,
           8,
           9,
           11,
           12,
           11,
           10,
           9,
           8,
           7,
           6,
           5,
           4,
           3,
           2,
           12,
           11,
           10
          ],
          "coloraxis": "coloraxis",
          "pattern": {
           "shape": ""
          }
         },
         "name": "",
         "offsetgroup": "",
         "orientation": "h",
         "showlegend": false,
         "textposition": "auto",
         "type": "bar",
         "x": [
          3,
          14,
          7,
          9,
          5,
          8,
          9,
          8,
          11,
          8,
          9,
          7,
          9,
          7,
          5,
          12,
          7,
          6,
          12,
          16,
          13,
          8,
          10,
          10,
          7,
          8,
          9,
          5,
          8,
          11,
          13,
          15,
          5,
          7,
          4,
          4,
          7,
          13,
          7,
          10,
          6,
          9,
          8,
          12,
          6,
          7,
          10,
          6,
          6,
          11,
          4,
          7,
          7,
          5,
          9,
          12,
          3,
          5,
          8,
          4,
          2,
          2,
          4,
          3,
          7,
          3,
          4,
          7,
          4,
          3,
          1,
          7,
          5,
          2,
          8,
          4,
          4,
          5,
          2,
          8,
          5,
          4,
          2,
          1,
          3,
          4,
          4,
          5,
          5,
          6,
          7,
          3,
          1,
          3,
          1,
          4,
          5,
          5,
          3,
          4,
          3,
          1,
          5,
          3,
          3,
          4,
          3,
          3,
          3,
          4,
          3,
          7,
          5,
          2,
          2,
          1,
          3,
          1,
          7,
          4,
          7,
          4,
          2,
          1,
          4,
          3,
          4,
          4,
          6,
          4,
          5,
          3,
          3,
          4,
          4,
          5,
          5,
          3,
          2,
          2,
          6,
          6,
          4,
          5,
          3,
          4,
          5,
          6,
          2,
          2,
          2,
          3,
          3,
          6,
          4,
          7,
          2,
          3,
          6,
          6,
          4,
          4,
          2,
          3,
          3,
          6,
          3,
          4,
          6,
          2,
          6,
          5,
          2,
          7,
          3,
          3,
          2,
          5,
          2,
          3,
          2,
          6,
          2,
          2,
          2,
          5,
          4,
          1,
          3,
          3,
          4,
          4,
          3,
          3,
          5,
          1,
          5,
          4,
          2,
          5,
          1,
          3,
          5,
          8,
          4,
          6,
          4,
          6,
          3,
          5,
          5,
          2,
          5,
          6,
          3,
          4,
          4,
          2,
          6,
          2,
          3,
          7,
          4,
          3,
          4,
          3,
          3,
          2,
          4,
          5,
          4,
          5,
          1,
          5,
          4,
          5,
          5,
          1,
          6,
          4,
          5,
          3,
          6,
          7,
          6,
          5,
          2,
          4,
          2,
          8,
          6,
          4,
          5,
          4,
          4,
          3,
          4,
          11,
          5,
          8,
          4,
          4,
          6,
          5,
          5,
          8,
          5,
          8,
          2,
          8,
          3,
          5,
          3,
          6,
          6,
          4,
          3,
          8,
          6,
          10,
          9,
          7,
          6,
          4,
          7,
          5,
          6,
          3,
          5,
          6,
          6,
          2,
          4,
          6,
          4,
          5,
          1,
          8,
          4,
          5,
          5,
          7,
          3,
          6,
          5,
          8,
          3,
          5,
          5,
          4,
          4,
          3,
          5,
          10,
          5,
          4,
          9,
          7,
          4,
          4,
          6,
          9,
          4,
          3,
          5,
          6,
          3,
          5,
          6,
          6,
          4,
          2,
          5,
          5,
          4,
          2,
          6,
          4,
          7,
          6,
          8,
          9,
          3,
          4,
          4,
          6,
          7,
          3,
          6,
          10,
          2,
          5,
          5,
          4,
          5,
          9,
          9,
          5,
          11,
          1,
          7,
          8,
          4,
          7,
          9,
          5,
          7,
          2,
          4,
          3,
          8,
          5,
          4,
          3,
          2,
          4,
          9,
          1,
          7,
          2,
          3,
          10,
          2,
          5,
          5,
          2,
          9,
          4,
          4,
          6,
          5,
          6,
          7,
          5,
          2,
          3,
          7,
          3,
          4,
          2,
          6,
          6,
          5,
          4,
          6,
          8,
          3,
          3,
          4,
          5,
          4,
          7,
          5,
          8,
          5,
          5,
          4,
          6,
          6,
          4,
          8,
          7,
          6,
          13,
          5,
          5,
          2,
          6,
          6,
          4,
          5,
          6,
          9,
          10,
          6,
          5,
          4,
          6,
          5,
          4,
          4,
          6,
          9,
          7,
          7,
          3,
          5,
          6,
          5,
          5,
          10,
          4,
          4,
          10,
          5,
          6,
          5,
          4,
          8,
          3,
          4,
          4,
          8,
          3,
          1,
          8,
          6,
          5,
          6,
          10,
          9,
          4,
          4,
          7,
          6,
          6,
          6,
          4,
          6,
          4,
          6,
          1,
          1,
          3,
          4,
          8,
          6,
          3,
          6,
          4,
          6,
          3,
          5,
          2,
          6,
          3,
          2,
          3,
          2,
          11,
          10,
          9,
          11,
          4,
          10,
          4,
          5,
          11,
          6,
          14,
          7,
          8,
          13,
          11,
          4,
          11,
          9,
          12,
          16,
          7,
          2,
          14,
          10,
          9,
          8,
          11,
          6,
          9,
          15,
          8,
          8,
          9,
          7,
          13,
          10,
          6,
          9,
          6,
          15,
          10,
          5,
          11,
          16,
          4,
          9,
          12,
          9,
          4,
          7,
          6,
          10,
          11,
          9,
          11,
          4,
          10,
          8,
          9,
          5,
          6,
          8,
          12,
          4,
          11,
          12,
          11,
          5,
          7,
          13,
          9,
          10,
          4,
          6,
          12,
          10,
          6,
          8,
          9,
          7,
          11,
          6,
          10,
          8,
          8,
          7,
          9,
          13,
          14,
          8,
          10,
          6,
          11,
          18,
          7,
          5,
          13,
          7,
          5,
          6,
          13,
          3,
          9,
          9,
          15,
          9,
          13,
          14,
          9,
          7,
          8,
          9,
          6,
          7,
          9,
          6,
          12,
          9,
          7,
          7,
          5,
          4,
          11,
          16,
          3,
          11,
          9,
          7,
          12,
          9,
          9,
          12,
          4,
          10,
          9,
          11,
          8,
          7,
          11,
          6,
          13,
          9,
          6,
          9,
          5,
          8,
          9,
          7,
          8,
          8,
          11,
          8,
          7,
          10,
          11,
          9,
          5,
          6,
          8,
          5,
          7,
          10,
          9,
          5,
          8,
          9,
          6,
          5,
          3,
          3,
          4,
          7,
          3,
          7,
          6,
          6,
          8,
          3,
          5,
          6,
          1,
          2,
          1,
          7,
          4,
          3,
          2,
          4,
          5,
          4,
          2,
          6,
          8,
          3,
          4,
          3,
          10,
          7,
          8,
          9,
          11,
          5,
          8,
          5,
          3,
          4,
          7,
          2,
          1,
          4,
          5,
          4,
          4,
          7,
          6,
          2,
          3,
          1,
          5,
          3,
          2,
          5,
          2,
          5,
          4,
          7,
          4,
          2,
          1,
          2,
          1,
          3,
          4,
          3,
          3,
          1,
          3,
          2,
          7,
          2,
          1,
          2,
          2,
          3,
          2,
          1,
          1,
          1
         ],
         "xaxis": "x",
         "y": [
          2020,
          2020,
          2020,
          2020,
          2020,
          2020,
          2020,
          2020,
          2019,
          2019,
          2019,
          2019,
          2019,
          2019,
          2019,
          2019,
          2019,
          2019,
          2019,
          2019,
          2018,
          2018,
          2018,
          2018,
          2018,
          2018,
          2018,
          2018,
          2018,
          2018,
          2018,
          2018,
          2017,
          2017,
          2017,
          2017,
          2017,
          2017,
          2017,
          2017,
          2017,
          2017,
          2017,
          2017,
          2016,
          2016,
          2016,
          2016,
          2016,
          2016,
          2016,
          2016,
          2016,
          2016,
          2016,
          2016,
          2015,
          2015,
          2015,
          2015,
          2015,
          2015,
          2015,
          2015,
          2015,
          2015,
          2015,
          2015,
          2014,
          2014,
          2014,
          2014,
          2014,
          2014,
          2014,
          2014,
          2014,
          2014,
          2014,
          2014,
          2013,
          2013,
          2013,
          2013,
          2013,
          2013,
          2013,
          2013,
          2013,
          2013,
          2013,
          2012,
          2012,
          2012,
          2012,
          2012,
          2012,
          2012,
          2012,
          2012,
          2012,
          2012,
          2012,
          2011,
          2011,
          2011,
          2011,
          2011,
          2011,
          2011,
          2011,
          2011,
          2011,
          2011,
          2011,
          2010,
          2010,
          2010,
          2010,
          2010,
          2010,
          2010,
          2010,
          2010,
          2010,
          2010,
          2009,
          2009,
          2009,
          2009,
          2009,
          2009,
          2009,
          2009,
          2009,
          2009,
          2009,
          2009,
          2008,
          2008,
          2008,
          2008,
          2008,
          2008,
          2008,
          2008,
          2008,
          2008,
          2008,
          2008,
          2007,
          2007,
          2007,
          2007,
          2007,
          2007,
          2007,
          2007,
          2007,
          2007,
          2007,
          2007,
          2006,
          2006,
          2006,
          2006,
          2006,
          2006,
          2006,
          2006,
          2006,
          2006,
          2006,
          2006,
          2005,
          2005,
          2005,
          2005,
          2005,
          2005,
          2005,
          2005,
          2005,
          2005,
          2005,
          2005,
          2004,
          2004,
          2004,
          2004,
          2004,
          2004,
          2004,
          2004,
          2004,
          2004,
          2004,
          2004,
          2003,
          2003,
          2003,
          2003,
          2003,
          2003,
          2003,
          2003,
          2003,
          2003,
          2003,
          2003,
          2002,
          2002,
          2002,
          2002,
          2002,
          2002,
          2002,
          2002,
          2002,
          2002,
          2002,
          2002,
          2001,
          2001,
          2001,
          2001,
          2001,
          2001,
          2001,
          2001,
          2001,
          2001,
          2001,
          2001,
          2000,
          2000,
          2000,
          2000,
          2000,
          2000,
          2000,
          2000,
          2000,
          2000,
          2000,
          2000,
          1999,
          1999,
          1999,
          1999,
          1999,
          1999,
          1999,
          1999,
          1999,
          1999,
          1999,
          1999,
          1998,
          1998,
          1998,
          1998,
          1998,
          1998,
          1998,
          1998,
          1998,
          1998,
          1998,
          1998,
          1997,
          1997,
          1997,
          1997,
          1997,
          1997,
          1997,
          1997,
          1997,
          1997,
          1997,
          1997,
          1996,
          1996,
          1996,
          1996,
          1996,
          1996,
          1996,
          1996,
          1996,
          1996,
          1996,
          1996,
          1995,
          1995,
          1995,
          1995,
          1995,
          1995,
          1995,
          1995,
          1995,
          1995,
          1995,
          1995,
          1994,
          1994,
          1994,
          1994,
          1994,
          1994,
          1994,
          1994,
          1994,
          1994,
          1994,
          1994,
          1993,
          1993,
          1993,
          1993,
          1993,
          1993,
          1993,
          1993,
          1993,
          1993,
          1993,
          1993,
          1992,
          1992,
          1992,
          1992,
          1992,
          1992,
          1992,
          1992,
          1992,
          1992,
          1992,
          1992,
          1991,
          1991,
          1991,
          1991,
          1991,
          1991,
          1991,
          1991,
          1991,
          1991,
          1991,
          1991,
          1990,
          1990,
          1990,
          1990,
          1990,
          1990,
          1990,
          1990,
          1990,
          1990,
          1990,
          1990,
          1989,
          1989,
          1989,
          1989,
          1989,
          1989,
          1989,
          1989,
          1989,
          1989,
          1989,
          1989,
          1988,
          1988,
          1988,
          1988,
          1988,
          1988,
          1988,
          1988,
          1988,
          1988,
          1988,
          1988,
          1987,
          1987,
          1987,
          1987,
          1987,
          1987,
          1987,
          1987,
          1987,
          1987,
          1987,
          1987,
          1986,
          1986,
          1986,
          1986,
          1986,
          1986,
          1986,
          1986,
          1986,
          1986,
          1986,
          1986,
          1985,
          1985,
          1985,
          1985,
          1985,
          1985,
          1985,
          1985,
          1985,
          1985,
          1985,
          1985,
          1984,
          1984,
          1984,
          1984,
          1984,
          1984,
          1984,
          1984,
          1984,
          1984,
          1984,
          1984,
          1983,
          1983,
          1983,
          1983,
          1983,
          1983,
          1983,
          1983,
          1983,
          1983,
          1983,
          1983,
          1982,
          1982,
          1982,
          1982,
          1982,
          1982,
          1982,
          1982,
          1982,
          1982,
          1982,
          1982,
          1981,
          1981,
          1981,
          1981,
          1981,
          1981,
          1981,
          1981,
          1981,
          1981,
          1981,
          1981,
          1980,
          1980,
          1980,
          1980,
          1980,
          1980,
          1980,
          1980,
          1980,
          1980,
          1980,
          1980,
          1979,
          1979,
          1979,
          1979,
          1979,
          1979,
          1979,
          1979,
          1979,
          1979,
          1979,
          1979,
          1978,
          1978,
          1978,
          1978,
          1978,
          1978,
          1978,
          1978,
          1978,
          1978,
          1978,
          1978,
          1977,
          1977,
          1977,
          1977,
          1977,
          1977,
          1977,
          1977,
          1977,
          1977,
          1977,
          1977,
          1976,
          1976,
          1976,
          1976,
          1976,
          1976,
          1976,
          1976,
          1976,
          1976,
          1976,
          1976,
          1975,
          1975,
          1975,
          1975,
          1975,
          1975,
          1975,
          1975,
          1975,
          1975,
          1975,
          1975,
          1974,
          1974,
          1974,
          1974,
          1974,
          1974,
          1974,
          1974,
          1974,
          1974,
          1974,
          1974,
          1973,
          1973,
          1973,
          1973,
          1973,
          1973,
          1973,
          1973,
          1973,
          1973,
          1973,
          1973,
          1972,
          1972,
          1972,
          1972,
          1972,
          1972,
          1972,
          1972,
          1972,
          1972,
          1972,
          1972,
          1971,
          1971,
          1971,
          1971,
          1971,
          1971,
          1971,
          1971,
          1971,
          1971,
          1971,
          1971,
          1970,
          1970,
          1970,
          1970,
          1970,
          1970,
          1970,
          1970,
          1970,
          1970,
          1970,
          1970,
          1969,
          1969,
          1969,
          1969,
          1969,
          1969,
          1969,
          1969,
          1969,
          1969,
          1969,
          1969,
          1968,
          1968,
          1968,
          1968,
          1968,
          1968,
          1968,
          1968,
          1968,
          1968,
          1968,
          1968,
          1967,
          1967,
          1967,
          1967,
          1967,
          1967,
          1967,
          1967,
          1967,
          1967,
          1967,
          1967,
          1966,
          1966,
          1966,
          1966,
          1966,
          1966,
          1966,
          1966,
          1966,
          1966,
          1966,
          1966,
          1965,
          1965,
          1965,
          1965,
          1965,
          1965,
          1965,
          1965,
          1965,
          1965,
          1965,
          1965,
          1964,
          1964,
          1964,
          1964,
          1964,
          1964,
          1964,
          1964,
          1964,
          1964,
          1964,
          1964,
          1963,
          1963,
          1963,
          1963,
          1963,
          1963,
          1963,
          1963,
          1963,
          1963,
          1963,
          1963,
          1962,
          1962,
          1962,
          1962,
          1962,
          1962,
          1962,
          1962,
          1962,
          1962,
          1962,
          1962,
          1961,
          1961,
          1961,
          1961,
          1961,
          1961,
          1961,
          1961,
          1961,
          1961,
          1961,
          1961,
          1960,
          1960,
          1960,
          1960,
          1960,
          1960,
          1960,
          1960,
          1960,
          1960,
          1960,
          1959,
          1959,
          1959,
          1959,
          1959,
          1959,
          1959,
          1959,
          1958,
          1958,
          1958,
          1958,
          1958,
          1958,
          1958,
          1958,
          1958,
          1958,
          1958,
          1957,
          1957,
          1957
         ],
         "yaxis": "y"
        }
       ],
       "layout": {
        "barmode": "relative",
        "coloraxis": {
         "colorbar": {
          "title": {
           "text": "Month"
          }
         },
         "colorscale": [
          [
           0,
           "#0d0887"
          ],
          [
           0.1111111111111111,
           "#46039f"
          ],
          [
           0.2222222222222222,
           "#7201a8"
          ],
          [
           0.3333333333333333,
           "#9c179e"
          ],
          [
           0.4444444444444444,
           "#bd3786"
          ],
          [
           0.5555555555555556,
           "#d8576b"
          ],
          [
           0.6666666666666666,
           "#ed7953"
          ],
          [
           0.7777777777777778,
           "#fb9f3a"
          ],
          [
           0.8888888888888888,
           "#fdca26"
          ],
          [
           1,
           "#f0f921"
          ]
         ]
        },
        "height": 2000,
        "legend": {
         "tracegroupgap": 0
        },
        "margin": {
         "t": 60
        },
        "template": {
         "data": {
          "bar": [
           {
            "error_x": {
             "color": "#2a3f5f"
            },
            "error_y": {
             "color": "#2a3f5f"
            },
            "marker": {
             "line": {
              "color": "#E5ECF6",
              "width": 0.5
             },
             "pattern": {
              "fillmode": "overlay",
              "size": 10,
              "solidity": 0.2
             }
            },
            "type": "bar"
           }
          ],
          "barpolar": [
           {
            "marker": {
             "line": {
              "color": "#E5ECF6",
              "width": 0.5
             },
             "pattern": {
              "fillmode": "overlay",
              "size": 10,
              "solidity": 0.2
             }
            },
            "type": "barpolar"
           }
          ],
          "carpet": [
           {
            "aaxis": {
             "endlinecolor": "#2a3f5f",
             "gridcolor": "white",
             "linecolor": "white",
             "minorgridcolor": "white",
             "startlinecolor": "#2a3f5f"
            },
            "baxis": {
             "endlinecolor": "#2a3f5f",
             "gridcolor": "white",
             "linecolor": "white",
             "minorgridcolor": "white",
             "startlinecolor": "#2a3f5f"
            },
            "type": "carpet"
           }
          ],
          "choropleth": [
           {
            "colorbar": {
             "outlinewidth": 0,
             "ticks": ""
            },
            "type": "choropleth"
           }
          ],
          "contour": [
           {
            "colorbar": {
             "outlinewidth": 0,
             "ticks": ""
            },
            "colorscale": [
             [
              0,
              "#0d0887"
             ],
             [
              0.1111111111111111,
              "#46039f"
             ],
             [
              0.2222222222222222,
              "#7201a8"
             ],
             [
              0.3333333333333333,
              "#9c179e"
             ],
             [
              0.4444444444444444,
              "#bd3786"
             ],
             [
              0.5555555555555556,
              "#d8576b"
             ],
             [
              0.6666666666666666,
              "#ed7953"
             ],
             [
              0.7777777777777778,
              "#fb9f3a"
             ],
             [
              0.8888888888888888,
              "#fdca26"
             ],
             [
              1,
              "#f0f921"
             ]
            ],
            "type": "contour"
           }
          ],
          "contourcarpet": [
           {
            "colorbar": {
             "outlinewidth": 0,
             "ticks": ""
            },
            "type": "contourcarpet"
           }
          ],
          "heatmap": [
           {
            "colorbar": {
             "outlinewidth": 0,
             "ticks": ""
            },
            "colorscale": [
             [
              0,
              "#0d0887"
             ],
             [
              0.1111111111111111,
              "#46039f"
             ],
             [
              0.2222222222222222,
              "#7201a8"
             ],
             [
              0.3333333333333333,
              "#9c179e"
             ],
             [
              0.4444444444444444,
              "#bd3786"
             ],
             [
              0.5555555555555556,
              "#d8576b"
             ],
             [
              0.6666666666666666,
              "#ed7953"
             ],
             [
              0.7777777777777778,
              "#fb9f3a"
             ],
             [
              0.8888888888888888,
              "#fdca26"
             ],
             [
              1,
              "#f0f921"
             ]
            ],
            "type": "heatmap"
           }
          ],
          "heatmapgl": [
           {
            "colorbar": {
             "outlinewidth": 0,
             "ticks": ""
            },
            "colorscale": [
             [
              0,
              "#0d0887"
             ],
             [
              0.1111111111111111,
              "#46039f"
             ],
             [
              0.2222222222222222,
              "#7201a8"
             ],
             [
              0.3333333333333333,
              "#9c179e"
             ],
             [
              0.4444444444444444,
              "#bd3786"
             ],
             [
              0.5555555555555556,
              "#d8576b"
             ],
             [
              0.6666666666666666,
              "#ed7953"
             ],
             [
              0.7777777777777778,
              "#fb9f3a"
             ],
             [
              0.8888888888888888,
              "#fdca26"
             ],
             [
              1,
              "#f0f921"
             ]
            ],
            "type": "heatmapgl"
           }
          ],
          "histogram": [
           {
            "marker": {
             "pattern": {
              "fillmode": "overlay",
              "size": 10,
              "solidity": 0.2
             }
            },
            "type": "histogram"
           }
          ],
          "histogram2d": [
           {
            "colorbar": {
             "outlinewidth": 0,
             "ticks": ""
            },
            "colorscale": [
             [
              0,
              "#0d0887"
             ],
             [
              0.1111111111111111,
              "#46039f"
             ],
             [
              0.2222222222222222,
              "#7201a8"
             ],
             [
              0.3333333333333333,
              "#9c179e"
             ],
             [
              0.4444444444444444,
              "#bd3786"
             ],
             [
              0.5555555555555556,
              "#d8576b"
             ],
             [
              0.6666666666666666,
              "#ed7953"
             ],
             [
              0.7777777777777778,
              "#fb9f3a"
             ],
             [
              0.8888888888888888,
              "#fdca26"
             ],
             [
              1,
              "#f0f921"
             ]
            ],
            "type": "histogram2d"
           }
          ],
          "histogram2dcontour": [
           {
            "colorbar": {
             "outlinewidth": 0,
             "ticks": ""
            },
            "colorscale": [
             [
              0,
              "#0d0887"
             ],
             [
              0.1111111111111111,
              "#46039f"
             ],
             [
              0.2222222222222222,
              "#7201a8"
             ],
             [
              0.3333333333333333,
              "#9c179e"
             ],
             [
              0.4444444444444444,
              "#bd3786"
             ],
             [
              0.5555555555555556,
              "#d8576b"
             ],
             [
              0.6666666666666666,
              "#ed7953"
             ],
             [
              0.7777777777777778,
              "#fb9f3a"
             ],
             [
              0.8888888888888888,
              "#fdca26"
             ],
             [
              1,
              "#f0f921"
             ]
            ],
            "type": "histogram2dcontour"
           }
          ],
          "mesh3d": [
           {
            "colorbar": {
             "outlinewidth": 0,
             "ticks": ""
            },
            "type": "mesh3d"
           }
          ],
          "parcoords": [
           {
            "line": {
             "colorbar": {
              "outlinewidth": 0,
              "ticks": ""
             }
            },
            "type": "parcoords"
           }
          ],
          "pie": [
           {
            "automargin": true,
            "type": "pie"
           }
          ],
          "scatter": [
           {
            "marker": {
             "colorbar": {
              "outlinewidth": 0,
              "ticks": ""
             }
            },
            "type": "scatter"
           }
          ],
          "scatter3d": [
           {
            "line": {
             "colorbar": {
              "outlinewidth": 0,
              "ticks": ""
             }
            },
            "marker": {
             "colorbar": {
              "outlinewidth": 0,
              "ticks": ""
             }
            },
            "type": "scatter3d"
           }
          ],
          "scattercarpet": [
           {
            "marker": {
             "colorbar": {
              "outlinewidth": 0,
              "ticks": ""
             }
            },
            "type": "scattercarpet"
           }
          ],
          "scattergeo": [
           {
            "marker": {
             "colorbar": {
              "outlinewidth": 0,
              "ticks": ""
             }
            },
            "type": "scattergeo"
           }
          ],
          "scattergl": [
           {
            "marker": {
             "colorbar": {
              "outlinewidth": 0,
              "ticks": ""
             }
            },
            "type": "scattergl"
           }
          ],
          "scattermapbox": [
           {
            "marker": {
             "colorbar": {
              "outlinewidth": 0,
              "ticks": ""
             }
            },
            "type": "scattermapbox"
           }
          ],
          "scatterpolar": [
           {
            "marker": {
             "colorbar": {
              "outlinewidth": 0,
              "ticks": ""
             }
            },
            "type": "scatterpolar"
           }
          ],
          "scatterpolargl": [
           {
            "marker": {
             "colorbar": {
              "outlinewidth": 0,
              "ticks": ""
             }
            },
            "type": "scatterpolargl"
           }
          ],
          "scatterternary": [
           {
            "marker": {
             "colorbar": {
              "outlinewidth": 0,
              "ticks": ""
             }
            },
            "type": "scatterternary"
           }
          ],
          "surface": [
           {
            "colorbar": {
             "outlinewidth": 0,
             "ticks": ""
            },
            "colorscale": [
             [
              0,
              "#0d0887"
             ],
             [
              0.1111111111111111,
              "#46039f"
             ],
             [
              0.2222222222222222,
              "#7201a8"
             ],
             [
              0.3333333333333333,
              "#9c179e"
             ],
             [
              0.4444444444444444,
              "#bd3786"
             ],
             [
              0.5555555555555556,
              "#d8576b"
             ],
             [
              0.6666666666666666,
              "#ed7953"
             ],
             [
              0.7777777777777778,
              "#fb9f3a"
             ],
             [
              0.8888888888888888,
              "#fdca26"
             ],
             [
              1,
              "#f0f921"
             ]
            ],
            "type": "surface"
           }
          ],
          "table": [
           {
            "cells": {
             "fill": {
              "color": "#EBF0F8"
             },
             "line": {
              "color": "white"
             }
            },
            "header": {
             "fill": {
              "color": "#C8D4E3"
             },
             "line": {
              "color": "white"
             }
            },
            "type": "table"
           }
          ]
         },
         "layout": {
          "annotationdefaults": {
           "arrowcolor": "#2a3f5f",
           "arrowhead": 0,
           "arrowwidth": 1
          },
          "autotypenumbers": "strict",
          "coloraxis": {
           "colorbar": {
            "outlinewidth": 0,
            "ticks": ""
           }
          },
          "colorscale": {
           "diverging": [
            [
             0,
             "#8e0152"
            ],
            [
             0.1,
             "#c51b7d"
            ],
            [
             0.2,
             "#de77ae"
            ],
            [
             0.3,
             "#f1b6da"
            ],
            [
             0.4,
             "#fde0ef"
            ],
            [
             0.5,
             "#f7f7f7"
            ],
            [
             0.6,
             "#e6f5d0"
            ],
            [
             0.7,
             "#b8e186"
            ],
            [
             0.8,
             "#7fbc41"
            ],
            [
             0.9,
             "#4d9221"
            ],
            [
             1,
             "#276419"
            ]
           ],
           "sequential": [
            [
             0,
             "#0d0887"
            ],
            [
             0.1111111111111111,
             "#46039f"
            ],
            [
             0.2222222222222222,
             "#7201a8"
            ],
            [
             0.3333333333333333,
             "#9c179e"
            ],
            [
             0.4444444444444444,
             "#bd3786"
            ],
            [
             0.5555555555555556,
             "#d8576b"
            ],
            [
             0.6666666666666666,
             "#ed7953"
            ],
            [
             0.7777777777777778,
             "#fb9f3a"
            ],
            [
             0.8888888888888888,
             "#fdca26"
            ],
            [
             1,
             "#f0f921"
            ]
           ],
           "sequentialminus": [
            [
             0,
             "#0d0887"
            ],
            [
             0.1111111111111111,
             "#46039f"
            ],
            [
             0.2222222222222222,
             "#7201a8"
            ],
            [
             0.3333333333333333,
             "#9c179e"
            ],
            [
             0.4444444444444444,
             "#bd3786"
            ],
            [
             0.5555555555555556,
             "#d8576b"
            ],
            [
             0.6666666666666666,
             "#ed7953"
            ],
            [
             0.7777777777777778,
             "#fb9f3a"
            ],
            [
             0.8888888888888888,
             "#fdca26"
            ],
            [
             1,
             "#f0f921"
            ]
           ]
          },
          "colorway": [
           "#636efa",
           "#EF553B",
           "#00cc96",
           "#ab63fa",
           "#FFA15A",
           "#19d3f3",
           "#FF6692",
           "#B6E880",
           "#FF97FF",
           "#FECB52"
          ],
          "font": {
           "color": "#2a3f5f"
          },
          "geo": {
           "bgcolor": "white",
           "lakecolor": "white",
           "landcolor": "#E5ECF6",
           "showlakes": true,
           "showland": true,
           "subunitcolor": "white"
          },
          "hoverlabel": {
           "align": "left"
          },
          "hovermode": "closest",
          "mapbox": {
           "style": "light"
          },
          "paper_bgcolor": "white",
          "plot_bgcolor": "#E5ECF6",
          "polar": {
           "angularaxis": {
            "gridcolor": "white",
            "linecolor": "white",
            "ticks": ""
           },
           "bgcolor": "#E5ECF6",
           "radialaxis": {
            "gridcolor": "white",
            "linecolor": "white",
            "ticks": ""
           }
          },
          "scene": {
           "xaxis": {
            "backgroundcolor": "#E5ECF6",
            "gridcolor": "white",
            "gridwidth": 2,
            "linecolor": "white",
            "showbackground": true,
            "ticks": "",
            "zerolinecolor": "white"
           },
           "yaxis": {
            "backgroundcolor": "#E5ECF6",
            "gridcolor": "white",
            "gridwidth": 2,
            "linecolor": "white",
            "showbackground": true,
            "ticks": "",
            "zerolinecolor": "white"
           },
           "zaxis": {
            "backgroundcolor": "#E5ECF6",
            "gridcolor": "white",
            "gridwidth": 2,
            "linecolor": "white",
            "showbackground": true,
            "ticks": "",
            "zerolinecolor": "white"
           }
          },
          "shapedefaults": {
           "line": {
            "color": "#2a3f5f"
           }
          },
          "ternary": {
           "aaxis": {
            "gridcolor": "white",
            "linecolor": "white",
            "ticks": ""
           },
           "baxis": {
            "gridcolor": "white",
            "linecolor": "white",
            "ticks": ""
           },
           "bgcolor": "#E5ECF6",
           "caxis": {
            "gridcolor": "white",
            "linecolor": "white",
            "ticks": ""
           }
          },
          "title": {
           "x": 0.05
          },
          "xaxis": {
           "automargin": true,
           "gridcolor": "white",
           "linecolor": "white",
           "ticks": "",
           "title": {
            "standoff": 15
           },
           "zerolinecolor": "white",
           "zerolinewidth": 2
          },
          "yaxis": {
           "automargin": true,
           "gridcolor": "white",
           "linecolor": "white",
           "ticks": "",
           "title": {
            "standoff": 15
           },
           "zerolinecolor": "white",
           "zerolinewidth": 2
          }
         }
        },
        "width": 1000,
        "xaxis": {
         "anchor": "y",
         "domain": [
          0,
          1
         ],
         "title": {
          "text": "Launches"
         }
        },
        "yaxis": {
         "anchor": "x",
         "domain": [
          0,
          1
         ],
         "title": {
          "text": "Year"
         }
        }
       }
      },
      "text/html": [
       "<div>                            <div id=\"ea2cab75-7d29-46f3-b9ce-82593330f948\" class=\"plotly-graph-div\" style=\"height:2000px; width:1000px;\"></div>            <script type=\"text/javascript\">                require([\"plotly\"], function(Plotly) {                    window.PLOTLYENV=window.PLOTLYENV || {};                                    if (document.getElementById(\"ea2cab75-7d29-46f3-b9ce-82593330f948\")) {                    Plotly.newPlot(                        \"ea2cab75-7d29-46f3-b9ce-82593330f948\",                        [{\"alignmentgroup\":\"True\",\"hovertemplate\":\"Launches=%{x}<br>Year=%{y}<br>Month=%{marker.color}<extra></extra>\",\"legendgroup\":\"\",\"marker\":{\"color\":[8,7,6,5,4,3,2,1,7,1,3,4,5,6,2,8,9,10,11,12,1,2,3,4,5,6,7,8,9,10,11,12,7,1,2,4,5,6,3,8,9,10,11,12,1,2,3,4,5,6,7,8,9,10,11,12,1,2,3,4,5,6,7,8,9,10,11,12,1,2,3,4,5,6,7,8,9,10,11,12,6,1,3,4,5,2,7,11,12,8,9,7,1,2,3,4,6,5,8,9,10,11,12,6,1,2,3,4,5,7,8,9,10,11,12,7,2,3,4,5,6,9,8,10,11,12,4,5,7,3,2,1,6,8,9,10,11,12,1,2,3,4,5,6,7,8,9,10,11,12,1,2,3,4,5,6,7,8,9,10,11,12,1,2,3,4,5,6,7,8,9,10,11,12,7,2,3,4,5,6,1,8,11,12,9,10,7,1,2,3,4,6,5,8,9,10,11,12,7,1,2,3,4,6,5,8,9,10,11,12,6,1,2,3,4,5,7,8,9,10,11,12,6,1,2,3,4,5,7,8,9,10,11,12,1,2,3,4,5,6,7,8,9,10,11,12,1,2,3,4,5,6,7,8,9,10,11,12,1,2,3,4,5,6,7,8,9,10,11,12,1,2,3,4,5,7,6,8,11,12,9,10,7,1,2,3,4,6,5,8,9,10,11,12,6,1,2,3,4,5,7,8,9,10,11,12,1,2,3,4,5,6,7,8,9,10,11,12,1,2,3,4,5,7,6,8,11,12,9,10,6,1,2,3,4,5,8,9,10,11,12,7,7,1,2,3,4,5,6,8,10,11,12,9,7,1,2,3,4,5,6,8,9,10,11,12,6,12,11,10,9,8,7,5,4,3,2,1,7,1,2,3,4,5,6,8,9,10,11,12,7,1,2,3,4,5,6,9,10,11,12,8,7,6,1,2,3,4,5,9,8,10,11,12,3,4,7,2,1,5,6,8,9,10,11,12,7,1,2,3,4,5,6,8,9,10,11,12,6,1,2,3,4,5,7,9,8,10,11,12,6,1,2,3,4,5,8,7,9,10,11,12,3,4,7,2,1,5,6,8,9,10,11,12,6,1,2,3,4,5,7,8,9,10,11,12,6,1,2,3,4,5,7,9,10,11,12,8,7,6,1,2,3,4,5,9,8,10,11,12,3,4,6,2,1,5,8,7,9,10,11,12,6,1,2,3,4,5,7,8,9,10,11,12,6,1,2,3,4,5,8,7,9,10,11,12,6,1,2,3,4,5,8,7,9,10,11,12,2,3,4,11,1,6,5,12,7,9,10,8,7,1,2,3,4,5,6,8,9,10,11,12,7,1,2,3,4,5,6,9,10,11,12,8,7,6,1,2,3,4,5,9,8,10,11,12,3,4,7,2,1,5,6,8,9,10,11,12,7,1,2,3,4,5,6,8,9,10,11,12,6,1,2,3,4,5,7,9,8,10,11,12,6,1,2,3,4,5,8,7,9,10,11,12,3,4,6,2,1,5,12,7,9,10,11,8,6,1,2,3,4,5,7,8,9,10,11,12,6,1,2,3,4,5,7,9,10,11,12,8,7,6,1,2,3,4,5,9,8,10,11,12,3,4,6,2,1,5,12,7,9,10,11,8,7,2,3,4,5,6,8,9,10,11,12,6,2,1,4,10,8,9,11,12,11,10,9,8,7,6,5,4,3,2,12,11,10],\"coloraxis\":\"coloraxis\",\"pattern\":{\"shape\":\"\"}},\"name\":\"\",\"offsetgroup\":\"\",\"orientation\":\"h\",\"showlegend\":false,\"textposition\":\"auto\",\"type\":\"bar\",\"x\":[3,14,7,9,5,8,9,8,11,8,9,7,9,7,5,12,7,6,12,16,13,8,10,10,7,8,9,5,8,11,13,15,5,7,4,4,7,13,7,10,6,9,8,12,6,7,10,6,6,11,4,7,7,5,9,12,3,5,8,4,2,2,4,3,7,3,4,7,4,3,1,7,5,2,8,4,4,5,2,8,5,4,2,1,3,4,4,5,5,6,7,3,1,3,1,4,5,5,3,4,3,1,5,3,3,4,3,3,3,4,3,7,5,2,2,1,3,1,7,4,7,4,2,1,4,3,4,4,6,4,5,3,3,4,4,5,5,3,2,2,6,6,4,5,3,4,5,6,2,2,2,3,3,6,4,7,2,3,6,6,4,4,2,3,3,6,3,4,6,2,6,5,2,7,3,3,2,5,2,3,2,6,2,2,2,5,4,1,3,3,4,4,3,3,5,1,5,4,2,5,1,3,5,8,4,6,4,6,3,5,5,2,5,6,3,4,4,2,6,2,3,7,4,3,4,3,3,2,4,5,4,5,1,5,4,5,5,1,6,4,5,3,6,7,6,5,2,4,2,8,6,4,5,4,4,3,4,11,5,8,4,4,6,5,5,8,5,8,2,8,3,5,3,6,6,4,3,8,6,10,9,7,6,4,7,5,6,3,5,6,6,2,4,6,4,5,1,8,4,5,5,7,3,6,5,8,3,5,5,4,4,3,5,10,5,4,9,7,4,4,6,9,4,3,5,6,3,5,6,6,4,2,5,5,4,2,6,4,7,6,8,9,3,4,4,6,7,3,6,10,2,5,5,4,5,9,9,5,11,1,7,8,4,7,9,5,7,2,4,3,8,5,4,3,2,4,9,1,7,2,3,10,2,5,5,2,9,4,4,6,5,6,7,5,2,3,7,3,4,2,6,6,5,4,6,8,3,3,4,5,4,7,5,8,5,5,4,6,6,4,8,7,6,13,5,5,2,6,6,4,5,6,9,10,6,5,4,6,5,4,4,6,9,7,7,3,5,6,5,5,10,4,4,10,5,6,5,4,8,3,4,4,8,3,1,8,6,5,6,10,9,4,4,7,6,6,6,4,6,4,6,1,1,3,4,8,6,3,6,4,6,3,5,2,6,3,2,3,2,11,10,9,11,4,10,4,5,11,6,14,7,8,13,11,4,11,9,12,16,7,2,14,10,9,8,11,6,9,15,8,8,9,7,13,10,6,9,6,15,10,5,11,16,4,9,12,9,4,7,6,10,11,9,11,4,10,8,9,5,6,8,12,4,11,12,11,5,7,13,9,10,4,6,12,10,6,8,9,7,11,6,10,8,8,7,9,13,14,8,10,6,11,18,7,5,13,7,5,6,13,3,9,9,15,9,13,14,9,7,8,9,6,7,9,6,12,9,7,7,5,4,11,16,3,11,9,7,12,9,9,12,4,10,9,11,8,7,11,6,13,9,6,9,5,8,9,7,8,8,11,8,7,10,11,9,5,6,8,5,7,10,9,5,8,9,6,5,3,3,4,7,3,7,6,6,8,3,5,6,1,2,1,7,4,3,2,4,5,4,2,6,8,3,4,3,10,7,8,9,11,5,8,5,3,4,7,2,1,4,5,4,4,7,6,2,3,1,5,3,2,5,2,5,4,7,4,2,1,2,1,3,4,3,3,1,3,2,7,2,1,2,2,3,2,1,1,1],\"xaxis\":\"x\",\"y\":[2020,2020,2020,2020,2020,2020,2020,2020,2019,2019,2019,2019,2019,2019,2019,2019,2019,2019,2019,2019,2018,2018,2018,2018,2018,2018,2018,2018,2018,2018,2018,2018,2017,2017,2017,2017,2017,2017,2017,2017,2017,2017,2017,2017,2016,2016,2016,2016,2016,2016,2016,2016,2016,2016,2016,2016,2015,2015,2015,2015,2015,2015,2015,2015,2015,2015,2015,2015,2014,2014,2014,2014,2014,2014,2014,2014,2014,2014,2014,2014,2013,2013,2013,2013,2013,2013,2013,2013,2013,2013,2013,2012,2012,2012,2012,2012,2012,2012,2012,2012,2012,2012,2012,2011,2011,2011,2011,2011,2011,2011,2011,2011,2011,2011,2011,2010,2010,2010,2010,2010,2010,2010,2010,2010,2010,2010,2009,2009,2009,2009,2009,2009,2009,2009,2009,2009,2009,2009,2008,2008,2008,2008,2008,2008,2008,2008,2008,2008,2008,2008,2007,2007,2007,2007,2007,2007,2007,2007,2007,2007,2007,2007,2006,2006,2006,2006,2006,2006,2006,2006,2006,2006,2006,2006,2005,2005,2005,2005,2005,2005,2005,2005,2005,2005,2005,2005,2004,2004,2004,2004,2004,2004,2004,2004,2004,2004,2004,2004,2003,2003,2003,2003,2003,2003,2003,2003,2003,2003,2003,2003,2002,2002,2002,2002,2002,2002,2002,2002,2002,2002,2002,2002,2001,2001,2001,2001,2001,2001,2001,2001,2001,2001,2001,2001,2000,2000,2000,2000,2000,2000,2000,2000,2000,2000,2000,2000,1999,1999,1999,1999,1999,1999,1999,1999,1999,1999,1999,1999,1998,1998,1998,1998,1998,1998,1998,1998,1998,1998,1998,1998,1997,1997,1997,1997,1997,1997,1997,1997,1997,1997,1997,1997,1996,1996,1996,1996,1996,1996,1996,1996,1996,1996,1996,1996,1995,1995,1995,1995,1995,1995,1995,1995,1995,1995,1995,1995,1994,1994,1994,1994,1994,1994,1994,1994,1994,1994,1994,1994,1993,1993,1993,1993,1993,1993,1993,1993,1993,1993,1993,1993,1992,1992,1992,1992,1992,1992,1992,1992,1992,1992,1992,1992,1991,1991,1991,1991,1991,1991,1991,1991,1991,1991,1991,1991,1990,1990,1990,1990,1990,1990,1990,1990,1990,1990,1990,1990,1989,1989,1989,1989,1989,1989,1989,1989,1989,1989,1989,1989,1988,1988,1988,1988,1988,1988,1988,1988,1988,1988,1988,1988,1987,1987,1987,1987,1987,1987,1987,1987,1987,1987,1987,1987,1986,1986,1986,1986,1986,1986,1986,1986,1986,1986,1986,1986,1985,1985,1985,1985,1985,1985,1985,1985,1985,1985,1985,1985,1984,1984,1984,1984,1984,1984,1984,1984,1984,1984,1984,1984,1983,1983,1983,1983,1983,1983,1983,1983,1983,1983,1983,1983,1982,1982,1982,1982,1982,1982,1982,1982,1982,1982,1982,1982,1981,1981,1981,1981,1981,1981,1981,1981,1981,1981,1981,1981,1980,1980,1980,1980,1980,1980,1980,1980,1980,1980,1980,1980,1979,1979,1979,1979,1979,1979,1979,1979,1979,1979,1979,1979,1978,1978,1978,1978,1978,1978,1978,1978,1978,1978,1978,1978,1977,1977,1977,1977,1977,1977,1977,1977,1977,1977,1977,1977,1976,1976,1976,1976,1976,1976,1976,1976,1976,1976,1976,1976,1975,1975,1975,1975,1975,1975,1975,1975,1975,1975,1975,1975,1974,1974,1974,1974,1974,1974,1974,1974,1974,1974,1974,1974,1973,1973,1973,1973,1973,1973,1973,1973,1973,1973,1973,1973,1972,1972,1972,1972,1972,1972,1972,1972,1972,1972,1972,1972,1971,1971,1971,1971,1971,1971,1971,1971,1971,1971,1971,1971,1970,1970,1970,1970,1970,1970,1970,1970,1970,1970,1970,1970,1969,1969,1969,1969,1969,1969,1969,1969,1969,1969,1969,1969,1968,1968,1968,1968,1968,1968,1968,1968,1968,1968,1968,1968,1967,1967,1967,1967,1967,1967,1967,1967,1967,1967,1967,1967,1966,1966,1966,1966,1966,1966,1966,1966,1966,1966,1966,1966,1965,1965,1965,1965,1965,1965,1965,1965,1965,1965,1965,1965,1964,1964,1964,1964,1964,1964,1964,1964,1964,1964,1964,1964,1963,1963,1963,1963,1963,1963,1963,1963,1963,1963,1963,1963,1962,1962,1962,1962,1962,1962,1962,1962,1962,1962,1962,1962,1961,1961,1961,1961,1961,1961,1961,1961,1961,1961,1961,1961,1960,1960,1960,1960,1960,1960,1960,1960,1960,1960,1960,1959,1959,1959,1959,1959,1959,1959,1959,1958,1958,1958,1958,1958,1958,1958,1958,1958,1958,1958,1957,1957,1957],\"yaxis\":\"y\"}],                        {\"barmode\":\"relative\",\"coloraxis\":{\"colorbar\":{\"title\":{\"text\":\"Month\"}},\"colorscale\":[[0.0,\"#0d0887\"],[0.1111111111111111,\"#46039f\"],[0.2222222222222222,\"#7201a8\"],[0.3333333333333333,\"#9c179e\"],[0.4444444444444444,\"#bd3786\"],[0.5555555555555556,\"#d8576b\"],[0.6666666666666666,\"#ed7953\"],[0.7777777777777778,\"#fb9f3a\"],[0.8888888888888888,\"#fdca26\"],[1.0,\"#f0f921\"]]},\"height\":2000,\"legend\":{\"tracegroupgap\":0},\"margin\":{\"t\":60},\"template\":{\"data\":{\"bar\":[{\"error_x\":{\"color\":\"#2a3f5f\"},\"error_y\":{\"color\":\"#2a3f5f\"},\"marker\":{\"line\":{\"color\":\"#E5ECF6\",\"width\":0.5},\"pattern\":{\"fillmode\":\"overlay\",\"size\":10,\"solidity\":0.2}},\"type\":\"bar\"}],\"barpolar\":[{\"marker\":{\"line\":{\"color\":\"#E5ECF6\",\"width\":0.5},\"pattern\":{\"fillmode\":\"overlay\",\"size\":10,\"solidity\":0.2}},\"type\":\"barpolar\"}],\"carpet\":[{\"aaxis\":{\"endlinecolor\":\"#2a3f5f\",\"gridcolor\":\"white\",\"linecolor\":\"white\",\"minorgridcolor\":\"white\",\"startlinecolor\":\"#2a3f5f\"},\"baxis\":{\"endlinecolor\":\"#2a3f5f\",\"gridcolor\":\"white\",\"linecolor\":\"white\",\"minorgridcolor\":\"white\",\"startlinecolor\":\"#2a3f5f\"},\"type\":\"carpet\"}],\"choropleth\":[{\"colorbar\":{\"outlinewidth\":0,\"ticks\":\"\"},\"type\":\"choropleth\"}],\"contour\":[{\"colorbar\":{\"outlinewidth\":0,\"ticks\":\"\"},\"colorscale\":[[0.0,\"#0d0887\"],[0.1111111111111111,\"#46039f\"],[0.2222222222222222,\"#7201a8\"],[0.3333333333333333,\"#9c179e\"],[0.4444444444444444,\"#bd3786\"],[0.5555555555555556,\"#d8576b\"],[0.6666666666666666,\"#ed7953\"],[0.7777777777777778,\"#fb9f3a\"],[0.8888888888888888,\"#fdca26\"],[1.0,\"#f0f921\"]],\"type\":\"contour\"}],\"contourcarpet\":[{\"colorbar\":{\"outlinewidth\":0,\"ticks\":\"\"},\"type\":\"contourcarpet\"}],\"heatmap\":[{\"colorbar\":{\"outlinewidth\":0,\"ticks\":\"\"},\"colorscale\":[[0.0,\"#0d0887\"],[0.1111111111111111,\"#46039f\"],[0.2222222222222222,\"#7201a8\"],[0.3333333333333333,\"#9c179e\"],[0.4444444444444444,\"#bd3786\"],[0.5555555555555556,\"#d8576b\"],[0.6666666666666666,\"#ed7953\"],[0.7777777777777778,\"#fb9f3a\"],[0.8888888888888888,\"#fdca26\"],[1.0,\"#f0f921\"]],\"type\":\"heatmap\"}],\"heatmapgl\":[{\"colorbar\":{\"outlinewidth\":0,\"ticks\":\"\"},\"colorscale\":[[0.0,\"#0d0887\"],[0.1111111111111111,\"#46039f\"],[0.2222222222222222,\"#7201a8\"],[0.3333333333333333,\"#9c179e\"],[0.4444444444444444,\"#bd3786\"],[0.5555555555555556,\"#d8576b\"],[0.6666666666666666,\"#ed7953\"],[0.7777777777777778,\"#fb9f3a\"],[0.8888888888888888,\"#fdca26\"],[1.0,\"#f0f921\"]],\"type\":\"heatmapgl\"}],\"histogram\":[{\"marker\":{\"pattern\":{\"fillmode\":\"overlay\",\"size\":10,\"solidity\":0.2}},\"type\":\"histogram\"}],\"histogram2d\":[{\"colorbar\":{\"outlinewidth\":0,\"ticks\":\"\"},\"colorscale\":[[0.0,\"#0d0887\"],[0.1111111111111111,\"#46039f\"],[0.2222222222222222,\"#7201a8\"],[0.3333333333333333,\"#9c179e\"],[0.4444444444444444,\"#bd3786\"],[0.5555555555555556,\"#d8576b\"],[0.6666666666666666,\"#ed7953\"],[0.7777777777777778,\"#fb9f3a\"],[0.8888888888888888,\"#fdca26\"],[1.0,\"#f0f921\"]],\"type\":\"histogram2d\"}],\"histogram2dcontour\":[{\"colorbar\":{\"outlinewidth\":0,\"ticks\":\"\"},\"colorscale\":[[0.0,\"#0d0887\"],[0.1111111111111111,\"#46039f\"],[0.2222222222222222,\"#7201a8\"],[0.3333333333333333,\"#9c179e\"],[0.4444444444444444,\"#bd3786\"],[0.5555555555555556,\"#d8576b\"],[0.6666666666666666,\"#ed7953\"],[0.7777777777777778,\"#fb9f3a\"],[0.8888888888888888,\"#fdca26\"],[1.0,\"#f0f921\"]],\"type\":\"histogram2dcontour\"}],\"mesh3d\":[{\"colorbar\":{\"outlinewidth\":0,\"ticks\":\"\"},\"type\":\"mesh3d\"}],\"parcoords\":[{\"line\":{\"colorbar\":{\"outlinewidth\":0,\"ticks\":\"\"}},\"type\":\"parcoords\"}],\"pie\":[{\"automargin\":true,\"type\":\"pie\"}],\"scatter\":[{\"marker\":{\"colorbar\":{\"outlinewidth\":0,\"ticks\":\"\"}},\"type\":\"scatter\"}],\"scatter3d\":[{\"line\":{\"colorbar\":{\"outlinewidth\":0,\"ticks\":\"\"}},\"marker\":{\"colorbar\":{\"outlinewidth\":0,\"ticks\":\"\"}},\"type\":\"scatter3d\"}],\"scattercarpet\":[{\"marker\":{\"colorbar\":{\"outlinewidth\":0,\"ticks\":\"\"}},\"type\":\"scattercarpet\"}],\"scattergeo\":[{\"marker\":{\"colorbar\":{\"outlinewidth\":0,\"ticks\":\"\"}},\"type\":\"scattergeo\"}],\"scattergl\":[{\"marker\":{\"colorbar\":{\"outlinewidth\":0,\"ticks\":\"\"}},\"type\":\"scattergl\"}],\"scattermapbox\":[{\"marker\":{\"colorbar\":{\"outlinewidth\":0,\"ticks\":\"\"}},\"type\":\"scattermapbox\"}],\"scatterpolar\":[{\"marker\":{\"colorbar\":{\"outlinewidth\":0,\"ticks\":\"\"}},\"type\":\"scatterpolar\"}],\"scatterpolargl\":[{\"marker\":{\"colorbar\":{\"outlinewidth\":0,\"ticks\":\"\"}},\"type\":\"scatterpolargl\"}],\"scatterternary\":[{\"marker\":{\"colorbar\":{\"outlinewidth\":0,\"ticks\":\"\"}},\"type\":\"scatterternary\"}],\"surface\":[{\"colorbar\":{\"outlinewidth\":0,\"ticks\":\"\"},\"colorscale\":[[0.0,\"#0d0887\"],[0.1111111111111111,\"#46039f\"],[0.2222222222222222,\"#7201a8\"],[0.3333333333333333,\"#9c179e\"],[0.4444444444444444,\"#bd3786\"],[0.5555555555555556,\"#d8576b\"],[0.6666666666666666,\"#ed7953\"],[0.7777777777777778,\"#fb9f3a\"],[0.8888888888888888,\"#fdca26\"],[1.0,\"#f0f921\"]],\"type\":\"surface\"}],\"table\":[{\"cells\":{\"fill\":{\"color\":\"#EBF0F8\"},\"line\":{\"color\":\"white\"}},\"header\":{\"fill\":{\"color\":\"#C8D4E3\"},\"line\":{\"color\":\"white\"}},\"type\":\"table\"}]},\"layout\":{\"annotationdefaults\":{\"arrowcolor\":\"#2a3f5f\",\"arrowhead\":0,\"arrowwidth\":1},\"autotypenumbers\":\"strict\",\"coloraxis\":{\"colorbar\":{\"outlinewidth\":0,\"ticks\":\"\"}},\"colorscale\":{\"diverging\":[[0,\"#8e0152\"],[0.1,\"#c51b7d\"],[0.2,\"#de77ae\"],[0.3,\"#f1b6da\"],[0.4,\"#fde0ef\"],[0.5,\"#f7f7f7\"],[0.6,\"#e6f5d0\"],[0.7,\"#b8e186\"],[0.8,\"#7fbc41\"],[0.9,\"#4d9221\"],[1,\"#276419\"]],\"sequential\":[[0.0,\"#0d0887\"],[0.1111111111111111,\"#46039f\"],[0.2222222222222222,\"#7201a8\"],[0.3333333333333333,\"#9c179e\"],[0.4444444444444444,\"#bd3786\"],[0.5555555555555556,\"#d8576b\"],[0.6666666666666666,\"#ed7953\"],[0.7777777777777778,\"#fb9f3a\"],[0.8888888888888888,\"#fdca26\"],[1.0,\"#f0f921\"]],\"sequentialminus\":[[0.0,\"#0d0887\"],[0.1111111111111111,\"#46039f\"],[0.2222222222222222,\"#7201a8\"],[0.3333333333333333,\"#9c179e\"],[0.4444444444444444,\"#bd3786\"],[0.5555555555555556,\"#d8576b\"],[0.6666666666666666,\"#ed7953\"],[0.7777777777777778,\"#fb9f3a\"],[0.8888888888888888,\"#fdca26\"],[1.0,\"#f0f921\"]]},\"colorway\":[\"#636efa\",\"#EF553B\",\"#00cc96\",\"#ab63fa\",\"#FFA15A\",\"#19d3f3\",\"#FF6692\",\"#B6E880\",\"#FF97FF\",\"#FECB52\"],\"font\":{\"color\":\"#2a3f5f\"},\"geo\":{\"bgcolor\":\"white\",\"lakecolor\":\"white\",\"landcolor\":\"#E5ECF6\",\"showlakes\":true,\"showland\":true,\"subunitcolor\":\"white\"},\"hoverlabel\":{\"align\":\"left\"},\"hovermode\":\"closest\",\"mapbox\":{\"style\":\"light\"},\"paper_bgcolor\":\"white\",\"plot_bgcolor\":\"#E5ECF6\",\"polar\":{\"angularaxis\":{\"gridcolor\":\"white\",\"linecolor\":\"white\",\"ticks\":\"\"},\"bgcolor\":\"#E5ECF6\",\"radialaxis\":{\"gridcolor\":\"white\",\"linecolor\":\"white\",\"ticks\":\"\"}},\"scene\":{\"xaxis\":{\"backgroundcolor\":\"#E5ECF6\",\"gridcolor\":\"white\",\"gridwidth\":2,\"linecolor\":\"white\",\"showbackground\":true,\"ticks\":\"\",\"zerolinecolor\":\"white\"},\"yaxis\":{\"backgroundcolor\":\"#E5ECF6\",\"gridcolor\":\"white\",\"gridwidth\":2,\"linecolor\":\"white\",\"showbackground\":true,\"ticks\":\"\",\"zerolinecolor\":\"white\"},\"zaxis\":{\"backgroundcolor\":\"#E5ECF6\",\"gridcolor\":\"white\",\"gridwidth\":2,\"linecolor\":\"white\",\"showbackground\":true,\"ticks\":\"\",\"zerolinecolor\":\"white\"}},\"shapedefaults\":{\"line\":{\"color\":\"#2a3f5f\"}},\"ternary\":{\"aaxis\":{\"gridcolor\":\"white\",\"linecolor\":\"white\",\"ticks\":\"\"},\"baxis\":{\"gridcolor\":\"white\",\"linecolor\":\"white\",\"ticks\":\"\"},\"bgcolor\":\"#E5ECF6\",\"caxis\":{\"gridcolor\":\"white\",\"linecolor\":\"white\",\"ticks\":\"\"}},\"title\":{\"x\":0.05},\"xaxis\":{\"automargin\":true,\"gridcolor\":\"white\",\"linecolor\":\"white\",\"ticks\":\"\",\"title\":{\"standoff\":15},\"zerolinecolor\":\"white\",\"zerolinewidth\":2},\"yaxis\":{\"automargin\":true,\"gridcolor\":\"white\",\"linecolor\":\"white\",\"ticks\":\"\",\"title\":{\"standoff\":15},\"zerolinecolor\":\"white\",\"zerolinewidth\":2}}},\"width\":1000,\"xaxis\":{\"anchor\":\"y\",\"domain\":[0.0,1.0],\"title\":{\"text\":\"Launches\"}},\"yaxis\":{\"anchor\":\"x\",\"domain\":[0.0,1.0],\"title\":{\"text\":\"Year\"}}},                        {\"responsive\": true}                    ).then(function(){\n",
       "                            \n",
       "var gd = document.getElementById('ea2cab75-7d29-46f3-b9ce-82593330f948');\n",
       "var x = new MutationObserver(function (mutations, observer) {{\n",
       "        var display = window.getComputedStyle(gd).display;\n",
       "        if (!display || display === 'none') {{\n",
       "            console.log([gd, 'removed!']);\n",
       "            Plotly.purge(gd);\n",
       "            observer.disconnect();\n",
       "        }}\n",
       "}});\n",
       "\n",
       "// Listen for the removal of the full notebook cells\n",
       "var notebookContainer = gd.closest('#notebook-container');\n",
       "if (notebookContainer) {{\n",
       "    x.observe(notebookContainer, {childList: true});\n",
       "}}\n",
       "\n",
       "// Listen for the clearing of the current output cell\n",
       "var outputEl = gd.closest('.output');\n",
       "if (outputEl) {{\n",
       "    x.observe(outputEl, {childList: true});\n",
       "}}\n",
       "\n",
       "                        })                };                });            </script>        </div>"
      ]
     },
     "metadata": {},
     "output_type": "display_data"
    }
   ],
   "source": [
    "## Graph\n",
    "\n",
    "%matplotlib inline\n",
    "\n",
    "\n",
    "h_bar = px.bar(launches_per_year, x=\"Launches\", y=\"Year\", color=\"Month\", orientation=\"h\", width=1000, height=2000 )\n",
    "\n",
    "\n",
    "h_bar.show()"
   ]
  },
  {
   "cell_type": "markdown",
   "metadata": {
    "id": "t-avMIZoa-qh",
    "papermill": {
     "duration": 0.044409,
     "end_time": "2020-10-20T21:34:10.162592",
     "exception": false,
     "start_time": "2020-10-20T21:34:10.118183",
     "status": "completed"
    },
    "tags": []
   },
   "source": [
    "# Launches per Month: Which months are most popular and least popular for launches?\n",
    "\n",
    "Some months have better weather than others. Which time of year seems to be best for space missions?"
   ]
  },
  {
   "cell_type": "code",
   "execution_count": 91,
   "metadata": {
    "colab": {
     "base_uri": "https://localhost:8080/",
     "height": 595
    },
    "executionInfo": {
     "elapsed": 1146,
     "status": "ok",
     "timestamp": 1620632297894,
     "user": {
      "displayName": "fabio alba",
      "photoUrl": "",
      "userId": "06675624622301434407"
     },
     "user_tz": -120
    },
    "id": "zmtp5uBHppFG",
    "outputId": "ad43ba4f-263b-4a75-ac58-8e906959d0c9"
   },
   "outputs": [
    {
     "name": "stderr",
     "output_type": "stream",
     "text": [
      "<ipython-input-91-cb17b7fdf6c3>:4: SettingWithCopyWarning:\n",
      "\n",
      "\n",
      "A value is trying to be set on a copy of a slice from a DataFrame.\n",
      "Try using .loc[row_indexer,col_indexer] = value instead\n",
      "\n",
      "See the caveats in the documentation: https://pandas.pydata.org/pandas-docs/stable/user_guide/indexing.html#returning-a-view-versus-a-copy\n",
      "\n"
     ]
    },
    {
     "data": {
      "text/html": [
       "<div>\n",
       "<style scoped>\n",
       "    .dataframe tbody tr th:only-of-type {\n",
       "        vertical-align: middle;\n",
       "    }\n",
       "\n",
       "    .dataframe tbody tr th {\n",
       "        vertical-align: top;\n",
       "    }\n",
       "\n",
       "    .dataframe thead th {\n",
       "        text-align: right;\n",
       "    }\n",
       "</style>\n",
       "<table border=\"1\" class=\"dataframe\">\n",
       "  <thead>\n",
       "    <tr style=\"text-align: right;\">\n",
       "      <th></th>\n",
       "      <th>Month</th>\n",
       "      <th>Launches</th>\n",
       "    </tr>\n",
       "  </thead>\n",
       "  <tbody>\n",
       "    <tr>\n",
       "      <th>0</th>\n",
       "      <td>1</td>\n",
       "      <td>268</td>\n",
       "    </tr>\n",
       "    <tr>\n",
       "      <th>1</th>\n",
       "      <td>2</td>\n",
       "      <td>336</td>\n",
       "    </tr>\n",
       "    <tr>\n",
       "      <th>2</th>\n",
       "      <td>3</td>\n",
       "      <td>353</td>\n",
       "    </tr>\n",
       "    <tr>\n",
       "      <th>3</th>\n",
       "      <td>4</td>\n",
       "      <td>383</td>\n",
       "    </tr>\n",
       "    <tr>\n",
       "      <th>4</th>\n",
       "      <td>5</td>\n",
       "      <td>326</td>\n",
       "    </tr>\n",
       "    <tr>\n",
       "      <th>5</th>\n",
       "      <td>6</td>\n",
       "      <td>402</td>\n",
       "    </tr>\n",
       "    <tr>\n",
       "      <th>6</th>\n",
       "      <td>7</td>\n",
       "      <td>351</td>\n",
       "    </tr>\n",
       "    <tr>\n",
       "      <th>7</th>\n",
       "      <td>8</td>\n",
       "      <td>373</td>\n",
       "    </tr>\n",
       "    <tr>\n",
       "      <th>8</th>\n",
       "      <td>9</td>\n",
       "      <td>365</td>\n",
       "    </tr>\n",
       "    <tr>\n",
       "      <th>9</th>\n",
       "      <td>10</td>\n",
       "      <td>381</td>\n",
       "    </tr>\n",
       "    <tr>\n",
       "      <th>10</th>\n",
       "      <td>11</td>\n",
       "      <td>335</td>\n",
       "    </tr>\n",
       "    <tr>\n",
       "      <th>11</th>\n",
       "      <td>12</td>\n",
       "      <td>450</td>\n",
       "    </tr>\n",
       "  </tbody>\n",
       "</table>\n",
       "</div>"
      ],
      "text/plain": [
       "    Month  Launches\n",
       "0       1       268\n",
       "1       2       336\n",
       "2       3       353\n",
       "3       4       383\n",
       "4       5       326\n",
       "5       6       402\n",
       "6       7       351\n",
       "7       8       373\n",
       "8       9       365\n",
       "9      10       381\n",
       "10     11       335\n",
       "11     12       450"
      ]
     },
     "execution_count": 91,
     "metadata": {},
     "output_type": "execute_result"
    }
   ],
   "source": [
    "# Launches per month\n",
    "\n",
    "df_launches_per_month = df_clean\n",
    "df_launches_per_month[\"Month\"] = df_clean[\"Date\"].dt.month\n",
    "launches_per_month = df_launches_per_month.groupby(\"Month\",as_index=False).agg({\"Date\": pd.Series.count})\n",
    "launches_per_month.rename(columns={\"Date\": \"Launches\"}, inplace=True)\n",
    "\n",
    "launches_per_month"
   ]
  },
  {
   "cell_type": "code",
   "execution_count": 92,
   "metadata": {
    "colab": {
     "base_uri": "https://localhost:8080/",
     "height": 436
    },
    "executionInfo": {
     "elapsed": 1404,
     "status": "ok",
     "timestamp": 1620632298162,
     "user": {
      "displayName": "fabio alba",
      "photoUrl": "",
      "userId": "06675624622301434407"
     },
     "user_tz": -120
    },
    "id": "fnk2m_cpppJo",
    "outputId": "580777ef-5874-4f0b-d9cc-bda78b87aa0f"
   },
   "outputs": [
    {
     "data": {
      "text/plain": [
       "[<matplotlib.lines.Line2D at 0x162a6cb6e80>]"
      ]
     },
     "execution_count": 92,
     "metadata": {},
     "output_type": "execute_result"
    },
    {
     "data": {
      "image/png": "[encoded data removed]",
      "text/plain": [
       "<Figure size 1080x432 with 1 Axes>"
      ]
     },
     "metadata": {
      "needs_background": "light"
     },
     "output_type": "display_data"
    }
   ],
   "source": [
    "## Chart\n",
    "\n",
    "%matplotlib inline\n",
    "\n",
    "\n",
    "\n",
    "plt.figure(figsize=(15, 6))\n",
    "plt.title(\"\\nLaunches per month\", fontsize=20)\n",
    "\n",
    "plt.ylim(250, launches_per_month[\"Launches\"].max()*1.1)\n",
    "plt.xlim(1, 12)\n",
    "\n",
    "plt.plot(launches_per_month[\"Month\"],\n",
    "         launches_per_month[\"Launches\"])\n"
   ]
  },
  {
   "cell_type": "markdown",
   "metadata": {
    "id": "dPQ_N_sfa-qo",
    "papermill": {
     "duration": 0.067915,
     "end_time": "2020-10-20T21:34:11.122539",
     "exception": false,
     "start_time": "2020-10-20T21:34:11.054624",
     "status": "completed"
    },
    "tags": []
   },
   "source": [
    "# How has the Launch Price varied Over Time? \n",
    "\n",
    "Create a line chart that shows the average price of rocket launches over time. "
   ]
  },
  {
   "cell_type": "code",
   "execution_count": 93,
   "metadata": {
    "colab": {
     "base_uri": "https://localhost:8080/",
     "height": 375
    },
    "executionInfo": {
     "elapsed": 498,
     "status": "ok",
     "timestamp": 1620632301127,
     "user": {
      "displayName": "fabio alba",
      "photoUrl": "",
      "userId": "06675624622301434407"
     },
     "user_tz": -120
    },
    "id": "hFc-2M5-qCrv",
    "outputId": "a66e90e7-38f1-46de-9859-9a6cb7b13068"
   },
   "outputs": [
    {
     "name": "stderr",
     "output_type": "stream",
     "text": [
      "<ipython-input-93-03fe7c367ec1>:3: SettingWithCopyWarning:\n",
      "\n",
      "\n",
      "A value is trying to be set on a copy of a slice from a DataFrame.\n",
      "Try using .loc[row_indexer,col_indexer] = value instead\n",
      "\n",
      "See the caveats in the documentation: https://pandas.pydata.org/pandas-docs/stable/user_guide/indexing.html#returning-a-view-versus-a-copy\n",
      "\n"
     ]
    },
    {
     "data": {
      "text/html": [
       "<div>\n",
       "<style scoped>\n",
       "    .dataframe tbody tr th:only-of-type {\n",
       "        vertical-align: middle;\n",
       "    }\n",
       "\n",
       "    .dataframe tbody tr th {\n",
       "        vertical-align: top;\n",
       "    }\n",
       "\n",
       "    .dataframe thead th {\n",
       "        text-align: right;\n",
       "    }\n",
       "</style>\n",
       "<table border=\"1\" class=\"dataframe\">\n",
       "  <thead>\n",
       "    <tr style=\"text-align: right;\">\n",
       "      <th></th>\n",
       "      <th>Year</th>\n",
       "      <th>Price</th>\n",
       "      <th>Launches</th>\n",
       "      <th>Price_per_launch</th>\n",
       "    </tr>\n",
       "  </thead>\n",
       "  <tbody>\n",
       "    <tr>\n",
       "      <th>0</th>\n",
       "      <td>1964</td>\n",
       "      <td>126.46</td>\n",
       "      <td>2</td>\n",
       "      <td>63.23</td>\n",
       "    </tr>\n",
       "    <tr>\n",
       "      <th>1</th>\n",
       "      <td>1965</td>\n",
       "      <td>126.46</td>\n",
       "      <td>2</td>\n",
       "      <td>63.23</td>\n",
       "    </tr>\n",
       "    <tr>\n",
       "      <th>2</th>\n",
       "      <td>1966</td>\n",
       "      <td>177.00</td>\n",
       "      <td>3</td>\n",
       "      <td>59.00</td>\n",
       "    </tr>\n",
       "    <tr>\n",
       "      <th>3</th>\n",
       "      <td>1967</td>\n",
       "      <td>1,573.00</td>\n",
       "      <td>8</td>\n",
       "      <td>196.62</td>\n",
       "    </tr>\n",
       "    <tr>\n",
       "      <th>4</th>\n",
       "      <td>1968</td>\n",
       "      <td>2,792.00</td>\n",
       "      <td>10</td>\n",
       "      <td>279.20</td>\n",
       "    </tr>\n",
       "  </tbody>\n",
       "</table>\n",
       "</div>"
      ],
      "text/plain": [
       "   Year    Price  Launches  Price_per_launch\n",
       "0  1964   126.46         2             63.23\n",
       "1  1965   126.46         2             63.23\n",
       "2  1966   177.00         3             59.00\n",
       "3  1967 1,573.00         8            196.62\n",
       "4  1968 2,792.00        10            279.20"
      ]
     },
     "execution_count": 93,
     "metadata": {},
     "output_type": "execute_result"
    }
   ],
   "source": [
    "## Dataframe launch cost over time\n",
    "\n",
    "df_price[\"Year\"] = df_price[\"Date\"].dt.year \n",
    "cost_over_time = df_price.groupby([\"Year\"], as_index=False).agg({\"Price\": pd.Series.sum, \"Date\": pd.Series.count})\n",
    "cost_over_time.rename(columns={\"Date\": \"Launches\"}, inplace=True)\n",
    "cost_over_time[\"Price_per_launch\"] = cost_over_time[\"Price\"] / cost_over_time[\"Launches\"]\n",
    "cost_over_time.head()"
   ]
  },
  {
   "cell_type": "code",
   "execution_count": 94,
   "metadata": {
    "colab": {
     "base_uri": "https://localhost:8080/",
     "height": 634
    },
    "executionInfo": {
     "elapsed": 1304,
     "status": "ok",
     "timestamp": 1620632301941,
     "user": {
      "displayName": "fabio alba",
      "photoUrl": "",
      "userId": "06675624622301434407"
     },
     "user_tz": -120
    },
    "id": "ggYFiAsEqC6J",
    "outputId": "5266f2b7-12e3-4a4f-cb6d-c66515e134e1"
   },
   "outputs": [
    {
     "data": {
      "image/png": "[encoded data removed]",
      "text/plain": [
       "<Figure size 864x720 with 1 Axes>"
      ]
     },
     "metadata": {
      "needs_background": "light"
     },
     "output_type": "display_data"
    }
   ],
   "source": [
    "## Chart\n",
    "\n",
    "%matplotlib inline\n",
    "\n",
    "\n",
    "\n",
    "plt.figure(figsize=(12, 10))\n",
    "plt.title(\"\\nLaunch Price varied Over Time\", fontsize=20)\n",
    "plt.xlim(cost_over_time[\"Year\"].min(), cost_over_time[\"Year\"].max())\n",
    "\n",
    "chart = plt.plot(cost_over_time[\"Year\"],\n",
    "                 cost_over_time[\"Price_per_launch\"])\n",
    "\n"
   ]
  },
  {
   "cell_type": "markdown",
   "metadata": {
    "id": "8OYrWyiOa-qs",
    "papermill": {
     "duration": 0.047152,
     "end_time": "2020-10-20T21:34:11.681371",
     "exception": false,
     "start_time": "2020-10-20T21:34:11.634219",
     "status": "completed"
    },
    "tags": []
   },
   "source": [
    "# Investigate the Number of Launches over Time by the Top 10 Organisations. \n",
    "\n",
    "How has the dominance of launches changed over time between the different players? "
   ]
  },
  {
   "cell_type": "code",
   "execution_count": 95,
   "metadata": {
    "colab": {
     "base_uri": "https://localhost:8080/",
     "height": 206
    },
    "executionInfo": {
     "elapsed": 389,
     "status": "ok",
     "timestamp": 1620632304221,
     "user": {
      "displayName": "fabio alba",
      "photoUrl": "",
      "userId": "06675624622301434407"
     },
     "user_tz": -120
    },
    "id": "RcsrPPpAqVFj",
    "outputId": "68e11d5d-2f63-4547-f53f-8983a137c491"
   },
   "outputs": [
    {
     "data": {
      "text/html": [
       "<div>\n",
       "<style scoped>\n",
       "    .dataframe tbody tr th:only-of-type {\n",
       "        vertical-align: middle;\n",
       "    }\n",
       "\n",
       "    .dataframe tbody tr th {\n",
       "        vertical-align: top;\n",
       "    }\n",
       "\n",
       "    .dataframe thead th {\n",
       "        text-align: right;\n",
       "    }\n",
       "</style>\n",
       "<table border=\"1\" class=\"dataframe\">\n",
       "  <thead>\n",
       "    <tr style=\"text-align: right;\">\n",
       "      <th></th>\n",
       "      <th>Organisation</th>\n",
       "      <th>Year</th>\n",
       "      <th>Tot_launches</th>\n",
       "    </tr>\n",
       "  </thead>\n",
       "  <tbody>\n",
       "    <tr>\n",
       "      <th>0</th>\n",
       "      <td>AEB</td>\n",
       "      <td>1997</td>\n",
       "      <td>1</td>\n",
       "    </tr>\n",
       "    <tr>\n",
       "      <th>1</th>\n",
       "      <td>AEB</td>\n",
       "      <td>1999</td>\n",
       "      <td>1</td>\n",
       "    </tr>\n",
       "    <tr>\n",
       "      <th>2</th>\n",
       "      <td>AEB</td>\n",
       "      <td>2003</td>\n",
       "      <td>1</td>\n",
       "    </tr>\n",
       "    <tr>\n",
       "      <th>3</th>\n",
       "      <td>AMBA</td>\n",
       "      <td>1958</td>\n",
       "      <td>7</td>\n",
       "    </tr>\n",
       "    <tr>\n",
       "      <th>4</th>\n",
       "      <td>AMBA</td>\n",
       "      <td>1967</td>\n",
       "      <td>1</td>\n",
       "    </tr>\n",
       "  </tbody>\n",
       "</table>\n",
       "</div>"
      ],
      "text/plain": [
       "  Organisation  Year  Tot_launches\n",
       "0          AEB  1997             1\n",
       "1          AEB  1999             1\n",
       "2          AEB  2003             1\n",
       "3         AMBA  1958             7\n",
       "4         AMBA  1967             1"
      ]
     },
     "execution_count": 95,
     "metadata": {},
     "output_type": "execute_result"
    }
   ],
   "source": [
    "# Organisation launches year by year\n",
    "\n",
    "%matplotlib inline\n",
    "\n",
    "\n",
    "org_launches = df_clean.groupby([\"Organisation\", \"Year\"], as_index=False).agg({\"Date\": pd.Series.count})\n",
    "org_launches.rename(columns={\"Date\": \"Tot_launches\"}, inplace=True) \n",
    "\n",
    "org_launches.head()\n"
   ]
  },
  {
   "cell_type": "code",
   "execution_count": 96,
   "metadata": {
    "colab": {
     "base_uri": "https://localhost:8080/",
     "height": 363
    },
    "executionInfo": {
     "elapsed": 653,
     "status": "ok",
     "timestamp": 1620632827604,
     "user": {
      "displayName": "fabio alba",
      "photoUrl": "",
      "userId": "06675624622301434407"
     },
     "user_tz": -120
    },
    "id": "1IgfafiyqWEe",
    "outputId": "bb428320-da11-43fe-8187-fda134bbabb9"
   },
   "outputs": [
    {
     "data": {
      "text/html": [
       "<div>\n",
       "<style scoped>\n",
       "    .dataframe tbody tr th:only-of-type {\n",
       "        vertical-align: middle;\n",
       "    }\n",
       "\n",
       "    .dataframe tbody tr th {\n",
       "        vertical-align: top;\n",
       "    }\n",
       "\n",
       "    .dataframe thead th {\n",
       "        text-align: right;\n",
       "    }\n",
       "</style>\n",
       "<table border=\"1\" class=\"dataframe\">\n",
       "  <thead>\n",
       "    <tr style=\"text-align: right;\">\n",
       "      <th></th>\n",
       "      <th>Organisation</th>\n",
       "      <th>Tot_org_launches</th>\n",
       "    </tr>\n",
       "  </thead>\n",
       "  <tbody>\n",
       "    <tr>\n",
       "      <th>40</th>\n",
       "      <td>RVSN USSR</td>\n",
       "      <td>1777</td>\n",
       "    </tr>\n",
       "    <tr>\n",
       "      <th>3</th>\n",
       "      <td>Arianespace</td>\n",
       "      <td>279</td>\n",
       "    </tr>\n",
       "    <tr>\n",
       "      <th>17</th>\n",
       "      <td>General Dynamics</td>\n",
       "      <td>251</td>\n",
       "    </tr>\n",
       "    <tr>\n",
       "      <th>7</th>\n",
       "      <td>CASC</td>\n",
       "      <td>250</td>\n",
       "    </tr>\n",
       "    <tr>\n",
       "      <th>35</th>\n",
       "      <td>NASA</td>\n",
       "      <td>203</td>\n",
       "    </tr>\n",
       "    <tr>\n",
       "      <th>52</th>\n",
       "      <td>VKS RF</td>\n",
       "      <td>201</td>\n",
       "    </tr>\n",
       "    <tr>\n",
       "      <th>49</th>\n",
       "      <td>US Air Force</td>\n",
       "      <td>161</td>\n",
       "    </tr>\n",
       "    <tr>\n",
       "      <th>48</th>\n",
       "      <td>ULA</td>\n",
       "      <td>140</td>\n",
       "    </tr>\n",
       "    <tr>\n",
       "      <th>6</th>\n",
       "      <td>Boeing</td>\n",
       "      <td>136</td>\n",
       "    </tr>\n",
       "    <tr>\n",
       "      <th>34</th>\n",
       "      <td>Martin Marietta</td>\n",
       "      <td>114</td>\n",
       "    </tr>\n",
       "  </tbody>\n",
       "</table>\n",
       "</div>"
      ],
      "text/plain": [
       "        Organisation  Tot_org_launches\n",
       "40         RVSN USSR              1777\n",
       "3        Arianespace               279\n",
       "17  General Dynamics               251\n",
       "7               CASC               250\n",
       "35              NASA               203\n",
       "52            VKS RF               201\n",
       "49      US Air Force               161\n",
       "48               ULA               140\n",
       "6             Boeing               136\n",
       "34   Martin Marietta               114"
      ]
     },
     "execution_count": 96,
     "metadata": {},
     "output_type": "execute_result"
    }
   ],
   "source": [
    "## Top 10 organisations by lauches\n",
    "\n",
    "\n",
    "tot_org_launches = df_clean.groupby([\"Organisation\"], as_index=False).agg({\"Date\": pd.Series.count})\n",
    "tot_org_launches = tot_org_launches.sort_values(\"Date\", ascending=False)\n",
    "tot_org_launches.rename(columns={\"Date\": \"Tot_org_launches\"}, inplace=True)\n",
    "\n",
    "\n",
    "top10_org = tot_org_launches[:10]\n",
    "top10_org.head(10)\n",
    "\n"
   ]
  },
  {
   "cell_type": "markdown",
   "metadata": {
    "id": "6Cm8_ch6a-q7",
    "papermill": {
     "duration": 0.052399,
     "end_time": "2020-10-20T21:34:13.756781",
     "exception": false,
     "start_time": "2020-10-20T21:34:13.704382",
     "status": "completed"
    },
    "tags": []
   },
   "source": [
    "# Cold War Space Race: USA vs USSR\n",
    "\n",
    "The cold war lasted from the start of the dataset up until 1991. "
   ]
  },
  {
   "cell_type": "code",
   "execution_count": 97,
   "metadata": {
    "colab": {
     "base_uri": "https://localhost:8080/"
    },
    "executionInfo": {
     "elapsed": 637,
     "status": "ok",
     "timestamp": 1620632827606,
     "user": {
      "displayName": "fabio alba",
      "photoUrl": "",
      "userId": "06675624622301434407"
     },
     "user_tz": -120
    },
    "id": "AcE_U8csrICL",
    "outputId": "0e171ace-c565-4373-c76a-36f12828100e"
   },
   "outputs": [
    {
     "name": "stdout",
     "output_type": "stream",
     "text": [
      "number of USA launches during Cold War: 644\n",
      "number of URSS launches during Cold War: 1741\n"
     ]
    }
   ],
   "source": [
    "## USA vs URSS\n",
    "\n",
    "\n",
    "df_cold_war_usa = df_clean.loc[(df_clean[\"Nation\"] == \"USA\")&(df_clean[\"Year\"] < 1991)]\n",
    "print(f\"number of USA launches during Cold War: {len(df_cold_war_usa)}\")\n",
    "\n",
    "df_cold_war_rus = df_clean.loc[(df_clean[\"Nation\"] == \"Russian Federation\")&(df_clean[\"Year\"] < 1991)]\n",
    "print(f\"number of URSS launches during Cold War: {len(df_cold_war_rus)}\")\n",
    "\n"
   ]
  },
  {
   "cell_type": "code",
   "execution_count": 98,
   "metadata": {
    "id": "cOe_t4OmrHr9"
   },
   "outputs": [],
   "source": [
    "# df_cold_war = pd.concat([df_cold_war_usa, df_cold_war_urss])\n",
    "# df_cold_war.sample(10)\n",
    "\n",
    "# # CUT THE DF\n",
    "# df_cold_war.drop([\"Organisation\", \"Location\", \"Detail\", \"Rocket_Status\", \"ISO\"], inplace=True, axis=1)\n",
    "# df_cold_war[\"Cold_War_block\"] = np.where(df_cold_war[\"Nation\"] != \"USA\", \"URSS\", \"USA\")\n"
   ]
  },
  {
   "cell_type": "markdown",
   "metadata": {
    "id": "Os-3A5vLa-q9",
    "papermill": {
     "duration": 0.054318,
     "end_time": "2020-10-20T21:34:14.089604",
     "exception": false,
     "start_time": "2020-10-20T21:34:14.035286",
     "status": "completed"
    },
    "tags": []
   },
   "source": [
    "## Create a Plotly Pie Chart comparing the total number of launches of the USSR and the USA\n",
    "\n",
    "Hint: Remember to include former Soviet Republics like Kazakhstan when analysing the total number of launches. "
   ]
  },
  {
   "cell_type": "code",
   "execution_count": 99,
   "metadata": {
    "colab": {
     "base_uri": "https://localhost:8080/",
     "height": 542
    },
    "executionInfo": {
     "elapsed": 1027,
     "status": "ok",
     "timestamp": 1620632828013,
     "user": {
      "displayName": "fabio alba",
      "photoUrl": "",
      "userId": "06675624622301434407"
     },
     "user_tz": -120
    },
    "id": "1irc6_W9rD59",
    "outputId": "0a7dda46-b268-43ad-c3d2-0ab97badcf97"
   },
   "outputs": [
    {
     "data": {
      "application/vnd.plotly.v1+json": {
       "config": {
        "plotlyServerURL": "https://plot.ly"
       },
       "data": [
        {
         "domain": {
          "x": [
           0,
           1
          ],
          "y": [
           0,
           1
          ]
         },
         "hovertemplate": "<b>%{hovertext}</b><br><br>label=%{label}<br>value=%{value}<extra></extra>",
         "hovertext": [
          [
           "USA"
          ],
          [
           "Russian Federation"
          ]
         ],
         "labels": [
          [
           "USA"
          ],
          [
           "Russian Federation"
          ]
         ],
         "legendgroup": "",
         "name": "",
         "showlegend": true,
         "textinfo": "percent+label",
         "textposition": "inside",
         "title": {
          "text": "USA vs URSS - total launches during Cold War"
         },
         "type": "pie",
         "values": [
          644,
          1741
         ]
        }
       ],
       "layout": {
        "legend": {
         "tracegroupgap": 0
        },
        "margin": {
         "t": 60
        },
        "template": {
         "data": {
          "bar": [
           {
            "error_x": {
             "color": "#2a3f5f"
            },
            "error_y": {
             "color": "#2a3f5f"
            },
            "marker": {
             "line": {
              "color": "#E5ECF6",
              "width": 0.5
             },
             "pattern": {
              "fillmode": "overlay",
              "size": 10,
              "solidity": 0.2
             }
            },
            "type": "bar"
           }
          ],
          "barpolar": [
           {
            "marker": {
             "line": {
              "color": "#E5ECF6",
              "width": 0.5
             },
             "pattern": {
              "fillmode": "overlay",
              "size": 10,
              "solidity": 0.2
             }
            },
            "type": "barpolar"
           }
          ],
          "carpet": [
           {
            "aaxis": {
             "endlinecolor": "#2a3f5f",
             "gridcolor": "white",
             "linecolor": "white",
             "minorgridcolor": "white",
             "startlinecolor": "#2a3f5f"
            },
            "baxis": {
             "endlinecolor": "#2a3f5f",
             "gridcolor": "white",
             "linecolor": "white",
             "minorgridcolor": "white",
             "startlinecolor": "#2a3f5f"
            },
            "type": "carpet"
           }
          ],
          "choropleth": [
           {
            "colorbar": {
             "outlinewidth": 0,
             "ticks": ""
            },
            "type": "choropleth"
           }
          ],
          "contour": [
           {
            "colorbar": {
             "outlinewidth": 0,
             "ticks": ""
            },
            "colorscale": [
             [
              0,
              "#0d0887"
             ],
             [
              0.1111111111111111,
              "#46039f"
             ],
             [
              0.2222222222222222,
              "#7201a8"
             ],
             [
              0.3333333333333333,
              "#9c179e"
             ],
             [
              0.4444444444444444,
              "#bd3786"
             ],
             [
              0.5555555555555556,
              "#d8576b"
             ],
             [
              0.6666666666666666,
              "#ed7953"
             ],
             [
              0.7777777777777778,
              "#fb9f3a"
             ],
             [
              0.8888888888888888,
              "#fdca26"
             ],
             [
              1,
              "#f0f921"
             ]
            ],
            "type": "contour"
           }
          ],
          "contourcarpet": [
           {
            "colorbar": {
             "outlinewidth": 0,
             "ticks": ""
            },
            "type": "contourcarpet"
           }
          ],
          "heatmap": [
           {
            "colorbar": {
             "outlinewidth": 0,
             "ticks": ""
            },
            "colorscale": [
             [
              0,
              "#0d0887"
             ],
             [
              0.1111111111111111,
              "#46039f"
             ],
             [
              0.2222222222222222,
              "#7201a8"
             ],
             [
              0.3333333333333333,
              "#9c179e"
             ],
             [
              0.4444444444444444,
              "#bd3786"
             ],
             [
              0.5555555555555556,
              "#d8576b"
             ],
             [
              0.6666666666666666,
              "#ed7953"
             ],
             [
              0.7777777777777778,
              "#fb9f3a"
             ],
             [
              0.8888888888888888,
              "#fdca26"
             ],
             [
              1,
              "#f0f921"
             ]
            ],
            "type": "heatmap"
           }
          ],
          "heatmapgl": [
           {
            "colorbar": {
             "outlinewidth": 0,
             "ticks": ""
            },
            "colorscale": [
             [
              0,
              "#0d0887"
             ],
             [
              0.1111111111111111,
              "#46039f"
             ],
             [
              0.2222222222222222,
              "#7201a8"
             ],
             [
              0.3333333333333333,
              "#9c179e"
             ],
             [
              0.4444444444444444,
              "#bd3786"
             ],
             [
              0.5555555555555556,
              "#d8576b"
             ],
             [
              0.6666666666666666,
              "#ed7953"
             ],
             [
              0.7777777777777778,
              "#fb9f3a"
             ],
             [
              0.8888888888888888,
              "#fdca26"
             ],
             [
              1,
              "#f0f921"
             ]
            ],
            "type": "heatmapgl"
           }
          ],
          "histogram": [
           {
            "marker": {
             "pattern": {
              "fillmode": "overlay",
              "size": 10,
              "solidity": 0.2
             }
            },
            "type": "histogram"
           }
          ],
          "histogram2d": [
           {
            "colorbar": {
             "outlinewidth": 0,
             "ticks": ""
            },
            "colorscale": [
             [
              0,
              "#0d0887"
             ],
             [
              0.1111111111111111,
              "#46039f"
             ],
             [
              0.2222222222222222,
              "#7201a8"
             ],
             [
              0.3333333333333333,
              "#9c179e"
             ],
             [
              0.4444444444444444,
              "#bd3786"
             ],
             [
              0.5555555555555556,
              "#d8576b"
             ],
             [
              0.6666666666666666,
              "#ed7953"
             ],
             [
              0.7777777777777778,
              "#fb9f3a"
             ],
             [
              0.8888888888888888,
              "#fdca26"
             ],
             [
              1,
              "#f0f921"
             ]
            ],
            "type": "histogram2d"
           }
          ],
          "histogram2dcontour": [
           {
            "colorbar": {
             "outlinewidth": 0,
             "ticks": ""
            },
            "colorscale": [
             [
              0,
              "#0d0887"
             ],
             [
              0.1111111111111111,
              "#46039f"
             ],
             [
              0.2222222222222222,
              "#7201a8"
             ],
             [
              0.3333333333333333,
              "#9c179e"
             ],
             [
              0.4444444444444444,
              "#bd3786"
             ],
             [
              0.5555555555555556,
              "#d8576b"
             ],
             [
              0.6666666666666666,
              "#ed7953"
             ],
             [
              0.7777777777777778,
              "#fb9f3a"
             ],
             [
              0.8888888888888888,
              "#fdca26"
             ],
             [
              1,
              "#f0f921"
             ]
            ],
            "type": "histogram2dcontour"
           }
          ],
          "mesh3d": [
           {
            "colorbar": {
             "outlinewidth": 0,
             "ticks": ""
            },
            "type": "mesh3d"
           }
          ],
          "parcoords": [
           {
            "line": {
             "colorbar": {
              "outlinewidth": 0,
              "ticks": ""
             }
            },
            "type": "parcoords"
           }
          ],
          "pie": [
           {
            "automargin": true,
            "type": "pie"
           }
          ],
          "scatter": [
           {
            "marker": {
             "colorbar": {
              "outlinewidth": 0,
              "ticks": ""
             }
            },
            "type": "scatter"
           }
          ],
          "scatter3d": [
           {
            "line": {
             "colorbar": {
              "outlinewidth": 0,
              "ticks": ""
             }
            },
            "marker": {
             "colorbar": {
              "outlinewidth": 0,
              "ticks": ""
             }
            },
            "type": "scatter3d"
           }
          ],
          "scattercarpet": [
           {
            "marker": {
             "colorbar": {
              "outlinewidth": 0,
              "ticks": ""
             }
            },
            "type": "scattercarpet"
           }
          ],
          "scattergeo": [
           {
            "marker": {
             "colorbar": {
              "outlinewidth": 0,
              "ticks": ""
             }
            },
            "type": "scattergeo"
           }
          ],
          "scattergl": [
           {
            "marker": {
             "colorbar": {
              "outlinewidth": 0,
              "ticks": ""
             }
            },
            "type": "scattergl"
           }
          ],
          "scattermapbox": [
           {
            "marker": {
             "colorbar": {
              "outlinewidth": 0,
              "ticks": ""
             }
            },
            "type": "scattermapbox"
           }
          ],
          "scatterpolar": [
           {
            "marker": {
             "colorbar": {
              "outlinewidth": 0,
              "ticks": ""
             }
            },
            "type": "scatterpolar"
           }
          ],
          "scatterpolargl": [
           {
            "marker": {
             "colorbar": {
              "outlinewidth": 0,
              "ticks": ""
             }
            },
            "type": "scatterpolargl"
           }
          ],
          "scatterternary": [
           {
            "marker": {
             "colorbar": {
              "outlinewidth": 0,
              "ticks": ""
             }
            },
            "type": "scatterternary"
           }
          ],
          "surface": [
           {
            "colorbar": {
             "outlinewidth": 0,
             "ticks": ""
            },
            "colorscale": [
             [
              0,
              "#0d0887"
             ],
             [
              0.1111111111111111,
              "#46039f"
             ],
             [
              0.2222222222222222,
              "#7201a8"
             ],
             [
              0.3333333333333333,
              "#9c179e"
             ],
             [
              0.4444444444444444,
              "#bd3786"
             ],
             [
              0.5555555555555556,
              "#d8576b"
             ],
             [
              0.6666666666666666,
              "#ed7953"
             ],
             [
              0.7777777777777778,
              "#fb9f3a"
             ],
             [
              0.8888888888888888,
              "#fdca26"
             ],
             [
              1,
              "#f0f921"
             ]
            ],
            "type": "surface"
           }
          ],
          "table": [
           {
            "cells": {
             "fill": {
              "color": "#EBF0F8"
             },
             "line": {
              "color": "white"
             }
            },
            "header": {
             "fill": {
              "color": "#C8D4E3"
             },
             "line": {
              "color": "white"
             }
            },
            "type": "table"
           }
          ]
         },
         "layout": {
          "annotationdefaults": {
           "arrowcolor": "#2a3f5f",
           "arrowhead": 0,
           "arrowwidth": 1
          },
          "autotypenumbers": "strict",
          "coloraxis": {
           "colorbar": {
            "outlinewidth": 0,
            "ticks": ""
           }
          },
          "colorscale": {
           "diverging": [
            [
             0,
             "#8e0152"
            ],
            [
             0.1,
             "#c51b7d"
            ],
            [
             0.2,
             "#de77ae"
            ],
            [
             0.3,
             "#f1b6da"
            ],
            [
             0.4,
             "#fde0ef"
            ],
            [
             0.5,
             "#f7f7f7"
            ],
            [
             0.6,
             "#e6f5d0"
            ],
            [
             0.7,
             "#b8e186"
            ],
            [
             0.8,
             "#7fbc41"
            ],
            [
             0.9,
             "#4d9221"
            ],
            [
             1,
             "#276419"
            ]
           ],
           "sequential": [
            [
             0,
             "#0d0887"
            ],
            [
             0.1111111111111111,
             "#46039f"
            ],
            [
             0.2222222222222222,
             "#7201a8"
            ],
            [
             0.3333333333333333,
             "#9c179e"
            ],
            [
             0.4444444444444444,
             "#bd3786"
            ],
            [
             0.5555555555555556,
             "#d8576b"
            ],
            [
             0.6666666666666666,
             "#ed7953"
            ],
            [
             0.7777777777777778,
             "#fb9f3a"
            ],
            [
             0.8888888888888888,
             "#fdca26"
            ],
            [
             1,
             "#f0f921"
            ]
           ],
           "sequentialminus": [
            [
             0,
             "#0d0887"
            ],
            [
             0.1111111111111111,
             "#46039f"
            ],
            [
             0.2222222222222222,
             "#7201a8"
            ],
            [
             0.3333333333333333,
             "#9c179e"
            ],
            [
             0.4444444444444444,
             "#bd3786"
            ],
            [
             0.5555555555555556,
             "#d8576b"
            ],
            [
             0.6666666666666666,
             "#ed7953"
            ],
            [
             0.7777777777777778,
             "#fb9f3a"
            ],
            [
             0.8888888888888888,
             "#fdca26"
            ],
            [
             1,
             "#f0f921"
            ]
           ]
          },
          "colorway": [
           "#636efa",
           "#EF553B",
           "#00cc96",
           "#ab63fa",
           "#FFA15A",
           "#19d3f3",
           "#FF6692",
           "#B6E880",
           "#FF97FF",
           "#FECB52"
          ],
          "font": {
           "color": "#2a3f5f"
          },
          "geo": {
           "bgcolor": "white",
           "lakecolor": "white",
           "landcolor": "#E5ECF6",
           "showlakes": true,
           "showland": true,
           "subunitcolor": "white"
          },
          "hoverlabel": {
           "align": "left"
          },
          "hovermode": "closest",
          "mapbox": {
           "style": "light"
          },
          "paper_bgcolor": "white",
          "plot_bgcolor": "#E5ECF6",
          "polar": {
           "angularaxis": {
            "gridcolor": "white",
            "linecolor": "white",
            "ticks": ""
           },
           "bgcolor": "#E5ECF6",
           "radialaxis": {
            "gridcolor": "white",
            "linecolor": "white",
            "ticks": ""
           }
          },
          "scene": {
           "xaxis": {
            "backgroundcolor": "#E5ECF6",
            "gridcolor": "white",
            "gridwidth": 2,
            "linecolor": "white",
            "showbackground": true,
            "ticks": "",
            "zerolinecolor": "white"
           },
           "yaxis": {
            "backgroundcolor": "#E5ECF6",
            "gridcolor": "white",
            "gridwidth": 2,
            "linecolor": "white",
            "showbackground": true,
            "ticks": "",
            "zerolinecolor": "white"
           },
           "zaxis": {
            "backgroundcolor": "#E5ECF6",
            "gridcolor": "white",
            "gridwidth": 2,
            "linecolor": "white",
            "showbackground": true,
            "ticks": "",
            "zerolinecolor": "white"
           }
          },
          "shapedefaults": {
           "line": {
            "color": "#2a3f5f"
           }
          },
          "ternary": {
           "aaxis": {
            "gridcolor": "white",
            "linecolor": "white",
            "ticks": ""
           },
           "baxis": {
            "gridcolor": "white",
            "linecolor": "white",
            "ticks": ""
           },
           "bgcolor": "#E5ECF6",
           "caxis": {
            "gridcolor": "white",
            "linecolor": "white",
            "ticks": ""
           }
          },
          "title": {
           "x": 0.05
          },
          "xaxis": {
           "automargin": true,
           "gridcolor": "white",
           "linecolor": "white",
           "ticks": "",
           "title": {
            "standoff": 15
           },
           "zerolinecolor": "white",
           "zerolinewidth": 2
          },
          "yaxis": {
           "automargin": true,
           "gridcolor": "white",
           "linecolor": "white",
           "ticks": "",
           "title": {
            "standoff": 15
           },
           "zerolinecolor": "white",
           "zerolinewidth": 2
          }
         }
        }
       }
      },
      "text/html": [
       "<div>                            <div id=\"ca28c8b7-fa77-4281-b564-d7dba2b56bab\" class=\"plotly-graph-div\" style=\"height:525px; width:100%;\"></div>            <script type=\"text/javascript\">                require([\"plotly\"], function(Plotly) {                    window.PLOTLYENV=window.PLOTLYENV || {};                                    if (document.getElementById(\"ca28c8b7-fa77-4281-b564-d7dba2b56bab\")) {                    Plotly.newPlot(                        \"ca28c8b7-fa77-4281-b564-d7dba2b56bab\",                        [{\"domain\":{\"x\":[0.0,1.0],\"y\":[0.0,1.0]},\"hovertemplate\":\"<b>%{hovertext}</b><br><br>label=%{label}<br>value=%{value}<extra></extra>\",\"hovertext\":[[\"USA\"],[\"Russian Federation\"]],\"labels\":[[\"USA\"],[\"Russian Federation\"]],\"legendgroup\":\"\",\"name\":\"\",\"showlegend\":true,\"textinfo\":\"percent+label\",\"textposition\":\"inside\",\"title\":{\"text\":\"USA vs URSS - total launches during Cold War\"},\"type\":\"pie\",\"values\":[644,1741]}],                        {\"legend\":{\"tracegroupgap\":0},\"margin\":{\"t\":60},\"template\":{\"data\":{\"bar\":[{\"error_x\":{\"color\":\"#2a3f5f\"},\"error_y\":{\"color\":\"#2a3f5f\"},\"marker\":{\"line\":{\"color\":\"#E5ECF6\",\"width\":0.5},\"pattern\":{\"fillmode\":\"overlay\",\"size\":10,\"solidity\":0.2}},\"type\":\"bar\"}],\"barpolar\":[{\"marker\":{\"line\":{\"color\":\"#E5ECF6\",\"width\":0.5},\"pattern\":{\"fillmode\":\"overlay\",\"size\":10,\"solidity\":0.2}},\"type\":\"barpolar\"}],\"carpet\":[{\"aaxis\":{\"endlinecolor\":\"#2a3f5f\",\"gridcolor\":\"white\",\"linecolor\":\"white\",\"minorgridcolor\":\"white\",\"startlinecolor\":\"#2a3f5f\"},\"baxis\":{\"endlinecolor\":\"#2a3f5f\",\"gridcolor\":\"white\",\"linecolor\":\"white\",\"minorgridcolor\":\"white\",\"startlinecolor\":\"#2a3f5f\"},\"type\":\"carpet\"}],\"choropleth\":[{\"colorbar\":{\"outlinewidth\":0,\"ticks\":\"\"},\"type\":\"choropleth\"}],\"contour\":[{\"colorbar\":{\"outlinewidth\":0,\"ticks\":\"\"},\"colorscale\":[[0.0,\"#0d0887\"],[0.1111111111111111,\"#46039f\"],[0.2222222222222222,\"#7201a8\"],[0.3333333333333333,\"#9c179e\"],[0.4444444444444444,\"#bd3786\"],[0.5555555555555556,\"#d8576b\"],[0.6666666666666666,\"#ed7953\"],[0.7777777777777778,\"#fb9f3a\"],[0.8888888888888888,\"#fdca26\"],[1.0,\"#f0f921\"]],\"type\":\"contour\"}],\"contourcarpet\":[{\"colorbar\":{\"outlinewidth\":0,\"ticks\":\"\"},\"type\":\"contourcarpet\"}],\"heatmap\":[{\"colorbar\":{\"outlinewidth\":0,\"ticks\":\"\"},\"colorscale\":[[0.0,\"#0d0887\"],[0.1111111111111111,\"#46039f\"],[0.2222222222222222,\"#7201a8\"],[0.3333333333333333,\"#9c179e\"],[0.4444444444444444,\"#bd3786\"],[0.5555555555555556,\"#d8576b\"],[0.6666666666666666,\"#ed7953\"],[0.7777777777777778,\"#fb9f3a\"],[0.8888888888888888,\"#fdca26\"],[1.0,\"#f0f921\"]],\"type\":\"heatmap\"}],\"heatmapgl\":[{\"colorbar\":{\"outlinewidth\":0,\"ticks\":\"\"},\"colorscale\":[[0.0,\"#0d0887\"],[0.1111111111111111,\"#46039f\"],[0.2222222222222222,\"#7201a8\"],[0.3333333333333333,\"#9c179e\"],[0.4444444444444444,\"#bd3786\"],[0.5555555555555556,\"#d8576b\"],[0.6666666666666666,\"#ed7953\"],[0.7777777777777778,\"#fb9f3a\"],[0.8888888888888888,\"#fdca26\"],[1.0,\"#f0f921\"]],\"type\":\"heatmapgl\"}],\"histogram\":[{\"marker\":{\"pattern\":{\"fillmode\":\"overlay\",\"size\":10,\"solidity\":0.2}},\"type\":\"histogram\"}],\"histogram2d\":[{\"colorbar\":{\"outlinewidth\":0,\"ticks\":\"\"},\"colorscale\":[[0.0,\"#0d0887\"],[0.1111111111111111,\"#46039f\"],[0.2222222222222222,\"#7201a8\"],[0.3333333333333333,\"#9c179e\"],[0.4444444444444444,\"#bd3786\"],[0.5555555555555556,\"#d8576b\"],[0.6666666666666666,\"#ed7953\"],[0.7777777777777778,\"#fb9f3a\"],[0.8888888888888888,\"#fdca26\"],[1.0,\"#f0f921\"]],\"type\":\"histogram2d\"}],\"histogram2dcontour\":[{\"colorbar\":{\"outlinewidth\":0,\"ticks\":\"\"},\"colorscale\":[[0.0,\"#0d0887\"],[0.1111111111111111,\"#46039f\"],[0.2222222222222222,\"#7201a8\"],[0.3333333333333333,\"#9c179e\"],[0.4444444444444444,\"#bd3786\"],[0.5555555555555556,\"#d8576b\"],[0.6666666666666666,\"#ed7953\"],[0.7777777777777778,\"#fb9f3a\"],[0.8888888888888888,\"#fdca26\"],[1.0,\"#f0f921\"]],\"type\":\"histogram2dcontour\"}],\"mesh3d\":[{\"colorbar\":{\"outlinewidth\":0,\"ticks\":\"\"},\"type\":\"mesh3d\"}],\"parcoords\":[{\"line\":{\"colorbar\":{\"outlinewidth\":0,\"ticks\":\"\"}},\"type\":\"parcoords\"}],\"pie\":[{\"automargin\":true,\"type\":\"pie\"}],\"scatter\":[{\"marker\":{\"colorbar\":{\"outlinewidth\":0,\"ticks\":\"\"}},\"type\":\"scatter\"}],\"scatter3d\":[{\"line\":{\"colorbar\":{\"outlinewidth\":0,\"ticks\":\"\"}},\"marker\":{\"colorbar\":{\"outlinewidth\":0,\"ticks\":\"\"}},\"type\":\"scatter3d\"}],\"scattercarpet\":[{\"marker\":{\"colorbar\":{\"outlinewidth\":0,\"ticks\":\"\"}},\"type\":\"scattercarpet\"}],\"scattergeo\":[{\"marker\":{\"colorbar\":{\"outlinewidth\":0,\"ticks\":\"\"}},\"type\":\"scattergeo\"}],\"scattergl\":[{\"marker\":{\"colorbar\":{\"outlinewidth\":0,\"ticks\":\"\"}},\"type\":\"scattergl\"}],\"scattermapbox\":[{\"marker\":{\"colorbar\":{\"outlinewidth\":0,\"ticks\":\"\"}},\"type\":\"scattermapbox\"}],\"scatterpolar\":[{\"marker\":{\"colorbar\":{\"outlinewidth\":0,\"ticks\":\"\"}},\"type\":\"scatterpolar\"}],\"scatterpolargl\":[{\"marker\":{\"colorbar\":{\"outlinewidth\":0,\"ticks\":\"\"}},\"type\":\"scatterpolargl\"}],\"scatterternary\":[{\"marker\":{\"colorbar\":{\"outlinewidth\":0,\"ticks\":\"\"}},\"type\":\"scatterternary\"}],\"surface\":[{\"colorbar\":{\"outlinewidth\":0,\"ticks\":\"\"},\"colorscale\":[[0.0,\"#0d0887\"],[0.1111111111111111,\"#46039f\"],[0.2222222222222222,\"#7201a8\"],[0.3333333333333333,\"#9c179e\"],[0.4444444444444444,\"#bd3786\"],[0.5555555555555556,\"#d8576b\"],[0.6666666666666666,\"#ed7953\"],[0.7777777777777778,\"#fb9f3a\"],[0.8888888888888888,\"#fdca26\"],[1.0,\"#f0f921\"]],\"type\":\"surface\"}],\"table\":[{\"cells\":{\"fill\":{\"color\":\"#EBF0F8\"},\"line\":{\"color\":\"white\"}},\"header\":{\"fill\":{\"color\":\"#C8D4E3\"},\"line\":{\"color\":\"white\"}},\"type\":\"table\"}]},\"layout\":{\"annotationdefaults\":{\"arrowcolor\":\"#2a3f5f\",\"arrowhead\":0,\"arrowwidth\":1},\"autotypenumbers\":\"strict\",\"coloraxis\":{\"colorbar\":{\"outlinewidth\":0,\"ticks\":\"\"}},\"colorscale\":{\"diverging\":[[0,\"#8e0152\"],[0.1,\"#c51b7d\"],[0.2,\"#de77ae\"],[0.3,\"#f1b6da\"],[0.4,\"#fde0ef\"],[0.5,\"#f7f7f7\"],[0.6,\"#e6f5d0\"],[0.7,\"#b8e186\"],[0.8,\"#7fbc41\"],[0.9,\"#4d9221\"],[1,\"#276419\"]],\"sequential\":[[0.0,\"#0d0887\"],[0.1111111111111111,\"#46039f\"],[0.2222222222222222,\"#7201a8\"],[0.3333333333333333,\"#9c179e\"],[0.4444444444444444,\"#bd3786\"],[0.5555555555555556,\"#d8576b\"],[0.6666666666666666,\"#ed7953\"],[0.7777777777777778,\"#fb9f3a\"],[0.8888888888888888,\"#fdca26\"],[1.0,\"#f0f921\"]],\"sequentialminus\":[[0.0,\"#0d0887\"],[0.1111111111111111,\"#46039f\"],[0.2222222222222222,\"#7201a8\"],[0.3333333333333333,\"#9c179e\"],[0.4444444444444444,\"#bd3786\"],[0.5555555555555556,\"#d8576b\"],[0.6666666666666666,\"#ed7953\"],[0.7777777777777778,\"#fb9f3a\"],[0.8888888888888888,\"#fdca26\"],[1.0,\"#f0f921\"]]},\"colorway\":[\"#636efa\",\"#EF553B\",\"#00cc96\",\"#ab63fa\",\"#FFA15A\",\"#19d3f3\",\"#FF6692\",\"#B6E880\",\"#FF97FF\",\"#FECB52\"],\"font\":{\"color\":\"#2a3f5f\"},\"geo\":{\"bgcolor\":\"white\",\"lakecolor\":\"white\",\"landcolor\":\"#E5ECF6\",\"showlakes\":true,\"showland\":true,\"subunitcolor\":\"white\"},\"hoverlabel\":{\"align\":\"left\"},\"hovermode\":\"closest\",\"mapbox\":{\"style\":\"light\"},\"paper_bgcolor\":\"white\",\"plot_bgcolor\":\"#E5ECF6\",\"polar\":{\"angularaxis\":{\"gridcolor\":\"white\",\"linecolor\":\"white\",\"ticks\":\"\"},\"bgcolor\":\"#E5ECF6\",\"radialaxis\":{\"gridcolor\":\"white\",\"linecolor\":\"white\",\"ticks\":\"\"}},\"scene\":{\"xaxis\":{\"backgroundcolor\":\"#E5ECF6\",\"gridcolor\":\"white\",\"gridwidth\":2,\"linecolor\":\"white\",\"showbackground\":true,\"ticks\":\"\",\"zerolinecolor\":\"white\"},\"yaxis\":{\"backgroundcolor\":\"#E5ECF6\",\"gridcolor\":\"white\",\"gridwidth\":2,\"linecolor\":\"white\",\"showbackground\":true,\"ticks\":\"\",\"zerolinecolor\":\"white\"},\"zaxis\":{\"backgroundcolor\":\"#E5ECF6\",\"gridcolor\":\"white\",\"gridwidth\":2,\"linecolor\":\"white\",\"showbackground\":true,\"ticks\":\"\",\"zerolinecolor\":\"white\"}},\"shapedefaults\":{\"line\":{\"color\":\"#2a3f5f\"}},\"ternary\":{\"aaxis\":{\"gridcolor\":\"white\",\"linecolor\":\"white\",\"ticks\":\"\"},\"baxis\":{\"gridcolor\":\"white\",\"linecolor\":\"white\",\"ticks\":\"\"},\"bgcolor\":\"#E5ECF6\",\"caxis\":{\"gridcolor\":\"white\",\"linecolor\":\"white\",\"ticks\":\"\"}},\"title\":{\"x\":0.05},\"xaxis\":{\"automargin\":true,\"gridcolor\":\"white\",\"linecolor\":\"white\",\"ticks\":\"\",\"title\":{\"standoff\":15},\"zerolinecolor\":\"white\",\"zerolinewidth\":2},\"yaxis\":{\"automargin\":true,\"gridcolor\":\"white\",\"linecolor\":\"white\",\"ticks\":\"\",\"title\":{\"standoff\":15},\"zerolinecolor\":\"white\",\"zerolinewidth\":2}}}},                        {\"responsive\": true}                    ).then(function(){\n",
       "                            \n",
       "var gd = document.getElementById('ca28c8b7-fa77-4281-b564-d7dba2b56bab');\n",
       "var x = new MutationObserver(function (mutations, observer) {{\n",
       "        var display = window.getComputedStyle(gd).display;\n",
       "        if (!display || display === 'none') {{\n",
       "            console.log([gd, 'removed!']);\n",
       "            Plotly.purge(gd);\n",
       "            observer.disconnect();\n",
       "        }}\n",
       "}});\n",
       "\n",
       "// Listen for the removal of the full notebook cells\n",
       "var notebookContainer = gd.closest('#notebook-container');\n",
       "if (notebookContainer) {{\n",
       "    x.observe(notebookContainer, {childList: true});\n",
       "}}\n",
       "\n",
       "// Listen for the clearing of the current output cell\n",
       "var outputEl = gd.closest('.output');\n",
       "if (outputEl) {{\n",
       "    x.observe(outputEl, {childList: true});\n",
       "}}\n",
       "\n",
       "                        })                };                });            </script>        </div>"
      ]
     },
     "metadata": {},
     "output_type": "display_data"
    }
   ],
   "source": [
    "%matplotlib inline\n",
    "\n",
    "\n",
    "the_values = [len(df_cold_war_usa), len(df_cold_war_rus)]\n",
    "the_labels = [df_cold_war_usa[\"Nation\"].unique(), df_cold_war_rus[\"Nation\"].unique()]\n",
    "\n",
    "fig = px.pie(labels=the_labels, \n",
    "             values=the_values,\n",
    "             names=the_labels,\n",
    "             hover_name=the_labels)\n",
    "fig.update_traces(title=\"USA vs URSS - total launches during Cold War\", textposition=\"inside\", textinfo=\"percent+label\")\n",
    "\n",
    "\n",
    "fig.show()"
   ]
  },
  {
   "cell_type": "markdown",
   "metadata": {
    "id": "0C29Zz4xa-rA",
    "papermill": {
     "duration": 0.052921,
     "end_time": "2020-10-20T21:34:14.340085",
     "exception": false,
     "start_time": "2020-10-20T21:34:14.287164",
     "status": "completed"
    },
    "tags": []
   },
   "source": [
    "## Create a Chart that Shows the Total Number of Launches Year-On-Year by the Two Superpowers"
   ]
  },
  {
   "cell_type": "code",
   "execution_count": 100,
   "metadata": {
    "colab": {
     "base_uri": "https://localhost:8080/",
     "height": 423
    },
    "executionInfo": {
     "elapsed": 1025,
     "status": "ok",
     "timestamp": 1620632828015,
     "user": {
      "displayName": "fabio alba",
      "photoUrl": "",
      "userId": "06675624622301434407"
     },
     "user_tz": -120
    },
    "id": "9ISKvOiCrS73",
    "outputId": "c49fc767-b307-49c7-a5e1-0ddb957e92a9"
   },
   "outputs": [
    {
     "data": {
      "text/html": [
       "<div>\n",
       "<style scoped>\n",
       "    .dataframe tbody tr th:only-of-type {\n",
       "        vertical-align: middle;\n",
       "    }\n",
       "\n",
       "    .dataframe tbody tr th {\n",
       "        vertical-align: top;\n",
       "    }\n",
       "\n",
       "    .dataframe thead th {\n",
       "        text-align: right;\n",
       "    }\n",
       "</style>\n",
       "<table border=\"1\" class=\"dataframe\">\n",
       "  <thead>\n",
       "    <tr style=\"text-align: right;\">\n",
       "      <th></th>\n",
       "      <th>Year</th>\n",
       "      <th>Nation</th>\n",
       "      <th>Launches</th>\n",
       "    </tr>\n",
       "  </thead>\n",
       "  <tbody>\n",
       "    <tr>\n",
       "      <th>0</th>\n",
       "      <td>1957</td>\n",
       "      <td>Russian Federation</td>\n",
       "      <td>2</td>\n",
       "    </tr>\n",
       "    <tr>\n",
       "      <th>1</th>\n",
       "      <td>1957</td>\n",
       "      <td>USA</td>\n",
       "      <td>1</td>\n",
       "    </tr>\n",
       "    <tr>\n",
       "      <th>2</th>\n",
       "      <td>1958</td>\n",
       "      <td>Russian Federation</td>\n",
       "      <td>5</td>\n",
       "    </tr>\n",
       "    <tr>\n",
       "      <th>3</th>\n",
       "      <td>1958</td>\n",
       "      <td>USA</td>\n",
       "      <td>23</td>\n",
       "    </tr>\n",
       "    <tr>\n",
       "      <th>4</th>\n",
       "      <td>1959</td>\n",
       "      <td>Russian Federation</td>\n",
       "      <td>4</td>\n",
       "    </tr>\n",
       "    <tr>\n",
       "      <th>...</th>\n",
       "      <td>...</td>\n",
       "      <td>...</td>\n",
       "      <td>...</td>\n",
       "    </tr>\n",
       "    <tr>\n",
       "      <th>123</th>\n",
       "      <td>2018</td>\n",
       "      <td>USA</td>\n",
       "      <td>34</td>\n",
       "    </tr>\n",
       "    <tr>\n",
       "      <th>124</th>\n",
       "      <td>2019</td>\n",
       "      <td>Russian Federation</td>\n",
       "      <td>22</td>\n",
       "    </tr>\n",
       "    <tr>\n",
       "      <th>125</th>\n",
       "      <td>2019</td>\n",
       "      <td>USA</td>\n",
       "      <td>27</td>\n",
       "    </tr>\n",
       "    <tr>\n",
       "      <th>126</th>\n",
       "      <td>2020</td>\n",
       "      <td>Russian Federation</td>\n",
       "      <td>9</td>\n",
       "    </tr>\n",
       "    <tr>\n",
       "      <th>127</th>\n",
       "      <td>2020</td>\n",
       "      <td>USA</td>\n",
       "      <td>21</td>\n",
       "    </tr>\n",
       "  </tbody>\n",
       "</table>\n",
       "<p>128 rows × 3 columns</p>\n",
       "</div>"
      ],
      "text/plain": [
       "     Year              Nation  Launches\n",
       "0    1957  Russian Federation         2\n",
       "1    1957                 USA         1\n",
       "2    1958  Russian Federation         5\n",
       "3    1958                 USA        23\n",
       "4    1959  Russian Federation         4\n",
       "..    ...                 ...       ...\n",
       "123  2018                 USA        34\n",
       "124  2019  Russian Federation        22\n",
       "125  2019                 USA        27\n",
       "126  2020  Russian Federation         9\n",
       "127  2020                 USA        21\n",
       "\n",
       "[128 rows x 3 columns]"
      ]
     },
     "execution_count": 100,
     "metadata": {},
     "output_type": "execute_result"
    }
   ],
   "source": [
    "## Create superpowers' dataframe\n",
    "\n",
    "superpowers = {\"USA\", \"Russian Federation\"}\n",
    "\n",
    "superpowers_df = df_clean[df_clean[\"Nation\"].isin(superpowers)]\n",
    "superpowers_df = superpowers_df.groupby([\"Year\", \"Nation\"], as_index=False).agg({\"Date\": pd.Series.count})\n",
    "superpowers_df.rename(columns={\"Date\": \"Launches\"}, inplace=True)\n",
    "\n",
    "superpowers_df\n",
    "\n"
   ]
  },
  {
   "cell_type": "code",
   "execution_count": 101,
   "metadata": {
    "colab": {
     "base_uri": "https://localhost:8080/",
     "height": 545
    },
    "executionInfo": {
     "elapsed": 1455,
     "status": "ok",
     "timestamp": 1620632828449,
     "user": {
      "displayName": "fabio alba",
      "photoUrl": "",
      "userId": "06675624622301434407"
     },
     "user_tz": -120
    },
    "id": "cCR-ztBG_A9C",
    "outputId": "f9f267d7-84f0-47ba-ab33-7950d9deb391"
   },
   "outputs": [
    {
     "data": {
      "text/plain": [
       "<matplotlib.legend.Legend at 0x162a81ed9d0>"
      ]
     },
     "execution_count": 101,
     "metadata": {},
     "output_type": "execute_result"
    },
    {
     "data": {
      "image/png": "[encoded data removed]",
      "text/plain": [
       "<Figure size 1008x576 with 1 Axes>"
      ]
     },
     "metadata": {
      "needs_background": "light"
     },
     "output_type": "display_data"
    }
   ],
   "source": [
    "## Chart\n",
    "\n",
    "%matplotlib inline\n",
    "\n",
    "\n",
    "\n",
    "usa_launches = superpowers_df[superpowers_df[\"Nation\"] == \"USA\"] \n",
    "russia_launches = superpowers_df[superpowers_df[\"Nation\"] == \"Russian Federation\"]\n",
    "\n",
    "\n",
    "plt.figure(figsize=(14, 8))\n",
    "plt.title(\"\\nUSA vs URSS launches by year\", fontsize=20)\n",
    "plt.grid(\"darklines\")\n",
    "\n",
    "\n",
    "plt.plot(usa_launches[\"Year\"], usa_launches[\"Launches\"], label=\"USA\")\n",
    "plt.plot(russia_launches[\"Year\"], russia_launches[\"Launches\"], label=\"URSS\", color=\"red\")\n",
    "\n",
    "plt.xlim(1957, 2020)\n",
    "plt.legend(fontsize=20)\n",
    "\n"
   ]
  },
  {
   "cell_type": "markdown",
   "metadata": {
    "id": "eWv4iZmra-rE",
    "papermill": {
     "duration": 0.079311,
     "end_time": "2020-10-20T21:34:14.933058",
     "exception": false,
     "start_time": "2020-10-20T21:34:14.853747",
     "status": "completed"
    },
    "tags": []
   },
   "source": [
    "## Chart the Total Number of Mission Failures Year on Year."
   ]
  },
  {
   "cell_type": "code",
   "execution_count": 102,
   "metadata": {
    "colab": {
     "base_uri": "https://localhost:8080/",
     "height": 357
    },
    "executionInfo": {
     "elapsed": 1455,
     "status": "ok",
     "timestamp": 1620632828451,
     "user": {
      "displayName": "fabio alba",
      "photoUrl": "",
      "userId": "06675624622301434407"
     },
     "user_tz": -120
    },
    "id": "I-Zss5-Mre-4",
    "outputId": "401c426c-63d6-4870-a4ae-c4c3ee6e3966"
   },
   "outputs": [
    {
     "name": "stderr",
     "output_type": "stream",
     "text": [
      "C:\\Users\\albaf\\anaconda_python3\\lib\\site-packages\\pandas\\core\\frame.py:4441: SettingWithCopyWarning:\n",
      "\n",
      "\n",
      "A value is trying to be set on a copy of a slice from a DataFrame\n",
      "\n",
      "See the caveats in the documentation: https://pandas.pydata.org/pandas-docs/stable/user_guide/indexing.html#returning-a-view-versus-a-copy\n",
      "\n"
     ]
    },
    {
     "data": {
      "text/html": [
       "<div>\n",
       "<style scoped>\n",
       "    .dataframe tbody tr th:only-of-type {\n",
       "        vertical-align: middle;\n",
       "    }\n",
       "\n",
       "    .dataframe tbody tr th {\n",
       "        vertical-align: top;\n",
       "    }\n",
       "\n",
       "    .dataframe thead th {\n",
       "        text-align: right;\n",
       "    }\n",
       "</style>\n",
       "<table border=\"1\" class=\"dataframe\">\n",
       "  <thead>\n",
       "    <tr style=\"text-align: right;\">\n",
       "      <th></th>\n",
       "      <th>Year</th>\n",
       "      <th>Launch_outcome</th>\n",
       "      <th>Launches</th>\n",
       "    </tr>\n",
       "  </thead>\n",
       "  <tbody>\n",
       "    <tr>\n",
       "      <th>0</th>\n",
       "      <td>1957</td>\n",
       "      <td>failure</td>\n",
       "      <td>1</td>\n",
       "    </tr>\n",
       "    <tr>\n",
       "      <th>2</th>\n",
       "      <td>1958</td>\n",
       "      <td>failure</td>\n",
       "      <td>22</td>\n",
       "    </tr>\n",
       "    <tr>\n",
       "      <th>4</th>\n",
       "      <td>1959</td>\n",
       "      <td>failure</td>\n",
       "      <td>12</td>\n",
       "    </tr>\n",
       "    <tr>\n",
       "      <th>6</th>\n",
       "      <td>1960</td>\n",
       "      <td>failure</td>\n",
       "      <td>20</td>\n",
       "    </tr>\n",
       "    <tr>\n",
       "      <th>8</th>\n",
       "      <td>1961</td>\n",
       "      <td>failure</td>\n",
       "      <td>20</td>\n",
       "    </tr>\n",
       "  </tbody>\n",
       "</table>\n",
       "</div>"
      ],
      "text/plain": [
       "   Year Launch_outcome  Launches\n",
       "0  1957        failure         1\n",
       "2  1958        failure        22\n",
       "4  1959        failure        12\n",
       "6  1960        failure        20\n",
       "8  1961        failure        20"
      ]
     },
     "execution_count": 102,
     "metadata": {},
     "output_type": "execute_result"
    }
   ],
   "source": [
    "## Create failure dataframe\n",
    "\n",
    "df_failures = df_clean.groupby([\"Year\", \"Launch_outcome\"], as_index=False).agg({\"Date\": pd.Series.count})\n",
    "failures_per_year = df_failures.loc[df_failures[\"Launch_outcome\"] == \"failure\"]\n",
    "failures_per_year.rename(columns={\"Date\": \"Launches\"}, inplace=True)\n",
    "failures_per_year.head()"
   ]
  },
  {
   "cell_type": "code",
   "execution_count": 103,
   "metadata": {
    "colab": {
     "base_uri": "https://localhost:8080/",
     "height": 436
    },
    "executionInfo": {
     "elapsed": 2338,
     "status": "ok",
     "timestamp": 1620632829337,
     "user": {
      "displayName": "fabio alba",
      "photoUrl": "",
      "userId": "06675624622301434407"
     },
     "user_tz": -120
    },
    "id": "7Ps9Iq_crfYl",
    "outputId": "893c69d4-6959-4b00-9768-3b7be1c8d582"
   },
   "outputs": [
    {
     "data": {
      "text/plain": [
       "[<matplotlib.lines.Line2D at 0x162a87b6550>]"
      ]
     },
     "execution_count": 103,
     "metadata": {},
     "output_type": "execute_result"
    },
    {
     "data": {
      "image/png": "[encoded data removed]",
      "text/plain": [
       "<Figure size 1080x432 with 1 Axes>"
      ]
     },
     "metadata": {
      "needs_background": "light"
     },
     "output_type": "display_data"
    }
   ],
   "source": [
    "## Chart\n",
    "\n",
    "%matplotlib inline\n",
    "\n",
    "\n",
    "\n",
    "plt.figure(figsize=(15, 6))\n",
    "\n",
    "plt.title(\"\\nMission Failures by Year\", fontsize=20)\n",
    "plt.xlim(1957, 2020)\n",
    "\n",
    "plt.plot(failures_per_year[\"Year\"], failures_per_year[\"Launches\"])\n"
   ]
  },
  {
   "cell_type": "markdown",
   "metadata": {
    "id": "XNp-NkrJriEF"
   },
   "source": [
    "## Investigate the Percentage of Failures over Time\n",
    "\n",
    "Did failures go up or down over time? Did the countries get better at minimising risk and improving their chances of success over time? "
   ]
  },
  {
   "cell_type": "code",
   "execution_count": 104,
   "metadata": {
    "colab": {
     "base_uri": "https://localhost:8080/",
     "height": 423
    },
    "executionInfo": {
     "elapsed": 2336,
     "status": "ok",
     "timestamp": 1620632829338,
     "user": {
      "displayName": "fabio alba",
      "photoUrl": "",
      "userId": "06675624622301434407"
     },
     "user_tz": -120
    },
    "id": "Kj3-zsI0rhOS",
    "outputId": "7a6acf42-afd9-4a12-c0ee-0dfa91d4426d"
   },
   "outputs": [
    {
     "data": {
      "text/html": [
       "<div>\n",
       "<style scoped>\n",
       "    .dataframe tbody tr th:only-of-type {\n",
       "        vertical-align: middle;\n",
       "    }\n",
       "\n",
       "    .dataframe tbody tr th {\n",
       "        vertical-align: top;\n",
       "    }\n",
       "\n",
       "    .dataframe thead th {\n",
       "        text-align: right;\n",
       "    }\n",
       "</style>\n",
       "<table border=\"1\" class=\"dataframe\">\n",
       "  <thead>\n",
       "    <tr style=\"text-align: right;\">\n",
       "      <th></th>\n",
       "      <th>Year</th>\n",
       "      <th>Nation</th>\n",
       "      <th>Launch_outcome</th>\n",
       "      <th>Launches</th>\n",
       "      <th>Tot_nation_launches_year</th>\n",
       "      <th>pct_failure</th>\n",
       "    </tr>\n",
       "  </thead>\n",
       "  <tbody>\n",
       "    <tr>\n",
       "      <th>0</th>\n",
       "      <td>1957</td>\n",
       "      <td>USA</td>\n",
       "      <td>failure</td>\n",
       "      <td>1</td>\n",
       "      <td>1</td>\n",
       "      <td>100.00</td>\n",
       "    </tr>\n",
       "    <tr>\n",
       "      <th>1</th>\n",
       "      <td>1958</td>\n",
       "      <td>Russian Federation</td>\n",
       "      <td>failure</td>\n",
       "      <td>4</td>\n",
       "      <td>5</td>\n",
       "      <td>80.00</td>\n",
       "    </tr>\n",
       "    <tr>\n",
       "      <th>2</th>\n",
       "      <td>1958</td>\n",
       "      <td>USA</td>\n",
       "      <td>failure</td>\n",
       "      <td>18</td>\n",
       "      <td>23</td>\n",
       "      <td>78.26</td>\n",
       "    </tr>\n",
       "    <tr>\n",
       "      <th>3</th>\n",
       "      <td>1959</td>\n",
       "      <td>Russian Federation</td>\n",
       "      <td>failure</td>\n",
       "      <td>2</td>\n",
       "      <td>4</td>\n",
       "      <td>50.00</td>\n",
       "    </tr>\n",
       "    <tr>\n",
       "      <th>4</th>\n",
       "      <td>1959</td>\n",
       "      <td>USA</td>\n",
       "      <td>failure</td>\n",
       "      <td>10</td>\n",
       "      <td>16</td>\n",
       "      <td>62.50</td>\n",
       "    </tr>\n",
       "    <tr>\n",
       "      <th>...</th>\n",
       "      <td>...</td>\n",
       "      <td>...</td>\n",
       "      <td>...</td>\n",
       "      <td>...</td>\n",
       "      <td>...</td>\n",
       "      <td>...</td>\n",
       "    </tr>\n",
       "    <tr>\n",
       "      <th>175</th>\n",
       "      <td>2019</td>\n",
       "      <td>USA</td>\n",
       "      <td>failure</td>\n",
       "      <td>3</td>\n",
       "      <td>27</td>\n",
       "      <td>11.11</td>\n",
       "    </tr>\n",
       "    <tr>\n",
       "      <th>176</th>\n",
       "      <td>2020</td>\n",
       "      <td>China</td>\n",
       "      <td>failure</td>\n",
       "      <td>3</td>\n",
       "      <td>22</td>\n",
       "      <td>13.64</td>\n",
       "    </tr>\n",
       "    <tr>\n",
       "      <th>177</th>\n",
       "      <td>2020</td>\n",
       "      <td>Iran</td>\n",
       "      <td>failure</td>\n",
       "      <td>1</td>\n",
       "      <td>2</td>\n",
       "      <td>50.00</td>\n",
       "    </tr>\n",
       "    <tr>\n",
       "      <th>178</th>\n",
       "      <td>2020</td>\n",
       "      <td>New Zealand</td>\n",
       "      <td>failure</td>\n",
       "      <td>1</td>\n",
       "      <td>3</td>\n",
       "      <td>33.33</td>\n",
       "    </tr>\n",
       "    <tr>\n",
       "      <th>179</th>\n",
       "      <td>2020</td>\n",
       "      <td>USA</td>\n",
       "      <td>failure</td>\n",
       "      <td>1</td>\n",
       "      <td>21</td>\n",
       "      <td>4.76</td>\n",
       "    </tr>\n",
       "  </tbody>\n",
       "</table>\n",
       "<p>180 rows × 6 columns</p>\n",
       "</div>"
      ],
      "text/plain": [
       "     Year              Nation Launch_outcome  Launches  \\\n",
       "0    1957                 USA        failure         1   \n",
       "1    1958  Russian Federation        failure         4   \n",
       "2    1958                 USA        failure        18   \n",
       "3    1959  Russian Federation        failure         2   \n",
       "4    1959                 USA        failure        10   \n",
       "..    ...                 ...            ...       ...   \n",
       "175  2019                 USA        failure         3   \n",
       "176  2020               China        failure         3   \n",
       "177  2020                Iran        failure         1   \n",
       "178  2020         New Zealand        failure         1   \n",
       "179  2020                 USA        failure         1   \n",
       "\n",
       "     Tot_nation_launches_year  pct_failure  \n",
       "0                           1       100.00  \n",
       "1                           5        80.00  \n",
       "2                          23        78.26  \n",
       "3                           4        50.00  \n",
       "4                          16        62.50  \n",
       "..                        ...          ...  \n",
       "175                        27        11.11  \n",
       "176                        22        13.64  \n",
       "177                         2        50.00  \n",
       "178                         3        33.33  \n",
       "179                        21         4.76  \n",
       "\n",
       "[180 rows x 6 columns]"
      ]
     },
     "execution_count": 104,
     "metadata": {},
     "output_type": "execute_result"
    }
   ],
   "source": [
    "## Create dataframe with % launches failure\n",
    "\n",
    "a = df_clean[[\"Nation\", \"Launch_outcome\", \"Date\", \"Year\"]]\n",
    "b = df_clean.groupby([\"Year\", \"Nation\", \"Launch_outcome\"], as_index=False).agg({\"Date\": pd.Series.count})\n",
    "\n",
    "launch_nation_year = a.groupby([\"Year\", \"Nation\"], as_index=False).agg({\"Date\": pd.Series.count})\n",
    "launch_nation_year = launch_nation_year.rename(columns={\"Date\": \"Tot_nation_launches_year\"})\n",
    "failures = b[b.Launch_outcome == \"failure\"]\n",
    "failures.head()\n",
    "merged_country_failure = pd.merge(failures, launch_nation_year, on=[\"Nation\", \"Year\"])\n",
    "merged_country_failure[\"pct_failure\"] = merged_country_failure[\"Date\"] / merged_country_failure[\"Tot_nation_launches_year\"] *100\n",
    "merged_country_failure.rename(columns={\"Date\": \"Launches\"})"
   ]
  },
  {
   "cell_type": "markdown",
   "metadata": {
    "id": "S5aOC7bGr2OX"
   },
   "source": [
    "# For Every Year Show which Country was in the Lead in terms of Total Number of Launches up to and including including 2020)\n",
    "\n",
    "Do the results change if we only look at the number of successful launches? "
   ]
  },
  {
   "cell_type": "code",
   "execution_count": 105,
   "metadata": {
    "colab": {
     "base_uri": "https://localhost:8080/"
    },
    "executionInfo": {
     "elapsed": 2333,
     "status": "ok",
     "timestamp": 1620632829338,
     "user": {
      "displayName": "fabio alba",
      "photoUrl": "",
      "userId": "06675624622301434407"
     },
     "user_tz": -120
    },
    "id": "_h0grIXKsOz_",
    "outputId": "f3b6aea1-6ddf-42ca-94eb-396407cf34f1"
   },
   "outputs": [
    {
     "data": {
      "text/plain": [
       "{1957: {'Attempts': {'nation': 'Russian Federation', 'share': '67.00%'}},\n",
       " 1958: {'Attempts': {'nation': 'USA', 'share': '82.00%'}},\n",
       " 1959: {'Attempts': {'nation': 'USA', 'share': '80.00%'}},\n",
       " 1960: {'Attempts': {'nation': 'USA', 'share': '77.00%'}},\n",
       " 1961: {'Attempts': {'nation': 'USA', 'share': '83.00%'}},\n",
       " 1962: {'Attempts': {'nation': 'USA', 'share': '73.00%'}},\n",
       " 1963: {'Attempts': {'nation': 'Russian Federation', 'share': '59.00%'}},\n",
       " 1964: {'Attempts': {'nation': 'Russian Federation', 'share': '60.00%'}},\n",
       " 1965: {'Attempts': {'nation': 'Russian Federation', 'share': '61.00%'}},\n",
       " 1966: {'Attempts': {'nation': 'Russian Federation', 'share': '50.00%'}},\n",
       " 1967: {'Attempts': {'nation': 'Russian Federation', 'share': '71.00%'}},\n",
       " 1968: {'Attempts': {'nation': 'Russian Federation', 'share': '78.00%'}},\n",
       " 1969: {'Attempts': {'nation': 'Russian Federation', 'share': '81.00%'}},\n",
       " 1970: {'Attempts': {'nation': 'Russian Federation', 'share': '82.00%'}},\n",
       " 1971: {'Attempts': {'nation': 'Russian Federation', 'share': '78.00%'}},\n",
       " 1972: {'Attempts': {'nation': 'Russian Federation', 'share': '80.00%'}},\n",
       " 1973: {'Attempts': {'nation': 'Russian Federation', 'share': '82.00%'}},\n",
       " 1974: {'Attempts': {'nation': 'Russian Federation', 'share': '85.00%'}},\n",
       " 1975: {'Attempts': {'nation': 'Russian Federation', 'share': '79.00%'}},\n",
       " 1976: {'Attempts': {'nation': 'Russian Federation', 'share': '84.00%'}},\n",
       " 1977: {'Attempts': {'nation': 'Russian Federation', 'share': '85.00%'}},\n",
       " 1978: {'Attempts': {'nation': 'Russian Federation', 'share': '73.00%'}},\n",
       " 1979: {'Attempts': {'nation': 'Russian Federation', 'share': '73.00%'}},\n",
       " 1980: {'Attempts': {'nation': 'Russian Federation', 'share': '73.00%'}},\n",
       " 1981: {'Attempts': {'nation': 'Russian Federation', 'share': '72.00%'}},\n",
       " 1982: {'Attempts': {'nation': 'Russian Federation', 'share': '79.00%'}},\n",
       " 1983: {'Attempts': {'nation': 'Russian Federation', 'share': '70.00%'}},\n",
       " 1984: {'Attempts': {'nation': 'Russian Federation', 'share': '61.00%'}},\n",
       " 1985: {'Attempts': {'nation': 'Russian Federation', 'share': '69.00%'}},\n",
       " 1986: {'Attempts': {'nation': 'Russian Federation', 'share': '79.00%'}},\n",
       " 1987: {'Attempts': {'nation': 'Russian Federation', 'share': '75.00%'}},\n",
       " 1988: {'Attempts': {'nation': 'Russian Federation', 'share': '61.00%'}},\n",
       " 1989: {'Attempts': {'nation': 'Russian Federation', 'share': '50.00%'}},\n",
       " 1990: {'Attempts': {'nation': 'Russian Federation', 'share': '46.00%'}},\n",
       " 1991: {'Attempts': {'nation': 'Russian Federation', 'share': '49.00%'}},\n",
       " 1992: {'Attempts': {'nation': 'USA', 'share': '44.00%'}},\n",
       " 1993: {'Attempts': {'nation': 'Russian Federation', 'share': '44.00%'}},\n",
       " 1994: {'Attempts': {'nation': 'USA', 'share': '41.00%'}},\n",
       " 1995: {'Attempts': {'nation': 'USA', 'share': '49.00%'}},\n",
       " 1996: {'Attempts': {'nation': 'USA', 'share': '55.00%'}},\n",
       " 1997: {'Attempts': {'nation': 'USA', 'share': '54.00%'}},\n",
       " 1998: {'Attempts': {'nation': 'USA', 'share': '53.00%'}},\n",
       " 1999: {'Attempts': {'nation': 'USA', 'share': '58.00%'}},\n",
       " 2000: {'Attempts': {'nation': 'USA', 'share': '54.00%'}},\n",
       " 2001: {'Attempts': {'nation': 'USA', 'share': '56.00%'}},\n",
       " 2002: {'Attempts': {'nation': 'USA', 'share': '37.00%'}},\n",
       " 2003: {'Attempts': {'nation': 'USA', 'share': '50.00%'}},\n",
       " 2004: {'Attempts': {'nation': 'USA', 'share': '48.00%'}},\n",
       " 2005: {'Attempts': {'nation': 'USA', 'share': '43.00%'}},\n",
       " 2006: {'Attempts': {'nation': 'USA', 'share': '47.00%'}},\n",
       " 2007: {'Attempts': {'nation': 'USA', 'share': '40.00%'}},\n",
       " 2008: {'Attempts': {'nation': 'USA', 'share': '43.00%'}},\n",
       " 2009: {'Attempts': {'nation': 'USA', 'share': '52.00%'}},\n",
       " 2010: {'Attempts': {'nation': 'USA', 'share': '41.00%'}},\n",
       " 2011: {'Attempts': {'nation': 'USA', 'share': '45.00%'}},\n",
       " 2012: {'Attempts': {'nation': 'USA', 'share': '42.00%'}},\n",
       " 2013: {'Attempts': {'nation': 'USA', 'share': '43.00%'}},\n",
       " 2014: {'Attempts': {'nation': 'USA', 'share': '45.00%'}},\n",
       " 2015: {'Attempts': {'nation': 'USA', 'share': '42.00%'}},\n",
       " 2016: {'Attempts': {'nation': 'USA', 'share': '30.00%'}},\n",
       " 2017: {'Attempts': {'nation': 'USA', 'share': '33.00%'}},\n",
       " 2018: {'Attempts': {'nation': 'China', 'share': '33.00%'}},\n",
       " 2019: {'Attempts': {'nation': 'China', 'share': '31.00%'}},\n",
       " 2020: {'Attempts': {'nation': 'China', 'share': '35.00%'}}}"
      ]
     },
     "execution_count": 105,
     "metadata": {},
     "output_type": "execute_result"
    }
   ],
   "source": [
    "## Leading nations for total launches *ATTEMPTS - year by year\n",
    "\n",
    "tot_launch_year = df_clean.groupby(\"Year\", as_index=False).agg({\"Date\": pd.Series.count})\n",
    "g = df_clean.groupby([\"Year\", \"Nation\"], as_index=False).agg({\"Date\": pd.Series.count})\n",
    "nations = g[\"Nation\"].unique()\n",
    "years = g[\"Year\"].unique()\n",
    "\n",
    "\n",
    "## add total launches per year to the df\n",
    "merge_country_lead = pd.merge(g, tot_launch_year, on=[\"Year\"])\n",
    "merge_country_lead.rename(columns={\"Date_x\": \"Nation_year_launches\", \"Date_y\": \"Tot_year_launches\"}, inplace=True)\n",
    "\n",
    "\n",
    "## calculate share of total year launches by nation\n",
    "merge_country_lead[\"Nation_share_year_launches\"] = round(merge_country_lead[\"Nation_year_launches\"] / merge_country_lead[\"Tot_year_launches\"], 2) \n",
    "merge_country_lead\n",
    "\n",
    "## create a dictionary, appending values year by year\n",
    "leading_nations = {}\n",
    "for year in years:\n",
    "  a = merge_country_lead[merge_country_lead[\"Year\"] == year]\n",
    "  b = a.loc[a[\"Nation_share_year_launches\"].idxmax()]\n",
    "\n",
    "  the_year = b[\"Year\"]\n",
    "  the_nation = b[\"Nation\"]\n",
    "  the_share = b[\"Nation_share_year_launches\"]\n",
    "  \n",
    "\n",
    "  leading_nations[the_year] = {\"Attempts\": {\"nation\": the_nation, \"share\": f\"{the_share *100:.2f}%\"}}\n",
    "                              #  \"Success\": {\"nation\": }\n",
    "                               # with dict\n",
    "  # leading_nations[the_year] = [the_nation, f\"{the_share *100}%\"]  # with list\n",
    "leading_nations\n",
    "\n",
    "\n"
   ]
  },
  {
   "cell_type": "code",
   "execution_count": 106,
   "metadata": {
    "colab": {
     "base_uri": "https://localhost:8080/"
    },
    "executionInfo": {
     "elapsed": 2333,
     "status": "ok",
     "timestamp": 1620632829340,
     "user": {
      "displayName": "fabio alba",
      "photoUrl": "",
      "userId": "06675624622301434407"
     },
     "user_tz": -120
    },
    "id": "zgVysedmsOp4",
    "outputId": "ab5b78c3-5840-4257-b379-90cc6add5aea"
   },
   "outputs": [
    {
     "data": {
      "text/plain": [
       "{1957: {'Attempts': {'nation': 'Russian Federation', 'share': '67.00%'},\n",
       "  'Success': {'nation': 'Russian Federation', 'share': '100.00%'}},\n",
       " 1958: {'Attempts': {'nation': 'USA', 'share': '82.00%'},\n",
       "  'Success': {'nation': 'USA', 'share': '83.00%'}},\n",
       " 1959: {'Attempts': {'nation': 'USA', 'share': '80.00%'},\n",
       "  'Success': {'nation': 'USA', 'share': '75.00%'}},\n",
       " 1960: {'Attempts': {'nation': 'USA', 'share': '77.00%'},\n",
       "  'Success': {'nation': 'USA', 'share': '84.00%'}},\n",
       " 1961: {'Attempts': {'nation': 'USA', 'share': '83.00%'},\n",
       "  'Success': {'nation': 'USA', 'share': '84.00%'}},\n",
       " 1962: {'Attempts': {'nation': 'USA', 'share': '73.00%'},\n",
       "  'Success': {'nation': 'USA', 'share': '77.00%'}},\n",
       " 1963: {'Attempts': {'nation': 'Russian Federation', 'share': '59.00%'},\n",
       "  'Success': {'nation': 'Russian Federation', 'share': '55.00%'}},\n",
       " 1964: {'Attempts': {'nation': 'Russian Federation', 'share': '60.00%'},\n",
       "  'Success': {'nation': 'Russian Federation', 'share': '60.00%'}},\n",
       " 1965: {'Attempts': {'nation': 'Russian Federation', 'share': '61.00%'},\n",
       "  'Success': {'nation': 'Russian Federation', 'share': '64.00%'}},\n",
       " 1966: {'Attempts': {'nation': 'Russian Federation', 'share': '50.00%'},\n",
       "  'Success': {'nation': 'Russian Federation', 'share': '49.00%'}},\n",
       " 1967: {'Attempts': {'nation': 'Russian Federation', 'share': '71.00%'},\n",
       "  'Success': {'nation': 'Russian Federation', 'share': '72.00%'}},\n",
       " 1968: {'Attempts': {'nation': 'Russian Federation', 'share': '78.00%'},\n",
       "  'Success': {'nation': 'Russian Federation', 'share': '78.00%'}},\n",
       " 1969: {'Attempts': {'nation': 'Russian Federation', 'share': '81.00%'},\n",
       "  'Success': {'nation': 'Russian Federation', 'share': '80.00%'}},\n",
       " 1970: {'Attempts': {'nation': 'Russian Federation', 'share': '82.00%'},\n",
       "  'Success': {'nation': 'Russian Federation', 'share': '85.00%'}},\n",
       " 1971: {'Attempts': {'nation': 'Russian Federation', 'share': '78.00%'},\n",
       "  'Success': {'nation': 'Russian Federation', 'share': '79.00%'}},\n",
       " 1972: {'Attempts': {'nation': 'Russian Federation', 'share': '80.00%'},\n",
       "  'Success': {'nation': 'Russian Federation', 'share': '80.00%'}},\n",
       " 1973: {'Attempts': {'nation': 'Russian Federation', 'share': '82.00%'},\n",
       "  'Success': {'nation': 'Russian Federation', 'share': '83.00%'}},\n",
       " 1974: {'Attempts': {'nation': 'Russian Federation', 'share': '85.00%'},\n",
       "  'Success': {'nation': 'Russian Federation', 'share': '87.00%'}},\n",
       " 1975: {'Attempts': {'nation': 'Russian Federation', 'share': '79.00%'},\n",
       "  'Success': {'nation': 'Russian Federation', 'share': '80.00%'}},\n",
       " 1976: {'Attempts': {'nation': 'Russian Federation', 'share': '84.00%'},\n",
       "  'Success': {'nation': 'Russian Federation', 'share': '85.00%'}},\n",
       " 1977: {'Attempts': {'nation': 'Russian Federation', 'share': '85.00%'},\n",
       "  'Success': {'nation': 'Russian Federation', 'share': '85.00%'}},\n",
       " 1978: {'Attempts': {'nation': 'Russian Federation', 'share': '73.00%'},\n",
       "  'Success': {'nation': 'Russian Federation', 'share': '73.00%'}},\n",
       " 1979: {'Attempts': {'nation': 'Russian Federation', 'share': '73.00%'},\n",
       "  'Success': {'nation': 'Russian Federation', 'share': '78.00%'}},\n",
       " 1980: {'Attempts': {'nation': 'Russian Federation', 'share': '73.00%'},\n",
       "  'Success': {'nation': 'Russian Federation', 'share': '76.00%'}},\n",
       " 1981: {'Attempts': {'nation': 'Russian Federation', 'share': '72.00%'},\n",
       "  'Success': {'nation': 'Russian Federation', 'share': '74.00%'}},\n",
       " 1982: {'Attempts': {'nation': 'Russian Federation', 'share': '79.00%'},\n",
       "  'Success': {'nation': 'Russian Federation', 'share': '79.00%'}},\n",
       " 1983: {'Attempts': {'nation': 'Russian Federation', 'share': '70.00%'},\n",
       "  'Success': {'nation': 'Russian Federation', 'share': '69.00%'}},\n",
       " 1984: {'Attempts': {'nation': 'Russian Federation', 'share': '61.00%'},\n",
       "  'Success': {'nation': 'Russian Federation', 'share': '62.00%'}},\n",
       " 1985: {'Attempts': {'nation': 'Russian Federation', 'share': '69.00%'},\n",
       "  'Success': {'nation': 'Russian Federation', 'share': '69.00%'}},\n",
       " 1986: {'Attempts': {'nation': 'Russian Federation', 'share': '79.00%'},\n",
       "  'Success': {'nation': 'Russian Federation', 'share': '82.00%'}},\n",
       " 1987: {'Attempts': {'nation': 'Russian Federation', 'share': '75.00%'},\n",
       "  'Success': {'nation': 'Russian Federation', 'share': '77.00%'}},\n",
       " 1988: {'Attempts': {'nation': 'Russian Federation', 'share': '61.00%'},\n",
       "  'Success': {'nation': 'Russian Federation', 'share': '63.00%'}},\n",
       " 1989: {'Attempts': {'nation': 'Russian Federation', 'share': '50.00%'},\n",
       "  'Success': {'nation': 'Russian Federation', 'share': '50.00%'}},\n",
       " 1990: {'Attempts': {'nation': 'Russian Federation', 'share': '46.00%'},\n",
       "  'Success': {'nation': 'Russian Federation', 'share': '46.00%'}},\n",
       " 1991: {'Attempts': {'nation': 'Russian Federation', 'share': '49.00%'},\n",
       "  'Success': {'nation': 'Russian Federation', 'share': '50.00%'}},\n",
       " 1992: {'Attempts': {'nation': 'USA', 'share': '44.00%'},\n",
       "  'Success': {'nation': 'USA', 'share': '44.00%'}},\n",
       " 1993: {'Attempts': {'nation': 'Russian Federation', 'share': '44.00%'},\n",
       "  'Success': {'nation': 'Russian Federation', 'share': '47.00%'}},\n",
       " 1994: {'Attempts': {'nation': 'USA', 'share': '41.00%'},\n",
       "  'Success': {'nation': 'USA', 'share': '41.00%'}},\n",
       " 1995: {'Attempts': {'nation': 'USA', 'share': '49.00%'},\n",
       "  'Success': {'nation': 'USA', 'share': '49.00%'}},\n",
       " 1996: {'Attempts': {'nation': 'USA', 'share': '55.00%'},\n",
       "  'Success': {'nation': 'USA', 'share': '57.00%'}},\n",
       " 1997: {'Attempts': {'nation': 'USA', 'share': '54.00%'},\n",
       "  'Success': {'nation': 'USA', 'share': '58.00%'}},\n",
       " 1998: {'Attempts': {'nation': 'USA', 'share': '53.00%'},\n",
       "  'Success': {'nation': 'USA', 'share': '56.00%'}},\n",
       " 1999: {'Attempts': {'nation': 'USA', 'share': '58.00%'},\n",
       "  'Success': {'nation': 'USA', 'share': '57.00%'}},\n",
       " 2000: {'Attempts': {'nation': 'USA', 'share': '54.00%'},\n",
       "  'Success': {'nation': 'USA', 'share': '57.00%'}},\n",
       " 2001: {'Attempts': {'nation': 'USA', 'share': '56.00%'},\n",
       "  'Success': {'nation': 'USA', 'share': '57.00%'}},\n",
       " 2002: {'Attempts': {'nation': 'USA', 'share': '37.00%'},\n",
       "  'Success': {'nation': 'USA', 'share': '38.00%'}},\n",
       " 2003: {'Attempts': {'nation': 'USA', 'share': '50.00%'},\n",
       "  'Success': {'nation': 'USA', 'share': '52.00%'}},\n",
       " 2004: {'Attempts': {'nation': 'USA', 'share': '48.00%'},\n",
       "  'Success': {'nation': 'USA', 'share': '49.00%'}},\n",
       " 2005: {'Attempts': {'nation': 'USA', 'share': '43.00%'},\n",
       "  'Success': {'nation': 'USA', 'share': '47.00%'}},\n",
       " 2006: {'Attempts': {'nation': 'USA', 'share': '47.00%'},\n",
       "  'Success': {'nation': 'USA', 'share': '48.00%'}},\n",
       " 2007: {'Attempts': {'nation': 'USA', 'share': '40.00%'},\n",
       "  'Success': {'nation': 'USA', 'share': '37.00%'}},\n",
       " 2008: {'Attempts': {'nation': 'USA', 'share': '43.00%'},\n",
       "  'Success': {'nation': 'USA', 'share': '43.00%'}},\n",
       " 2009: {'Attempts': {'nation': 'USA', 'share': '52.00%'},\n",
       "  'Success': {'nation': 'USA', 'share': '53.00%'}},\n",
       " 2010: {'Attempts': {'nation': 'USA', 'share': '41.00%'},\n",
       "  'Success': {'nation': 'USA', 'share': '44.00%'}},\n",
       " 2011: {'Attempts': {'nation': 'USA', 'share': '45.00%'},\n",
       "  'Success': {'nation': 'USA', 'share': '45.00%'}},\n",
       " 2012: {'Attempts': {'nation': 'USA', 'share': '42.00%'},\n",
       "  'Success': {'nation': 'USA', 'share': '44.00%'}},\n",
       " 2013: {'Attempts': {'nation': 'USA', 'share': '43.00%'},\n",
       "  'Success': {'nation': 'USA', 'share': '44.00%'}},\n",
       " 2014: {'Attempts': {'nation': 'USA', 'share': '45.00%'},\n",
       "  'Success': {'nation': 'USA', 'share': '45.00%'}},\n",
       " 2015: {'Attempts': {'nation': 'USA', 'share': '42.00%'},\n",
       "  'Success': {'nation': 'USA', 'share': '42.00%'}},\n",
       " 2016: {'Attempts': {'nation': 'USA', 'share': '30.00%'},\n",
       "  'Success': {'nation': 'USA', 'share': '30.00%'}},\n",
       " 2017: {'Attempts': {'nation': 'USA', 'share': '33.00%'},\n",
       "  'Success': {'nation': 'USA', 'share': '36.00%'}},\n",
       " 2018: {'Attempts': {'nation': 'China', 'share': '33.00%'},\n",
       "  'Success': {'nation': 'China', 'share': '34.00%'}},\n",
       " 2019: {'Attempts': {'nation': 'China', 'share': '31.00%'},\n",
       "  'Success': {'nation': 'China', 'share': '32.00%'}},\n",
       " 2020: {'Attempts': {'nation': 'China', 'share': '35.00%'},\n",
       "  'Success': {'nation': 'USA', 'share': '35.00%'}}}"
      ]
     },
     "execution_count": 106,
     "metadata": {},
     "output_type": "execute_result"
    }
   ],
   "source": [
    "## Leading nations for total launches *SUCCESS - year by year\n",
    "\n",
    "\n",
    "h = df_clean[df_clean[\"Launch_outcome\"] == \"success\"]\n",
    "tot_success_year = h.groupby(\"Year\", as_index=False).agg({\"Date\": pd.Series.count})\n",
    "h = h.groupby([\"Year\", \"Nation\"], as_index=False).agg({\"Date\": pd.Series.count})\n",
    "\n",
    "\n",
    "nations = h[\"Nation\"].unique()\n",
    "years = h[\"Year\"].unique()\n",
    "\n",
    "## merge df\n",
    "merged_df = pd.merge(h, tot_success_year, on=\"Year\")\n",
    "merged_df.rename(columns={\"Date_x\":\"Nation_succ_year\", \"Date_y\": \"Tot_succ_year\"}, inplace=True)\n",
    "merged_df[\"Nation_share_succ_year\"] = round(merged_df[\"Nation_succ_year\"] / merged_df[\"Tot_succ_year\"], 2)\n",
    "# print(merged_df)\n",
    "\n",
    "## append success dictionary to dictionary \"leading_nations\" \n",
    "for year in years:\n",
    "  a = merged_df[merged_df[\"Year\"] == year]\n",
    "  b = a.loc[a[\"Nation_share_succ_year\"].idxmax()]\n",
    "\n",
    "  succ_year = b[\"Year\"]\n",
    "  succ_nation = b[\"Nation\"]\n",
    "  succ_share = b[\"Nation_share_succ_year\"]\n",
    "\n",
    "  leading_nations[succ_year].update({\"Success\": {\"nation\": succ_nation, \"share\": f\"{succ_share *100:.2f}%\"}})\n",
    "                      \n",
    "                               \n",
    "leading_nations\n",
    "\n"
   ]
  },
  {
   "cell_type": "markdown",
   "metadata": {
    "id": "jQcqBfJ8serG"
   },
   "source": [
    "# Create a Year-on-Year Chart Showing the Organisation Doing the Most Number of Launches\n",
    "\n",
    "Which organisation was dominant in the 1970s and 1980s? Which organisation was dominant in 2018, 2019 and 2020? "
   ]
  },
  {
   "cell_type": "code",
   "execution_count": 107,
   "metadata": {
    "colab": {
     "base_uri": "https://localhost:8080/"
    },
    "executionInfo": {
     "elapsed": 2637,
     "status": "ok",
     "timestamp": 1620632829647,
     "user": {
      "displayName": "fabio alba",
      "photoUrl": "",
      "userId": "06675624622301434407"
     },
     "user_tz": -120
    },
    "id": "jc9ImQEWsztG",
    "outputId": "714227fc-4d49-4830-e644-b9c0f42c266b"
   },
   "outputs": [
    {
     "data": {
      "text/plain": [
       "[{'year': 1957, 'org': 'RVSN USSR', 'launches': 2, 'tot_share': '67.00%'},\n",
       " {'year': 1958, 'org': 'US Navy', 'launches': 12, 'tot_share': '43.00%'},\n",
       " {'year': 1959, 'org': 'US Air Force', 'launches': 10, 'tot_share': '50.00%'},\n",
       " {'year': 1960, 'org': 'US Air Force', 'launches': 21, 'tot_share': '54.00%'},\n",
       " {'year': 1961, 'org': 'US Air Force', 'launches': 23, 'tot_share': '44.00%'},\n",
       " {'year': 1962, 'org': 'US Air Force', 'launches': 41, 'tot_share': '50.00%'},\n",
       " {'year': 1963, 'org': 'RVSN USSR', 'launches': 24, 'tot_share': '59.00%'},\n",
       " {'year': 1964, 'org': 'RVSN USSR', 'launches': 36, 'tot_share': '60.00%'},\n",
       " {'year': 1965, 'org': 'RVSN USSR', 'launches': 53, 'tot_share': '61.00%'},\n",
       " {'year': 1966, 'org': 'RVSN USSR', 'launches': 51, 'tot_share': '50.00%'},\n",
       " {'year': 1967, 'org': 'RVSN USSR', 'launches': 74, 'tot_share': '70.00%'},\n",
       " {'year': 1968, 'org': 'RVSN USSR', 'launches': 79, 'tot_share': '77.00%'},\n",
       " {'year': 1969, 'org': 'RVSN USSR', 'launches': 82, 'tot_share': '80.00%'},\n",
       " {'year': 1970, 'org': 'RVSN USSR', 'launches': 87, 'tot_share': '81.00%'},\n",
       " {'year': 1971, 'org': 'RVSN USSR', 'launches': 93, 'tot_share': '78.00%'},\n",
       " {'year': 1972, 'org': 'RVSN USSR', 'launches': 79, 'tot_share': '80.00%'},\n",
       " {'year': 1973, 'org': 'RVSN USSR', 'launches': 84, 'tot_share': '82.00%'},\n",
       " {'year': 1974, 'org': 'RVSN USSR', 'launches': 83, 'tot_share': '85.00%'},\n",
       " {'year': 1975, 'org': 'RVSN USSR', 'launches': 89, 'tot_share': '79.00%'},\n",
       " {'year': 1976, 'org': 'RVSN USSR', 'launches': 95, 'tot_share': '84.00%'},\n",
       " {'year': 1977, 'org': 'RVSN USSR', 'launches': 97, 'tot_share': '85.00%'},\n",
       " {'year': 1978, 'org': 'RVSN USSR', 'launches': 71, 'tot_share': '73.00%'},\n",
       " {'year': 1979, 'org': 'RVSN USSR', 'launches': 36, 'tot_share': '73.00%'},\n",
       " {'year': 1980, 'org': 'RVSN USSR', 'launches': 40, 'tot_share': '73.00%'},\n",
       " {'year': 1981, 'org': 'RVSN USSR', 'launches': 51, 'tot_share': '72.00%'},\n",
       " {'year': 1982, 'org': 'RVSN USSR', 'launches': 53, 'tot_share': '79.00%'},\n",
       " {'year': 1983, 'org': 'RVSN USSR', 'launches': 46, 'tot_share': '70.00%'},\n",
       " {'year': 1984, 'org': 'RVSN USSR', 'launches': 42, 'tot_share': '61.00%'},\n",
       " {'year': 1985, 'org': 'RVSN USSR', 'launches': 51, 'tot_share': '69.00%'},\n",
       " {'year': 1986, 'org': 'RVSN USSR', 'launches': 49, 'tot_share': '79.00%'},\n",
       " {'year': 1987, 'org': 'RVSN USSR', 'launches': 42, 'tot_share': '75.00%'},\n",
       " {'year': 1988, 'org': 'RVSN USSR', 'launches': 36, 'tot_share': '61.00%'},\n",
       " {'year': 1989, 'org': 'RVSN USSR', 'launches': 26, 'tot_share': '50.00%'},\n",
       " {'year': 1990, 'org': 'RVSN USSR', 'launches': 37, 'tot_share': '46.00%'},\n",
       " {'year': 1991, 'org': 'RVSN USSR', 'launches': 28, 'tot_share': '47.00%'},\n",
       " {'year': 1992, 'org': 'VKS RF', 'launches': 14, 'tot_share': '23.00%'},\n",
       " {'year': 1993, 'org': 'VKS RF', 'launches': 26, 'tot_share': '43.00%'},\n",
       " {'year': 1994, 'org': 'VKS RF', 'launches': 21, 'tot_share': '33.00%'},\n",
       " {'year': 1995, 'org': 'Lockheed', 'launches': 12, 'tot_share': '20.00%'},\n",
       " {'year': 1996, 'org': 'Arianespace', 'launches': 10, 'tot_share': '17.00%'},\n",
       " {'year': 1997, 'org': 'Arianespace', 'launches': 11, 'tot_share': '16.00%'},\n",
       " {'year': 1998, 'org': 'Boeing', 'launches': 13, 'tot_share': '19.00%'},\n",
       " {'year': 1999, 'org': 'Boeing', 'launches': 11, 'tot_share': '19.00%'},\n",
       " {'year': 2000, 'org': 'Arianespace', 'launches': 12, 'tot_share': '21.00%'},\n",
       " {'year': 2001, 'org': 'Arianespace', 'launches': 8, 'tot_share': '19.00%'},\n",
       " {'year': 2002, 'org': 'Arianespace', 'launches': 12, 'tot_share': '24.00%'},\n",
       " {'year': 2003, 'org': 'Boeing', 'launches': 9, 'tot_share': '17.00%'},\n",
       " {'year': 2004, 'org': 'Boeing', 'launches': 8, 'tot_share': '20.00%'},\n",
       " {'year': 2005, 'org': 'Arianespace', 'launches': 5, 'tot_share': '14.00%'},\n",
       " {'year': 2006, 'org': 'Boeing', 'launches': 8, 'tot_share': '16.00%'},\n",
       " {'year': 2007, 'org': 'ULA', 'launches': 13, 'tot_share': '26.00%'},\n",
       " {'year': 2008, 'org': 'CASC', 'launches': 8, 'tot_share': '17.00%'},\n",
       " {'year': 2009, 'org': 'ULA', 'launches': 16, 'tot_share': '32.00%'},\n",
       " {'year': 2010, 'org': 'ULA', 'launches': 8, 'tot_share': '22.00%'},\n",
       " {'year': 2011, 'org': 'ULA', 'launches': 11, 'tot_share': '26.00%'},\n",
       " {'year': 2012, 'org': 'ULA', 'launches': 10, 'tot_share': '26.00%'},\n",
       " {'year': 2013, 'org': 'ULA', 'launches': 11, 'tot_share': '24.00%'},\n",
       " {'year': 2014, 'org': 'ULA', 'launches': 14, 'tot_share': '26.00%'},\n",
       " {'year': 2015, 'org': 'Arianespace', 'launches': 12, 'tot_share': '23.00%'},\n",
       " {'year': 2016, 'org': 'CASC', 'launches': 22, 'tot_share': '24.00%'},\n",
       " {'year': 2017, 'org': 'SpaceX', 'launches': 18, 'tot_share': '20.00%'},\n",
       " {'year': 2018, 'org': 'CASC', 'launches': 37, 'tot_share': '32.00%'},\n",
       " {'year': 2019, 'org': 'CASC', 'launches': 27, 'tot_share': '25.00%'},\n",
       " {'year': 2020, 'org': 'CASC', 'launches': 19, 'tot_share': '30.00%'}]"
      ]
     },
     "execution_count": 107,
     "metadata": {},
     "output_type": "execute_result"
    }
   ],
   "source": [
    "## Leading organisations for total launches *SUCCESS - year by year\n",
    "\n",
    "\n",
    "z = df_clean.groupby([\"Year\", \"Organisation\"], as_index=False).agg({\"Date\": pd.Series.count})\n",
    "# z = z.sort_values(\"Year\", ascending=False)\n",
    "\n",
    "\n",
    "## merge df\n",
    "merged_df = pd.merge(z, tot_launch_year, on=\"Year\")\n",
    "merged_df.rename(columns={\"Date_x\":\"Org_launch_year\", \"Date_y\": \"Tot_launch_year\"}, inplace=True)\n",
    "merged_df[\"Org_share_succ_year\"] = round(merged_df[\"Org_launch_year\"] / merged_df[\"Tot_launch_year\"], 2)\n",
    "# print(merged_df)\n",
    "\n",
    "\n",
    "## plot each leading organisation year by year: \n",
    "orgs = z[\"Organisation\"].unique()\n",
    "years = z[\"Year\"].unique()\n",
    "leading_orgs = []\n",
    "\n",
    "# merged_df = merged_df.sort_values(\"Year\", ascending=False)\n",
    "for year in years:\n",
    "  a = merged_df[merged_df[\"Year\"] == year]\n",
    "  b = a.loc[a[\"Org_share_succ_year\"].idxmax()]\n",
    "\n",
    "  the_year = b[\"Year\"]\n",
    "  the_org = b[\"Organisation\"]\n",
    "  the_share = b[\"Org_share_succ_year\"]\n",
    "  the_launches = b[\"Org_launch_year\"] \n",
    "\n",
    "  leading_orgs.append({\"year\": the_year,\"org\": the_org, \"launches\": the_launches, \"tot_share\": f\"{the_share *100:.2f}%\"})\n",
    "leading_orgs\n",
    "\n"
   ]
  },
  {
   "cell_type": "code",
   "execution_count": 108,
   "metadata": {
    "colab": {
     "base_uri": "https://localhost:8080/",
     "height": 1000
    },
    "executionInfo": {
     "elapsed": 2630,
     "status": "ok",
     "timestamp": 1620632829648,
     "user": {
      "displayName": "fabio alba",
      "photoUrl": "",
      "userId": "06675624622301434407"
     },
     "user_tz": -120
    },
    "id": "0SuOCmiXR4z1",
    "outputId": "ea1dcff2-960f-467f-caa0-762d59c06e8c"
   },
   "outputs": [
    {
     "data": {
      "application/vnd.plotly.v1+json": {
       "config": {
        "plotlyServerURL": "https://plot.ly"
       },
       "data": [
        {
         "alignmentgroup": "True",
         "hovertemplate": "org=RVSN USSR<br>launches=%{x}<br>year=%{y}<extra></extra>",
         "legendgroup": "RVSN USSR",
         "marker": {
          "color": "#636efa",
          "pattern": {
           "shape": ""
          }
         },
         "name": "RVSN USSR",
         "offsetgroup": "RVSN USSR",
         "orientation": "h",
         "showlegend": true,
         "textposition": "auto",
         "type": "bar",
         "x": [
          2,
          24,
          36,
          53,
          51,
          74,
          79,
          82,
          87,
          93,
          79,
          84,
          83,
          89,
          95,
          97,
          71,
          36,
          40,
          51,
          53,
          46,
          42,
          51,
          49,
          42,
          36,
          26,
          37,
          28
         ],
         "xaxis": "x",
         "y": [
          1957,
          1963,
          1964,
          1965,
          1966,
          1967,
          1968,
          1969,
          1970,
          1971,
          1972,
          1973,
          1974,
          1975,
          1976,
          1977,
          1978,
          1979,
          1980,
          1981,
          1982,
          1983,
          1984,
          1985,
          1986,
          1987,
          1988,
          1989,
          1990,
          1991
         ],
         "yaxis": "y"
        },
        {
         "alignmentgroup": "True",
         "hovertemplate": "org=US Navy<br>launches=%{x}<br>year=%{y}<extra></extra>",
         "legendgroup": "US Navy",
         "marker": {
          "color": "#EF553B",
          "pattern": {
           "shape": ""
          }
         },
         "name": "US Navy",
         "offsetgroup": "US Navy",
         "orientation": "h",
         "showlegend": true,
         "textposition": "auto",
         "type": "bar",
         "x": [
          12
         ],
         "xaxis": "x",
         "y": [
          1958
         ],
         "yaxis": "y"
        },
        {
         "alignmentgroup": "True",
         "hovertemplate": "org=US Air Force<br>launches=%{x}<br>year=%{y}<extra></extra>",
         "legendgroup": "US Air Force",
         "marker": {
          "color": "#00cc96",
          "pattern": {
           "shape": ""
          }
         },
         "name": "US Air Force",
         "offsetgroup": "US Air Force",
         "orientation": "h",
         "showlegend": true,
         "textposition": "auto",
         "type": "bar",
         "x": [
          10,
          21,
          23,
          41
         ],
         "xaxis": "x",
         "y": [
          1959,
          1960,
          1961,
          1962
         ],
         "yaxis": "y"
        },
        {
         "alignmentgroup": "True",
         "hovertemplate": "org=VKS RF<br>launches=%{x}<br>year=%{y}<extra></extra>",
         "legendgroup": "VKS RF",
         "marker": {
          "color": "#ab63fa",
          "pattern": {
           "shape": ""
          }
         },
         "name": "VKS RF",
         "offsetgroup": "VKS RF",
         "orientation": "h",
         "showlegend": true,
         "textposition": "auto",
         "type": "bar",
         "x": [
          14,
          26,
          21
         ],
         "xaxis": "x",
         "y": [
          1992,
          1993,
          1994
         ],
         "yaxis": "y"
        },
        {
         "alignmentgroup": "True",
         "hovertemplate": "org=Lockheed<br>launches=%{x}<br>year=%{y}<extra></extra>",
         "legendgroup": "Lockheed",
         "marker": {
          "color": "#FFA15A",
          "pattern": {
           "shape": ""
          }
         },
         "name": "Lockheed",
         "offsetgroup": "Lockheed",
         "orientation": "h",
         "showlegend": true,
         "textposition": "auto",
         "type": "bar",
         "x": [
          12
         ],
         "xaxis": "x",
         "y": [
          1995
         ],
         "yaxis": "y"
        },
        {
         "alignmentgroup": "True",
         "hovertemplate": "org=Arianespace<br>launches=%{x}<br>year=%{y}<extra></extra>",
         "legendgroup": "Arianespace",
         "marker": {
          "color": "#19d3f3",
          "pattern": {
           "shape": ""
          }
         },
         "name": "Arianespace",
         "offsetgroup": "Arianespace",
         "orientation": "h",
         "showlegend": true,
         "textposition": "auto",
         "type": "bar",
         "x": [
          10,
          11,
          12,
          8,
          12,
          5,
          12
         ],
         "xaxis": "x",
         "y": [
          1996,
          1997,
          2000,
          2001,
          2002,
          2005,
          2015
         ],
         "yaxis": "y"
        },
        {
         "alignmentgroup": "True",
         "hovertemplate": "org=Boeing<br>launches=%{x}<br>year=%{y}<extra></extra>",
         "legendgroup": "Boeing",
         "marker": {
          "color": "#FF6692",
          "pattern": {
           "shape": ""
          }
         },
         "name": "Boeing",
         "offsetgroup": "Boeing",
         "orientation": "h",
         "showlegend": true,
         "textposition": "auto",
         "type": "bar",
         "x": [
          13,
          11,
          9,
          8,
          8
         ],
         "xaxis": "x",
         "y": [
          1998,
          1999,
          2003,
          2004,
          2006
         ],
         "yaxis": "y"
        },
        {
         "alignmentgroup": "True",
         "hovertemplate": "org=ULA<br>launches=%{x}<br>year=%{y}<extra></extra>",
         "legendgroup": "ULA",
         "marker": {
          "color": "#B6E880",
          "pattern": {
           "shape": ""
          }
         },
         "name": "ULA",
         "offsetgroup": "ULA",
         "orientation": "h",
         "showlegend": true,
         "textposition": "auto",
         "type": "bar",
         "x": [
          13,
          16,
          8,
          11,
          10,
          11,
          14
         ],
         "xaxis": "x",
         "y": [
          2007,
          2009,
          2010,
          2011,
          2012,
          2013,
          2014
         ],
         "yaxis": "y"
        },
        {
         "alignmentgroup": "True",
         "hovertemplate": "org=CASC<br>launches=%{x}<br>year=%{y}<extra></extra>",
         "legendgroup": "CASC",
         "marker": {
          "color": "#FF97FF",
          "pattern": {
           "shape": ""
          }
         },
         "name": "CASC",
         "offsetgroup": "CASC",
         "orientation": "h",
         "showlegend": true,
         "textposition": "auto",
         "type": "bar",
         "x": [
          8,
          22,
          37,
          27,
          19
         ],
         "xaxis": "x",
         "y": [
          2008,
          2016,
          2018,
          2019,
          2020
         ],
         "yaxis": "y"
        },
        {
         "alignmentgroup": "True",
         "hovertemplate": "org=SpaceX<br>launches=%{x}<br>year=%{y}<extra></extra>",
         "legendgroup": "SpaceX",
         "marker": {
          "color": "#FECB52",
          "pattern": {
           "shape": ""
          }
         },
         "name": "SpaceX",
         "offsetgroup": "SpaceX",
         "orientation": "h",
         "showlegend": true,
         "textposition": "auto",
         "type": "bar",
         "x": [
          18
         ],
         "xaxis": "x",
         "y": [
          2017
         ],
         "yaxis": "y"
        }
       ],
       "layout": {
        "barmode": "relative",
        "font": {
         "color": "black",
         "family": "Courier",
         "size": 25
        },
        "height": 1500,
        "legend": {
         "title": {
          "text": "org"
         },
         "tracegroupgap": 0
        },
        "margin": {
         "t": 60
        },
        "template": {
         "data": {
          "bar": [
           {
            "error_x": {
             "color": "#2a3f5f"
            },
            "error_y": {
             "color": "#2a3f5f"
            },
            "marker": {
             "line": {
              "color": "#E5ECF6",
              "width": 0.5
             },
             "pattern": {
              "fillmode": "overlay",
              "size": 10,
              "solidity": 0.2
             }
            },
            "type": "bar"
           }
          ],
          "barpolar": [
           {
            "marker": {
             "line": {
              "color": "#E5ECF6",
              "width": 0.5
             },
             "pattern": {
              "fillmode": "overlay",
              "size": 10,
              "solidity": 0.2
             }
            },
            "type": "barpolar"
           }
          ],
          "carpet": [
           {
            "aaxis": {
             "endlinecolor": "#2a3f5f",
             "gridcolor": "white",
             "linecolor": "white",
             "minorgridcolor": "white",
             "startlinecolor": "#2a3f5f"
            },
            "baxis": {
             "endlinecolor": "#2a3f5f",
             "gridcolor": "white",
             "linecolor": "white",
             "minorgridcolor": "white",
             "startlinecolor": "#2a3f5f"
            },
            "type": "carpet"
           }
          ],
          "choropleth": [
           {
            "colorbar": {
             "outlinewidth": 0,
             "ticks": ""
            },
            "type": "choropleth"
           }
          ],
          "contour": [
           {
            "colorbar": {
             "outlinewidth": 0,
             "ticks": ""
            },
            "colorscale": [
             [
              0,
              "#0d0887"
             ],
             [
              0.1111111111111111,
              "#46039f"
             ],
             [
              0.2222222222222222,
              "#7201a8"
             ],
             [
              0.3333333333333333,
              "#9c179e"
             ],
             [
              0.4444444444444444,
              "#bd3786"
             ],
             [
              0.5555555555555556,
              "#d8576b"
             ],
             [
              0.6666666666666666,
              "#ed7953"
             ],
             [
              0.7777777777777778,
              "#fb9f3a"
             ],
             [
              0.8888888888888888,
              "#fdca26"
             ],
             [
              1,
              "#f0f921"
             ]
            ],
            "type": "contour"
           }
          ],
          "contourcarpet": [
           {
            "colorbar": {
             "outlinewidth": 0,
             "ticks": ""
            },
            "type": "contourcarpet"
           }
          ],
          "heatmap": [
           {
            "colorbar": {
             "outlinewidth": 0,
             "ticks": ""
            },
            "colorscale": [
             [
              0,
              "#0d0887"
             ],
             [
              0.1111111111111111,
              "#46039f"
             ],
             [
              0.2222222222222222,
              "#7201a8"
             ],
             [
              0.3333333333333333,
              "#9c179e"
             ],
             [
              0.4444444444444444,
              "#bd3786"
             ],
             [
              0.5555555555555556,
              "#d8576b"
             ],
             [
              0.6666666666666666,
              "#ed7953"
             ],
             [
              0.7777777777777778,
              "#fb9f3a"
             ],
             [
              0.8888888888888888,
              "#fdca26"
             ],
             [
              1,
              "#f0f921"
             ]
            ],
            "type": "heatmap"
           }
          ],
          "heatmapgl": [
           {
            "colorbar": {
             "outlinewidth": 0,
             "ticks": ""
            },
            "colorscale": [
             [
              0,
              "#0d0887"
             ],
             [
              0.1111111111111111,
              "#46039f"
             ],
             [
              0.2222222222222222,
              "#7201a8"
             ],
             [
              0.3333333333333333,
              "#9c179e"
             ],
             [
              0.4444444444444444,
              "#bd3786"
             ],
             [
              0.5555555555555556,
              "#d8576b"
             ],
             [
              0.6666666666666666,
              "#ed7953"
             ],
             [
              0.7777777777777778,
              "#fb9f3a"
             ],
             [
              0.8888888888888888,
              "#fdca26"
             ],
             [
              1,
              "#f0f921"
             ]
            ],
            "type": "heatmapgl"
           }
          ],
          "histogram": [
           {
            "marker": {
             "pattern": {
              "fillmode": "overlay",
              "size": 10,
              "solidity": 0.2
             }
            },
            "type": "histogram"
           }
          ],
          "histogram2d": [
           {
            "colorbar": {
             "outlinewidth": 0,
             "ticks": ""
            },
            "colorscale": [
             [
              0,
              "#0d0887"
             ],
             [
              0.1111111111111111,
              "#46039f"
             ],
             [
              0.2222222222222222,
              "#7201a8"
             ],
             [
              0.3333333333333333,
              "#9c179e"
             ],
             [
              0.4444444444444444,
              "#bd3786"
             ],
             [
              0.5555555555555556,
              "#d8576b"
             ],
             [
              0.6666666666666666,
              "#ed7953"
             ],
             [
              0.7777777777777778,
              "#fb9f3a"
             ],
             [
              0.8888888888888888,
              "#fdca26"
             ],
             [
              1,
              "#f0f921"
             ]
            ],
            "type": "histogram2d"
           }
          ],
          "histogram2dcontour": [
           {
            "colorbar": {
             "outlinewidth": 0,
             "ticks": ""
            },
            "colorscale": [
             [
              0,
              "#0d0887"
             ],
             [
              0.1111111111111111,
              "#46039f"
             ],
             [
              0.2222222222222222,
              "#7201a8"
             ],
             [
              0.3333333333333333,
              "#9c179e"
             ],
             [
              0.4444444444444444,
              "#bd3786"
             ],
             [
              0.5555555555555556,
              "#d8576b"
             ],
             [
              0.6666666666666666,
              "#ed7953"
             ],
             [
              0.7777777777777778,
              "#fb9f3a"
             ],
             [
              0.8888888888888888,
              "#fdca26"
             ],
             [
              1,
              "#f0f921"
             ]
            ],
            "type": "histogram2dcontour"
           }
          ],
          "mesh3d": [
           {
            "colorbar": {
             "outlinewidth": 0,
             "ticks": ""
            },
            "type": "mesh3d"
           }
          ],
          "parcoords": [
           {
            "line": {
             "colorbar": {
              "outlinewidth": 0,
              "ticks": ""
             }
            },
            "type": "parcoords"
           }
          ],
          "pie": [
           {
            "automargin": true,
            "type": "pie"
           }
          ],
          "scatter": [
           {
            "marker": {
             "colorbar": {
              "outlinewidth": 0,
              "ticks": ""
             }
            },
            "type": "scatter"
           }
          ],
          "scatter3d": [
           {
            "line": {
             "colorbar": {
              "outlinewidth": 0,
              "ticks": ""
             }
            },
            "marker": {
             "colorbar": {
              "outlinewidth": 0,
              "ticks": ""
             }
            },
            "type": "scatter3d"
           }
          ],
          "scattercarpet": [
           {
            "marker": {
             "colorbar": {
              "outlinewidth": 0,
              "ticks": ""
             }
            },
            "type": "scattercarpet"
           }
          ],
          "scattergeo": [
           {
            "marker": {
             "colorbar": {
              "outlinewidth": 0,
              "ticks": ""
             }
            },
            "type": "scattergeo"
           }
          ],
          "scattergl": [
           {
            "marker": {
             "colorbar": {
              "outlinewidth": 0,
              "ticks": ""
             }
            },
            "type": "scattergl"
           }
          ],
          "scattermapbox": [
           {
            "marker": {
             "colorbar": {
              "outlinewidth": 0,
              "ticks": ""
             }
            },
            "type": "scattermapbox"
           }
          ],
          "scatterpolar": [
           {
            "marker": {
             "colorbar": {
              "outlinewidth": 0,
              "ticks": ""
             }
            },
            "type": "scatterpolar"
           }
          ],
          "scatterpolargl": [
           {
            "marker": {
             "colorbar": {
              "outlinewidth": 0,
              "ticks": ""
             }
            },
            "type": "scatterpolargl"
           }
          ],
          "scatterternary": [
           {
            "marker": {
             "colorbar": {
              "outlinewidth": 0,
              "ticks": ""
             }
            },
            "type": "scatterternary"
           }
          ],
          "surface": [
           {
            "colorbar": {
             "outlinewidth": 0,
             "ticks": ""
            },
            "colorscale": [
             [
              0,
              "#0d0887"
             ],
             [
              0.1111111111111111,
              "#46039f"
             ],
             [
              0.2222222222222222,
              "#7201a8"
             ],
             [
              0.3333333333333333,
              "#9c179e"
             ],
             [
              0.4444444444444444,
              "#bd3786"
             ],
             [
              0.5555555555555556,
              "#d8576b"
             ],
             [
              0.6666666666666666,
              "#ed7953"
             ],
             [
              0.7777777777777778,
              "#fb9f3a"
             ],
             [
              0.8888888888888888,
              "#fdca26"
             ],
             [
              1,
              "#f0f921"
             ]
            ],
            "type": "surface"
           }
          ],
          "table": [
           {
            "cells": {
             "fill": {
              "color": "#EBF0F8"
             },
             "line": {
              "color": "white"
             }
            },
            "header": {
             "fill": {
              "color": "#C8D4E3"
             },
             "line": {
              "color": "white"
             }
            },
            "type": "table"
           }
          ]
         },
         "layout": {
          "annotationdefaults": {
           "arrowcolor": "#2a3f5f",
           "arrowhead": 0,
           "arrowwidth": 1
          },
          "autotypenumbers": "strict",
          "coloraxis": {
           "colorbar": {
            "outlinewidth": 0,
            "ticks": ""
           }
          },
          "colorscale": {
           "diverging": [
            [
             0,
             "#8e0152"
            ],
            [
             0.1,
             "#c51b7d"
            ],
            [
             0.2,
             "#de77ae"
            ],
            [
             0.3,
             "#f1b6da"
            ],
            [
             0.4,
             "#fde0ef"
            ],
            [
             0.5,
             "#f7f7f7"
            ],
            [
             0.6,
             "#e6f5d0"
            ],
            [
             0.7,
             "#b8e186"
            ],
            [
             0.8,
             "#7fbc41"
            ],
            [
             0.9,
             "#4d9221"
            ],
            [
             1,
             "#276419"
            ]
           ],
           "sequential": [
            [
             0,
             "#0d0887"
            ],
            [
             0.1111111111111111,
             "#46039f"
            ],
            [
             0.2222222222222222,
             "#7201a8"
            ],
            [
             0.3333333333333333,
             "#9c179e"
            ],
            [
             0.4444444444444444,
             "#bd3786"
            ],
            [
             0.5555555555555556,
             "#d8576b"
            ],
            [
             0.6666666666666666,
             "#ed7953"
            ],
            [
             0.7777777777777778,
             "#fb9f3a"
            ],
            [
             0.8888888888888888,
             "#fdca26"
            ],
            [
             1,
             "#f0f921"
            ]
           ],
           "sequentialminus": [
            [
             0,
             "#0d0887"
            ],
            [
             0.1111111111111111,
             "#46039f"
            ],
            [
             0.2222222222222222,
             "#7201a8"
            ],
            [
             0.3333333333333333,
             "#9c179e"
            ],
            [
             0.4444444444444444,
             "#bd3786"
            ],
            [
             0.5555555555555556,
             "#d8576b"
            ],
            [
             0.6666666666666666,
             "#ed7953"
            ],
            [
             0.7777777777777778,
             "#fb9f3a"
            ],
            [
             0.8888888888888888,
             "#fdca26"
            ],
            [
             1,
             "#f0f921"
            ]
           ]
          },
          "colorway": [
           "#636efa",
           "#EF553B",
           "#00cc96",
           "#ab63fa",
           "#FFA15A",
           "#19d3f3",
           "#FF6692",
           "#B6E880",
           "#FF97FF",
           "#FECB52"
          ],
          "font": {
           "color": "#2a3f5f"
          },
          "geo": {
           "bgcolor": "white",
           "lakecolor": "white",
           "landcolor": "#E5ECF6",
           "showlakes": true,
           "showland": true,
           "subunitcolor": "white"
          },
          "hoverlabel": {
           "align": "left"
          },
          "hovermode": "closest",
          "mapbox": {
           "style": "light"
          },
          "paper_bgcolor": "white",
          "plot_bgcolor": "#E5ECF6",
          "polar": {
           "angularaxis": {
            "gridcolor": "white",
            "linecolor": "white",
            "ticks": ""
           },
           "bgcolor": "#E5ECF6",
           "radialaxis": {
            "gridcolor": "white",
            "linecolor": "white",
            "ticks": ""
           }
          },
          "scene": {
           "xaxis": {
            "backgroundcolor": "#E5ECF6",
            "gridcolor": "white",
            "gridwidth": 2,
            "linecolor": "white",
            "showbackground": true,
            "ticks": "",
            "zerolinecolor": "white"
           },
           "yaxis": {
            "backgroundcolor": "#E5ECF6",
            "gridcolor": "white",
            "gridwidth": 2,
            "linecolor": "white",
            "showbackground": true,
            "ticks": "",
            "zerolinecolor": "white"
           },
           "zaxis": {
            "backgroundcolor": "#E5ECF6",
            "gridcolor": "white",
            "gridwidth": 2,
            "linecolor": "white",
            "showbackground": true,
            "ticks": "",
            "zerolinecolor": "white"
           }
          },
          "shapedefaults": {
           "line": {
            "color": "#2a3f5f"
           }
          },
          "ternary": {
           "aaxis": {
            "gridcolor": "white",
            "linecolor": "white",
            "ticks": ""
           },
           "baxis": {
            "gridcolor": "white",
            "linecolor": "white",
            "ticks": ""
           },
           "bgcolor": "#E5ECF6",
           "caxis": {
            "gridcolor": "white",
            "linecolor": "white",
            "ticks": ""
           }
          },
          "title": {
           "x": 0.05
          },
          "xaxis": {
           "automargin": true,
           "gridcolor": "white",
           "linecolor": "white",
           "ticks": "",
           "title": {
            "standoff": 15
           },
           "zerolinecolor": "white",
           "zerolinewidth": 2
          },
          "yaxis": {
           "automargin": true,
           "gridcolor": "white",
           "linecolor": "white",
           "ticks": "",
           "title": {
            "standoff": 15
           },
           "zerolinecolor": "white",
           "zerolinewidth": 2
          }
         }
        },
        "title": {
         "text": "\nLeading Organisation by year"
        },
        "width": 1500,
        "xaxis": {
         "anchor": "y",
         "domain": [
          0,
          1
         ],
         "title": {
          "text": "launches"
         }
        },
        "yaxis": {
         "anchor": "x",
         "domain": [
          0,
          1
         ],
         "title": {
          "text": "year"
         }
        }
       }
      },
      "text/html": [
       "<div>                            <div id=\"47e3339b-03b1-4b0e-854e-9fabad54034a\" class=\"plotly-graph-div\" style=\"height:1500px; width:1500px;\"></div>            <script type=\"text/javascript\">                require([\"plotly\"], function(Plotly) {                    window.PLOTLYENV=window.PLOTLYENV || {};                                    if (document.getElementById(\"47e3339b-03b1-4b0e-854e-9fabad54034a\")) {                    Plotly.newPlot(                        \"47e3339b-03b1-4b0e-854e-9fabad54034a\",                        [{\"alignmentgroup\":\"True\",\"hovertemplate\":\"org=RVSN USSR<br>launches=%{x}<br>year=%{y}<extra></extra>\",\"legendgroup\":\"RVSN USSR\",\"marker\":{\"color\":\"#636efa\",\"pattern\":{\"shape\":\"\"}},\"name\":\"RVSN USSR\",\"offsetgroup\":\"RVSN USSR\",\"orientation\":\"h\",\"showlegend\":true,\"textposition\":\"auto\",\"type\":\"bar\",\"x\":[2,24,36,53,51,74,79,82,87,93,79,84,83,89,95,97,71,36,40,51,53,46,42,51,49,42,36,26,37,28],\"xaxis\":\"x\",\"y\":[1957,1963,1964,1965,1966,1967,1968,1969,1970,1971,1972,1973,1974,1975,1976,1977,1978,1979,1980,1981,1982,1983,1984,1985,1986,1987,1988,1989,1990,1991],\"yaxis\":\"y\"},{\"alignmentgroup\":\"True\",\"hovertemplate\":\"org=US Navy<br>launches=%{x}<br>year=%{y}<extra></extra>\",\"legendgroup\":\"US Navy\",\"marker\":{\"color\":\"#EF553B\",\"pattern\":{\"shape\":\"\"}},\"name\":\"US Navy\",\"offsetgroup\":\"US Navy\",\"orientation\":\"h\",\"showlegend\":true,\"textposition\":\"auto\",\"type\":\"bar\",\"x\":[12],\"xaxis\":\"x\",\"y\":[1958],\"yaxis\":\"y\"},{\"alignmentgroup\":\"True\",\"hovertemplate\":\"org=US Air Force<br>launches=%{x}<br>year=%{y}<extra></extra>\",\"legendgroup\":\"US Air Force\",\"marker\":{\"color\":\"#00cc96\",\"pattern\":{\"shape\":\"\"}},\"name\":\"US Air Force\",\"offsetgroup\":\"US Air Force\",\"orientation\":\"h\",\"showlegend\":true,\"textposition\":\"auto\",\"type\":\"bar\",\"x\":[10,21,23,41],\"xaxis\":\"x\",\"y\":[1959,1960,1961,1962],\"yaxis\":\"y\"},{\"alignmentgroup\":\"True\",\"hovertemplate\":\"org=VKS RF<br>launches=%{x}<br>year=%{y}<extra></extra>\",\"legendgroup\":\"VKS RF\",\"marker\":{\"color\":\"#ab63fa\",\"pattern\":{\"shape\":\"\"}},\"name\":\"VKS RF\",\"offsetgroup\":\"VKS RF\",\"orientation\":\"h\",\"showlegend\":true,\"textposition\":\"auto\",\"type\":\"bar\",\"x\":[14,26,21],\"xaxis\":\"x\",\"y\":[1992,1993,1994],\"yaxis\":\"y\"},{\"alignmentgroup\":\"True\",\"hovertemplate\":\"org=Lockheed<br>launches=%{x}<br>year=%{y}<extra></extra>\",\"legendgroup\":\"Lockheed\",\"marker\":{\"color\":\"#FFA15A\",\"pattern\":{\"shape\":\"\"}},\"name\":\"Lockheed\",\"offsetgroup\":\"Lockheed\",\"orientation\":\"h\",\"showlegend\":true,\"textposition\":\"auto\",\"type\":\"bar\",\"x\":[12],\"xaxis\":\"x\",\"y\":[1995],\"yaxis\":\"y\"},{\"alignmentgroup\":\"True\",\"hovertemplate\":\"org=Arianespace<br>launches=%{x}<br>year=%{y}<extra></extra>\",\"legendgroup\":\"Arianespace\",\"marker\":{\"color\":\"#19d3f3\",\"pattern\":{\"shape\":\"\"}},\"name\":\"Arianespace\",\"offsetgroup\":\"Arianespace\",\"orientation\":\"h\",\"showlegend\":true,\"textposition\":\"auto\",\"type\":\"bar\",\"x\":[10,11,12,8,12,5,12],\"xaxis\":\"x\",\"y\":[1996,1997,2000,2001,2002,2005,2015],\"yaxis\":\"y\"},{\"alignmentgroup\":\"True\",\"hovertemplate\":\"org=Boeing<br>launches=%{x}<br>year=%{y}<extra></extra>\",\"legendgroup\":\"Boeing\",\"marker\":{\"color\":\"#FF6692\",\"pattern\":{\"shape\":\"\"}},\"name\":\"Boeing\",\"offsetgroup\":\"Boeing\",\"orientation\":\"h\",\"showlegend\":true,\"textposition\":\"auto\",\"type\":\"bar\",\"x\":[13,11,9,8,8],\"xaxis\":\"x\",\"y\":[1998,1999,2003,2004,2006],\"yaxis\":\"y\"},{\"alignmentgroup\":\"True\",\"hovertemplate\":\"org=ULA<br>launches=%{x}<br>year=%{y}<extra></extra>\",\"legendgroup\":\"ULA\",\"marker\":{\"color\":\"#B6E880\",\"pattern\":{\"shape\":\"\"}},\"name\":\"ULA\",\"offsetgroup\":\"ULA\",\"orientation\":\"h\",\"showlegend\":true,\"textposition\":\"auto\",\"type\":\"bar\",\"x\":[13,16,8,11,10,11,14],\"xaxis\":\"x\",\"y\":[2007,2009,2010,2011,2012,2013,2014],\"yaxis\":\"y\"},{\"alignmentgroup\":\"True\",\"hovertemplate\":\"org=CASC<br>launches=%{x}<br>year=%{y}<extra></extra>\",\"legendgroup\":\"CASC\",\"marker\":{\"color\":\"#FF97FF\",\"pattern\":{\"shape\":\"\"}},\"name\":\"CASC\",\"offsetgroup\":\"CASC\",\"orientation\":\"h\",\"showlegend\":true,\"textposition\":\"auto\",\"type\":\"bar\",\"x\":[8,22,37,27,19],\"xaxis\":\"x\",\"y\":[2008,2016,2018,2019,2020],\"yaxis\":\"y\"},{\"alignmentgroup\":\"True\",\"hovertemplate\":\"org=SpaceX<br>launches=%{x}<br>year=%{y}<extra></extra>\",\"legendgroup\":\"SpaceX\",\"marker\":{\"color\":\"#FECB52\",\"pattern\":{\"shape\":\"\"}},\"name\":\"SpaceX\",\"offsetgroup\":\"SpaceX\",\"orientation\":\"h\",\"showlegend\":true,\"textposition\":\"auto\",\"type\":\"bar\",\"x\":[18],\"xaxis\":\"x\",\"y\":[2017],\"yaxis\":\"y\"}],                        {\"barmode\":\"relative\",\"font\":{\"color\":\"black\",\"family\":\"Courier\",\"size\":25},\"height\":1500,\"legend\":{\"title\":{\"text\":\"org\"},\"tracegroupgap\":0},\"margin\":{\"t\":60},\"template\":{\"data\":{\"bar\":[{\"error_x\":{\"color\":\"#2a3f5f\"},\"error_y\":{\"color\":\"#2a3f5f\"},\"marker\":{\"line\":{\"color\":\"#E5ECF6\",\"width\":0.5},\"pattern\":{\"fillmode\":\"overlay\",\"size\":10,\"solidity\":0.2}},\"type\":\"bar\"}],\"barpolar\":[{\"marker\":{\"line\":{\"color\":\"#E5ECF6\",\"width\":0.5},\"pattern\":{\"fillmode\":\"overlay\",\"size\":10,\"solidity\":0.2}},\"type\":\"barpolar\"}],\"carpet\":[{\"aaxis\":{\"endlinecolor\":\"#2a3f5f\",\"gridcolor\":\"white\",\"linecolor\":\"white\",\"minorgridcolor\":\"white\",\"startlinecolor\":\"#2a3f5f\"},\"baxis\":{\"endlinecolor\":\"#2a3f5f\",\"gridcolor\":\"white\",\"linecolor\":\"white\",\"minorgridcolor\":\"white\",\"startlinecolor\":\"#2a3f5f\"},\"type\":\"carpet\"}],\"choropleth\":[{\"colorbar\":{\"outlinewidth\":0,\"ticks\":\"\"},\"type\":\"choropleth\"}],\"contour\":[{\"colorbar\":{\"outlinewidth\":0,\"ticks\":\"\"},\"colorscale\":[[0.0,\"#0d0887\"],[0.1111111111111111,\"#46039f\"],[0.2222222222222222,\"#7201a8\"],[0.3333333333333333,\"#9c179e\"],[0.4444444444444444,\"#bd3786\"],[0.5555555555555556,\"#d8576b\"],[0.6666666666666666,\"#ed7953\"],[0.7777777777777778,\"#fb9f3a\"],[0.8888888888888888,\"#fdca26\"],[1.0,\"#f0f921\"]],\"type\":\"contour\"}],\"contourcarpet\":[{\"colorbar\":{\"outlinewidth\":0,\"ticks\":\"\"},\"type\":\"contourcarpet\"}],\"heatmap\":[{\"colorbar\":{\"outlinewidth\":0,\"ticks\":\"\"},\"colorscale\":[[0.0,\"#0d0887\"],[0.1111111111111111,\"#46039f\"],[0.2222222222222222,\"#7201a8\"],[0.3333333333333333,\"#9c179e\"],[0.4444444444444444,\"#bd3786\"],[0.5555555555555556,\"#d8576b\"],[0.6666666666666666,\"#ed7953\"],[0.7777777777777778,\"#fb9f3a\"],[0.8888888888888888,\"#fdca26\"],[1.0,\"#f0f921\"]],\"type\":\"heatmap\"}],\"heatmapgl\":[{\"colorbar\":{\"outlinewidth\":0,\"ticks\":\"\"},\"colorscale\":[[0.0,\"#0d0887\"],[0.1111111111111111,\"#46039f\"],[0.2222222222222222,\"#7201a8\"],[0.3333333333333333,\"#9c179e\"],[0.4444444444444444,\"#bd3786\"],[0.5555555555555556,\"#d8576b\"],[0.6666666666666666,\"#ed7953\"],[0.7777777777777778,\"#fb9f3a\"],[0.8888888888888888,\"#fdca26\"],[1.0,\"#f0f921\"]],\"type\":\"heatmapgl\"}],\"histogram\":[{\"marker\":{\"pattern\":{\"fillmode\":\"overlay\",\"size\":10,\"solidity\":0.2}},\"type\":\"histogram\"}],\"histogram2d\":[{\"colorbar\":{\"outlinewidth\":0,\"ticks\":\"\"},\"colorscale\":[[0.0,\"#0d0887\"],[0.1111111111111111,\"#46039f\"],[0.2222222222222222,\"#7201a8\"],[0.3333333333333333,\"#9c179e\"],[0.4444444444444444,\"#bd3786\"],[0.5555555555555556,\"#d8576b\"],[0.6666666666666666,\"#ed7953\"],[0.7777777777777778,\"#fb9f3a\"],[0.8888888888888888,\"#fdca26\"],[1.0,\"#f0f921\"]],\"type\":\"histogram2d\"}],\"histogram2dcontour\":[{\"colorbar\":{\"outlinewidth\":0,\"ticks\":\"\"},\"colorscale\":[[0.0,\"#0d0887\"],[0.1111111111111111,\"#46039f\"],[0.2222222222222222,\"#7201a8\"],[0.3333333333333333,\"#9c179e\"],[0.4444444444444444,\"#bd3786\"],[0.5555555555555556,\"#d8576b\"],[0.6666666666666666,\"#ed7953\"],[0.7777777777777778,\"#fb9f3a\"],[0.8888888888888888,\"#fdca26\"],[1.0,\"#f0f921\"]],\"type\":\"histogram2dcontour\"}],\"mesh3d\":[{\"colorbar\":{\"outlinewidth\":0,\"ticks\":\"\"},\"type\":\"mesh3d\"}],\"parcoords\":[{\"line\":{\"colorbar\":{\"outlinewidth\":0,\"ticks\":\"\"}},\"type\":\"parcoords\"}],\"pie\":[{\"automargin\":true,\"type\":\"pie\"}],\"scatter\":[{\"marker\":{\"colorbar\":{\"outlinewidth\":0,\"ticks\":\"\"}},\"type\":\"scatter\"}],\"scatter3d\":[{\"line\":{\"colorbar\":{\"outlinewidth\":0,\"ticks\":\"\"}},\"marker\":{\"colorbar\":{\"outlinewidth\":0,\"ticks\":\"\"}},\"type\":\"scatter3d\"}],\"scattercarpet\":[{\"marker\":{\"colorbar\":{\"outlinewidth\":0,\"ticks\":\"\"}},\"type\":\"scattercarpet\"}],\"scattergeo\":[{\"marker\":{\"colorbar\":{\"outlinewidth\":0,\"ticks\":\"\"}},\"type\":\"scattergeo\"}],\"scattergl\":[{\"marker\":{\"colorbar\":{\"outlinewidth\":0,\"ticks\":\"\"}},\"type\":\"scattergl\"}],\"scattermapbox\":[{\"marker\":{\"colorbar\":{\"outlinewidth\":0,\"ticks\":\"\"}},\"type\":\"scattermapbox\"}],\"scatterpolar\":[{\"marker\":{\"colorbar\":{\"outlinewidth\":0,\"ticks\":\"\"}},\"type\":\"scatterpolar\"}],\"scatterpolargl\":[{\"marker\":{\"colorbar\":{\"outlinewidth\":0,\"ticks\":\"\"}},\"type\":\"scatterpolargl\"}],\"scatterternary\":[{\"marker\":{\"colorbar\":{\"outlinewidth\":0,\"ticks\":\"\"}},\"type\":\"scatterternary\"}],\"surface\":[{\"colorbar\":{\"outlinewidth\":0,\"ticks\":\"\"},\"colorscale\":[[0.0,\"#0d0887\"],[0.1111111111111111,\"#46039f\"],[0.2222222222222222,\"#7201a8\"],[0.3333333333333333,\"#9c179e\"],[0.4444444444444444,\"#bd3786\"],[0.5555555555555556,\"#d8576b\"],[0.6666666666666666,\"#ed7953\"],[0.7777777777777778,\"#fb9f3a\"],[0.8888888888888888,\"#fdca26\"],[1.0,\"#f0f921\"]],\"type\":\"surface\"}],\"table\":[{\"cells\":{\"fill\":{\"color\":\"#EBF0F8\"},\"line\":{\"color\":\"white\"}},\"header\":{\"fill\":{\"color\":\"#C8D4E3\"},\"line\":{\"color\":\"white\"}},\"type\":\"table\"}]},\"layout\":{\"annotationdefaults\":{\"arrowcolor\":\"#2a3f5f\",\"arrowhead\":0,\"arrowwidth\":1},\"autotypenumbers\":\"strict\",\"coloraxis\":{\"colorbar\":{\"outlinewidth\":0,\"ticks\":\"\"}},\"colorscale\":{\"diverging\":[[0,\"#8e0152\"],[0.1,\"#c51b7d\"],[0.2,\"#de77ae\"],[0.3,\"#f1b6da\"],[0.4,\"#fde0ef\"],[0.5,\"#f7f7f7\"],[0.6,\"#e6f5d0\"],[0.7,\"#b8e186\"],[0.8,\"#7fbc41\"],[0.9,\"#4d9221\"],[1,\"#276419\"]],\"sequential\":[[0.0,\"#0d0887\"],[0.1111111111111111,\"#46039f\"],[0.2222222222222222,\"#7201a8\"],[0.3333333333333333,\"#9c179e\"],[0.4444444444444444,\"#bd3786\"],[0.5555555555555556,\"#d8576b\"],[0.6666666666666666,\"#ed7953\"],[0.7777777777777778,\"#fb9f3a\"],[0.8888888888888888,\"#fdca26\"],[1.0,\"#f0f921\"]],\"sequentialminus\":[[0.0,\"#0d0887\"],[0.1111111111111111,\"#46039f\"],[0.2222222222222222,\"#7201a8\"],[0.3333333333333333,\"#9c179e\"],[0.4444444444444444,\"#bd3786\"],[0.5555555555555556,\"#d8576b\"],[0.6666666666666666,\"#ed7953\"],[0.7777777777777778,\"#fb9f3a\"],[0.8888888888888888,\"#fdca26\"],[1.0,\"#f0f921\"]]},\"colorway\":[\"#636efa\",\"#EF553B\",\"#00cc96\",\"#ab63fa\",\"#FFA15A\",\"#19d3f3\",\"#FF6692\",\"#B6E880\",\"#FF97FF\",\"#FECB52\"],\"font\":{\"color\":\"#2a3f5f\"},\"geo\":{\"bgcolor\":\"white\",\"lakecolor\":\"white\",\"landcolor\":\"#E5ECF6\",\"showlakes\":true,\"showland\":true,\"subunitcolor\":\"white\"},\"hoverlabel\":{\"align\":\"left\"},\"hovermode\":\"closest\",\"mapbox\":{\"style\":\"light\"},\"paper_bgcolor\":\"white\",\"plot_bgcolor\":\"#E5ECF6\",\"polar\":{\"angularaxis\":{\"gridcolor\":\"white\",\"linecolor\":\"white\",\"ticks\":\"\"},\"bgcolor\":\"#E5ECF6\",\"radialaxis\":{\"gridcolor\":\"white\",\"linecolor\":\"white\",\"ticks\":\"\"}},\"scene\":{\"xaxis\":{\"backgroundcolor\":\"#E5ECF6\",\"gridcolor\":\"white\",\"gridwidth\":2,\"linecolor\":\"white\",\"showbackground\":true,\"ticks\":\"\",\"zerolinecolor\":\"white\"},\"yaxis\":{\"backgroundcolor\":\"#E5ECF6\",\"gridcolor\":\"white\",\"gridwidth\":2,\"linecolor\":\"white\",\"showbackground\":true,\"ticks\":\"\",\"zerolinecolor\":\"white\"},\"zaxis\":{\"backgroundcolor\":\"#E5ECF6\",\"gridcolor\":\"white\",\"gridwidth\":2,\"linecolor\":\"white\",\"showbackground\":true,\"ticks\":\"\",\"zerolinecolor\":\"white\"}},\"shapedefaults\":{\"line\":{\"color\":\"#2a3f5f\"}},\"ternary\":{\"aaxis\":{\"gridcolor\":\"white\",\"linecolor\":\"white\",\"ticks\":\"\"},\"baxis\":{\"gridcolor\":\"white\",\"linecolor\":\"white\",\"ticks\":\"\"},\"bgcolor\":\"#E5ECF6\",\"caxis\":{\"gridcolor\":\"white\",\"linecolor\":\"white\",\"ticks\":\"\"}},\"title\":{\"x\":0.05},\"xaxis\":{\"automargin\":true,\"gridcolor\":\"white\",\"linecolor\":\"white\",\"ticks\":\"\",\"title\":{\"standoff\":15},\"zerolinecolor\":\"white\",\"zerolinewidth\":2},\"yaxis\":{\"automargin\":true,\"gridcolor\":\"white\",\"linecolor\":\"white\",\"ticks\":\"\",\"title\":{\"standoff\":15},\"zerolinecolor\":\"white\",\"zerolinewidth\":2}}},\"title\":{\"text\":\"\\nLeading Organisation by year\"},\"width\":1500,\"xaxis\":{\"anchor\":\"y\",\"domain\":[0.0,1.0],\"title\":{\"text\":\"launches\"}},\"yaxis\":{\"anchor\":\"x\",\"domain\":[0.0,1.0],\"title\":{\"text\":\"year\"}}},                        {\"responsive\": true}                    ).then(function(){\n",
       "                            \n",
       "var gd = document.getElementById('47e3339b-03b1-4b0e-854e-9fabad54034a');\n",
       "var x = new MutationObserver(function (mutations, observer) {{\n",
       "        var display = window.getComputedStyle(gd).display;\n",
       "        if (!display || display === 'none') {{\n",
       "            console.log([gd, 'removed!']);\n",
       "            Plotly.purge(gd);\n",
       "            observer.disconnect();\n",
       "        }}\n",
       "}});\n",
       "\n",
       "// Listen for the removal of the full notebook cells\n",
       "var notebookContainer = gd.closest('#notebook-container');\n",
       "if (notebookContainer) {{\n",
       "    x.observe(notebookContainer, {childList: true});\n",
       "}}\n",
       "\n",
       "// Listen for the clearing of the current output cell\n",
       "var outputEl = gd.closest('.output');\n",
       "if (outputEl) {{\n",
       "    x.observe(outputEl, {childList: true});\n",
       "}}\n",
       "\n",
       "                        })                };                });            </script>        </div>"
      ]
     },
     "metadata": {},
     "output_type": "display_data"
    }
   ],
   "source": [
    "## Chart\n",
    "\n",
    "%matplotlib inline\n",
    "\n",
    "\n",
    "\n",
    "fig = px.bar(leading_orgs, y=\"year\", x=\"launches\", orientation=\"h\", width=1500, height=1500, color=\"org\")\n",
    "\n",
    "\n",
    "fig.update_layout(title=\"\\nLeading Organisation by year\",\n",
    "                  font=dict(family=\"Courier\", size=25, color=\"black\"))\n",
    "\n",
    "\n"
   ]
  }
 ],
 "metadata": {
  "colab": {
   "collapsed_sections": [],
   "name": "Space_Missions_Analysis_completed.ipynb",
   "provenance": [],
   "toc_visible": true
  },
  "kernelspec": {
   "display_name": "Python 3",
   "language": "python",
   "name": "python3"
  },
  "language_info": {
   "codemirror_mode": {
    "name": "ipython",
    "version": 3
   },
   "file_extension": ".py",
   "mimetype": "text/x-python",
   "name": "python",
   "nbconvert_exporter": "python",
   "pygments_lexer": "ipython3",
   "version": "3.8.8"
  },
  "papermill": {
   "duration": 28.468597,
   "end_time": "2020-10-20T21:34:26.910951",
   "environment_variables": {},
   "exception": null,
   "input_path": "__notebook__.ipynb",
   "output_path": "__notebook__.ipynb",
   "parameters": {},
   "start_time": "2020-10-20T21:33:58.442354",
   "version": "2.1.0"
  }
 },
 "nbformat": 4,
 "nbformat_minor": 1
}
